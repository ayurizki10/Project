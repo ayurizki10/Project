{
 "cells": [
  {
   "cell_type": "markdown",
   "metadata": {},
   "source": [
    "# FINAL PROJECT VIX RAKAMIN HOME CREDIT INDONESIA\n",
    "by: Ayu Rizki Herayati"
   ]
  },
  {
   "cell_type": "markdown",
   "metadata": {},
   "source": [
    "A. DATASET YANG DIGUNAKAN\n",
    "- Dari 7 sumber dataset yang telah diberikan, pada project ini hanya difokuskan pada salah satu sumber yakni 'application_train.csv'. Dataset ini berisi data statis seluruh aplikan/klien. Satu baris mewakili satu pinjaman dari data sampel. Pada dataset ini juga terdapat TARGET yang berisi tentang kesanggupan klien dalam menyelesaikan pinjaman."
   ]
  },
  {
   "cell_type": "code",
   "execution_count": 1,
   "metadata": {},
   "outputs": [
    {
     "data": {
      "text/html": [
       "        <script type=\"text/javascript\">\n",
       "        window.PlotlyConfig = {MathJaxConfig: 'local'};\n",
       "        if (window.MathJax && window.MathJax.Hub && window.MathJax.Hub.Config) {window.MathJax.Hub.Config({SVG: {font: \"STIX-Web\"}});}\n",
       "        if (typeof require !== 'undefined') {\n",
       "        require.undef(\"plotly\");\n",
       "        requirejs.config({\n",
       "            paths: {\n",
       "                'plotly': ['https://cdn.plot.ly/plotly-2.12.1.min']\n",
       "            }\n",
       "        });\n",
       "        require(['plotly'], function(Plotly) {\n",
       "            window._Plotly = Plotly;\n",
       "        });\n",
       "        }\n",
       "        </script>\n",
       "        "
      ]
     },
     "metadata": {},
     "output_type": "display_data"
    }
   ],
   "source": [
    "import pandas as pd\n",
    "import numpy as np\n",
    "import matplotlib as mpl\n",
    "import matplotlib.pyplot as plt\n",
    "import seaborn as sns\n",
    "import plotly.offline as py\n",
    "py.init_notebook_mode(connected=True)\n",
    "from plotly.offline import init_notebook_mode, iplot\n",
    "from sklearn.preprocessing import StandardScaler\n",
    "from sklearn.model_selection import train_test_split\n",
    "from sklearn.linear_model import LogisticRegression\n",
    "from sklearn.metrics import confusion_matrix, classification_report\n",
    "from sklearn.tree import DecisionTreeClassifier\n",
    "pd.options.mode.chained_assignment = None  # default='warn'\n",
    "from imblearn.over_sampling import SMOTE"
   ]
  },
  {
   "cell_type": "code",
   "execution_count": 2,
   "metadata": {},
   "outputs": [
    {
     "data": {
      "text/plain": [
       "200"
      ]
     },
     "execution_count": 2,
     "metadata": {},
     "output_type": "execute_result"
    }
   ],
   "source": [
    "# Pengaturan agar dataset dapat ditampilkan keseluruhan\n",
    "pd.set_option('display.max_columns', None)\n",
    "pd.get_option('display.max_columns')\n",
    "\n",
    "pd.set_option('display.max_rows', 200)\n",
    "pd.get_option('display.max_rows')"
   ]
  },
  {
   "cell_type": "code",
   "execution_count": 3,
   "metadata": {},
   "outputs": [
    {
     "data": {
      "text/html": [
       "<div>\n",
       "<style scoped>\n",
       "    .dataframe tbody tr th:only-of-type {\n",
       "        vertical-align: middle;\n",
       "    }\n",
       "\n",
       "    .dataframe tbody tr th {\n",
       "        vertical-align: top;\n",
       "    }\n",
       "\n",
       "    .dataframe thead th {\n",
       "        text-align: right;\n",
       "    }\n",
       "</style>\n",
       "<table border=\"1\" class=\"dataframe\">\n",
       "  <thead>\n",
       "    <tr style=\"text-align: right;\">\n",
       "      <th></th>\n",
       "      <th>SK_ID_CURR</th>\n",
       "      <th>TARGET</th>\n",
       "      <th>NAME_CONTRACT_TYPE</th>\n",
       "      <th>CODE_GENDER</th>\n",
       "      <th>FLAG_OWN_CAR</th>\n",
       "      <th>FLAG_OWN_REALTY</th>\n",
       "      <th>CNT_CHILDREN</th>\n",
       "      <th>AMT_INCOME_TOTAL</th>\n",
       "      <th>AMT_CREDIT</th>\n",
       "      <th>AMT_ANNUITY</th>\n",
       "      <th>AMT_GOODS_PRICE</th>\n",
       "      <th>NAME_TYPE_SUITE</th>\n",
       "      <th>NAME_INCOME_TYPE</th>\n",
       "      <th>NAME_EDUCATION_TYPE</th>\n",
       "      <th>NAME_FAMILY_STATUS</th>\n",
       "      <th>NAME_HOUSING_TYPE</th>\n",
       "      <th>REGION_POPULATION_RELATIVE</th>\n",
       "      <th>DAYS_BIRTH</th>\n",
       "      <th>DAYS_EMPLOYED</th>\n",
       "      <th>DAYS_REGISTRATION</th>\n",
       "      <th>DAYS_ID_PUBLISH</th>\n",
       "      <th>OWN_CAR_AGE</th>\n",
       "      <th>FLAG_MOBIL</th>\n",
       "      <th>FLAG_EMP_PHONE</th>\n",
       "      <th>FLAG_WORK_PHONE</th>\n",
       "      <th>FLAG_CONT_MOBILE</th>\n",
       "      <th>FLAG_PHONE</th>\n",
       "      <th>FLAG_EMAIL</th>\n",
       "      <th>OCCUPATION_TYPE</th>\n",
       "      <th>CNT_FAM_MEMBERS</th>\n",
       "      <th>REGION_RATING_CLIENT</th>\n",
       "      <th>REGION_RATING_CLIENT_W_CITY</th>\n",
       "      <th>WEEKDAY_APPR_PROCESS_START</th>\n",
       "      <th>HOUR_APPR_PROCESS_START</th>\n",
       "      <th>REG_REGION_NOT_LIVE_REGION</th>\n",
       "      <th>REG_REGION_NOT_WORK_REGION</th>\n",
       "      <th>LIVE_REGION_NOT_WORK_REGION</th>\n",
       "      <th>REG_CITY_NOT_LIVE_CITY</th>\n",
       "      <th>REG_CITY_NOT_WORK_CITY</th>\n",
       "      <th>LIVE_CITY_NOT_WORK_CITY</th>\n",
       "      <th>ORGANIZATION_TYPE</th>\n",
       "      <th>EXT_SOURCE_1</th>\n",
       "      <th>EXT_SOURCE_2</th>\n",
       "      <th>EXT_SOURCE_3</th>\n",
       "      <th>APARTMENTS_AVG</th>\n",
       "      <th>BASEMENTAREA_AVG</th>\n",
       "      <th>YEARS_BEGINEXPLUATATION_AVG</th>\n",
       "      <th>YEARS_BUILD_AVG</th>\n",
       "      <th>COMMONAREA_AVG</th>\n",
       "      <th>ELEVATORS_AVG</th>\n",
       "      <th>ENTRANCES_AVG</th>\n",
       "      <th>FLOORSMAX_AVG</th>\n",
       "      <th>FLOORSMIN_AVG</th>\n",
       "      <th>LANDAREA_AVG</th>\n",
       "      <th>LIVINGAPARTMENTS_AVG</th>\n",
       "      <th>LIVINGAREA_AVG</th>\n",
       "      <th>NONLIVINGAPARTMENTS_AVG</th>\n",
       "      <th>NONLIVINGAREA_AVG</th>\n",
       "      <th>APARTMENTS_MODE</th>\n",
       "      <th>BASEMENTAREA_MODE</th>\n",
       "      <th>YEARS_BEGINEXPLUATATION_MODE</th>\n",
       "      <th>YEARS_BUILD_MODE</th>\n",
       "      <th>COMMONAREA_MODE</th>\n",
       "      <th>ELEVATORS_MODE</th>\n",
       "      <th>ENTRANCES_MODE</th>\n",
       "      <th>FLOORSMAX_MODE</th>\n",
       "      <th>FLOORSMIN_MODE</th>\n",
       "      <th>LANDAREA_MODE</th>\n",
       "      <th>LIVINGAPARTMENTS_MODE</th>\n",
       "      <th>LIVINGAREA_MODE</th>\n",
       "      <th>NONLIVINGAPARTMENTS_MODE</th>\n",
       "      <th>NONLIVINGAREA_MODE</th>\n",
       "      <th>APARTMENTS_MEDI</th>\n",
       "      <th>BASEMENTAREA_MEDI</th>\n",
       "      <th>YEARS_BEGINEXPLUATATION_MEDI</th>\n",
       "      <th>YEARS_BUILD_MEDI</th>\n",
       "      <th>COMMONAREA_MEDI</th>\n",
       "      <th>ELEVATORS_MEDI</th>\n",
       "      <th>ENTRANCES_MEDI</th>\n",
       "      <th>FLOORSMAX_MEDI</th>\n",
       "      <th>FLOORSMIN_MEDI</th>\n",
       "      <th>LANDAREA_MEDI</th>\n",
       "      <th>LIVINGAPARTMENTS_MEDI</th>\n",
       "      <th>LIVINGAREA_MEDI</th>\n",
       "      <th>NONLIVINGAPARTMENTS_MEDI</th>\n",
       "      <th>NONLIVINGAREA_MEDI</th>\n",
       "      <th>FONDKAPREMONT_MODE</th>\n",
       "      <th>HOUSETYPE_MODE</th>\n",
       "      <th>TOTALAREA_MODE</th>\n",
       "      <th>WALLSMATERIAL_MODE</th>\n",
       "      <th>EMERGENCYSTATE_MODE</th>\n",
       "      <th>OBS_30_CNT_SOCIAL_CIRCLE</th>\n",
       "      <th>DEF_30_CNT_SOCIAL_CIRCLE</th>\n",
       "      <th>OBS_60_CNT_SOCIAL_CIRCLE</th>\n",
       "      <th>DEF_60_CNT_SOCIAL_CIRCLE</th>\n",
       "      <th>DAYS_LAST_PHONE_CHANGE</th>\n",
       "      <th>FLAG_DOCUMENT_2</th>\n",
       "      <th>FLAG_DOCUMENT_3</th>\n",
       "      <th>FLAG_DOCUMENT_4</th>\n",
       "      <th>FLAG_DOCUMENT_5</th>\n",
       "      <th>FLAG_DOCUMENT_6</th>\n",
       "      <th>FLAG_DOCUMENT_7</th>\n",
       "      <th>FLAG_DOCUMENT_8</th>\n",
       "      <th>FLAG_DOCUMENT_9</th>\n",
       "      <th>FLAG_DOCUMENT_10</th>\n",
       "      <th>FLAG_DOCUMENT_11</th>\n",
       "      <th>FLAG_DOCUMENT_12</th>\n",
       "      <th>FLAG_DOCUMENT_13</th>\n",
       "      <th>FLAG_DOCUMENT_14</th>\n",
       "      <th>FLAG_DOCUMENT_15</th>\n",
       "      <th>FLAG_DOCUMENT_16</th>\n",
       "      <th>FLAG_DOCUMENT_17</th>\n",
       "      <th>FLAG_DOCUMENT_18</th>\n",
       "      <th>FLAG_DOCUMENT_19</th>\n",
       "      <th>FLAG_DOCUMENT_20</th>\n",
       "      <th>FLAG_DOCUMENT_21</th>\n",
       "      <th>AMT_REQ_CREDIT_BUREAU_HOUR</th>\n",
       "      <th>AMT_REQ_CREDIT_BUREAU_DAY</th>\n",
       "      <th>AMT_REQ_CREDIT_BUREAU_WEEK</th>\n",
       "      <th>AMT_REQ_CREDIT_BUREAU_MON</th>\n",
       "      <th>AMT_REQ_CREDIT_BUREAU_QRT</th>\n",
       "      <th>AMT_REQ_CREDIT_BUREAU_YEAR</th>\n",
       "    </tr>\n",
       "  </thead>\n",
       "  <tbody>\n",
       "    <tr>\n",
       "      <td>0</td>\n",
       "      <td>100002</td>\n",
       "      <td>1</td>\n",
       "      <td>Cash loans</td>\n",
       "      <td>M</td>\n",
       "      <td>N</td>\n",
       "      <td>Y</td>\n",
       "      <td>0</td>\n",
       "      <td>202500.0</td>\n",
       "      <td>406597.5</td>\n",
       "      <td>24700.5</td>\n",
       "      <td>351000.0</td>\n",
       "      <td>Unaccompanied</td>\n",
       "      <td>Working</td>\n",
       "      <td>Secondary / secondary special</td>\n",
       "      <td>Single / not married</td>\n",
       "      <td>House / apartment</td>\n",
       "      <td>0.018801</td>\n",
       "      <td>-9461</td>\n",
       "      <td>-637</td>\n",
       "      <td>-3648.0</td>\n",
       "      <td>-2120</td>\n",
       "      <td>NaN</td>\n",
       "      <td>1</td>\n",
       "      <td>1</td>\n",
       "      <td>0</td>\n",
       "      <td>1</td>\n",
       "      <td>1</td>\n",
       "      <td>0</td>\n",
       "      <td>Laborers</td>\n",
       "      <td>1.0</td>\n",
       "      <td>2</td>\n",
       "      <td>2</td>\n",
       "      <td>WEDNESDAY</td>\n",
       "      <td>10</td>\n",
       "      <td>0</td>\n",
       "      <td>0</td>\n",
       "      <td>0</td>\n",
       "      <td>0</td>\n",
       "      <td>0</td>\n",
       "      <td>0</td>\n",
       "      <td>Business Entity Type 3</td>\n",
       "      <td>0.083037</td>\n",
       "      <td>0.262949</td>\n",
       "      <td>0.139376</td>\n",
       "      <td>0.0247</td>\n",
       "      <td>0.0369</td>\n",
       "      <td>0.9722</td>\n",
       "      <td>0.6192</td>\n",
       "      <td>0.0143</td>\n",
       "      <td>0.00</td>\n",
       "      <td>0.0690</td>\n",
       "      <td>0.0833</td>\n",
       "      <td>0.1250</td>\n",
       "      <td>0.0369</td>\n",
       "      <td>0.0202</td>\n",
       "      <td>0.0190</td>\n",
       "      <td>0.0000</td>\n",
       "      <td>0.0000</td>\n",
       "      <td>0.0252</td>\n",
       "      <td>0.0383</td>\n",
       "      <td>0.9722</td>\n",
       "      <td>0.6341</td>\n",
       "      <td>0.0144</td>\n",
       "      <td>0.0000</td>\n",
       "      <td>0.0690</td>\n",
       "      <td>0.0833</td>\n",
       "      <td>0.1250</td>\n",
       "      <td>0.0377</td>\n",
       "      <td>0.022</td>\n",
       "      <td>0.0198</td>\n",
       "      <td>0.0</td>\n",
       "      <td>0.0</td>\n",
       "      <td>0.0250</td>\n",
       "      <td>0.0369</td>\n",
       "      <td>0.9722</td>\n",
       "      <td>0.6243</td>\n",
       "      <td>0.0144</td>\n",
       "      <td>0.00</td>\n",
       "      <td>0.0690</td>\n",
       "      <td>0.0833</td>\n",
       "      <td>0.1250</td>\n",
       "      <td>0.0375</td>\n",
       "      <td>0.0205</td>\n",
       "      <td>0.0193</td>\n",
       "      <td>0.0000</td>\n",
       "      <td>0.00</td>\n",
       "      <td>reg oper account</td>\n",
       "      <td>block of flats</td>\n",
       "      <td>0.0149</td>\n",
       "      <td>Stone, brick</td>\n",
       "      <td>No</td>\n",
       "      <td>2.0</td>\n",
       "      <td>2.0</td>\n",
       "      <td>2.0</td>\n",
       "      <td>2.0</td>\n",
       "      <td>-1134.0</td>\n",
       "      <td>0</td>\n",
       "      <td>1</td>\n",
       "      <td>0</td>\n",
       "      <td>0</td>\n",
       "      <td>0</td>\n",
       "      <td>0</td>\n",
       "      <td>0</td>\n",
       "      <td>0</td>\n",
       "      <td>0</td>\n",
       "      <td>0</td>\n",
       "      <td>0</td>\n",
       "      <td>0</td>\n",
       "      <td>0</td>\n",
       "      <td>0</td>\n",
       "      <td>0</td>\n",
       "      <td>0</td>\n",
       "      <td>0</td>\n",
       "      <td>0</td>\n",
       "      <td>0</td>\n",
       "      <td>0</td>\n",
       "      <td>0.0</td>\n",
       "      <td>0.0</td>\n",
       "      <td>0.0</td>\n",
       "      <td>0.0</td>\n",
       "      <td>0.0</td>\n",
       "      <td>1.0</td>\n",
       "    </tr>\n",
       "    <tr>\n",
       "      <td>1</td>\n",
       "      <td>100003</td>\n",
       "      <td>0</td>\n",
       "      <td>Cash loans</td>\n",
       "      <td>F</td>\n",
       "      <td>N</td>\n",
       "      <td>N</td>\n",
       "      <td>0</td>\n",
       "      <td>270000.0</td>\n",
       "      <td>1293502.5</td>\n",
       "      <td>35698.5</td>\n",
       "      <td>1129500.0</td>\n",
       "      <td>Family</td>\n",
       "      <td>State servant</td>\n",
       "      <td>Higher education</td>\n",
       "      <td>Married</td>\n",
       "      <td>House / apartment</td>\n",
       "      <td>0.003541</td>\n",
       "      <td>-16765</td>\n",
       "      <td>-1188</td>\n",
       "      <td>-1186.0</td>\n",
       "      <td>-291</td>\n",
       "      <td>NaN</td>\n",
       "      <td>1</td>\n",
       "      <td>1</td>\n",
       "      <td>0</td>\n",
       "      <td>1</td>\n",
       "      <td>1</td>\n",
       "      <td>0</td>\n",
       "      <td>Core staff</td>\n",
       "      <td>2.0</td>\n",
       "      <td>1</td>\n",
       "      <td>1</td>\n",
       "      <td>MONDAY</td>\n",
       "      <td>11</td>\n",
       "      <td>0</td>\n",
       "      <td>0</td>\n",
       "      <td>0</td>\n",
       "      <td>0</td>\n",
       "      <td>0</td>\n",
       "      <td>0</td>\n",
       "      <td>School</td>\n",
       "      <td>0.311267</td>\n",
       "      <td>0.622246</td>\n",
       "      <td>NaN</td>\n",
       "      <td>0.0959</td>\n",
       "      <td>0.0529</td>\n",
       "      <td>0.9851</td>\n",
       "      <td>0.7960</td>\n",
       "      <td>0.0605</td>\n",
       "      <td>0.08</td>\n",
       "      <td>0.0345</td>\n",
       "      <td>0.2917</td>\n",
       "      <td>0.3333</td>\n",
       "      <td>0.0130</td>\n",
       "      <td>0.0773</td>\n",
       "      <td>0.0549</td>\n",
       "      <td>0.0039</td>\n",
       "      <td>0.0098</td>\n",
       "      <td>0.0924</td>\n",
       "      <td>0.0538</td>\n",
       "      <td>0.9851</td>\n",
       "      <td>0.8040</td>\n",
       "      <td>0.0497</td>\n",
       "      <td>0.0806</td>\n",
       "      <td>0.0345</td>\n",
       "      <td>0.2917</td>\n",
       "      <td>0.3333</td>\n",
       "      <td>0.0128</td>\n",
       "      <td>0.079</td>\n",
       "      <td>0.0554</td>\n",
       "      <td>0.0</td>\n",
       "      <td>0.0</td>\n",
       "      <td>0.0968</td>\n",
       "      <td>0.0529</td>\n",
       "      <td>0.9851</td>\n",
       "      <td>0.7987</td>\n",
       "      <td>0.0608</td>\n",
       "      <td>0.08</td>\n",
       "      <td>0.0345</td>\n",
       "      <td>0.2917</td>\n",
       "      <td>0.3333</td>\n",
       "      <td>0.0132</td>\n",
       "      <td>0.0787</td>\n",
       "      <td>0.0558</td>\n",
       "      <td>0.0039</td>\n",
       "      <td>0.01</td>\n",
       "      <td>reg oper account</td>\n",
       "      <td>block of flats</td>\n",
       "      <td>0.0714</td>\n",
       "      <td>Block</td>\n",
       "      <td>No</td>\n",
       "      <td>1.0</td>\n",
       "      <td>0.0</td>\n",
       "      <td>1.0</td>\n",
       "      <td>0.0</td>\n",
       "      <td>-828.0</td>\n",
       "      <td>0</td>\n",
       "      <td>1</td>\n",
       "      <td>0</td>\n",
       "      <td>0</td>\n",
       "      <td>0</td>\n",
       "      <td>0</td>\n",
       "      <td>0</td>\n",
       "      <td>0</td>\n",
       "      <td>0</td>\n",
       "      <td>0</td>\n",
       "      <td>0</td>\n",
       "      <td>0</td>\n",
       "      <td>0</td>\n",
       "      <td>0</td>\n",
       "      <td>0</td>\n",
       "      <td>0</td>\n",
       "      <td>0</td>\n",
       "      <td>0</td>\n",
       "      <td>0</td>\n",
       "      <td>0</td>\n",
       "      <td>0.0</td>\n",
       "      <td>0.0</td>\n",
       "      <td>0.0</td>\n",
       "      <td>0.0</td>\n",
       "      <td>0.0</td>\n",
       "      <td>0.0</td>\n",
       "    </tr>\n",
       "    <tr>\n",
       "      <td>2</td>\n",
       "      <td>100004</td>\n",
       "      <td>0</td>\n",
       "      <td>Revolving loans</td>\n",
       "      <td>M</td>\n",
       "      <td>Y</td>\n",
       "      <td>Y</td>\n",
       "      <td>0</td>\n",
       "      <td>67500.0</td>\n",
       "      <td>135000.0</td>\n",
       "      <td>6750.0</td>\n",
       "      <td>135000.0</td>\n",
       "      <td>Unaccompanied</td>\n",
       "      <td>Working</td>\n",
       "      <td>Secondary / secondary special</td>\n",
       "      <td>Single / not married</td>\n",
       "      <td>House / apartment</td>\n",
       "      <td>0.010032</td>\n",
       "      <td>-19046</td>\n",
       "      <td>-225</td>\n",
       "      <td>-4260.0</td>\n",
       "      <td>-2531</td>\n",
       "      <td>26.0</td>\n",
       "      <td>1</td>\n",
       "      <td>1</td>\n",
       "      <td>1</td>\n",
       "      <td>1</td>\n",
       "      <td>1</td>\n",
       "      <td>0</td>\n",
       "      <td>Laborers</td>\n",
       "      <td>1.0</td>\n",
       "      <td>2</td>\n",
       "      <td>2</td>\n",
       "      <td>MONDAY</td>\n",
       "      <td>9</td>\n",
       "      <td>0</td>\n",
       "      <td>0</td>\n",
       "      <td>0</td>\n",
       "      <td>0</td>\n",
       "      <td>0</td>\n",
       "      <td>0</td>\n",
       "      <td>Government</td>\n",
       "      <td>NaN</td>\n",
       "      <td>0.555912</td>\n",
       "      <td>0.729567</td>\n",
       "      <td>NaN</td>\n",
       "      <td>NaN</td>\n",
       "      <td>NaN</td>\n",
       "      <td>NaN</td>\n",
       "      <td>NaN</td>\n",
       "      <td>NaN</td>\n",
       "      <td>NaN</td>\n",
       "      <td>NaN</td>\n",
       "      <td>NaN</td>\n",
       "      <td>NaN</td>\n",
       "      <td>NaN</td>\n",
       "      <td>NaN</td>\n",
       "      <td>NaN</td>\n",
       "      <td>NaN</td>\n",
       "      <td>NaN</td>\n",
       "      <td>NaN</td>\n",
       "      <td>NaN</td>\n",
       "      <td>NaN</td>\n",
       "      <td>NaN</td>\n",
       "      <td>NaN</td>\n",
       "      <td>NaN</td>\n",
       "      <td>NaN</td>\n",
       "      <td>NaN</td>\n",
       "      <td>NaN</td>\n",
       "      <td>NaN</td>\n",
       "      <td>NaN</td>\n",
       "      <td>NaN</td>\n",
       "      <td>NaN</td>\n",
       "      <td>NaN</td>\n",
       "      <td>NaN</td>\n",
       "      <td>NaN</td>\n",
       "      <td>NaN</td>\n",
       "      <td>NaN</td>\n",
       "      <td>NaN</td>\n",
       "      <td>NaN</td>\n",
       "      <td>NaN</td>\n",
       "      <td>NaN</td>\n",
       "      <td>NaN</td>\n",
       "      <td>NaN</td>\n",
       "      <td>NaN</td>\n",
       "      <td>NaN</td>\n",
       "      <td>NaN</td>\n",
       "      <td>NaN</td>\n",
       "      <td>NaN</td>\n",
       "      <td>NaN</td>\n",
       "      <td>NaN</td>\n",
       "      <td>NaN</td>\n",
       "      <td>0.0</td>\n",
       "      <td>0.0</td>\n",
       "      <td>0.0</td>\n",
       "      <td>0.0</td>\n",
       "      <td>-815.0</td>\n",
       "      <td>0</td>\n",
       "      <td>0</td>\n",
       "      <td>0</td>\n",
       "      <td>0</td>\n",
       "      <td>0</td>\n",
       "      <td>0</td>\n",
       "      <td>0</td>\n",
       "      <td>0</td>\n",
       "      <td>0</td>\n",
       "      <td>0</td>\n",
       "      <td>0</td>\n",
       "      <td>0</td>\n",
       "      <td>0</td>\n",
       "      <td>0</td>\n",
       "      <td>0</td>\n",
       "      <td>0</td>\n",
       "      <td>0</td>\n",
       "      <td>0</td>\n",
       "      <td>0</td>\n",
       "      <td>0</td>\n",
       "      <td>0.0</td>\n",
       "      <td>0.0</td>\n",
       "      <td>0.0</td>\n",
       "      <td>0.0</td>\n",
       "      <td>0.0</td>\n",
       "      <td>0.0</td>\n",
       "    </tr>\n",
       "    <tr>\n",
       "      <td>3</td>\n",
       "      <td>100006</td>\n",
       "      <td>0</td>\n",
       "      <td>Cash loans</td>\n",
       "      <td>F</td>\n",
       "      <td>N</td>\n",
       "      <td>Y</td>\n",
       "      <td>0</td>\n",
       "      <td>135000.0</td>\n",
       "      <td>312682.5</td>\n",
       "      <td>29686.5</td>\n",
       "      <td>297000.0</td>\n",
       "      <td>Unaccompanied</td>\n",
       "      <td>Working</td>\n",
       "      <td>Secondary / secondary special</td>\n",
       "      <td>Civil marriage</td>\n",
       "      <td>House / apartment</td>\n",
       "      <td>0.008019</td>\n",
       "      <td>-19005</td>\n",
       "      <td>-3039</td>\n",
       "      <td>-9833.0</td>\n",
       "      <td>-2437</td>\n",
       "      <td>NaN</td>\n",
       "      <td>1</td>\n",
       "      <td>1</td>\n",
       "      <td>0</td>\n",
       "      <td>1</td>\n",
       "      <td>0</td>\n",
       "      <td>0</td>\n",
       "      <td>Laborers</td>\n",
       "      <td>2.0</td>\n",
       "      <td>2</td>\n",
       "      <td>2</td>\n",
       "      <td>WEDNESDAY</td>\n",
       "      <td>17</td>\n",
       "      <td>0</td>\n",
       "      <td>0</td>\n",
       "      <td>0</td>\n",
       "      <td>0</td>\n",
       "      <td>0</td>\n",
       "      <td>0</td>\n",
       "      <td>Business Entity Type 3</td>\n",
       "      <td>NaN</td>\n",
       "      <td>0.650442</td>\n",
       "      <td>NaN</td>\n",
       "      <td>NaN</td>\n",
       "      <td>NaN</td>\n",
       "      <td>NaN</td>\n",
       "      <td>NaN</td>\n",
       "      <td>NaN</td>\n",
       "      <td>NaN</td>\n",
       "      <td>NaN</td>\n",
       "      <td>NaN</td>\n",
       "      <td>NaN</td>\n",
       "      <td>NaN</td>\n",
       "      <td>NaN</td>\n",
       "      <td>NaN</td>\n",
       "      <td>NaN</td>\n",
       "      <td>NaN</td>\n",
       "      <td>NaN</td>\n",
       "      <td>NaN</td>\n",
       "      <td>NaN</td>\n",
       "      <td>NaN</td>\n",
       "      <td>NaN</td>\n",
       "      <td>NaN</td>\n",
       "      <td>NaN</td>\n",
       "      <td>NaN</td>\n",
       "      <td>NaN</td>\n",
       "      <td>NaN</td>\n",
       "      <td>NaN</td>\n",
       "      <td>NaN</td>\n",
       "      <td>NaN</td>\n",
       "      <td>NaN</td>\n",
       "      <td>NaN</td>\n",
       "      <td>NaN</td>\n",
       "      <td>NaN</td>\n",
       "      <td>NaN</td>\n",
       "      <td>NaN</td>\n",
       "      <td>NaN</td>\n",
       "      <td>NaN</td>\n",
       "      <td>NaN</td>\n",
       "      <td>NaN</td>\n",
       "      <td>NaN</td>\n",
       "      <td>NaN</td>\n",
       "      <td>NaN</td>\n",
       "      <td>NaN</td>\n",
       "      <td>NaN</td>\n",
       "      <td>NaN</td>\n",
       "      <td>NaN</td>\n",
       "      <td>NaN</td>\n",
       "      <td>NaN</td>\n",
       "      <td>NaN</td>\n",
       "      <td>2.0</td>\n",
       "      <td>0.0</td>\n",
       "      <td>2.0</td>\n",
       "      <td>0.0</td>\n",
       "      <td>-617.0</td>\n",
       "      <td>0</td>\n",
       "      <td>1</td>\n",
       "      <td>0</td>\n",
       "      <td>0</td>\n",
       "      <td>0</td>\n",
       "      <td>0</td>\n",
       "      <td>0</td>\n",
       "      <td>0</td>\n",
       "      <td>0</td>\n",
       "      <td>0</td>\n",
       "      <td>0</td>\n",
       "      <td>0</td>\n",
       "      <td>0</td>\n",
       "      <td>0</td>\n",
       "      <td>0</td>\n",
       "      <td>0</td>\n",
       "      <td>0</td>\n",
       "      <td>0</td>\n",
       "      <td>0</td>\n",
       "      <td>0</td>\n",
       "      <td>NaN</td>\n",
       "      <td>NaN</td>\n",
       "      <td>NaN</td>\n",
       "      <td>NaN</td>\n",
       "      <td>NaN</td>\n",
       "      <td>NaN</td>\n",
       "    </tr>\n",
       "    <tr>\n",
       "      <td>4</td>\n",
       "      <td>100007</td>\n",
       "      <td>0</td>\n",
       "      <td>Cash loans</td>\n",
       "      <td>M</td>\n",
       "      <td>N</td>\n",
       "      <td>Y</td>\n",
       "      <td>0</td>\n",
       "      <td>121500.0</td>\n",
       "      <td>513000.0</td>\n",
       "      <td>21865.5</td>\n",
       "      <td>513000.0</td>\n",
       "      <td>Unaccompanied</td>\n",
       "      <td>Working</td>\n",
       "      <td>Secondary / secondary special</td>\n",
       "      <td>Single / not married</td>\n",
       "      <td>House / apartment</td>\n",
       "      <td>0.028663</td>\n",
       "      <td>-19932</td>\n",
       "      <td>-3038</td>\n",
       "      <td>-4311.0</td>\n",
       "      <td>-3458</td>\n",
       "      <td>NaN</td>\n",
       "      <td>1</td>\n",
       "      <td>1</td>\n",
       "      <td>0</td>\n",
       "      <td>1</td>\n",
       "      <td>0</td>\n",
       "      <td>0</td>\n",
       "      <td>Core staff</td>\n",
       "      <td>1.0</td>\n",
       "      <td>2</td>\n",
       "      <td>2</td>\n",
       "      <td>THURSDAY</td>\n",
       "      <td>11</td>\n",
       "      <td>0</td>\n",
       "      <td>0</td>\n",
       "      <td>0</td>\n",
       "      <td>0</td>\n",
       "      <td>1</td>\n",
       "      <td>1</td>\n",
       "      <td>Religion</td>\n",
       "      <td>NaN</td>\n",
       "      <td>0.322738</td>\n",
       "      <td>NaN</td>\n",
       "      <td>NaN</td>\n",
       "      <td>NaN</td>\n",
       "      <td>NaN</td>\n",
       "      <td>NaN</td>\n",
       "      <td>NaN</td>\n",
       "      <td>NaN</td>\n",
       "      <td>NaN</td>\n",
       "      <td>NaN</td>\n",
       "      <td>NaN</td>\n",
       "      <td>NaN</td>\n",
       "      <td>NaN</td>\n",
       "      <td>NaN</td>\n",
       "      <td>NaN</td>\n",
       "      <td>NaN</td>\n",
       "      <td>NaN</td>\n",
       "      <td>NaN</td>\n",
       "      <td>NaN</td>\n",
       "      <td>NaN</td>\n",
       "      <td>NaN</td>\n",
       "      <td>NaN</td>\n",
       "      <td>NaN</td>\n",
       "      <td>NaN</td>\n",
       "      <td>NaN</td>\n",
       "      <td>NaN</td>\n",
       "      <td>NaN</td>\n",
       "      <td>NaN</td>\n",
       "      <td>NaN</td>\n",
       "      <td>NaN</td>\n",
       "      <td>NaN</td>\n",
       "      <td>NaN</td>\n",
       "      <td>NaN</td>\n",
       "      <td>NaN</td>\n",
       "      <td>NaN</td>\n",
       "      <td>NaN</td>\n",
       "      <td>NaN</td>\n",
       "      <td>NaN</td>\n",
       "      <td>NaN</td>\n",
       "      <td>NaN</td>\n",
       "      <td>NaN</td>\n",
       "      <td>NaN</td>\n",
       "      <td>NaN</td>\n",
       "      <td>NaN</td>\n",
       "      <td>NaN</td>\n",
       "      <td>NaN</td>\n",
       "      <td>NaN</td>\n",
       "      <td>NaN</td>\n",
       "      <td>NaN</td>\n",
       "      <td>0.0</td>\n",
       "      <td>0.0</td>\n",
       "      <td>0.0</td>\n",
       "      <td>0.0</td>\n",
       "      <td>-1106.0</td>\n",
       "      <td>0</td>\n",
       "      <td>0</td>\n",
       "      <td>0</td>\n",
       "      <td>0</td>\n",
       "      <td>0</td>\n",
       "      <td>0</td>\n",
       "      <td>1</td>\n",
       "      <td>0</td>\n",
       "      <td>0</td>\n",
       "      <td>0</td>\n",
       "      <td>0</td>\n",
       "      <td>0</td>\n",
       "      <td>0</td>\n",
       "      <td>0</td>\n",
       "      <td>0</td>\n",
       "      <td>0</td>\n",
       "      <td>0</td>\n",
       "      <td>0</td>\n",
       "      <td>0</td>\n",
       "      <td>0</td>\n",
       "      <td>0.0</td>\n",
       "      <td>0.0</td>\n",
       "      <td>0.0</td>\n",
       "      <td>0.0</td>\n",
       "      <td>0.0</td>\n",
       "      <td>0.0</td>\n",
       "    </tr>\n",
       "  </tbody>\n",
       "</table>\n",
       "</div>"
      ],
      "text/plain": [
       "   SK_ID_CURR  TARGET NAME_CONTRACT_TYPE CODE_GENDER FLAG_OWN_CAR  \\\n",
       "0      100002       1         Cash loans           M            N   \n",
       "1      100003       0         Cash loans           F            N   \n",
       "2      100004       0    Revolving loans           M            Y   \n",
       "3      100006       0         Cash loans           F            N   \n",
       "4      100007       0         Cash loans           M            N   \n",
       "\n",
       "  FLAG_OWN_REALTY  CNT_CHILDREN  AMT_INCOME_TOTAL  AMT_CREDIT  AMT_ANNUITY  \\\n",
       "0               Y             0          202500.0    406597.5      24700.5   \n",
       "1               N             0          270000.0   1293502.5      35698.5   \n",
       "2               Y             0           67500.0    135000.0       6750.0   \n",
       "3               Y             0          135000.0    312682.5      29686.5   \n",
       "4               Y             0          121500.0    513000.0      21865.5   \n",
       "\n",
       "   AMT_GOODS_PRICE NAME_TYPE_SUITE NAME_INCOME_TYPE  \\\n",
       "0         351000.0   Unaccompanied          Working   \n",
       "1        1129500.0          Family    State servant   \n",
       "2         135000.0   Unaccompanied          Working   \n",
       "3         297000.0   Unaccompanied          Working   \n",
       "4         513000.0   Unaccompanied          Working   \n",
       "\n",
       "             NAME_EDUCATION_TYPE    NAME_FAMILY_STATUS  NAME_HOUSING_TYPE  \\\n",
       "0  Secondary / secondary special  Single / not married  House / apartment   \n",
       "1               Higher education               Married  House / apartment   \n",
       "2  Secondary / secondary special  Single / not married  House / apartment   \n",
       "3  Secondary / secondary special        Civil marriage  House / apartment   \n",
       "4  Secondary / secondary special  Single / not married  House / apartment   \n",
       "\n",
       "   REGION_POPULATION_RELATIVE  DAYS_BIRTH  DAYS_EMPLOYED  DAYS_REGISTRATION  \\\n",
       "0                    0.018801       -9461           -637            -3648.0   \n",
       "1                    0.003541      -16765          -1188            -1186.0   \n",
       "2                    0.010032      -19046           -225            -4260.0   \n",
       "3                    0.008019      -19005          -3039            -9833.0   \n",
       "4                    0.028663      -19932          -3038            -4311.0   \n",
       "\n",
       "   DAYS_ID_PUBLISH  OWN_CAR_AGE  FLAG_MOBIL  FLAG_EMP_PHONE  FLAG_WORK_PHONE  \\\n",
       "0            -2120          NaN           1               1                0   \n",
       "1             -291          NaN           1               1                0   \n",
       "2            -2531         26.0           1               1                1   \n",
       "3            -2437          NaN           1               1                0   \n",
       "4            -3458          NaN           1               1                0   \n",
       "\n",
       "   FLAG_CONT_MOBILE  FLAG_PHONE  FLAG_EMAIL OCCUPATION_TYPE  CNT_FAM_MEMBERS  \\\n",
       "0                 1           1           0        Laborers              1.0   \n",
       "1                 1           1           0      Core staff              2.0   \n",
       "2                 1           1           0        Laborers              1.0   \n",
       "3                 1           0           0        Laborers              2.0   \n",
       "4                 1           0           0      Core staff              1.0   \n",
       "\n",
       "   REGION_RATING_CLIENT  REGION_RATING_CLIENT_W_CITY  \\\n",
       "0                     2                            2   \n",
       "1                     1                            1   \n",
       "2                     2                            2   \n",
       "3                     2                            2   \n",
       "4                     2                            2   \n",
       "\n",
       "  WEEKDAY_APPR_PROCESS_START  HOUR_APPR_PROCESS_START  \\\n",
       "0                  WEDNESDAY                       10   \n",
       "1                     MONDAY                       11   \n",
       "2                     MONDAY                        9   \n",
       "3                  WEDNESDAY                       17   \n",
       "4                   THURSDAY                       11   \n",
       "\n",
       "   REG_REGION_NOT_LIVE_REGION  REG_REGION_NOT_WORK_REGION  \\\n",
       "0                           0                           0   \n",
       "1                           0                           0   \n",
       "2                           0                           0   \n",
       "3                           0                           0   \n",
       "4                           0                           0   \n",
       "\n",
       "   LIVE_REGION_NOT_WORK_REGION  REG_CITY_NOT_LIVE_CITY  \\\n",
       "0                            0                       0   \n",
       "1                            0                       0   \n",
       "2                            0                       0   \n",
       "3                            0                       0   \n",
       "4                            0                       0   \n",
       "\n",
       "   REG_CITY_NOT_WORK_CITY  LIVE_CITY_NOT_WORK_CITY       ORGANIZATION_TYPE  \\\n",
       "0                       0                        0  Business Entity Type 3   \n",
       "1                       0                        0                  School   \n",
       "2                       0                        0              Government   \n",
       "3                       0                        0  Business Entity Type 3   \n",
       "4                       1                        1                Religion   \n",
       "\n",
       "   EXT_SOURCE_1  EXT_SOURCE_2  EXT_SOURCE_3  APARTMENTS_AVG  BASEMENTAREA_AVG  \\\n",
       "0      0.083037      0.262949      0.139376          0.0247            0.0369   \n",
       "1      0.311267      0.622246           NaN          0.0959            0.0529   \n",
       "2           NaN      0.555912      0.729567             NaN               NaN   \n",
       "3           NaN      0.650442           NaN             NaN               NaN   \n",
       "4           NaN      0.322738           NaN             NaN               NaN   \n",
       "\n",
       "   YEARS_BEGINEXPLUATATION_AVG  YEARS_BUILD_AVG  COMMONAREA_AVG  \\\n",
       "0                       0.9722           0.6192          0.0143   \n",
       "1                       0.9851           0.7960          0.0605   \n",
       "2                          NaN              NaN             NaN   \n",
       "3                          NaN              NaN             NaN   \n",
       "4                          NaN              NaN             NaN   \n",
       "\n",
       "   ELEVATORS_AVG  ENTRANCES_AVG  FLOORSMAX_AVG  FLOORSMIN_AVG  LANDAREA_AVG  \\\n",
       "0           0.00         0.0690         0.0833         0.1250        0.0369   \n",
       "1           0.08         0.0345         0.2917         0.3333        0.0130   \n",
       "2            NaN            NaN            NaN            NaN           NaN   \n",
       "3            NaN            NaN            NaN            NaN           NaN   \n",
       "4            NaN            NaN            NaN            NaN           NaN   \n",
       "\n",
       "   LIVINGAPARTMENTS_AVG  LIVINGAREA_AVG  NONLIVINGAPARTMENTS_AVG  \\\n",
       "0                0.0202          0.0190                   0.0000   \n",
       "1                0.0773          0.0549                   0.0039   \n",
       "2                   NaN             NaN                      NaN   \n",
       "3                   NaN             NaN                      NaN   \n",
       "4                   NaN             NaN                      NaN   \n",
       "\n",
       "   NONLIVINGAREA_AVG  APARTMENTS_MODE  BASEMENTAREA_MODE  \\\n",
       "0             0.0000           0.0252             0.0383   \n",
       "1             0.0098           0.0924             0.0538   \n",
       "2                NaN              NaN                NaN   \n",
       "3                NaN              NaN                NaN   \n",
       "4                NaN              NaN                NaN   \n",
       "\n",
       "   YEARS_BEGINEXPLUATATION_MODE  YEARS_BUILD_MODE  COMMONAREA_MODE  \\\n",
       "0                        0.9722            0.6341           0.0144   \n",
       "1                        0.9851            0.8040           0.0497   \n",
       "2                           NaN               NaN              NaN   \n",
       "3                           NaN               NaN              NaN   \n",
       "4                           NaN               NaN              NaN   \n",
       "\n",
       "   ELEVATORS_MODE  ENTRANCES_MODE  FLOORSMAX_MODE  FLOORSMIN_MODE  \\\n",
       "0          0.0000          0.0690          0.0833          0.1250   \n",
       "1          0.0806          0.0345          0.2917          0.3333   \n",
       "2             NaN             NaN             NaN             NaN   \n",
       "3             NaN             NaN             NaN             NaN   \n",
       "4             NaN             NaN             NaN             NaN   \n",
       "\n",
       "   LANDAREA_MODE  LIVINGAPARTMENTS_MODE  LIVINGAREA_MODE  \\\n",
       "0         0.0377                  0.022           0.0198   \n",
       "1         0.0128                  0.079           0.0554   \n",
       "2            NaN                    NaN              NaN   \n",
       "3            NaN                    NaN              NaN   \n",
       "4            NaN                    NaN              NaN   \n",
       "\n",
       "   NONLIVINGAPARTMENTS_MODE  NONLIVINGAREA_MODE  APARTMENTS_MEDI  \\\n",
       "0                       0.0                 0.0           0.0250   \n",
       "1                       0.0                 0.0           0.0968   \n",
       "2                       NaN                 NaN              NaN   \n",
       "3                       NaN                 NaN              NaN   \n",
       "4                       NaN                 NaN              NaN   \n",
       "\n",
       "   BASEMENTAREA_MEDI  YEARS_BEGINEXPLUATATION_MEDI  YEARS_BUILD_MEDI  \\\n",
       "0             0.0369                        0.9722            0.6243   \n",
       "1             0.0529                        0.9851            0.7987   \n",
       "2                NaN                           NaN               NaN   \n",
       "3                NaN                           NaN               NaN   \n",
       "4                NaN                           NaN               NaN   \n",
       "\n",
       "   COMMONAREA_MEDI  ELEVATORS_MEDI  ENTRANCES_MEDI  FLOORSMAX_MEDI  \\\n",
       "0           0.0144            0.00          0.0690          0.0833   \n",
       "1           0.0608            0.08          0.0345          0.2917   \n",
       "2              NaN             NaN             NaN             NaN   \n",
       "3              NaN             NaN             NaN             NaN   \n",
       "4              NaN             NaN             NaN             NaN   \n",
       "\n",
       "   FLOORSMIN_MEDI  LANDAREA_MEDI  LIVINGAPARTMENTS_MEDI  LIVINGAREA_MEDI  \\\n",
       "0          0.1250         0.0375                 0.0205           0.0193   \n",
       "1          0.3333         0.0132                 0.0787           0.0558   \n",
       "2             NaN            NaN                    NaN              NaN   \n",
       "3             NaN            NaN                    NaN              NaN   \n",
       "4             NaN            NaN                    NaN              NaN   \n",
       "\n",
       "   NONLIVINGAPARTMENTS_MEDI  NONLIVINGAREA_MEDI FONDKAPREMONT_MODE  \\\n",
       "0                    0.0000                0.00   reg oper account   \n",
       "1                    0.0039                0.01   reg oper account   \n",
       "2                       NaN                 NaN                NaN   \n",
       "3                       NaN                 NaN                NaN   \n",
       "4                       NaN                 NaN                NaN   \n",
       "\n",
       "   HOUSETYPE_MODE  TOTALAREA_MODE WALLSMATERIAL_MODE EMERGENCYSTATE_MODE  \\\n",
       "0  block of flats          0.0149       Stone, brick                  No   \n",
       "1  block of flats          0.0714              Block                  No   \n",
       "2             NaN             NaN                NaN                 NaN   \n",
       "3             NaN             NaN                NaN                 NaN   \n",
       "4             NaN             NaN                NaN                 NaN   \n",
       "\n",
       "   OBS_30_CNT_SOCIAL_CIRCLE  DEF_30_CNT_SOCIAL_CIRCLE  \\\n",
       "0                       2.0                       2.0   \n",
       "1                       1.0                       0.0   \n",
       "2                       0.0                       0.0   \n",
       "3                       2.0                       0.0   \n",
       "4                       0.0                       0.0   \n",
       "\n",
       "   OBS_60_CNT_SOCIAL_CIRCLE  DEF_60_CNT_SOCIAL_CIRCLE  DAYS_LAST_PHONE_CHANGE  \\\n",
       "0                       2.0                       2.0                 -1134.0   \n",
       "1                       1.0                       0.0                  -828.0   \n",
       "2                       0.0                       0.0                  -815.0   \n",
       "3                       2.0                       0.0                  -617.0   \n",
       "4                       0.0                       0.0                 -1106.0   \n",
       "\n",
       "   FLAG_DOCUMENT_2  FLAG_DOCUMENT_3  FLAG_DOCUMENT_4  FLAG_DOCUMENT_5  \\\n",
       "0                0                1                0                0   \n",
       "1                0                1                0                0   \n",
       "2                0                0                0                0   \n",
       "3                0                1                0                0   \n",
       "4                0                0                0                0   \n",
       "\n",
       "   FLAG_DOCUMENT_6  FLAG_DOCUMENT_7  FLAG_DOCUMENT_8  FLAG_DOCUMENT_9  \\\n",
       "0                0                0                0                0   \n",
       "1                0                0                0                0   \n",
       "2                0                0                0                0   \n",
       "3                0                0                0                0   \n",
       "4                0                0                1                0   \n",
       "\n",
       "   FLAG_DOCUMENT_10  FLAG_DOCUMENT_11  FLAG_DOCUMENT_12  FLAG_DOCUMENT_13  \\\n",
       "0                 0                 0                 0                 0   \n",
       "1                 0                 0                 0                 0   \n",
       "2                 0                 0                 0                 0   \n",
       "3                 0                 0                 0                 0   \n",
       "4                 0                 0                 0                 0   \n",
       "\n",
       "   FLAG_DOCUMENT_14  FLAG_DOCUMENT_15  FLAG_DOCUMENT_16  FLAG_DOCUMENT_17  \\\n",
       "0                 0                 0                 0                 0   \n",
       "1                 0                 0                 0                 0   \n",
       "2                 0                 0                 0                 0   \n",
       "3                 0                 0                 0                 0   \n",
       "4                 0                 0                 0                 0   \n",
       "\n",
       "   FLAG_DOCUMENT_18  FLAG_DOCUMENT_19  FLAG_DOCUMENT_20  FLAG_DOCUMENT_21  \\\n",
       "0                 0                 0                 0                 0   \n",
       "1                 0                 0                 0                 0   \n",
       "2                 0                 0                 0                 0   \n",
       "3                 0                 0                 0                 0   \n",
       "4                 0                 0                 0                 0   \n",
       "\n",
       "   AMT_REQ_CREDIT_BUREAU_HOUR  AMT_REQ_CREDIT_BUREAU_DAY  \\\n",
       "0                         0.0                        0.0   \n",
       "1                         0.0                        0.0   \n",
       "2                         0.0                        0.0   \n",
       "3                         NaN                        NaN   \n",
       "4                         0.0                        0.0   \n",
       "\n",
       "   AMT_REQ_CREDIT_BUREAU_WEEK  AMT_REQ_CREDIT_BUREAU_MON  \\\n",
       "0                         0.0                        0.0   \n",
       "1                         0.0                        0.0   \n",
       "2                         0.0                        0.0   \n",
       "3                         NaN                        NaN   \n",
       "4                         0.0                        0.0   \n",
       "\n",
       "   AMT_REQ_CREDIT_BUREAU_QRT  AMT_REQ_CREDIT_BUREAU_YEAR  \n",
       "0                        0.0                         1.0  \n",
       "1                        0.0                         0.0  \n",
       "2                        0.0                         0.0  \n",
       "3                        NaN                         NaN  \n",
       "4                        0.0                         0.0  "
      ]
     },
     "execution_count": 3,
     "metadata": {},
     "output_type": "execute_result"
    }
   ],
   "source": [
    "# Membaca dataframe\n",
    "app_train = pd.read_csv(\"application_train.csv\")\n",
    "# Menampilkan 5 data teratas dari dataset\n",
    "app_train.head()"
   ]
  },
  {
   "cell_type": "code",
   "execution_count": 4,
   "metadata": {},
   "outputs": [
    {
     "name": "stdout",
     "output_type": "stream",
     "text": [
      "Ukuran dataset: (307511, 122)\n",
      "\n",
      " Statistik deskriptif:\n",
      "           SK_ID_CURR         TARGET   CNT_CHILDREN  AMT_INCOME_TOTAL  \\\n",
      "count  307511.000000  307511.000000  307511.000000      3.075110e+05   \n",
      "mean   278180.518577       0.080729       0.417052      1.687979e+05   \n",
      "std    102790.175348       0.272419       0.722121      2.371231e+05   \n",
      "min    100002.000000       0.000000       0.000000      2.565000e+04   \n",
      "25%    189145.500000       0.000000       0.000000      1.125000e+05   \n",
      "50%    278202.000000       0.000000       0.000000      1.471500e+05   \n",
      "75%    367142.500000       0.000000       1.000000      2.025000e+05   \n",
      "max    456255.000000       1.000000      19.000000      1.170000e+08   \n",
      "\n",
      "         AMT_CREDIT    AMT_ANNUITY  AMT_GOODS_PRICE  \\\n",
      "count  3.075110e+05  307499.000000     3.072330e+05   \n",
      "mean   5.990260e+05   27108.573909     5.383962e+05   \n",
      "std    4.024908e+05   14493.737315     3.694465e+05   \n",
      "min    4.500000e+04    1615.500000     4.050000e+04   \n",
      "25%    2.700000e+05   16524.000000     2.385000e+05   \n",
      "50%    5.135310e+05   24903.000000     4.500000e+05   \n",
      "75%    8.086500e+05   34596.000000     6.795000e+05   \n",
      "max    4.050000e+06  258025.500000     4.050000e+06   \n",
      "\n",
      "       REGION_POPULATION_RELATIVE     DAYS_BIRTH  DAYS_EMPLOYED  \\\n",
      "count               307511.000000  307511.000000  307511.000000   \n",
      "mean                     0.020868  -16036.995067   63815.045904   \n",
      "std                      0.013831    4363.988632  141275.766519   \n",
      "min                      0.000290  -25229.000000  -17912.000000   \n",
      "25%                      0.010006  -19682.000000   -2760.000000   \n",
      "50%                      0.018850  -15750.000000   -1213.000000   \n",
      "75%                      0.028663  -12413.000000    -289.000000   \n",
      "max                      0.072508   -7489.000000  365243.000000   \n",
      "\n",
      "       DAYS_REGISTRATION  DAYS_ID_PUBLISH    OWN_CAR_AGE     FLAG_MOBIL  \\\n",
      "count      307511.000000    307511.000000  104582.000000  307511.000000   \n",
      "mean        -4986.120328     -2994.202373      12.061091       0.999997   \n",
      "std          3522.886321      1509.450419      11.944812       0.001803   \n",
      "min        -24672.000000     -7197.000000       0.000000       0.000000   \n",
      "25%         -7479.500000     -4299.000000       5.000000       1.000000   \n",
      "50%         -4504.000000     -3254.000000       9.000000       1.000000   \n",
      "75%         -2010.000000     -1720.000000      15.000000       1.000000   \n",
      "max             0.000000         0.000000      91.000000       1.000000   \n",
      "\n",
      "       FLAG_EMP_PHONE  FLAG_WORK_PHONE  FLAG_CONT_MOBILE     FLAG_PHONE  \\\n",
      "count   307511.000000    307511.000000     307511.000000  307511.000000   \n",
      "mean         0.819889         0.199368          0.998133       0.281066   \n",
      "std          0.384280         0.399526          0.043164       0.449521   \n",
      "min          0.000000         0.000000          0.000000       0.000000   \n",
      "25%          1.000000         0.000000          1.000000       0.000000   \n",
      "50%          1.000000         0.000000          1.000000       0.000000   \n",
      "75%          1.000000         0.000000          1.000000       1.000000   \n",
      "max          1.000000         1.000000          1.000000       1.000000   \n",
      "\n",
      "          FLAG_EMAIL  CNT_FAM_MEMBERS  REGION_RATING_CLIENT  \\\n",
      "count  307511.000000    307509.000000         307511.000000   \n",
      "mean        0.056720         2.152665              2.052463   \n",
      "std         0.231307         0.910682              0.509034   \n",
      "min         0.000000         1.000000              1.000000   \n",
      "25%         0.000000         2.000000              2.000000   \n",
      "50%         0.000000         2.000000              2.000000   \n",
      "75%         0.000000         3.000000              2.000000   \n",
      "max         1.000000        20.000000              3.000000   \n",
      "\n",
      "       REGION_RATING_CLIENT_W_CITY  HOUR_APPR_PROCESS_START  \\\n",
      "count                307511.000000            307511.000000   \n",
      "mean                      2.031521                12.063419   \n",
      "std                       0.502737                 3.265832   \n",
      "min                       1.000000                 0.000000   \n",
      "25%                       2.000000                10.000000   \n",
      "50%                       2.000000                12.000000   \n",
      "75%                       2.000000                14.000000   \n",
      "max                       3.000000                23.000000   \n",
      "\n",
      "       REG_REGION_NOT_LIVE_REGION  REG_REGION_NOT_WORK_REGION  \\\n",
      "count               307511.000000               307511.000000   \n",
      "mean                     0.015144                    0.050769   \n",
      "std                      0.122126                    0.219526   \n",
      "min                      0.000000                    0.000000   \n",
      "25%                      0.000000                    0.000000   \n",
      "50%                      0.000000                    0.000000   \n",
      "75%                      0.000000                    0.000000   \n",
      "max                      1.000000                    1.000000   \n",
      "\n",
      "       LIVE_REGION_NOT_WORK_REGION  REG_CITY_NOT_LIVE_CITY  \\\n",
      "count                307511.000000           307511.000000   \n",
      "mean                      0.040659                0.078173   \n",
      "std                       0.197499                0.268444   \n",
      "min                       0.000000                0.000000   \n",
      "25%                       0.000000                0.000000   \n",
      "50%                       0.000000                0.000000   \n",
      "75%                       0.000000                0.000000   \n",
      "max                       1.000000                1.000000   \n",
      "\n",
      "       REG_CITY_NOT_WORK_CITY  LIVE_CITY_NOT_WORK_CITY   EXT_SOURCE_1  \\\n",
      "count           307511.000000            307511.000000  134133.000000   \n",
      "mean                 0.230454                 0.179555       0.502130   \n",
      "std                  0.421124                 0.383817       0.211062   \n",
      "min                  0.000000                 0.000000       0.014568   \n",
      "25%                  0.000000                 0.000000       0.334007   \n",
      "50%                  0.000000                 0.000000       0.505998   \n",
      "75%                  0.000000                 0.000000       0.675053   \n",
      "max                  1.000000                 1.000000       0.962693   \n",
      "\n",
      "       EXT_SOURCE_2   EXT_SOURCE_3  APARTMENTS_AVG  BASEMENTAREA_AVG  \\\n",
      "count  3.068510e+05  246546.000000    151450.00000     127568.000000   \n",
      "mean   5.143927e-01       0.510853         0.11744          0.088442   \n",
      "std    1.910602e-01       0.194844         0.10824          0.082438   \n",
      "min    8.173617e-08       0.000527         0.00000          0.000000   \n",
      "25%    3.924574e-01       0.370650         0.05770          0.044200   \n",
      "50%    5.659614e-01       0.535276         0.08760          0.076300   \n",
      "75%    6.636171e-01       0.669057         0.14850          0.112200   \n",
      "max    8.549997e-01       0.896010         1.00000          1.000000   \n",
      "\n",
      "       YEARS_BEGINEXPLUATATION_AVG  YEARS_BUILD_AVG  COMMONAREA_AVG  \\\n",
      "count                157504.000000    103023.000000    92646.000000   \n",
      "mean                      0.977735         0.752471        0.044621   \n",
      "std                       0.059223         0.113280        0.076036   \n",
      "min                       0.000000         0.000000        0.000000   \n",
      "25%                       0.976700         0.687200        0.007800   \n",
      "50%                       0.981600         0.755200        0.021100   \n",
      "75%                       0.986600         0.823200        0.051500   \n",
      "max                       1.000000         1.000000        1.000000   \n",
      "\n",
      "       ELEVATORS_AVG  ENTRANCES_AVG  FLOORSMAX_AVG  FLOORSMIN_AVG  \\\n",
      "count  143620.000000  152683.000000  154491.000000   98869.000000   \n",
      "mean        0.078942       0.149725       0.226282       0.231894   \n",
      "std         0.134576       0.100049       0.144641       0.161380   \n",
      "min         0.000000       0.000000       0.000000       0.000000   \n",
      "25%         0.000000       0.069000       0.166700       0.083300   \n",
      "50%         0.000000       0.137900       0.166700       0.208300   \n",
      "75%         0.120000       0.206900       0.333300       0.375000   \n",
      "max         1.000000       1.000000       1.000000       1.000000   \n",
      "\n",
      "        LANDAREA_AVG  LIVINGAPARTMENTS_AVG  LIVINGAREA_AVG  \\\n",
      "count  124921.000000          97312.000000   153161.000000   \n",
      "mean        0.066333              0.100775        0.107399   \n",
      "std         0.081184              0.092576        0.110565   \n",
      "min         0.000000              0.000000        0.000000   \n",
      "25%         0.018700              0.050400        0.045300   \n",
      "50%         0.048100              0.075600        0.074500   \n",
      "75%         0.085600              0.121000        0.129900   \n",
      "max         1.000000              1.000000        1.000000   \n",
      "\n",
      "       NONLIVINGAPARTMENTS_AVG  NONLIVINGAREA_AVG  APARTMENTS_MODE  \\\n",
      "count             93997.000000      137829.000000    151450.000000   \n",
      "mean                  0.008809           0.028358         0.114231   \n",
      "std                   0.047732           0.069523         0.107936   \n",
      "min                   0.000000           0.000000         0.000000   \n",
      "25%                   0.000000           0.000000         0.052500   \n",
      "50%                   0.000000           0.003600         0.084000   \n",
      "75%                   0.003900           0.027700         0.143900   \n",
      "max                   1.000000           1.000000         1.000000   \n",
      "\n",
      "       BASEMENTAREA_MODE  YEARS_BEGINEXPLUATATION_MODE  YEARS_BUILD_MODE  \\\n",
      "count      127568.000000                 157504.000000     103023.000000   \n",
      "mean            0.087543                      0.977065          0.759637   \n",
      "std             0.084307                      0.064575          0.110111   \n",
      "min             0.000000                      0.000000          0.000000   \n",
      "25%             0.040700                      0.976700          0.699400   \n",
      "50%             0.074600                      0.981600          0.764800   \n",
      "75%             0.112400                      0.986600          0.823600   \n",
      "max             1.000000                      1.000000          1.000000   \n",
      "\n",
      "       COMMONAREA_MODE  ELEVATORS_MODE  ENTRANCES_MODE  FLOORSMAX_MODE  \\\n",
      "count     92646.000000   143620.000000   152683.000000   154491.000000   \n",
      "mean          0.042553        0.074490        0.145193        0.222315   \n",
      "std           0.074445        0.132256        0.100977        0.143709   \n",
      "min           0.000000        0.000000        0.000000        0.000000   \n",
      "25%           0.007200        0.000000        0.069000        0.166700   \n",
      "50%           0.019000        0.000000        0.137900        0.166700   \n",
      "75%           0.049000        0.120800        0.206900        0.333300   \n",
      "max           1.000000        1.000000        1.000000        1.000000   \n",
      "\n",
      "       FLOORSMIN_MODE  LANDAREA_MODE  LIVINGAPARTMENTS_MODE  LIVINGAREA_MODE  \\\n",
      "count    98869.000000  124921.000000           97312.000000    153161.000000   \n",
      "mean         0.228058       0.064958               0.105645         0.105975   \n",
      "std          0.161160       0.081750               0.097880         0.111845   \n",
      "min          0.000000       0.000000               0.000000         0.000000   \n",
      "25%          0.083300       0.016600               0.054200         0.042700   \n",
      "50%          0.208300       0.045800               0.077100         0.073100   \n",
      "75%          0.375000       0.084100               0.131300         0.125200   \n",
      "max          1.000000       1.000000               1.000000         1.000000   \n",
      "\n",
      "       NONLIVINGAPARTMENTS_MODE  NONLIVINGAREA_MODE  APARTMENTS_MEDI  \\\n",
      "count              93997.000000       137829.000000    151450.000000   \n",
      "mean                   0.008076            0.027022         0.117850   \n",
      "std                    0.046276            0.070254         0.109076   \n",
      "min                    0.000000            0.000000         0.000000   \n",
      "25%                    0.000000            0.000000         0.058300   \n",
      "50%                    0.000000            0.001100         0.086400   \n",
      "75%                    0.003900            0.023100         0.148900   \n",
      "max                    1.000000            1.000000         1.000000   \n",
      "\n",
      "       BASEMENTAREA_MEDI  YEARS_BEGINEXPLUATATION_MEDI  YEARS_BUILD_MEDI  \\\n",
      "count      127568.000000                 157504.000000     103023.000000   \n",
      "mean            0.087955                      0.977752          0.755746   \n",
      "std             0.082179                      0.059897          0.112066   \n",
      "min             0.000000                      0.000000          0.000000   \n",
      "25%             0.043700                      0.976700          0.691400   \n",
      "50%             0.075800                      0.981600          0.758500   \n",
      "75%             0.111600                      0.986600          0.825600   \n",
      "max             1.000000                      1.000000          1.000000   \n",
      "\n",
      "       COMMONAREA_MEDI  ELEVATORS_MEDI  ENTRANCES_MEDI  FLOORSMAX_MEDI  \\\n",
      "count     92646.000000   143620.000000   152683.000000   154491.000000   \n",
      "mean          0.044595        0.078078        0.149213        0.225897   \n",
      "std           0.076144        0.134467        0.100368        0.145067   \n",
      "min           0.000000        0.000000        0.000000        0.000000   \n",
      "25%           0.007900        0.000000        0.069000        0.166700   \n",
      "50%           0.020800        0.000000        0.137900        0.166700   \n",
      "75%           0.051300        0.120000        0.206900        0.333300   \n",
      "max           1.000000        1.000000        1.000000        1.000000   \n",
      "\n",
      "       FLOORSMIN_MEDI  LANDAREA_MEDI  LIVINGAPARTMENTS_MEDI  LIVINGAREA_MEDI  \\\n",
      "count    98869.000000  124921.000000           97312.000000    153161.000000   \n",
      "mean         0.231625       0.067169               0.101954         0.108607   \n",
      "std          0.161934       0.082167               0.093642         0.112260   \n",
      "min          0.000000       0.000000               0.000000         0.000000   \n",
      "25%          0.083300       0.018700               0.051300         0.045700   \n",
      "50%          0.208300       0.048700               0.076100         0.074900   \n",
      "75%          0.375000       0.086800               0.123100         0.130300   \n",
      "max          1.000000       1.000000               1.000000         1.000000   \n",
      "\n",
      "       NONLIVINGAPARTMENTS_MEDI  NONLIVINGAREA_MEDI  TOTALAREA_MODE  \\\n",
      "count              93997.000000       137829.000000   159080.000000   \n",
      "mean                   0.008651            0.028236        0.102547   \n",
      "std                    0.047415            0.070166        0.107462   \n",
      "min                    0.000000            0.000000        0.000000   \n",
      "25%                    0.000000            0.000000        0.041200   \n",
      "50%                    0.000000            0.003100        0.068800   \n",
      "75%                    0.003900            0.026600        0.127600   \n",
      "max                    1.000000            1.000000        1.000000   \n",
      "\n",
      "       OBS_30_CNT_SOCIAL_CIRCLE  DEF_30_CNT_SOCIAL_CIRCLE  \\\n",
      "count             306490.000000             306490.000000   \n",
      "mean                   1.422245                  0.143421   \n",
      "std                    2.400989                  0.446698   \n",
      "min                    0.000000                  0.000000   \n",
      "25%                    0.000000                  0.000000   \n",
      "50%                    0.000000                  0.000000   \n",
      "75%                    2.000000                  0.000000   \n",
      "max                  348.000000                 34.000000   \n",
      "\n",
      "       OBS_60_CNT_SOCIAL_CIRCLE  DEF_60_CNT_SOCIAL_CIRCLE  \\\n",
      "count             306490.000000             306490.000000   \n",
      "mean                   1.405292                  0.100049   \n",
      "std                    2.379803                  0.362291   \n",
      "min                    0.000000                  0.000000   \n",
      "25%                    0.000000                  0.000000   \n",
      "50%                    0.000000                  0.000000   \n",
      "75%                    2.000000                  0.000000   \n",
      "max                  344.000000                 24.000000   \n",
      "\n",
      "       DAYS_LAST_PHONE_CHANGE  FLAG_DOCUMENT_2  FLAG_DOCUMENT_3  \\\n",
      "count           307510.000000    307511.000000    307511.000000   \n",
      "mean              -962.858788         0.000042         0.710023   \n",
      "std                826.808487         0.006502         0.453752   \n",
      "min              -4292.000000         0.000000         0.000000   \n",
      "25%              -1570.000000         0.000000         0.000000   \n",
      "50%               -757.000000         0.000000         1.000000   \n",
      "75%               -274.000000         0.000000         1.000000   \n",
      "max                  0.000000         1.000000         1.000000   \n",
      "\n",
      "       FLAG_DOCUMENT_4  FLAG_DOCUMENT_5  FLAG_DOCUMENT_6  FLAG_DOCUMENT_7  \\\n",
      "count    307511.000000    307511.000000    307511.000000    307511.000000   \n",
      "mean          0.000081         0.015115         0.088055         0.000192   \n",
      "std           0.009016         0.122010         0.283376         0.013850   \n",
      "min           0.000000         0.000000         0.000000         0.000000   \n",
      "25%           0.000000         0.000000         0.000000         0.000000   \n",
      "50%           0.000000         0.000000         0.000000         0.000000   \n",
      "75%           0.000000         0.000000         0.000000         0.000000   \n",
      "max           1.000000         1.000000         1.000000         1.000000   \n",
      "\n",
      "       FLAG_DOCUMENT_8  FLAG_DOCUMENT_9  FLAG_DOCUMENT_10  FLAG_DOCUMENT_11  \\\n",
      "count    307511.000000    307511.000000     307511.000000     307511.000000   \n",
      "mean          0.081376         0.003896          0.000023          0.003912   \n",
      "std           0.273412         0.062295          0.004771          0.062424   \n",
      "min           0.000000         0.000000          0.000000          0.000000   \n",
      "25%           0.000000         0.000000          0.000000          0.000000   \n",
      "50%           0.000000         0.000000          0.000000          0.000000   \n",
      "75%           0.000000         0.000000          0.000000          0.000000   \n",
      "max           1.000000         1.000000          1.000000          1.000000   \n",
      "\n",
      "       FLAG_DOCUMENT_12  FLAG_DOCUMENT_13  FLAG_DOCUMENT_14  FLAG_DOCUMENT_15  \\\n",
      "count     307511.000000     307511.000000     307511.000000      307511.00000   \n",
      "mean           0.000007          0.003525          0.002936           0.00121   \n",
      "std            0.002550          0.059268          0.054110           0.03476   \n",
      "min            0.000000          0.000000          0.000000           0.00000   \n",
      "25%            0.000000          0.000000          0.000000           0.00000   \n",
      "50%            0.000000          0.000000          0.000000           0.00000   \n",
      "75%            0.000000          0.000000          0.000000           0.00000   \n",
      "max            1.000000          1.000000          1.000000           1.00000   \n",
      "\n",
      "       FLAG_DOCUMENT_16  FLAG_DOCUMENT_17  FLAG_DOCUMENT_18  FLAG_DOCUMENT_19  \\\n",
      "count     307511.000000     307511.000000     307511.000000     307511.000000   \n",
      "mean           0.009928          0.000267          0.008130          0.000595   \n",
      "std            0.099144          0.016327          0.089798          0.024387   \n",
      "min            0.000000          0.000000          0.000000          0.000000   \n",
      "25%            0.000000          0.000000          0.000000          0.000000   \n",
      "50%            0.000000          0.000000          0.000000          0.000000   \n",
      "75%            0.000000          0.000000          0.000000          0.000000   \n",
      "max            1.000000          1.000000          1.000000          1.000000   \n",
      "\n",
      "       FLAG_DOCUMENT_20  FLAG_DOCUMENT_21  AMT_REQ_CREDIT_BUREAU_HOUR  \\\n",
      "count     307511.000000     307511.000000               265992.000000   \n",
      "mean           0.000507          0.000335                    0.006402   \n",
      "std            0.022518          0.018299                    0.083849   \n",
      "min            0.000000          0.000000                    0.000000   \n",
      "25%            0.000000          0.000000                    0.000000   \n",
      "50%            0.000000          0.000000                    0.000000   \n",
      "75%            0.000000          0.000000                    0.000000   \n",
      "max            1.000000          1.000000                    4.000000   \n",
      "\n",
      "       AMT_REQ_CREDIT_BUREAU_DAY  AMT_REQ_CREDIT_BUREAU_WEEK  \\\n",
      "count              265992.000000               265992.000000   \n",
      "mean                    0.007000                    0.034362   \n",
      "std                     0.110757                    0.204685   \n",
      "min                     0.000000                    0.000000   \n",
      "25%                     0.000000                    0.000000   \n",
      "50%                     0.000000                    0.000000   \n",
      "75%                     0.000000                    0.000000   \n",
      "max                     9.000000                    8.000000   \n",
      "\n",
      "       AMT_REQ_CREDIT_BUREAU_MON  AMT_REQ_CREDIT_BUREAU_QRT  \\\n",
      "count              265992.000000              265992.000000   \n",
      "mean                    0.267395                   0.265474   \n",
      "std                     0.916002                   0.794056   \n",
      "min                     0.000000                   0.000000   \n",
      "25%                     0.000000                   0.000000   \n",
      "50%                     0.000000                   0.000000   \n",
      "75%                     0.000000                   0.000000   \n",
      "max                    27.000000                 261.000000   \n",
      "\n",
      "       AMT_REQ_CREDIT_BUREAU_YEAR  \n",
      "count               265992.000000  \n",
      "mean                     1.899974  \n",
      "std                      1.869295  \n",
      "min                      0.000000  \n",
      "25%                      0.000000  \n",
      "50%                      1.000000  \n",
      "75%                      3.000000  \n",
      "max                     25.000000  \n",
      "\n",
      " Tipe data dataset:\n",
      " SK_ID_CURR                        int64\n",
      "TARGET                            int64\n",
      "NAME_CONTRACT_TYPE               object\n",
      "CODE_GENDER                      object\n",
      "FLAG_OWN_CAR                     object\n",
      "FLAG_OWN_REALTY                  object\n",
      "CNT_CHILDREN                      int64\n",
      "AMT_INCOME_TOTAL                float64\n",
      "AMT_CREDIT                      float64\n",
      "AMT_ANNUITY                     float64\n",
      "AMT_GOODS_PRICE                 float64\n",
      "NAME_TYPE_SUITE                  object\n",
      "NAME_INCOME_TYPE                 object\n",
      "NAME_EDUCATION_TYPE              object\n",
      "NAME_FAMILY_STATUS               object\n",
      "NAME_HOUSING_TYPE                object\n",
      "REGION_POPULATION_RELATIVE      float64\n",
      "DAYS_BIRTH                        int64\n",
      "DAYS_EMPLOYED                     int64\n",
      "DAYS_REGISTRATION               float64\n",
      "DAYS_ID_PUBLISH                   int64\n",
      "OWN_CAR_AGE                     float64\n",
      "FLAG_MOBIL                        int64\n",
      "FLAG_EMP_PHONE                    int64\n",
      "FLAG_WORK_PHONE                   int64\n",
      "FLAG_CONT_MOBILE                  int64\n",
      "FLAG_PHONE                        int64\n",
      "FLAG_EMAIL                        int64\n",
      "OCCUPATION_TYPE                  object\n",
      "CNT_FAM_MEMBERS                 float64\n",
      "REGION_RATING_CLIENT              int64\n",
      "REGION_RATING_CLIENT_W_CITY       int64\n",
      "WEEKDAY_APPR_PROCESS_START       object\n",
      "HOUR_APPR_PROCESS_START           int64\n",
      "REG_REGION_NOT_LIVE_REGION        int64\n",
      "REG_REGION_NOT_WORK_REGION        int64\n",
      "LIVE_REGION_NOT_WORK_REGION       int64\n",
      "REG_CITY_NOT_LIVE_CITY            int64\n",
      "REG_CITY_NOT_WORK_CITY            int64\n",
      "LIVE_CITY_NOT_WORK_CITY           int64\n",
      "ORGANIZATION_TYPE                object\n",
      "EXT_SOURCE_1                    float64\n",
      "EXT_SOURCE_2                    float64\n",
      "EXT_SOURCE_3                    float64\n",
      "APARTMENTS_AVG                  float64\n",
      "BASEMENTAREA_AVG                float64\n",
      "YEARS_BEGINEXPLUATATION_AVG     float64\n",
      "YEARS_BUILD_AVG                 float64\n",
      "COMMONAREA_AVG                  float64\n",
      "ELEVATORS_AVG                   float64\n",
      "ENTRANCES_AVG                   float64\n",
      "FLOORSMAX_AVG                   float64\n",
      "FLOORSMIN_AVG                   float64\n",
      "LANDAREA_AVG                    float64\n",
      "LIVINGAPARTMENTS_AVG            float64\n",
      "LIVINGAREA_AVG                  float64\n",
      "NONLIVINGAPARTMENTS_AVG         float64\n",
      "NONLIVINGAREA_AVG               float64\n",
      "APARTMENTS_MODE                 float64\n",
      "BASEMENTAREA_MODE               float64\n",
      "YEARS_BEGINEXPLUATATION_MODE    float64\n",
      "YEARS_BUILD_MODE                float64\n",
      "COMMONAREA_MODE                 float64\n",
      "ELEVATORS_MODE                  float64\n",
      "ENTRANCES_MODE                  float64\n",
      "FLOORSMAX_MODE                  float64\n",
      "FLOORSMIN_MODE                  float64\n",
      "LANDAREA_MODE                   float64\n",
      "LIVINGAPARTMENTS_MODE           float64\n",
      "LIVINGAREA_MODE                 float64\n",
      "NONLIVINGAPARTMENTS_MODE        float64\n",
      "NONLIVINGAREA_MODE              float64\n",
      "APARTMENTS_MEDI                 float64\n",
      "BASEMENTAREA_MEDI               float64\n",
      "YEARS_BEGINEXPLUATATION_MEDI    float64\n",
      "YEARS_BUILD_MEDI                float64\n",
      "COMMONAREA_MEDI                 float64\n",
      "ELEVATORS_MEDI                  float64\n",
      "ENTRANCES_MEDI                  float64\n",
      "FLOORSMAX_MEDI                  float64\n",
      "FLOORSMIN_MEDI                  float64\n",
      "LANDAREA_MEDI                   float64\n",
      "LIVINGAPARTMENTS_MEDI           float64\n",
      "LIVINGAREA_MEDI                 float64\n",
      "NONLIVINGAPARTMENTS_MEDI        float64\n",
      "NONLIVINGAREA_MEDI              float64\n",
      "FONDKAPREMONT_MODE               object\n",
      "HOUSETYPE_MODE                   object\n",
      "TOTALAREA_MODE                  float64\n",
      "WALLSMATERIAL_MODE               object\n",
      "EMERGENCYSTATE_MODE              object\n",
      "OBS_30_CNT_SOCIAL_CIRCLE        float64\n",
      "DEF_30_CNT_SOCIAL_CIRCLE        float64\n",
      "OBS_60_CNT_SOCIAL_CIRCLE        float64\n",
      "DEF_60_CNT_SOCIAL_CIRCLE        float64\n",
      "DAYS_LAST_PHONE_CHANGE          float64\n",
      "FLAG_DOCUMENT_2                   int64\n",
      "FLAG_DOCUMENT_3                   int64\n",
      "FLAG_DOCUMENT_4                   int64\n",
      "FLAG_DOCUMENT_5                   int64\n",
      "FLAG_DOCUMENT_6                   int64\n",
      "FLAG_DOCUMENT_7                   int64\n",
      "FLAG_DOCUMENT_8                   int64\n",
      "FLAG_DOCUMENT_9                   int64\n",
      "FLAG_DOCUMENT_10                  int64\n",
      "FLAG_DOCUMENT_11                  int64\n",
      "FLAG_DOCUMENT_12                  int64\n",
      "FLAG_DOCUMENT_13                  int64\n",
      "FLAG_DOCUMENT_14                  int64\n",
      "FLAG_DOCUMENT_15                  int64\n",
      "FLAG_DOCUMENT_16                  int64\n",
      "FLAG_DOCUMENT_17                  int64\n",
      "FLAG_DOCUMENT_18                  int64\n",
      "FLAG_DOCUMENT_19                  int64\n",
      "FLAG_DOCUMENT_20                  int64\n",
      "FLAG_DOCUMENT_21                  int64\n",
      "AMT_REQ_CREDIT_BUREAU_HOUR      float64\n",
      "AMT_REQ_CREDIT_BUREAU_DAY       float64\n",
      "AMT_REQ_CREDIT_BUREAU_WEEK      float64\n",
      "AMT_REQ_CREDIT_BUREAU_MON       float64\n",
      "AMT_REQ_CREDIT_BUREAU_QRT       float64\n",
      "AMT_REQ_CREDIT_BUREAU_YEAR      float64\n",
      "dtype: object\n",
      "\n",
      " Dataset info:\n",
      "<class 'pandas.core.frame.DataFrame'>\n",
      "RangeIndex: 307511 entries, 0 to 307510\n",
      "Columns: 122 entries, SK_ID_CURR to AMT_REQ_CREDIT_BUREAU_YEAR\n",
      "dtypes: float64(65), int64(41), object(16)\n",
      "memory usage: 286.2+ MB\n",
      "None\n"
     ]
    }
   ],
   "source": [
    "# Menampilkan info statistik dataset (app_train)\n",
    "print('Ukuran dataset:', app_train.shape)\n",
    "print('\\n Statistik deskriptif:\\n', app_train.describe())\n",
    "print('\\n Tipe data dataset:\\n', app_train.dtypes)\n",
    "print('\\n Dataset info:')\n",
    "print(app_train.info())"
   ]
  },
  {
   "cell_type": "code",
   "execution_count": 5,
   "metadata": {},
   "outputs": [
    {
     "name": "stdout",
     "output_type": "stream",
     "text": [
      "Nilai missing value di dataset:\n",
      "\n",
      "SK_ID_CURR                           0\n",
      "TARGET                               0\n",
      "NAME_CONTRACT_TYPE                   0\n",
      "CODE_GENDER                          0\n",
      "FLAG_OWN_CAR                         0\n",
      "FLAG_OWN_REALTY                      0\n",
      "CNT_CHILDREN                         0\n",
      "AMT_INCOME_TOTAL                     0\n",
      "AMT_CREDIT                           0\n",
      "AMT_ANNUITY                         12\n",
      "AMT_GOODS_PRICE                    278\n",
      "NAME_TYPE_SUITE                   1292\n",
      "NAME_INCOME_TYPE                     0\n",
      "NAME_EDUCATION_TYPE                  0\n",
      "NAME_FAMILY_STATUS                   0\n",
      "NAME_HOUSING_TYPE                    0\n",
      "REGION_POPULATION_RELATIVE           0\n",
      "DAYS_BIRTH                           0\n",
      "DAYS_EMPLOYED                        0\n",
      "DAYS_REGISTRATION                    0\n",
      "DAYS_ID_PUBLISH                      0\n",
      "OWN_CAR_AGE                     202929\n",
      "FLAG_MOBIL                           0\n",
      "FLAG_EMP_PHONE                       0\n",
      "FLAG_WORK_PHONE                      0\n",
      "FLAG_CONT_MOBILE                     0\n",
      "FLAG_PHONE                           0\n",
      "FLAG_EMAIL                           0\n",
      "OCCUPATION_TYPE                  96391\n",
      "CNT_FAM_MEMBERS                      2\n",
      "REGION_RATING_CLIENT                 0\n",
      "REGION_RATING_CLIENT_W_CITY          0\n",
      "WEEKDAY_APPR_PROCESS_START           0\n",
      "HOUR_APPR_PROCESS_START              0\n",
      "REG_REGION_NOT_LIVE_REGION           0\n",
      "REG_REGION_NOT_WORK_REGION           0\n",
      "LIVE_REGION_NOT_WORK_REGION          0\n",
      "REG_CITY_NOT_LIVE_CITY               0\n",
      "REG_CITY_NOT_WORK_CITY               0\n",
      "LIVE_CITY_NOT_WORK_CITY              0\n",
      "ORGANIZATION_TYPE                    0\n",
      "EXT_SOURCE_1                    173378\n",
      "EXT_SOURCE_2                       660\n",
      "EXT_SOURCE_3                     60965\n",
      "APARTMENTS_AVG                  156061\n",
      "BASEMENTAREA_AVG                179943\n",
      "YEARS_BEGINEXPLUATATION_AVG     150007\n",
      "YEARS_BUILD_AVG                 204488\n",
      "COMMONAREA_AVG                  214865\n",
      "ELEVATORS_AVG                   163891\n",
      "ENTRANCES_AVG                   154828\n",
      "FLOORSMAX_AVG                   153020\n",
      "FLOORSMIN_AVG                   208642\n",
      "LANDAREA_AVG                    182590\n",
      "LIVINGAPARTMENTS_AVG            210199\n",
      "LIVINGAREA_AVG                  154350\n",
      "NONLIVINGAPARTMENTS_AVG         213514\n",
      "NONLIVINGAREA_AVG               169682\n",
      "APARTMENTS_MODE                 156061\n",
      "BASEMENTAREA_MODE               179943\n",
      "YEARS_BEGINEXPLUATATION_MODE    150007\n",
      "YEARS_BUILD_MODE                204488\n",
      "COMMONAREA_MODE                 214865\n",
      "ELEVATORS_MODE                  163891\n",
      "ENTRANCES_MODE                  154828\n",
      "FLOORSMAX_MODE                  153020\n",
      "FLOORSMIN_MODE                  208642\n",
      "LANDAREA_MODE                   182590\n",
      "LIVINGAPARTMENTS_MODE           210199\n",
      "LIVINGAREA_MODE                 154350\n",
      "NONLIVINGAPARTMENTS_MODE        213514\n",
      "NONLIVINGAREA_MODE              169682\n",
      "APARTMENTS_MEDI                 156061\n",
      "BASEMENTAREA_MEDI               179943\n",
      "YEARS_BEGINEXPLUATATION_MEDI    150007\n",
      "YEARS_BUILD_MEDI                204488\n",
      "COMMONAREA_MEDI                 214865\n",
      "ELEVATORS_MEDI                  163891\n",
      "ENTRANCES_MEDI                  154828\n",
      "FLOORSMAX_MEDI                  153020\n",
      "FLOORSMIN_MEDI                  208642\n",
      "LANDAREA_MEDI                   182590\n",
      "LIVINGAPARTMENTS_MEDI           210199\n",
      "LIVINGAREA_MEDI                 154350\n",
      "NONLIVINGAPARTMENTS_MEDI        213514\n",
      "NONLIVINGAREA_MEDI              169682\n",
      "FONDKAPREMONT_MODE              210295\n",
      "HOUSETYPE_MODE                  154297\n",
      "TOTALAREA_MODE                  148431\n",
      "WALLSMATERIAL_MODE              156341\n",
      "EMERGENCYSTATE_MODE             145755\n",
      "OBS_30_CNT_SOCIAL_CIRCLE          1021\n",
      "DEF_30_CNT_SOCIAL_CIRCLE          1021\n",
      "OBS_60_CNT_SOCIAL_CIRCLE          1021\n",
      "DEF_60_CNT_SOCIAL_CIRCLE          1021\n",
      "DAYS_LAST_PHONE_CHANGE               1\n",
      "FLAG_DOCUMENT_2                      0\n",
      "FLAG_DOCUMENT_3                      0\n",
      "FLAG_DOCUMENT_4                      0\n",
      "FLAG_DOCUMENT_5                      0\n",
      "FLAG_DOCUMENT_6                      0\n",
      "FLAG_DOCUMENT_7                      0\n",
      "FLAG_DOCUMENT_8                      0\n",
      "FLAG_DOCUMENT_9                      0\n",
      "FLAG_DOCUMENT_10                     0\n",
      "FLAG_DOCUMENT_11                     0\n",
      "FLAG_DOCUMENT_12                     0\n",
      "FLAG_DOCUMENT_13                     0\n",
      "FLAG_DOCUMENT_14                     0\n",
      "FLAG_DOCUMENT_15                     0\n",
      "FLAG_DOCUMENT_16                     0\n",
      "FLAG_DOCUMENT_17                     0\n",
      "FLAG_DOCUMENT_18                     0\n",
      "FLAG_DOCUMENT_19                     0\n",
      "FLAG_DOCUMENT_20                     0\n",
      "FLAG_DOCUMENT_21                     0\n",
      "AMT_REQ_CREDIT_BUREAU_HOUR       41519\n",
      "AMT_REQ_CREDIT_BUREAU_DAY        41519\n",
      "AMT_REQ_CREDIT_BUREAU_WEEK       41519\n",
      "AMT_REQ_CREDIT_BUREAU_MON        41519\n",
      "AMT_REQ_CREDIT_BUREAU_QRT        41519\n",
      "AMT_REQ_CREDIT_BUREAU_YEAR       41519\n",
      "dtype: int64\n",
      "Jumlah nilai missing value keseluruhan: 9152465\n"
     ]
    }
   ],
   "source": [
    "# Mengecek nilai missing value dari dataset\n",
    "print('Nilai missing value di dataset:\\n')\n",
    "print(app_train.isnull().sum())\n",
    "print('Jumlah nilai missing value keseluruhan:', app_train.isnull().sum().sum())"
   ]
  },
  {
   "cell_type": "code",
   "execution_count": 6,
   "metadata": {},
   "outputs": [],
   "source": [
    "# Menyisipkan nilai median pada nilai missing value\n",
    "app_train = app_train.fillna(app_train.median())"
   ]
  },
  {
   "cell_type": "code",
   "execution_count": 7,
   "metadata": {},
   "outputs": [
    {
     "name": "stdout",
     "output_type": "stream",
     "text": [
      "Korelasi dataset:\n",
      "                               SK_ID_CURR    TARGET  CNT_CHILDREN  \\\n",
      "SK_ID_CURR                      1.000000 -0.002108     -0.001129   \n",
      "TARGET                         -0.002108  1.000000      0.019187   \n",
      "CNT_CHILDREN                   -0.001129  0.019187      1.000000   \n",
      "AMT_INCOME_TOTAL               -0.001820 -0.003982      0.012882   \n",
      "AMT_CREDIT                     -0.000343 -0.030369      0.002145   \n",
      "AMT_ANNUITY                    -0.000431 -0.012815      0.021377   \n",
      "AMT_GOODS_PRICE                -0.000258 -0.039623     -0.001856   \n",
      "REGION_POPULATION_RELATIVE      0.000849 -0.037227     -0.025573   \n",
      "DAYS_BIRTH                     -0.001500  0.078239      0.330938   \n",
      "DAYS_EMPLOYED                   0.001366 -0.044932     -0.239818   \n",
      "DAYS_REGISTRATION              -0.000973  0.041975      0.183395   \n",
      "DAYS_ID_PUBLISH                -0.000384  0.051457     -0.028019   \n",
      "OWN_CAR_AGE                     0.001285  0.015982      0.026034   \n",
      "FLAG_MOBIL                      0.002804  0.000534      0.001041   \n",
      "FLAG_EMP_PHONE                 -0.001337  0.045982      0.240714   \n",
      "FLAG_WORK_PHONE                -0.000415  0.028524      0.055630   \n",
      "FLAG_CONT_MOBILE                0.002815  0.000370     -0.000794   \n",
      "FLAG_PHONE                      0.002753 -0.023806     -0.029906   \n",
      "FLAG_EMAIL                      0.000281 -0.001758      0.022619   \n",
      "CNT_FAM_MEMBERS                -0.002895  0.009308      0.879160   \n",
      "REGION_RATING_CLIENT           -0.001075  0.058899      0.025423   \n",
      "REGION_RATING_CLIENT_W_CITY    -0.001138  0.060893      0.024781   \n",
      "HOUR_APPR_PROCESS_START         0.000350 -0.024166     -0.007292   \n",
      "REG_REGION_NOT_LIVE_REGION     -0.000283  0.005576     -0.013319   \n",
      "REG_REGION_NOT_WORK_REGION      0.001097  0.006942      0.008185   \n",
      "LIVE_REGION_NOT_WORK_REGION     0.002903  0.002819      0.014835   \n",
      "REG_CITY_NOT_LIVE_CITY         -0.001885  0.044395      0.020072   \n",
      "REG_CITY_NOT_WORK_CITY         -0.001582  0.050994      0.070650   \n",
      "LIVE_CITY_NOT_WORK_CITY         0.000067  0.032518      0.069957   \n",
      "EXT_SOURCE_1                    0.000060 -0.098887     -0.098389   \n",
      "EXT_SOURCE_2                    0.002319 -0.160295     -0.017990   \n",
      "EXT_SOURCE_3                    0.000184 -0.155892     -0.039543   \n",
      "APARTMENTS_AVG                  0.001366 -0.026734     -0.015757   \n",
      "BASEMENTAREA_AVG               -0.001221 -0.017634     -0.008683   \n",
      "YEARS_BEGINEXPLUATATION_AVG     0.001072 -0.004665      0.006403   \n",
      "YEARS_BUILD_AVG                 0.003421 -0.011281      0.016952   \n",
      "COMMONAREA_AVG                 -0.000622 -0.016194     -0.005992   \n",
      "ELEVATORS_AVG                   0.003612 -0.035853     -0.019151   \n",
      "ENTRANCES_AVG                  -0.001928 -0.015984     -0.008674   \n",
      "FLOORSMAX_AVG                   0.003550 -0.039385     -0.016865   \n",
      "FLOORSMIN_AVG                   0.001735 -0.021158     -0.007753   \n",
      "LANDAREA_AVG                    0.001069 -0.012047     -0.006913   \n",
      "LIVINGAPARTMENTS_AVG            0.001895 -0.019262     -0.010012   \n",
      "LIVINGAREA_AVG                  0.001512 -0.029464     -0.014239   \n",
      "NONLIVINGAPARTMENTS_AVG        -0.001444 -0.005910     -0.001729   \n",
      "NONLIVINGAREA_AVG               0.002163 -0.018187     -0.008905   \n",
      "APARTMENTS_MODE                 0.001649 -0.025418     -0.015136   \n",
      "BASEMENTAREA_MODE              -0.000793 -0.016136     -0.008860   \n",
      "YEARS_BEGINEXPLUATATION_MODE    0.001312 -0.004061      0.006058   \n",
      "YEARS_BUILD_MODE                0.003043 -0.010648      0.017108   \n",
      "COMMONAREA_MODE                -0.000403 -0.015238     -0.005972   \n",
      "ELEVATORS_MODE                  0.003711 -0.034220     -0.018273   \n",
      "ENTRANCES_MODE                 -0.001945 -0.013515     -0.006496   \n",
      "FLOORSMAX_MODE                  0.003233 -0.038377     -0.016196   \n",
      "FLOORSMIN_MODE                  0.001174 -0.020147     -0.006889   \n",
      "LANDAREA_MODE                   0.001127 -0.011860     -0.006585   \n",
      "LIVINGAPARTMENTS_MODE           0.002158 -0.018829     -0.010021   \n",
      "LIVINGAREA_MODE                 0.001776 -0.027884     -0.013762   \n",
      "NONLIVINGAPARTMENTS_MODE       -0.001087 -0.004859     -0.001511   \n",
      "NONLIVINGAREA_MODE              0.001439 -0.017984     -0.009082   \n",
      "APARTMENTS_MEDI                 0.001675 -0.026841     -0.015904   \n",
      "BASEMENTAREA_MEDI              -0.000949 -0.017255     -0.008900   \n",
      "YEARS_BEGINEXPLUATATION_MEDI    0.000941 -0.004872      0.006037   \n",
      "YEARS_BUILD_MEDI                0.003350 -0.011364      0.016936   \n",
      "COMMONAREA_MEDI                -0.000393 -0.016266     -0.005816   \n",
      "ELEVATORS_MEDI                  0.003742 -0.035552     -0.018844   \n",
      "ENTRANCES_MEDI                 -0.001725 -0.015734     -0.008519   \n",
      "FLOORSMAX_MEDI                  0.003371 -0.039157     -0.016611   \n",
      "FLOORSMIN_MEDI                  0.001597 -0.020995     -0.007432   \n",
      "LANDAREA_MEDI                   0.001217 -0.012269     -0.006738   \n",
      "LIVINGAPARTMENTS_MEDI           0.001980 -0.019138     -0.009736   \n",
      "LIVINGAREA_MEDI                 0.001814 -0.029359     -0.014271   \n",
      "NONLIVINGAPARTMENTS_MEDI       -0.001687 -0.005650     -0.001644   \n",
      "NONLIVINGAREA_MEDI              0.001774 -0.018094     -0.008935   \n",
      "TOTALAREA_MODE                  0.001861 -0.030214     -0.013467   \n",
      "OBS_30_CNT_SOCIAL_CIRCLE       -0.001413  0.009447      0.015662   \n",
      "DEF_30_CNT_SOCIAL_CIRCLE       -0.000085  0.032394     -0.001205   \n",
      "OBS_60_CNT_SOCIAL_CIRCLE       -0.001427  0.009337      0.015302   \n",
      "DEF_60_CNT_SOCIAL_CIRCLE        0.001182  0.031401     -0.001811   \n",
      "DAYS_LAST_PHONE_CHANGE         -0.000859  0.055218     -0.005866   \n",
      "FLAG_DOCUMENT_2                 0.000700  0.005417      0.001786   \n",
      "FLAG_DOCUMENT_3                -0.003411  0.044346      0.056837   \n",
      "FLAG_DOCUMENT_4                -0.004139 -0.002672     -0.003709   \n",
      "FLAG_DOCUMENT_5                -0.001097 -0.000316     -0.016737   \n",
      "FLAG_DOCUMENT_6                 0.002121 -0.028602     -0.157024   \n",
      "FLAG_DOCUMENT_7                -0.002694 -0.001520     -0.001498   \n",
      "FLAG_DOCUMENT_8                 0.001809 -0.008040      0.051697   \n",
      "FLAG_DOCUMENT_9                 0.001505 -0.004352     -0.001997   \n",
      "FLAG_DOCUMENT_10               -0.000815 -0.001414     -0.002756   \n",
      "FLAG_DOCUMENT_11               -0.002012 -0.004229     -0.005318   \n",
      "FLAG_DOCUMENT_12               -0.001045 -0.000756      0.000293   \n",
      "FLAG_DOCUMENT_13                0.000896 -0.011583      0.003945   \n",
      "FLAG_DOCUMENT_14               -0.001077 -0.009464     -0.005459   \n",
      "FLAG_DOCUMENT_15                0.002604 -0.006536      0.003609   \n",
      "FLAG_DOCUMENT_16               -0.000724 -0.011615      0.010662   \n",
      "FLAG_DOCUMENT_17                0.001450 -0.003378      0.000773   \n",
      "FLAG_DOCUMENT_18                0.000509 -0.007952      0.004031   \n",
      "FLAG_DOCUMENT_19                0.000167 -0.001358      0.000864   \n",
      "FLAG_DOCUMENT_20                0.001073  0.000215      0.000988   \n",
      "FLAG_DOCUMENT_21                0.000282  0.003709     -0.002450   \n",
      "AMT_REQ_CREDIT_BUREAU_HOUR     -0.002517 -0.000074      0.000159   \n",
      "AMT_REQ_CREDIT_BUREAU_DAY      -0.002066  0.001701      0.000107   \n",
      "AMT_REQ_CREDIT_BUREAU_WEEK      0.001879 -0.001306     -0.001083   \n",
      "AMT_REQ_CREDIT_BUREAU_MON       0.000328 -0.014794     -0.007983   \n",
      "AMT_REQ_CREDIT_BUREAU_QRT       0.000809 -0.005833     -0.004913   \n",
      "AMT_REQ_CREDIT_BUREAU_YEAR      0.004071  0.012161     -0.034874   \n",
      "\n",
      "                              AMT_INCOME_TOTAL  AMT_CREDIT  AMT_ANNUITY  \\\n",
      "SK_ID_CURR                           -0.001820   -0.000343    -0.000431   \n",
      "TARGET                               -0.003982   -0.030369    -0.012815   \n",
      "CNT_CHILDREN                          0.012882    0.002145     0.021377   \n",
      "AMT_INCOME_TOTAL                      1.000000    0.156870     0.191657   \n",
      "AMT_CREDIT                            0.156870    1.000000     0.770127   \n",
      "AMT_ANNUITY                           0.191657    0.770127     1.000000   \n",
      "AMT_GOODS_PRICE                       0.159632    0.986734     0.774837   \n",
      "REGION_POPULATION_RELATIVE            0.074796    0.099738     0.118418   \n",
      "DAYS_BIRTH                            0.027261   -0.055436     0.009443   \n",
      "DAYS_EMPLOYED                        -0.064223   -0.066838    -0.104329   \n",
      "DAYS_REGISTRATION                     0.027805    0.009621     0.038514   \n",
      "DAYS_ID_PUBLISH                       0.008506   -0.006575     0.011267   \n",
      "OWN_CAR_AGE                          -0.022694   -0.034298    -0.031126   \n",
      "FLAG_MOBIL                            0.000325    0.001436     0.000149   \n",
      "FLAG_EMP_PHONE                        0.063994    0.065519     0.103530   \n",
      "FLAG_WORK_PHONE                      -0.017193   -0.021085    -0.024805   \n",
      "FLAG_CONT_MOBILE                     -0.008290    0.023653     0.022349   \n",
      "FLAG_PHONE                            0.000159    0.026213     0.010799   \n",
      "FLAG_EMAIL                            0.038378    0.016632     0.071707   \n",
      "CNT_FAM_MEMBERS                       0.016341    0.063160     0.075541   \n",
      "REGION_RATING_CLIENT                 -0.085465   -0.101776    -0.128516   \n",
      "REGION_RATING_CLIENT_W_CITY          -0.091735   -0.110915    -0.141674   \n",
      "HOUR_APPR_PROCESS_START               0.036459    0.052738     0.052265   \n",
      "REG_REGION_NOT_LIVE_REGION            0.031191    0.024010     0.041291   \n",
      "REG_REGION_NOT_WORK_REGION            0.062340    0.051929     0.079403   \n",
      "LIVE_REGION_NOT_WORK_REGION           0.058059    0.052609     0.074530   \n",
      "REG_CITY_NOT_LIVE_CITY                0.003574   -0.026886    -0.006217   \n",
      "REG_CITY_NOT_WORK_CITY                0.006431   -0.018856     0.000894   \n",
      "LIVE_CITY_NOT_WORK_CITY               0.008285    0.000081     0.010080   \n",
      "EXT_SOURCE_1                          0.024389    0.113983     0.080747   \n",
      "EXT_SOURCE_2                          0.060855    0.130930     0.125509   \n",
      "EXT_SOURCE_3                         -0.030737    0.036640     0.026738   \n",
      "APARTMENTS_AVG                        0.041421    0.054396     0.067905   \n",
      "BASEMENTAREA_AVG                      0.021243    0.032349     0.036666   \n",
      "YEARS_BEGINEXPLUATATION_AVG           0.003088    0.002088     0.006941   \n",
      "YEARS_BUILD_AVG                       0.010500    0.020957     0.019836   \n",
      "COMMONAREA_AVG                        0.031140    0.039192     0.045242   \n",
      "ELEVATORS_AVG                         0.058658    0.076643     0.094236   \n",
      "ENTRANCES_AVG                         0.009227    0.015712     0.016466   \n",
      "FLOORSMAX_AVG                         0.068419    0.089300     0.111618   \n",
      "FLOORSMIN_AVG                         0.040979    0.052741     0.066143   \n",
      "LANDAREA_AVG                          0.005443    0.012085     0.014209   \n",
      "LIVINGAPARTMENTS_AVG                  0.035234    0.044497     0.055585   \n",
      "LIVINGAREA_AVG                        0.046846    0.063106     0.078046   \n",
      "NONLIVINGAPARTMENTS_AVG               0.013067    0.015342     0.020318   \n",
      "NONLIVINGAREA_AVG                     0.033655    0.040013     0.050300   \n",
      "APARTMENTS_MODE                       0.037378    0.049245     0.060978   \n",
      "BASEMENTAREA_MODE                     0.017280    0.027197     0.030149   \n",
      "YEARS_BEGINEXPLUATATION_MODE          0.002563    0.000817     0.006154   \n",
      "YEARS_BUILD_MODE                      0.008407    0.018554     0.016754   \n",
      "COMMONAREA_MODE                       0.027894    0.035367     0.040675   \n",
      "ELEVATORS_MODE                        0.054726    0.072264     0.088196   \n",
      "ENTRANCES_MODE                        0.004454    0.009797     0.008866   \n",
      "FLOORSMAX_MODE                        0.065618    0.086689     0.108218   \n",
      "FLOORSMIN_MODE                        0.038214    0.049908     0.062004   \n",
      "LANDAREA_MODE                         0.003827    0.009999     0.011293   \n",
      "LIVINGAPARTMENTS_MODE                 0.032221    0.040712     0.050633   \n",
      "LIVINGAREA_MODE                       0.042072    0.057240     0.070517   \n",
      "NONLIVINGAPARTMENTS_MODE              0.011645    0.013094     0.017271   \n",
      "NONLIVINGAREA_MODE                    0.030200    0.036714     0.045209   \n",
      "APARTMENTS_MEDI                       0.041134    0.053541     0.066766   \n",
      "BASEMENTAREA_MEDI                     0.020406    0.031064     0.035307   \n",
      "YEARS_BEGINEXPLUATATION_MEDI          0.003105    0.001768     0.006720   \n",
      "YEARS_BUILD_MEDI                      0.010396    0.020762     0.019517   \n",
      "COMMONAREA_MEDI                       0.030800    0.038739     0.044916   \n",
      "ELEVATORS_MEDI                        0.057776    0.075508     0.092862   \n",
      "ENTRANCES_MEDI                        0.008466    0.014588     0.015128   \n",
      "FLOORSMAX_MEDI                        0.067895    0.088842     0.110813   \n",
      "FLOORSMIN_MEDI                        0.040563    0.052393     0.065361   \n",
      "LANDAREA_MEDI                         0.005178    0.011564     0.013625   \n",
      "LIVINGAPARTMENTS_MEDI                 0.034831    0.043621     0.054422   \n",
      "LIVINGAREA_MEDI                       0.046258    0.062258     0.077032   \n",
      "NONLIVINGAPARTMENTS_MEDI              0.012649    0.014711     0.019751   \n",
      "NONLIVINGAREA_MEDI                    0.032597    0.038689     0.048615   \n",
      "TOTALAREA_MODE                        0.049422    0.065627     0.081015   \n",
      "OBS_30_CNT_SOCIAL_CIRCLE             -0.013495    0.000895    -0.011352   \n",
      "DEF_30_CNT_SOCIAL_CIRCLE             -0.013454   -0.020811    -0.022445   \n",
      "OBS_60_CNT_SOCIAL_CIRCLE             -0.013411    0.000942    -0.011099   \n",
      "DEF_60_CNT_SOCIAL_CIRCLE             -0.013314   -0.023399    -0.023655   \n",
      "DAYS_LAST_PHONE_CHANGE               -0.018585   -0.073702    -0.063746   \n",
      "FLAG_DOCUMENT_2                      -0.001000    0.008905     0.003397   \n",
      "FLAG_DOCUMENT_3                      -0.016751    0.096365     0.102842   \n",
      "FLAG_DOCUMENT_4                       0.000529    0.000630     0.001109   \n",
      "FLAG_DOCUMENT_5                       0.001507   -0.011756    -0.006661   \n",
      "FLAG_DOCUMENT_6                      -0.045878   -0.046717    -0.073895   \n",
      "FLAG_DOCUMENT_7                       0.003825   -0.004040    -0.002272   \n",
      "FLAG_DOCUMENT_8                       0.072451    0.082819     0.130577   \n",
      "FLAG_DOCUMENT_9                       0.018389    0.022602     0.033692   \n",
      "FLAG_DOCUMENT_10                      0.000290   -0.003100    -0.003369   \n",
      "FLAG_DOCUMENT_11                      0.002315    0.028986    -0.003668   \n",
      "FLAG_DOCUMENT_12                      0.002540    0.003857     0.000847   \n",
      "FLAG_DOCUMENT_13                      0.022747    0.052429     0.025116   \n",
      "FLAG_DOCUMENT_14                      0.020708    0.048828     0.036857   \n",
      "FLAG_DOCUMENT_15                      0.010793    0.032252     0.016125   \n",
      "FLAG_DOCUMENT_16                      0.007269    0.061925     0.007199   \n",
      "FLAG_DOCUMENT_17                      0.002230    0.011743     0.003191   \n",
      "FLAG_DOCUMENT_18                      0.003130    0.034329    -0.009744   \n",
      "FLAG_DOCUMENT_19                      0.002408    0.021082     0.004573   \n",
      "FLAG_DOCUMENT_20                      0.000242    0.031023     0.011718   \n",
      "FLAG_DOCUMENT_21                     -0.000589   -0.016148    -0.017598   \n",
      "AMT_REQ_CREDIT_BUREAU_HOUR            0.001432   -0.002366     0.003888   \n",
      "AMT_REQ_CREDIT_BUREAU_DAY             0.003481    0.005028     0.002286   \n",
      "AMT_REQ_CREDIT_BUREAU_WEEK            0.003950    0.001634     0.013494   \n",
      "AMT_REQ_CREDIT_BUREAU_MON             0.026746    0.055536     0.037171   \n",
      "AMT_REQ_CREDIT_BUREAU_QRT             0.007924    0.020379     0.010685   \n",
      "AMT_REQ_CREDIT_BUREAU_YEAR            0.015821   -0.036634    -0.008286   \n",
      "\n",
      "                              AMT_GOODS_PRICE  REGION_POPULATION_RELATIVE  \\\n",
      "SK_ID_CURR                          -0.000258                    0.000849   \n",
      "TARGET                              -0.039623                   -0.037227   \n",
      "CNT_CHILDREN                        -0.001856                   -0.025573   \n",
      "AMT_INCOME_TOTAL                     0.159632                    0.074796   \n",
      "AMT_CREDIT                           0.986734                    0.099738   \n",
      "AMT_ANNUITY                          0.774837                    0.118418   \n",
      "AMT_GOODS_PRICE                      1.000000                    0.103519   \n",
      "REGION_POPULATION_RELATIVE           0.103519                    1.000000   \n",
      "DAYS_BIRTH                          -0.053510                   -0.029582   \n",
      "DAYS_EMPLOYED                       -0.064767                   -0.003980   \n",
      "DAYS_REGISTRATION                    0.011546                   -0.053820   \n",
      "DAYS_ID_PUBLISH                     -0.009289                   -0.003993   \n",
      "OWN_CAR_AGE                         -0.039778                   -0.039282   \n",
      "FLAG_MOBIL                           0.001398                    0.001333   \n",
      "FLAG_EMP_PHONE                       0.063412                    0.004045   \n",
      "FLAG_WORK_PHONE                      0.000787                   -0.015628   \n",
      "FLAG_CONT_MOBILE                     0.020696                   -0.012478   \n",
      "FLAG_PHONE                           0.041921                    0.090939   \n",
      "FLAG_EMAIL                           0.017031                    0.040012   \n",
      "CNT_FAM_MEMBERS                      0.061138                   -0.024209   \n",
      "REGION_RATING_CLIENT                -0.103759                   -0.532877   \n",
      "REGION_RATING_CLIENT_W_CITY         -0.112185                   -0.531535   \n",
      "HOUR_APPR_PROCESS_START              0.062269                    0.171285   \n",
      "REG_REGION_NOT_LIVE_REGION           0.026119                    0.002118   \n",
      "REG_REGION_NOT_WORK_REGION           0.053146                    0.056944   \n",
      "LIVE_REGION_NOT_WORK_REGION          0.052829                    0.081016   \n",
      "REG_CITY_NOT_LIVE_CITY              -0.027206                   -0.050499   \n",
      "REG_CITY_NOT_WORK_CITY              -0.020348                   -0.044057   \n",
      "LIVE_CITY_NOT_WORK_CITY             -0.001334                   -0.015188   \n",
      "EXT_SOURCE_1                         0.119068                    0.066912   \n",
      "EXT_SOURCE_2                         0.138997                    0.198725   \n",
      "EXT_SOURCE_3                         0.040440                   -0.004507   \n",
      "APARTMENTS_AVG                       0.058741                    0.180877   \n",
      "BASEMENTAREA_AVG                     0.035806                    0.086732   \n",
      "YEARS_BEGINEXPLUATATION_AVG          0.002620                   -0.010035   \n",
      "YEARS_BUILD_AVG                      0.024686                   -0.041009   \n",
      "COMMONAREA_AVG                       0.039207                    0.134121   \n",
      "ELEVATORS_AVG                        0.081039                    0.250301   \n",
      "ENTRANCES_AVG                        0.019001                    0.038340   \n",
      "FLOORSMAX_AVG                        0.094610                    0.276557   \n",
      "FLOORSMIN_AVG                        0.054065                    0.211433   \n",
      "LANDAREA_AVG                         0.016949                   -0.020479   \n",
      "LIVINGAPARTMENTS_AVG                 0.045911                    0.152481   \n",
      "LIVINGAREA_AVG                       0.068040                    0.186474   \n",
      "NONLIVINGAPARTMENTS_AVG              0.015701                    0.034105   \n",
      "NONLIVINGAREA_AVG                    0.044217                    0.087634   \n",
      "APARTMENTS_MODE                      0.053560                    0.157104   \n",
      "BASEMENTAREA_MODE                    0.030538                    0.062990   \n",
      "YEARS_BEGINEXPLUATATION_MODE         0.001327                   -0.010512   \n",
      "YEARS_BUILD_MODE                     0.022231                   -0.048061   \n",
      "COMMONAREA_MODE                      0.035242                    0.113239   \n",
      "ELEVATORS_MODE                       0.076674                    0.228910   \n",
      "ENTRANCES_MODE                       0.013024                    0.018298   \n",
      "FLOORSMAX_MODE                       0.091864                    0.261683   \n",
      "FLOORSMIN_MODE                       0.051096                    0.197072   \n",
      "LANDAREA_MODE                        0.014706                   -0.026459   \n",
      "LIVINGAPARTMENTS_MODE                0.041826                    0.133360   \n",
      "LIVINGAREA_MODE                      0.062153                    0.161049   \n",
      "NONLIVINGAPARTMENTS_MODE             0.013293                    0.028078   \n",
      "NONLIVINGAREA_MODE                   0.040926                    0.070148   \n",
      "APARTMENTS_MEDI                      0.057935                    0.177982   \n",
      "BASEMENTAREA_MEDI                    0.034481                    0.083551   \n",
      "YEARS_BEGINEXPLUATATION_MEDI         0.002360                   -0.009984   \n",
      "YEARS_BUILD_MEDI                     0.024450                   -0.041895   \n",
      "COMMONAREA_MEDI                      0.038740                    0.131481   \n",
      "ELEVATORS_MEDI                       0.079931                    0.245688   \n",
      "ENTRANCES_MEDI                       0.017900                    0.035383   \n",
      "FLOORSMAX_MEDI                       0.094106                    0.273161   \n",
      "FLOORSMIN_MEDI                       0.053667                    0.208852   \n",
      "LANDAREA_MEDI                        0.016464                   -0.021457   \n",
      "LIVINGAPARTMENTS_MEDI                0.045019                    0.149347   \n",
      "LIVINGAREA_MEDI                      0.067199                    0.183379   \n",
      "NONLIVINGAPARTMENTS_MEDI             0.015025                    0.032324   \n",
      "NONLIVINGAREA_MEDI                   0.042903                    0.081351   \n",
      "TOTALAREA_MODE                       0.070261                    0.182032   \n",
      "OBS_30_CNT_SOCIAL_CIRCLE             0.000788                   -0.012021   \n",
      "DEF_30_CNT_SOCIAL_CIRCLE            -0.021949                    0.005817   \n",
      "OBS_60_CNT_SOCIAL_CIRCLE             0.000806                   -0.011498   \n",
      "DEF_60_CNT_SOCIAL_CIRCLE            -0.024245                    0.001974   \n",
      "DAYS_LAST_PHONE_CHANGE              -0.076294                   -0.044014   \n",
      "FLAG_DOCUMENT_2                      0.010775                   -0.003040   \n",
      "FLAG_DOCUMENT_3                      0.075040                   -0.084644   \n",
      "FLAG_DOCUMENT_4                      0.001115                    0.008102   \n",
      "FLAG_DOCUMENT_5                     -0.005995                    0.016032   \n",
      "FLAG_DOCUMENT_6                     -0.050169                    0.000728   \n",
      "FLAG_DOCUMENT_7                     -0.000724                    0.002436   \n",
      "FLAG_DOCUMENT_8                      0.080511                    0.088523   \n",
      "FLAG_DOCUMENT_9                      0.022477                    0.038434   \n",
      "FLAG_DOCUMENT_10                    -0.002138                    0.001992   \n",
      "FLAG_DOCUMENT_11                     0.035137                    0.024632   \n",
      "FLAG_DOCUMENT_12                     0.004067                   -0.000404   \n",
      "FLAG_DOCUMENT_13                     0.052369                    0.031186   \n",
      "FLAG_DOCUMENT_14                     0.048760                    0.032202   \n",
      "FLAG_DOCUMENT_15                     0.032939                    0.009446   \n",
      "FLAG_DOCUMENT_16                     0.058325                    0.006313   \n",
      "FLAG_DOCUMENT_17                     0.012142                    0.007414   \n",
      "FLAG_DOCUMENT_18                     0.032767                    0.013367   \n",
      "FLAG_DOCUMENT_19                     0.020284                    0.002364   \n",
      "FLAG_DOCUMENT_20                     0.031644                   -0.000045   \n",
      "FLAG_DOCUMENT_21                    -0.014426                    0.003437   \n",
      "AMT_REQ_CREDIT_BUREAU_HOUR          -0.001743                   -0.002216   \n",
      "AMT_REQ_CREDIT_BUREAU_DAY            0.005442                    0.001160   \n",
      "AMT_REQ_CREDIT_BUREAU_WEEK           0.001880                   -0.002335   \n",
      "AMT_REQ_CREDIT_BUREAU_MON            0.057337                    0.071630   \n",
      "AMT_REQ_CREDIT_BUREAU_QRT            0.020811                   -0.001873   \n",
      "AMT_REQ_CREDIT_BUREAU_YEAR          -0.038979                   -0.000085   \n",
      "\n",
      "                              DAYS_BIRTH  DAYS_EMPLOYED  DAYS_REGISTRATION  \\\n",
      "SK_ID_CURR                     -0.001500       0.001366          -0.000973   \n",
      "TARGET                          0.078239      -0.044932           0.041975   \n",
      "CNT_CHILDREN                    0.330938      -0.239818           0.183395   \n",
      "AMT_INCOME_TOTAL                0.027261      -0.064223           0.027805   \n",
      "AMT_CREDIT                     -0.055436      -0.066838           0.009621   \n",
      "AMT_ANNUITY                     0.009443      -0.104329           0.038514   \n",
      "AMT_GOODS_PRICE                -0.053510      -0.064767           0.011546   \n",
      "REGION_POPULATION_RELATIVE     -0.029582      -0.003980          -0.053820   \n",
      "DAYS_BIRTH                      1.000000      -0.615864           0.331912   \n",
      "DAYS_EMPLOYED                  -0.615864       1.000000          -0.210242   \n",
      "DAYS_REGISTRATION               0.331912      -0.210242           1.000000   \n",
      "DAYS_ID_PUBLISH                 0.272691      -0.272378           0.101896   \n",
      "OWN_CAR_AGE                     0.029456      -0.018784           0.004156   \n",
      "FLAG_MOBIL                     -0.003084       0.000818          -0.000100   \n",
      "FLAG_EMP_PHONE                  0.619888      -0.999755           0.212361   \n",
      "FLAG_WORK_PHONE                 0.172457      -0.233972           0.058283   \n",
      "FLAG_CONT_MOBILE               -0.014985       0.012745          -0.003848   \n",
      "FLAG_PHONE                     -0.042402       0.015291          -0.075188   \n",
      "FLAG_EMAIL                      0.088208      -0.062112           0.034388   \n",
      "CNT_FAM_MEMBERS                 0.278892      -0.233549           0.173415   \n",
      "REGION_RATING_CLIENT            0.009361       0.032750           0.080210   \n",
      "REGION_RATING_CLIENT_W_CITY     0.008073       0.034624           0.074038   \n",
      "HOUR_APPR_PROCESS_START         0.091064      -0.091138          -0.010908   \n",
      "REG_REGION_NOT_LIVE_REGION      0.065486      -0.035803           0.028213   \n",
      "REG_REGION_NOT_WORK_REGION      0.095819      -0.107150           0.036787   \n",
      "LIVE_REGION_NOT_WORK_REGION     0.069567      -0.095539           0.027560   \n",
      "REG_CITY_NOT_LIVE_CITY          0.180382      -0.090516           0.064334   \n",
      "REG_CITY_NOT_WORK_CITY          0.242401      -0.254559           0.099874   \n",
      "LIVE_CITY_NOT_WORK_CITY         0.158882      -0.218101           0.072658   \n",
      "EXT_SOURCE_1                   -0.362185       0.149234          -0.111284   \n",
      "EXT_SOURCE_2                   -0.091947      -0.020652          -0.059924   \n",
      "EXT_SOURCE_3                   -0.178527       0.101525          -0.096033   \n",
      "APARTMENTS_AVG                 -0.000421      -0.013268          -0.003339   \n",
      "BASEMENTAREA_AVG               -0.005027      -0.001932          -0.020982   \n",
      "YEARS_BEGINEXPLUATATION_AVG     0.001402       0.006636           0.011329   \n",
      "YEARS_BUILD_AVG                 0.015811      -0.003248           0.099166   \n",
      "COMMONAREA_AVG                  0.000239      -0.008006           0.003256   \n",
      "ELEVATORS_AVG                  -0.008773      -0.010248          -0.024797   \n",
      "ENTRANCES_AVG                  -0.008859       0.001920          -0.051219   \n",
      "FLOORSMAX_AVG                  -0.004346      -0.013756           0.015464   \n",
      "FLOORSMIN_AVG                  -0.001262      -0.009520           0.006424   \n",
      "LANDAREA_AVG                   -0.001095      -0.007704          -0.008055   \n",
      "LIVINGAPARTMENTS_AVG            0.002499      -0.012207           0.002960   \n",
      "LIVINGAREA_AVG                 -0.004132      -0.010832          -0.008863   \n",
      "NONLIVINGAPARTMENTS_AVG        -0.001279      -0.003435           0.011983   \n",
      "NONLIVINGAREA_AVG              -0.001154      -0.011062           0.016911   \n",
      "APARTMENTS_MODE                -0.000355      -0.012116          -0.003859   \n",
      "BASEMENTAREA_MODE              -0.005066      -0.001253          -0.020805   \n",
      "YEARS_BEGINEXPLUATATION_MODE    0.001446       0.006680           0.009919   \n",
      "YEARS_BUILD_MODE                0.015694      -0.002699           0.099247   \n",
      "COMMONAREA_MODE                 0.000827      -0.008297           0.003450   \n",
      "ELEVATORS_MODE                 -0.008158      -0.009524          -0.022647   \n",
      "ENTRANCES_MODE                 -0.007606       0.002912          -0.046941   \n",
      "FLOORSMAX_MODE                 -0.004267      -0.013024           0.016677   \n",
      "FLOORSMIN_MODE                 -0.001266      -0.009167           0.006702   \n",
      "LANDAREA_MODE                  -0.000729      -0.007241          -0.008323   \n",
      "LIVINGAPARTMENTS_MODE           0.002533      -0.011916           0.001626   \n",
      "LIVINGAREA_MODE                -0.003870      -0.009720          -0.008669   \n",
      "NONLIVINGAPARTMENTS_MODE       -0.000707      -0.003489           0.011001   \n",
      "NONLIVINGAREA_MODE             -0.001439      -0.010413           0.015098   \n",
      "APARTMENTS_MEDI                -0.000375      -0.013259          -0.003717   \n",
      "BASEMENTAREA_MEDI              -0.005001      -0.002033          -0.021522   \n",
      "YEARS_BEGINEXPLUATATION_MEDI    0.001420       0.006469           0.011281   \n",
      "YEARS_BUILD_MEDI                0.015946      -0.003436           0.099097   \n",
      "COMMONAREA_MEDI                 0.000629      -0.008269           0.003649   \n",
      "ELEVATORS_MEDI                 -0.008613      -0.010238          -0.023946   \n",
      "ENTRANCES_MEDI                 -0.008501       0.002045          -0.050614   \n",
      "FLOORSMAX_MEDI                 -0.004191      -0.013793           0.015919   \n",
      "FLOORSMIN_MEDI                 -0.001119      -0.009756           0.006622   \n",
      "LANDAREA_MEDI                  -0.000892      -0.007717          -0.008154   \n",
      "LIVINGAPARTMENTS_MEDI           0.002777      -0.012305           0.003162   \n",
      "LIVINGAREA_MEDI                -0.003867      -0.010981          -0.008629   \n",
      "NONLIVINGAPARTMENTS_MEDI       -0.001294      -0.003417           0.011603   \n",
      "NONLIVINGAREA_MEDI             -0.000786      -0.011150           0.017423   \n",
      "TOTALAREA_MODE                 -0.003221      -0.012963          -0.001085   \n",
      "OBS_30_CNT_SOCIAL_CIRCLE        0.007280       0.005781           0.009119   \n",
      "DEF_30_CNT_SOCIAL_CIRCLE        0.000136       0.016720           0.003363   \n",
      "OBS_60_CNT_SOCIAL_CIRCLE        0.006878       0.005934           0.009083   \n",
      "DEF_60_CNT_SOCIAL_CIRCLE        0.001861       0.014215           0.004537   \n",
      "DAYS_LAST_PHONE_CHANGE          0.082940       0.023032           0.056983   \n",
      "FLAG_DOCUMENT_2                -0.001191      -0.003090          -0.004466   \n",
      "FLAG_DOCUMENT_3                 0.109666      -0.249082           0.033740   \n",
      "FLAG_DOCUMENT_4                -0.002789       0.000437          -0.004221   \n",
      "FLAG_DOCUMENT_5                 0.016774      -0.020041          -0.001243   \n",
      "FLAG_DOCUMENT_6                -0.407160       0.597484          -0.137769   \n",
      "FLAG_DOCUMENT_7                 0.001469      -0.002221           0.001366   \n",
      "FLAG_DOCUMENT_8                 0.113243      -0.121571           0.057041   \n",
      "FLAG_DOCUMENT_9                 0.018213      -0.023834           0.009898   \n",
      "FLAG_DOCUMENT_10               -0.000168      -0.000439           0.000292   \n",
      "FLAG_DOCUMENT_11                0.044716      -0.028915           0.014731   \n",
      "FLAG_DOCUMENT_12                0.000236      -0.001225           0.001682   \n",
      "FLAG_DOCUMENT_13                0.026333      -0.025778           0.015470   \n",
      "FLAG_DOCUMENT_14                0.030733      -0.023383           0.011636   \n",
      "FLAG_DOCUMENT_15                0.012953      -0.014285           0.008195   \n",
      "FLAG_DOCUMENT_16                0.024044      -0.042905           0.025935   \n",
      "FLAG_DOCUMENT_17                0.007877      -0.007187           0.002102   \n",
      "FLAG_DOCUMENT_18                0.044498      -0.040396           0.017040   \n",
      "FLAG_DOCUMENT_19                0.003614      -0.010040           0.004764   \n",
      "FLAG_DOCUMENT_20                0.009015      -0.010135           0.006971   \n",
      "FLAG_DOCUMENT_21                0.027282      -0.008396           0.003859   \n",
      "AMT_REQ_CREDIT_BUREAU_HOUR      0.003581      -0.004553          -0.002685   \n",
      "AMT_REQ_CREDIT_BUREAU_DAY       0.001018       0.000309          -0.000498   \n",
      "AMT_REQ_CREDIT_BUREAU_WEEK     -0.004014       0.002505          -0.001060   \n",
      "AMT_REQ_CREDIT_BUREAU_MON      -0.003580      -0.032416          -0.010617   \n",
      "AMT_REQ_CREDIT_BUREAU_QRT      -0.016281       0.013466          -0.001340   \n",
      "AMT_REQ_CREDIT_BUREAU_YEAR     -0.072990       0.044747          -0.022911   \n",
      "\n",
      "                              DAYS_ID_PUBLISH  OWN_CAR_AGE  FLAG_MOBIL  \\\n",
      "SK_ID_CURR                          -0.000384     0.001285    0.002804   \n",
      "TARGET                               0.051457     0.015982    0.000534   \n",
      "CNT_CHILDREN                        -0.028019     0.026034    0.001041   \n",
      "AMT_INCOME_TOTAL                     0.008506    -0.022694    0.000325   \n",
      "AMT_CREDIT                          -0.006575    -0.034298    0.001436   \n",
      "AMT_ANNUITY                          0.011267    -0.031126    0.000149   \n",
      "AMT_GOODS_PRICE                     -0.009289    -0.039778    0.001398   \n",
      "REGION_POPULATION_RELATIVE          -0.003993    -0.039282    0.001333   \n",
      "DAYS_BIRTH                           0.272691     0.029456   -0.003084   \n",
      "DAYS_EMPLOYED                       -0.272378    -0.018784    0.000818   \n",
      "DAYS_REGISTRATION                    0.101896     0.004156   -0.000100   \n",
      "DAYS_ID_PUBLISH                      1.000000     0.007715   -0.002293   \n",
      "OWN_CAR_AGE                          0.007715     1.000000   -0.002777   \n",
      "FLAG_MOBIL                          -0.002293    -0.002777    1.000000   \n",
      "FLAG_EMP_PHONE                       0.273611     0.019064   -0.000845   \n",
      "FLAG_WORK_PHONE                      0.045964    -0.030289    0.000900   \n",
      "FLAG_CONT_MOBILE                    -0.000802     0.006380   -0.000078   \n",
      "FLAG_PHONE                          -0.037660    -0.037431    0.001128   \n",
      "FLAG_EMAIL                           0.027505    -0.004888    0.000442   \n",
      "CNT_FAM_MEMBERS                     -0.020912     0.021845    0.000302   \n",
      "REGION_RATING_CLIENT                -0.005103     0.045611    0.000186   \n",
      "REGION_RATING_CLIENT_W_CITY         -0.007737     0.046774    0.000113   \n",
      "HOUR_APPR_PROCESS_START              0.031676    -0.038287   -0.000517   \n",
      "REG_REGION_NOT_LIVE_REGION           0.034757    -0.011362    0.000224   \n",
      "REG_REGION_NOT_WORK_REGION           0.048071    -0.012123    0.000417   \n",
      "LIVE_REGION_NOT_WORK_REGION          0.033938    -0.009389    0.000371   \n",
      "REG_CITY_NOT_LIVE_CITY               0.076326     0.005932    0.000525   \n",
      "REG_CITY_NOT_WORK_CITY               0.099354     0.025367    0.000987   \n",
      "LIVE_CITY_NOT_WORK_CITY              0.061094     0.023490    0.000844   \n",
      "EXT_SOURCE_1                        -0.089020    -0.040795   -0.000022   \n",
      "EXT_SOURCE_2                        -0.050881    -0.033517   -0.000486   \n",
      "EXT_SOURCE_3                        -0.111864    -0.010587   -0.000202   \n",
      "APARTMENTS_AVG                      -0.007754    -0.025714   -0.000499   \n",
      "BASEMENTAREA_AVG                    -0.010693    -0.014254    0.000717   \n",
      "YEARS_BEGINEXPLUATATION_AVG         -0.001806     0.002808   -0.000569   \n",
      "YEARS_BUILD_AVG                     -0.003984    -0.012056   -0.000025   \n",
      "COMMONAREA_AVG                      -0.002662    -0.014921    0.000296   \n",
      "ELEVATORS_AVG                       -0.013132    -0.036870   -0.001498   \n",
      "ENTRANCES_AVG                       -0.012112    -0.009401    0.001029   \n",
      "FLOORSMAX_AVG                       -0.011191    -0.039893   -0.003013   \n",
      "FLOORSMIN_AVG                       -0.006304    -0.024607    0.000148   \n",
      "LANDAREA_AVG                        -0.007138    -0.012418   -0.000872   \n",
      "LIVINGAPARTMENTS_AVG                -0.003078    -0.019622    0.000269   \n",
      "LIVINGAREA_AVG                      -0.010808    -0.028796   -0.000846   \n",
      "NONLIVINGAPARTMENTS_AVG             -0.003904    -0.010749    0.000182   \n",
      "NONLIVINGAREA_AVG                   -0.002342    -0.020420    0.000416   \n",
      "APARTMENTS_MODE                     -0.007660    -0.023712   -0.000635   \n",
      "BASEMENTAREA_MODE                   -0.010219    -0.012409    0.000579   \n",
      "YEARS_BEGINEXPLUATATION_MODE        -0.001165     0.003680   -0.000535   \n",
      "YEARS_BUILD_MODE                    -0.003722    -0.011004   -0.000049   \n",
      "COMMONAREA_MODE                     -0.002780    -0.013473    0.000303   \n",
      "ELEVATORS_MODE                      -0.013002    -0.034726   -0.001587   \n",
      "ENTRANCES_MODE                      -0.011760    -0.006251    0.000965   \n",
      "FLOORSMAX_MODE                      -0.011037    -0.038500   -0.003080   \n",
      "FLOORSMIN_MODE                      -0.006182    -0.023350    0.000125   \n",
      "LANDAREA_MODE                       -0.007567    -0.011834   -0.000995   \n",
      "LIVINGAPARTMENTS_MODE               -0.003598    -0.018039    0.000288   \n",
      "LIVINGAREA_MODE                     -0.011182    -0.026916   -0.000989   \n",
      "NONLIVINGAPARTMENTS_MODE            -0.003711    -0.009817    0.000172   \n",
      "NONLIVINGAREA_MODE                  -0.003114    -0.019565    0.000430   \n",
      "APARTMENTS_MEDI                     -0.007738    -0.025616   -0.000531   \n",
      "BASEMENTAREA_MEDI                   -0.010762    -0.013830    0.000702   \n",
      "YEARS_BEGINEXPLUATATION_MEDI        -0.001657     0.002912   -0.000562   \n",
      "YEARS_BUILD_MEDI                    -0.003805    -0.011967   -0.000026   \n",
      "COMMONAREA_MEDI                     -0.002542    -0.014837    0.000299   \n",
      "ELEVATORS_MEDI                      -0.013019    -0.036477   -0.001509   \n",
      "ENTRANCES_MEDI                      -0.012248    -0.008946    0.001020   \n",
      "FLOORSMAX_MEDI                      -0.011209    -0.039659   -0.003009   \n",
      "FLOORSMIN_MEDI                      -0.006223    -0.024638    0.000146   \n",
      "LANDAREA_MEDI                       -0.007227    -0.012420   -0.000885   \n",
      "LIVINGAPARTMENTS_MEDI               -0.003272    -0.019567    0.000273   \n",
      "LIVINGAREA_MEDI                     -0.010691    -0.028373   -0.000866   \n",
      "NONLIVINGAPARTMENTS_MEDI            -0.003558    -0.010583    0.000180   \n",
      "NONLIVINGAREA_MEDI                  -0.002247    -0.020244    0.000418   \n",
      "TOTALAREA_MODE                      -0.010867    -0.029996   -0.000466   \n",
      "OBS_30_CNT_SOCIAL_CIRCLE            -0.012542     0.002673    0.001066   \n",
      "DEF_30_CNT_SOCIAL_CIRCLE             0.002669     0.001727    0.000578   \n",
      "OBS_60_CNT_SOCIAL_CIRCLE            -0.012960     0.002634    0.001062   \n",
      "DEF_60_CNT_SOCIAL_CIRCLE             0.004265     0.004058    0.000497   \n",
      "DAYS_LAST_PHONE_CHANGE               0.088577    -0.006495   -0.000449   \n",
      "FLAG_DOCUMENT_2                     -0.000349     0.000244    0.000012   \n",
      "FLAG_DOCUMENT_3                      0.050309     0.007338    0.002822   \n",
      "FLAG_DOCUMENT_4                      0.000545    -0.002384    0.000016   \n",
      "FLAG_DOCUMENT_5                      0.002066     0.000960    0.000223   \n",
      "FLAG_DOCUMENT_6                     -0.178282    -0.011721    0.000560   \n",
      "FLAG_DOCUMENT_7                     -0.000034     0.001570    0.000025   \n",
      "FLAG_DOCUMENT_8                      0.024065    -0.000021   -0.006059   \n",
      "FLAG_DOCUMENT_9                      0.015271    -0.003699    0.000113   \n",
      "FLAG_DOCUMENT_10                    -0.001214    -0.001369    0.000009   \n",
      "FLAG_DOCUMENT_11                     0.022875    -0.012113    0.000113   \n",
      "FLAG_DOCUMENT_12                    -0.002193    -0.002703    0.000005   \n",
      "FLAG_DOCUMENT_13                     0.003048    -0.048370    0.000107   \n",
      "FLAG_DOCUMENT_14                     0.008710    -0.008025    0.000098   \n",
      "FLAG_DOCUMENT_15                     0.000158    -0.027918    0.000063   \n",
      "FLAG_DOCUMENT_16                     0.002782    -0.002025    0.000181   \n",
      "FLAG_DOCUMENT_17                     0.004804    -0.000150    0.000029   \n",
      "FLAG_DOCUMENT_18                     0.014084    -0.006319   -0.019919   \n",
      "FLAG_DOCUMENT_19                     0.000903    -0.002577    0.000044   \n",
      "FLAG_DOCUMENT_20                     0.000070    -0.003641    0.000041   \n",
      "FLAG_DOCUMENT_21                     0.017246     0.002242    0.000033   \n",
      "AMT_REQ_CREDIT_BUREAU_HOUR           0.001819     0.000311    0.000128   \n",
      "AMT_REQ_CREDIT_BUREAU_DAY           -0.003029    -0.004952    0.000106   \n",
      "AMT_REQ_CREDIT_BUREAU_WEEK          -0.006747     0.000802    0.000281   \n",
      "AMT_REQ_CREDIT_BUREAU_MON           -0.018524    -0.008882    0.000487   \n",
      "AMT_REQ_CREDIT_BUREAU_QRT           -0.016744    -0.009260    0.000557   \n",
      "AMT_REQ_CREDIT_BUREAU_YEAR          -0.047590    -0.014468    0.000795   \n",
      "\n",
      "                              FLAG_EMP_PHONE  FLAG_WORK_PHONE  \\\n",
      "SK_ID_CURR                         -0.001337        -0.000415   \n",
      "TARGET                              0.045982         0.028524   \n",
      "CNT_CHILDREN                        0.240714         0.055630   \n",
      "AMT_INCOME_TOTAL                    0.063994        -0.017193   \n",
      "AMT_CREDIT                          0.065519        -0.021085   \n",
      "AMT_ANNUITY                         0.103530        -0.024805   \n",
      "AMT_GOODS_PRICE                     0.063412         0.000787   \n",
      "REGION_POPULATION_RELATIVE          0.004045        -0.015628   \n",
      "DAYS_BIRTH                          0.619888         0.172457   \n",
      "DAYS_EMPLOYED                      -0.999755        -0.233972   \n",
      "DAYS_REGISTRATION                   0.212361         0.058283   \n",
      "DAYS_ID_PUBLISH                     0.273611         0.045964   \n",
      "OWN_CAR_AGE                         0.019064        -0.030289   \n",
      "FLAG_MOBIL                         -0.000845         0.000900   \n",
      "FLAG_EMP_PHONE                      1.000000         0.233801   \n",
      "FLAG_WORK_PHONE                     0.233801         1.000000   \n",
      "FLAG_CONT_MOBILE                   -0.012819         0.021580   \n",
      "FLAG_PHONE                         -0.016131         0.293105   \n",
      "FLAG_EMAIL                          0.062542        -0.011520   \n",
      "CNT_FAM_MEMBERS                     0.233950         0.067189   \n",
      "REGION_RATING_CLIENT               -0.032871         0.007349   \n",
      "REGION_RATING_CLIENT_W_CITY        -0.034712         0.013414   \n",
      "HOUR_APPR_PROCESS_START             0.091356         0.036826   \n",
      "REG_REGION_NOT_LIVE_REGION          0.036640         0.064484   \n",
      "REG_REGION_NOT_WORK_REGION          0.108355         0.068202   \n",
      "LIVE_REGION_NOT_WORK_REGION         0.096447         0.041513   \n",
      "REG_CITY_NOT_LIVE_CITY              0.092166         0.045948   \n",
      "REG_CITY_NOT_WORK_CITY              0.256427         0.121000   \n",
      "LIVE_CITY_NOT_WORK_CITY             0.219219         0.109890   \n",
      "EXT_SOURCE_1                       -0.151509        -0.053343   \n",
      "EXT_SOURCE_2                        0.019346        -0.018845   \n",
      "EXT_SOURCE_3                       -0.103098        -0.056795   \n",
      "APARTMENTS_AVG                      0.013248        -0.019585   \n",
      "BASEMENTAREA_AVG                    0.001830        -0.007621   \n",
      "YEARS_BEGINEXPLUATATION_AVG        -0.006647         0.000889   \n",
      "YEARS_BUILD_AVG                     0.003233         0.007681   \n",
      "COMMONAREA_AVG                      0.007971        -0.009866   \n",
      "ELEVATORS_AVG                       0.010171        -0.028681   \n",
      "ENTRANCES_AVG                      -0.002106        -0.007035   \n",
      "FLOORSMAX_AVG                       0.013698        -0.031541   \n",
      "FLOORSMIN_AVG                       0.009573        -0.013903   \n",
      "LANDAREA_AVG                        0.007578        -0.008548   \n",
      "LIVINGAPARTMENTS_AVG                0.012231        -0.015804   \n",
      "LIVINGAREA_AVG                      0.010768        -0.019167   \n",
      "NONLIVINGAPARTMENTS_AVG             0.003429        -0.007369   \n",
      "NONLIVINGAREA_AVG                   0.011010        -0.012858   \n",
      "APARTMENTS_MODE                     0.012099        -0.018120   \n",
      "BASEMENTAREA_MODE                   0.001140        -0.006379   \n",
      "YEARS_BEGINEXPLUATATION_MODE       -0.006687         0.001443   \n",
      "YEARS_BUILD_MODE                    0.002718         0.008379   \n",
      "COMMONAREA_MODE                     0.008253        -0.009630   \n",
      "ELEVATORS_MODE                      0.009457        -0.027077   \n",
      "ENTRANCES_MODE                     -0.003071        -0.004127   \n",
      "FLOORSMAX_MODE                      0.012982        -0.030547   \n",
      "FLOORSMIN_MODE                      0.009223        -0.012719   \n",
      "LANDAREA_MODE                       0.007114        -0.008023   \n",
      "LIVINGAPARTMENTS_MODE               0.011927        -0.015337   \n",
      "LIVINGAREA_MODE                     0.009648        -0.017150   \n",
      "NONLIVINGAPARTMENTS_MODE            0.003479        -0.006138   \n",
      "NONLIVINGAREA_MODE                  0.010360        -0.012364   \n",
      "APARTMENTS_MEDI                     0.013237        -0.019818   \n",
      "BASEMENTAREA_MEDI                   0.001927        -0.007738   \n",
      "YEARS_BEGINEXPLUATATION_MEDI       -0.006485         0.001314   \n",
      "YEARS_BUILD_MEDI                    0.003426         0.007823   \n",
      "COMMONAREA_MEDI                     0.008231        -0.010072   \n",
      "ELEVATORS_MEDI                      0.010160        -0.028412   \n",
      "ENTRANCES_MEDI                     -0.002224        -0.006615   \n",
      "FLOORSMAX_MEDI                      0.013730        -0.031457   \n",
      "FLOORSMIN_MEDI                      0.009806        -0.013790   \n",
      "LANDAREA_MEDI                       0.007588        -0.008489   \n",
      "LIVINGAPARTMENTS_MEDI               0.012327        -0.015807   \n",
      "LIVINGAREA_MEDI                     0.010916        -0.019018   \n",
      "NONLIVINGAPARTMENTS_MEDI            0.003414        -0.006924   \n",
      "NONLIVINGAREA_MEDI                  0.011099        -0.012597   \n",
      "TOTALAREA_MODE                      0.012899        -0.020610   \n",
      "OBS_30_CNT_SOCIAL_CIRCLE           -0.005780        -0.011435   \n",
      "DEF_30_CNT_SOCIAL_CIRCLE           -0.016561        -0.007548   \n",
      "OBS_60_CNT_SOCIAL_CIRCLE           -0.005930        -0.011661   \n",
      "DEF_60_CNT_SOCIAL_CIRCLE           -0.014038        -0.007030   \n",
      "DAYS_LAST_PHONE_CHANGE             -0.021103        -0.041538   \n",
      "FLAG_DOCUMENT_2                     0.003047        -0.001993   \n",
      "FLAG_DOCUMENT_3                     0.248534         0.060342   \n",
      "FLAG_DOCUMENT_4                    -0.000467        -0.004500   \n",
      "FLAG_DOCUMENT_5                     0.019778         0.036847   \n",
      "FLAG_DOCUMENT_6                    -0.597732        -0.138345   \n",
      "FLAG_DOCUMENT_7                     0.001605         0.001902   \n",
      "FLAG_DOCUMENT_8                     0.122043         0.021464   \n",
      "FLAG_DOCUMENT_9                     0.023878         0.008252   \n",
      "FLAG_DOCUMENT_10                    0.000463         0.002737   \n",
      "FLAG_DOCUMENT_11                    0.029373         0.123500   \n",
      "FLAG_DOCUMENT_12                    0.001195        -0.001273   \n",
      "FLAG_DOCUMENT_13                    0.025878         0.001769   \n",
      "FLAG_DOCUMENT_14                    0.023559        -0.002712   \n",
      "FLAG_DOCUMENT_15                    0.014364         0.007689   \n",
      "FLAG_DOCUMENT_16                    0.043008         0.005692   \n",
      "FLAG_DOCUMENT_17                    0.007136         0.001322   \n",
      "FLAG_DOCUMENT_18                    0.040548         0.032049   \n",
      "FLAG_DOCUMENT_19                    0.010049         0.011854   \n",
      "FLAG_DOCUMENT_20                    0.010183         0.001771   \n",
      "FLAG_DOCUMENT_21                    0.008579         0.001541   \n",
      "AMT_REQ_CREDIT_BUREAU_HOUR          0.004418        -0.005271   \n",
      "AMT_REQ_CREDIT_BUREAU_DAY          -0.000298        -0.004362   \n",
      "AMT_REQ_CREDIT_BUREAU_WEEK         -0.002520        -0.004747   \n",
      "AMT_REQ_CREDIT_BUREAU_MON           0.031974        -0.002851   \n",
      "AMT_REQ_CREDIT_BUREAU_QRT          -0.013508        -0.022461   \n",
      "AMT_REQ_CREDIT_BUREAU_YEAR         -0.044864        -0.071164   \n",
      "\n",
      "                              FLAG_CONT_MOBILE  FLAG_PHONE  FLAG_EMAIL  \\\n",
      "SK_ID_CURR                            0.002815    0.002753    0.000281   \n",
      "TARGET                                0.000370   -0.023806   -0.001758   \n",
      "CNT_CHILDREN                         -0.000794   -0.029906    0.022619   \n",
      "AMT_INCOME_TOTAL                     -0.008290    0.000159    0.038378   \n",
      "AMT_CREDIT                            0.023653    0.026213    0.016632   \n",
      "AMT_ANNUITY                           0.022349    0.010799    0.071707   \n",
      "AMT_GOODS_PRICE                       0.020696    0.041921    0.017031   \n",
      "REGION_POPULATION_RELATIVE           -0.012478    0.090939    0.040012   \n",
      "DAYS_BIRTH                           -0.014985   -0.042402    0.088208   \n",
      "DAYS_EMPLOYED                         0.012745    0.015291   -0.062112   \n",
      "DAYS_REGISTRATION                    -0.003848   -0.075188    0.034388   \n",
      "DAYS_ID_PUBLISH                      -0.000802   -0.037660    0.027505   \n",
      "OWN_CAR_AGE                           0.006380   -0.037431   -0.004888   \n",
      "FLAG_MOBIL                           -0.000078    0.001128    0.000442   \n",
      "FLAG_EMP_PHONE                       -0.012819   -0.016131    0.062542   \n",
      "FLAG_WORK_PHONE                       0.021580    0.293105   -0.011520   \n",
      "FLAG_CONT_MOBILE                      1.000000    0.006257   -0.005356   \n",
      "FLAG_PHONE                            0.006257    1.000000    0.014657   \n",
      "FLAG_EMAIL                           -0.005356    0.014657    1.000000   \n",
      "CNT_FAM_MEMBERS                       0.000218   -0.015418    0.018081   \n",
      "REGION_RATING_CLIENT                  0.013041   -0.083827   -0.052063   \n",
      "REGION_RATING_CLIENT_W_CITY           0.013651   -0.079134   -0.050778   \n",
      "HOUR_APPR_PROCESS_START              -0.001559    0.059376    0.023616   \n",
      "REG_REGION_NOT_LIVE_REGION            0.001044    0.002078    0.018632   \n",
      "REG_REGION_NOT_WORK_REGION           -0.001324    0.004284    0.031092   \n",
      "LIVE_REGION_NOT_WORK_REGION          -0.002923    0.005561    0.026540   \n",
      "REG_CITY_NOT_LIVE_CITY               -0.000878   -0.048496    0.014272   \n",
      "REG_CITY_NOT_WORK_CITY                0.003270   -0.045717    0.004154   \n",
      "LIVE_CITY_NOT_WORK_CITY               0.003742   -0.023580   -0.004058   \n",
      "EXT_SOURCE_1                          0.001897    0.053942    0.011126   \n",
      "EXT_SOURCE_2                         -0.003535    0.061120    0.023686   \n",
      "EXT_SOURCE_3                          0.011441    0.000690   -0.048081   \n",
      "APARTMENTS_AVG                       -0.003725    0.052402    0.031269   \n",
      "BASEMENTAREA_AVG                     -0.002751    0.039606    0.016265   \n",
      "YEARS_BEGINEXPLUATATION_AVG           0.001528    0.005123    0.000793   \n",
      "YEARS_BUILD_AVG                      -0.001274   -0.003664    0.002910   \n",
      "COMMONAREA_AVG                       -0.004052    0.035174    0.020105   \n",
      "ELEVATORS_AVG                        -0.008364    0.075586    0.043952   \n",
      "ENTRANCES_AVG                         0.000964    0.037649    0.009958   \n",
      "FLOORSMAX_AVG                        -0.010960    0.068566    0.046463   \n",
      "FLOORSMIN_AVG                        -0.003802    0.041303    0.031102   \n",
      "LANDAREA_AVG                          0.002414    0.014725    0.008499   \n",
      "LIVINGAPARTMENTS_AVG                 -0.003833    0.038038    0.024920   \n",
      "LIVINGAREA_AVG                       -0.006933    0.059871    0.035290   \n",
      "NONLIVINGAPARTMENTS_AVG              -0.002618    0.006698    0.003810   \n",
      "NONLIVINGAREA_AVG                    -0.006475    0.027640    0.021256   \n",
      "APARTMENTS_MODE                      -0.002475    0.048579    0.029196   \n",
      "BASEMENTAREA_MODE                    -0.001196    0.035532    0.014661   \n",
      "YEARS_BEGINEXPLUATATION_MODE          0.001337    0.004769    0.000587   \n",
      "YEARS_BUILD_MODE                     -0.000921   -0.005305    0.001623   \n",
      "COMMONAREA_MODE                      -0.003816    0.030659    0.018630   \n",
      "ELEVATORS_MODE                       -0.007025    0.071152    0.042137   \n",
      "ENTRANCES_MODE                        0.001933    0.031906    0.007146   \n",
      "FLOORSMAX_MODE                       -0.010105    0.065006    0.044351   \n",
      "FLOORSMIN_MODE                       -0.003577    0.038435    0.028671   \n",
      "LANDAREA_MODE                         0.003589    0.014024    0.008204   \n",
      "LIVINGAPARTMENTS_MODE                -0.003040    0.034852    0.024193   \n",
      "LIVINGAREA_MODE                      -0.005610    0.054835    0.032761   \n",
      "NONLIVINGAPARTMENTS_MODE             -0.001815    0.005335    0.003173   \n",
      "NONLIVINGAREA_MODE                   -0.004821    0.024918    0.019038   \n",
      "APARTMENTS_MEDI                      -0.003382    0.052652    0.031306   \n",
      "BASEMENTAREA_MEDI                    -0.002490    0.038983    0.016264   \n",
      "YEARS_BEGINEXPLUATATION_MEDI          0.001472    0.005591    0.000810   \n",
      "YEARS_BUILD_MEDI                     -0.001378   -0.003779    0.002887   \n",
      "COMMONAREA_MEDI                      -0.004140    0.034706    0.020026   \n",
      "ELEVATORS_MEDI                       -0.007842    0.074726    0.043684   \n",
      "ENTRANCES_MEDI                        0.001217    0.037070    0.009750   \n",
      "FLOORSMAX_MEDI                       -0.010961    0.067745    0.045955   \n",
      "FLOORSMIN_MEDI                       -0.003797    0.040799    0.030830   \n",
      "LANDAREA_MEDI                         0.002819    0.015018    0.008804   \n",
      "LIVINGAPARTMENTS_MEDI                -0.003730    0.038068    0.025093   \n",
      "LIVINGAREA_MEDI                      -0.006359    0.059538    0.035361   \n",
      "NONLIVINGAPARTMENTS_MEDI             -0.002616    0.006507    0.003663   \n",
      "NONLIVINGAREA_MEDI                   -0.006262    0.026492    0.020510   \n",
      "TOTALAREA_MODE                       -0.005727    0.056889    0.036335   \n",
      "OBS_30_CNT_SOCIAL_CIRCLE              0.003256   -0.032720   -0.002939   \n",
      "DEF_30_CNT_SOCIAL_CIRCLE              0.004907   -0.029338   -0.003096   \n",
      "OBS_60_CNT_SOCIAL_CIRCLE              0.003326   -0.032667   -0.002571   \n",
      "DEF_60_CNT_SOCIAL_CIRCLE              0.005256   -0.028071   -0.002148   \n",
      "DAYS_LAST_PHONE_CHANGE               -0.028950   -0.067458   -0.019472   \n",
      "FLAG_DOCUMENT_2                       0.000281   -0.000728    0.002730   \n",
      "FLAG_DOCUMENT_3                       0.006235   -0.008020    0.012015   \n",
      "FLAG_DOCUMENT_4                       0.000390    0.003990    0.002467   \n",
      "FLAG_DOCUMENT_5                       0.005357    0.075455    0.000734   \n",
      "FLAG_DOCUMENT_6                       0.009981    0.009836   -0.042660   \n",
      "FLAG_DOCUMENT_7                      -0.004841    0.013276    0.001678   \n",
      "FLAG_DOCUMENT_8                      -0.022400    0.004778    0.030474   \n",
      "FLAG_DOCUMENT_9                      -0.008180    0.012923    0.009490   \n",
      "FLAG_DOCUMENT_10                      0.000206    0.004598    0.001777   \n",
      "FLAG_DOCUMENT_11                      0.002710    0.003231   -0.003656   \n",
      "FLAG_DOCUMENT_12                      0.000110   -0.001595   -0.000625   \n",
      "FLAG_DOCUMENT_13                     -0.064800    0.006997   -0.003436   \n",
      "FLAG_DOCUMENT_14                     -0.072839    0.010321    0.001502   \n",
      "FLAG_DOCUMENT_15                     -0.013667    0.008001   -0.003276   \n",
      "FLAG_DOCUMENT_16                     -0.030625    0.010354   -0.012644   \n",
      "FLAG_DOCUMENT_17                     -0.013136    0.004410   -0.001422   \n",
      "FLAG_DOCUMENT_18                     -0.043068    0.004055   -0.008110   \n",
      "FLAG_DOCUMENT_19                     -0.005123    0.009660   -0.002525   \n",
      "FLAG_DOCUMENT_20                      0.000974    0.000692   -0.001778   \n",
      "FLAG_DOCUMENT_21                     -0.015677    0.000020   -0.000647   \n",
      "AMT_REQ_CREDIT_BUREAU_HOUR           -0.004656   -0.002379    0.003497   \n",
      "AMT_REQ_CREDIT_BUREAU_DAY            -0.002577   -0.000235    0.003873   \n",
      "AMT_REQ_CREDIT_BUREAU_WEEK           -0.008666    0.001254    0.020903   \n",
      "AMT_REQ_CREDIT_BUREAU_MON             0.004815    0.032212    0.025151   \n",
      "AMT_REQ_CREDIT_BUREAU_QRT             0.005651   -0.006390    0.013884   \n",
      "AMT_REQ_CREDIT_BUREAU_YEAR            0.023932   -0.024980    0.051258   \n",
      "\n",
      "                              CNT_FAM_MEMBERS  REGION_RATING_CLIENT  \\\n",
      "SK_ID_CURR                          -0.002895             -0.001075   \n",
      "TARGET                               0.009308              0.058899   \n",
      "CNT_CHILDREN                         0.879160              0.025423   \n",
      "AMT_INCOME_TOTAL                     0.016341             -0.085465   \n",
      "AMT_CREDIT                           0.063160             -0.101776   \n",
      "AMT_ANNUITY                          0.075541             -0.128516   \n",
      "AMT_GOODS_PRICE                      0.061138             -0.103759   \n",
      "REGION_POPULATION_RELATIVE          -0.024209             -0.532877   \n",
      "DAYS_BIRTH                           0.278892              0.009361   \n",
      "DAYS_EMPLOYED                       -0.233549              0.032750   \n",
      "DAYS_REGISTRATION                    0.173415              0.080210   \n",
      "DAYS_ID_PUBLISH                     -0.020912             -0.005103   \n",
      "OWN_CAR_AGE                          0.021845              0.045611   \n",
      "FLAG_MOBIL                           0.000302              0.000186   \n",
      "FLAG_EMP_PHONE                       0.233950             -0.032871   \n",
      "FLAG_WORK_PHONE                      0.067189              0.007349   \n",
      "FLAG_CONT_MOBILE                     0.000218              0.013041   \n",
      "FLAG_PHONE                          -0.015418             -0.083827   \n",
      "FLAG_EMAIL                           0.018081             -0.052063   \n",
      "CNT_FAM_MEMBERS                      1.000000              0.029688   \n",
      "REGION_RATING_CLIENT                 0.029688              1.000000   \n",
      "REGION_RATING_CLIENT_W_CITY          0.030778              0.950842   \n",
      "HOUR_APPR_PROCESS_START             -0.012227             -0.285699   \n",
      "REG_REGION_NOT_LIVE_REGION          -0.017133             -0.044166   \n",
      "REG_REGION_NOT_WORK_REGION           0.003133             -0.139890   \n",
      "LIVE_REGION_NOT_WORK_REGION          0.011847             -0.146561   \n",
      "REG_CITY_NOT_LIVE_CITY               0.012253              0.035741   \n",
      "REG_CITY_NOT_WORK_CITY               0.070719              0.008360   \n",
      "LIVE_CITY_NOT_WORK_CITY              0.077496             -0.019154   \n",
      "EXT_SOURCE_1                        -0.067929             -0.078013   \n",
      "EXT_SOURCE_2                        -0.001832             -0.292621   \n",
      "EXT_SOURCE_3                        -0.026752             -0.011724   \n",
      "APARTMENTS_AVG                      -0.019531             -0.137741   \n",
      "BASEMENTAREA_AVG                    -0.008638             -0.056863   \n",
      "YEARS_BEGINEXPLUATATION_AVG          0.008238              0.009627   \n",
      "YEARS_BUILD_AVG                      0.024228              0.027542   \n",
      "COMMONAREA_AVG                      -0.009591             -0.091359   \n",
      "ELEVATORS_AVG                       -0.025006             -0.203345   \n",
      "ENTRANCES_AVG                       -0.008024             -0.029902   \n",
      "FLOORSMAX_AVG                       -0.020100             -0.208119   \n",
      "FLOORSMIN_AVG                       -0.005792             -0.155764   \n",
      "LANDAREA_AVG                        -0.007900              0.012531   \n",
      "LIVINGAPARTMENTS_AVG                -0.012880             -0.115038   \n",
      "LIVINGAREA_AVG                      -0.016184             -0.146933   \n",
      "NONLIVINGAPARTMENTS_AVG             -0.005241             -0.023663   \n",
      "NONLIVINGAREA_AVG                   -0.014272             -0.086622   \n",
      "APARTMENTS_MODE                     -0.018446             -0.117148   \n",
      "BASEMENTAREA_MODE                   -0.008476             -0.037127   \n",
      "YEARS_BEGINEXPLUATATION_MODE         0.008094              0.010110   \n",
      "YEARS_BUILD_MODE                     0.024710              0.033413   \n",
      "COMMONAREA_MODE                     -0.009237             -0.076859   \n",
      "ELEVATORS_MODE                      -0.023095             -0.185423   \n",
      "ENTRANCES_MODE                      -0.004653             -0.011015   \n",
      "FLOORSMAX_MODE                      -0.018574             -0.195792   \n",
      "FLOORSMIN_MODE                      -0.004227             -0.144887   \n",
      "LANDAREA_MODE                       -0.007231              0.020824   \n",
      "LIVINGAPARTMENTS_MODE               -0.013165             -0.099851   \n",
      "LIVINGAREA_MODE                     -0.014917             -0.124130   \n",
      "NONLIVINGAPARTMENTS_MODE            -0.004900             -0.018141   \n",
      "NONLIVINGAREA_MODE                  -0.014102             -0.071620   \n",
      "APARTMENTS_MEDI                     -0.019985             -0.135689   \n",
      "BASEMENTAREA_MEDI                   -0.008985             -0.054192   \n",
      "YEARS_BEGINEXPLUATATION_MEDI         0.007947              0.009536   \n",
      "YEARS_BUILD_MEDI                     0.024199              0.028192   \n",
      "COMMONAREA_MEDI                     -0.009403             -0.089609   \n",
      "ELEVATORS_MEDI                      -0.024587             -0.199483   \n",
      "ENTRANCES_MEDI                      -0.007840             -0.027657   \n",
      "FLOORSMAX_MEDI                      -0.019709             -0.205421   \n",
      "FLOORSMIN_MEDI                      -0.005381             -0.153914   \n",
      "LANDAREA_MEDI                       -0.007697              0.013715   \n",
      "LIVINGAPARTMENTS_MEDI               -0.012708             -0.112635   \n",
      "LIVINGAREA_MEDI                     -0.016132             -0.144401   \n",
      "NONLIVINGAPARTMENTS_MEDI            -0.005108             -0.022099   \n",
      "NONLIVINGAREA_MEDI                  -0.014262             -0.081617   \n",
      "TOTALAREA_MODE                      -0.015635             -0.149428   \n",
      "OBS_30_CNT_SOCIAL_CIRCLE             0.025471              0.034966   \n",
      "DEF_30_CNT_SOCIAL_CIRCLE            -0.002535              0.015753   \n",
      "OBS_60_CNT_SOCIAL_CIRCLE             0.025125              0.034585   \n",
      "DEF_60_CNT_SOCIAL_CIRCLE            -0.004643              0.018230   \n",
      "DAYS_LAST_PHONE_CHANGE              -0.027109              0.026022   \n",
      "FLAG_DOCUMENT_2                      0.000558              0.001295   \n",
      "FLAG_DOCUMENT_3                      0.066131              0.062528   \n",
      "FLAG_DOCUMENT_4                     -0.003096             -0.005889   \n",
      "FLAG_DOCUMENT_5                     -0.015177             -0.014077   \n",
      "FLAG_DOCUMENT_6                     -0.156682              0.020930   \n",
      "FLAG_DOCUMENT_7                     -0.002322              0.001340   \n",
      "FLAG_DOCUMENT_8                      0.056653             -0.084393   \n",
      "FLAG_DOCUMENT_9                     -0.006127             -0.037314   \n",
      "FLAG_DOCUMENT_10                    -0.003045             -0.000492   \n",
      "FLAG_DOCUMENT_11                    -0.007932             -0.010348   \n",
      "FLAG_DOCUMENT_12                     0.000973             -0.000263   \n",
      "FLAG_DOCUMENT_13                     0.005273             -0.032431   \n",
      "FLAG_DOCUMENT_14                    -0.010417             -0.038179   \n",
      "FLAG_DOCUMENT_15                     0.003720             -0.009284   \n",
      "FLAG_DOCUMENT_16                     0.009686             -0.005424   \n",
      "FLAG_DOCUMENT_17                     0.000761             -0.004422   \n",
      "FLAG_DOCUMENT_18                     0.001485             -0.012532   \n",
      "FLAG_DOCUMENT_19                     0.002205             -0.001205   \n",
      "FLAG_DOCUMENT_20                     0.000188              0.002217   \n",
      "FLAG_DOCUMENT_21                    -0.005801             -0.001887   \n",
      "AMT_REQ_CREDIT_BUREAU_HOUR           0.001465              0.005950   \n",
      "AMT_REQ_CREDIT_BUREAU_DAY           -0.000425             -0.001965   \n",
      "AMT_REQ_CREDIT_BUREAU_WEEK           0.000780              0.001825   \n",
      "AMT_REQ_CREDIT_BUREAU_MON           -0.004181             -0.063514   \n",
      "AMT_REQ_CREDIT_BUREAU_QRT           -0.000673              0.005524   \n",
      "AMT_REQ_CREDIT_BUREAU_YEAR          -0.020884              0.011225   \n",
      "\n",
      "                              REGION_RATING_CLIENT_W_CITY  \\\n",
      "SK_ID_CURR                                      -0.001138   \n",
      "TARGET                                           0.060893   \n",
      "CNT_CHILDREN                                     0.024781   \n",
      "AMT_INCOME_TOTAL                                -0.091735   \n",
      "AMT_CREDIT                                      -0.110915   \n",
      "AMT_ANNUITY                                     -0.141674   \n",
      "AMT_GOODS_PRICE                                 -0.112185   \n",
      "REGION_POPULATION_RELATIVE                      -0.531535   \n",
      "DAYS_BIRTH                                       0.008073   \n",
      "DAYS_EMPLOYED                                    0.034624   \n",
      "DAYS_REGISTRATION                                0.074038   \n",
      "DAYS_ID_PUBLISH                                 -0.007737   \n",
      "OWN_CAR_AGE                                      0.046774   \n",
      "FLAG_MOBIL                                       0.000113   \n",
      "FLAG_EMP_PHONE                                  -0.034712   \n",
      "FLAG_WORK_PHONE                                  0.013414   \n",
      "FLAG_CONT_MOBILE                                 0.013651   \n",
      "FLAG_PHONE                                      -0.079134   \n",
      "FLAG_EMAIL                                      -0.050778   \n",
      "CNT_FAM_MEMBERS                                  0.030778   \n",
      "REGION_RATING_CLIENT                             0.950842   \n",
      "REGION_RATING_CLIENT_W_CITY                      1.000000   \n",
      "HOUR_APPR_PROCESS_START                         -0.264815   \n",
      "REG_REGION_NOT_LIVE_REGION                      -0.041143   \n",
      "REG_REGION_NOT_WORK_REGION                      -0.133423   \n",
      "LIVE_REGION_NOT_WORK_REGION                     -0.140771   \n",
      "REG_CITY_NOT_LIVE_CITY                           0.045669   \n",
      "REG_CITY_NOT_WORK_CITY                           0.028081   \n",
      "LIVE_CITY_NOT_WORK_CITY                         -0.002805   \n",
      "EXT_SOURCE_1                                    -0.077968   \n",
      "EXT_SOURCE_2                                    -0.288013   \n",
      "EXT_SOURCE_3                                    -0.011342   \n",
      "APARTMENTS_AVG                                  -0.155891   \n",
      "BASEMENTAREA_AVG                                -0.068468   \n",
      "YEARS_BEGINEXPLUATATION_AVG                      0.007031   \n",
      "YEARS_BUILD_AVG                                  0.023498   \n",
      "COMMONAREA_AVG                                  -0.105003   \n",
      "ELEVATORS_AVG                                   -0.220915   \n",
      "ENTRANCES_AVG                                   -0.037128   \n",
      "FLOORSMAX_AVG                                   -0.225703   \n",
      "FLOORSMIN_AVG                                   -0.160808   \n",
      "LANDAREA_AVG                                     0.000194   \n",
      "LIVINGAPARTMENTS_AVG                            -0.135251   \n",
      "LIVINGAREA_AVG                                  -0.164615   \n",
      "NONLIVINGAPARTMENTS_AVG                         -0.030544   \n",
      "NONLIVINGAREA_AVG                               -0.094437   \n",
      "APARTMENTS_MODE                                 -0.136500   \n",
      "BASEMENTAREA_MODE                               -0.050531   \n",
      "YEARS_BEGINEXPLUATATION_MODE                     0.007510   \n",
      "YEARS_BUILD_MODE                                 0.029465   \n",
      "COMMONAREA_MODE                                 -0.092033   \n",
      "ELEVATORS_MODE                                  -0.203495   \n",
      "ENTRANCES_MODE                                  -0.017893   \n",
      "FLOORSMAX_MODE                                  -0.213763   \n",
      "FLOORSMIN_MODE                                  -0.150003   \n",
      "LANDAREA_MODE                                    0.007114   \n",
      "LIVINGAPARTMENTS_MODE                           -0.122116   \n",
      "LIVINGAREA_MODE                                 -0.142948   \n",
      "NONLIVINGAPARTMENTS_MODE                        -0.025346   \n",
      "NONLIVINGAREA_MODE                              -0.080616   \n",
      "APARTMENTS_MEDI                                 -0.154120   \n",
      "BASEMENTAREA_MEDI                               -0.065930   \n",
      "YEARS_BEGINEXPLUATATION_MEDI                     0.006986   \n",
      "YEARS_BUILD_MEDI                                 0.024136   \n",
      "COMMONAREA_MEDI                                 -0.103507   \n",
      "ELEVATORS_MEDI                                  -0.217124   \n",
      "ENTRANCES_MEDI                                  -0.034627   \n",
      "FLOORSMAX_MEDI                                  -0.222975   \n",
      "FLOORSMIN_MEDI                                  -0.158916   \n",
      "LANDAREA_MEDI                                    0.001188   \n",
      "LIVINGAPARTMENTS_MEDI                           -0.133274   \n",
      "LIVINGAREA_MEDI                                 -0.162136   \n",
      "NONLIVINGAPARTMENTS_MEDI                        -0.029103   \n",
      "NONLIVINGAREA_MEDI                              -0.089873   \n",
      "TOTALAREA_MODE                                  -0.166787   \n",
      "OBS_30_CNT_SOCIAL_CIRCLE                         0.030727   \n",
      "DEF_30_CNT_SOCIAL_CIRCLE                         0.014291   \n",
      "OBS_60_CNT_SOCIAL_CIRCLE                         0.030355   \n",
      "DEF_60_CNT_SOCIAL_CIRCLE                         0.017371   \n",
      "DAYS_LAST_PHONE_CHANGE                           0.025717   \n",
      "FLAG_DOCUMENT_2                                 -0.000408   \n",
      "FLAG_DOCUMENT_3                                  0.067083   \n",
      "FLAG_DOCUMENT_4                                 -0.005587   \n",
      "FLAG_DOCUMENT_5                                 -0.015614   \n",
      "FLAG_DOCUMENT_6                                  0.019870   \n",
      "FLAG_DOCUMENT_7                                  0.001000   \n",
      "FLAG_DOCUMENT_8                                 -0.087861   \n",
      "FLAG_DOCUMENT_9                                 -0.038914   \n",
      "FLAG_DOCUMENT_10                                -0.001655   \n",
      "FLAG_DOCUMENT_11                                -0.013152   \n",
      "FLAG_DOCUMENT_12                                -0.000160   \n",
      "FLAG_DOCUMENT_13                                -0.032760   \n",
      "FLAG_DOCUMENT_14                                -0.037711   \n",
      "FLAG_DOCUMENT_15                                -0.009253   \n",
      "FLAG_DOCUMENT_16                                -0.005430   \n",
      "FLAG_DOCUMENT_17                                -0.004193   \n",
      "FLAG_DOCUMENT_18                                -0.013672   \n",
      "FLAG_DOCUMENT_19                                -0.001530   \n",
      "FLAG_DOCUMENT_20                                 0.002609   \n",
      "FLAG_DOCUMENT_21                                -0.001501   \n",
      "AMT_REQ_CREDIT_BUREAU_HOUR                       0.005913   \n",
      "AMT_REQ_CREDIT_BUREAU_DAY                       -0.001676   \n",
      "AMT_REQ_CREDIT_BUREAU_WEEK                       0.001353   \n",
      "AMT_REQ_CREDIT_BUREAU_MON                       -0.061618   \n",
      "AMT_REQ_CREDIT_BUREAU_QRT                        0.005044   \n",
      "AMT_REQ_CREDIT_BUREAU_YEAR                       0.010670   \n",
      "\n",
      "                              HOUR_APPR_PROCESS_START  \\\n",
      "SK_ID_CURR                                   0.000350   \n",
      "TARGET                                      -0.024166   \n",
      "CNT_CHILDREN                                -0.007292   \n",
      "AMT_INCOME_TOTAL                             0.036459   \n",
      "AMT_CREDIT                                   0.052738   \n",
      "AMT_ANNUITY                                  0.052265   \n",
      "AMT_GOODS_PRICE                              0.062269   \n",
      "REGION_POPULATION_RELATIVE                   0.171285   \n",
      "DAYS_BIRTH                                   0.091064   \n",
      "DAYS_EMPLOYED                               -0.091138   \n",
      "DAYS_REGISTRATION                           -0.010908   \n",
      "DAYS_ID_PUBLISH                              0.031676   \n",
      "OWN_CAR_AGE                                 -0.038287   \n",
      "FLAG_MOBIL                                  -0.000517   \n",
      "FLAG_EMP_PHONE                               0.091356   \n",
      "FLAG_WORK_PHONE                              0.036826   \n",
      "FLAG_CONT_MOBILE                            -0.001559   \n",
      "FLAG_PHONE                                   0.059376   \n",
      "FLAG_EMAIL                                   0.023616   \n",
      "CNT_FAM_MEMBERS                             -0.012227   \n",
      "REGION_RATING_CLIENT                        -0.285699   \n",
      "REGION_RATING_CLIENT_W_CITY                 -0.264815   \n",
      "HOUR_APPR_PROCESS_START                      1.000000   \n",
      "REG_REGION_NOT_LIVE_REGION                   0.054894   \n",
      "REG_REGION_NOT_WORK_REGION                   0.075037   \n",
      "LIVE_REGION_NOT_WORK_REGION                  0.060920   \n",
      "REG_CITY_NOT_LIVE_CITY                       0.016976   \n",
      "REG_CITY_NOT_WORK_CITY                       0.021504   \n",
      "LIVE_CITY_NOT_WORK_CITY                      0.015507   \n",
      "EXT_SOURCE_1                                 0.020872   \n",
      "EXT_SOURCE_2                                 0.156631   \n",
      "EXT_SOURCE_3                                -0.037462   \n",
      "APARTMENTS_AVG                               0.072364   \n",
      "BASEMENTAREA_AVG                             0.032992   \n",
      "YEARS_BEGINEXPLUATATION_AVG                 -0.010800   \n",
      "YEARS_BUILD_AVG                             -0.008790   \n",
      "COMMONAREA_AVG                               0.030662   \n",
      "ELEVATORS_AVG                                0.095448   \n",
      "ENTRANCES_AVG                                0.021016   \n",
      "FLOORSMAX_AVG                                0.103584   \n",
      "FLOORSMIN_AVG                                0.071780   \n",
      "LANDAREA_AVG                                 0.018794   \n",
      "LIVINGAPARTMENTS_AVG                         0.050432   \n",
      "LIVINGAREA_AVG                               0.073972   \n",
      "NONLIVINGAPARTMENTS_AVG                      0.012456   \n",
      "NONLIVINGAREA_AVG                            0.046433   \n",
      "APARTMENTS_MODE                              0.066773   \n",
      "BASEMENTAREA_MODE                            0.028941   \n",
      "YEARS_BEGINEXPLUATATION_MODE                -0.011710   \n",
      "YEARS_BUILD_MODE                            -0.010664   \n",
      "COMMONAREA_MODE                              0.026848   \n",
      "ELEVATORS_MODE                               0.090459   \n",
      "ENTRANCES_MODE                               0.015408   \n",
      "FLOORSMAX_MODE                               0.099241   \n",
      "FLOORSMIN_MODE                               0.068167   \n",
      "LANDAREA_MODE                                0.017362   \n",
      "LIVINGAPARTMENTS_MODE                        0.046635   \n",
      "LIVINGAREA_MODE                              0.067456   \n",
      "NONLIVINGAPARTMENTS_MODE                     0.011123   \n",
      "NONLIVINGAREA_MODE                           0.043155   \n",
      "APARTMENTS_MEDI                              0.072281   \n",
      "BASEMENTAREA_MEDI                            0.032786   \n",
      "YEARS_BEGINEXPLUATATION_MEDI                -0.010367   \n",
      "YEARS_BUILD_MEDI                            -0.008980   \n",
      "COMMONAREA_MEDI                              0.029979   \n",
      "ELEVATORS_MEDI                               0.094686   \n",
      "ENTRANCES_MEDI                               0.020500   \n",
      "FLOORSMAX_MEDI                               0.102593   \n",
      "FLOORSMIN_MEDI                               0.071311   \n",
      "LANDAREA_MEDI                                0.018693   \n",
      "LIVINGAPARTMENTS_MEDI                        0.049757   \n",
      "LIVINGAREA_MEDI                              0.073410   \n",
      "NONLIVINGAPARTMENTS_MEDI                     0.012205   \n",
      "NONLIVINGAREA_MEDI                           0.045723   \n",
      "TOTALAREA_MODE                               0.072707   \n",
      "OBS_30_CNT_SOCIAL_CIRCLE                    -0.009049   \n",
      "DEF_30_CNT_SOCIAL_CIRCLE                    -0.005909   \n",
      "OBS_60_CNT_SOCIAL_CIRCLE                    -0.008953   \n",
      "DEF_60_CNT_SOCIAL_CIRCLE                    -0.008934   \n",
      "DAYS_LAST_PHONE_CHANGE                      -0.014902   \n",
      "FLAG_DOCUMENT_2                             -0.001964   \n",
      "FLAG_DOCUMENT_3                             -0.013992   \n",
      "FLAG_DOCUMENT_4                              0.000156   \n",
      "FLAG_DOCUMENT_5                              0.026158   \n",
      "FLAG_DOCUMENT_6                             -0.069582   \n",
      "FLAG_DOCUMENT_7                              0.002103   \n",
      "FLAG_DOCUMENT_8                              0.033338   \n",
      "FLAG_DOCUMENT_9                              0.016209   \n",
      "FLAG_DOCUMENT_10                            -0.002597   \n",
      "FLAG_DOCUMENT_11                             0.014224   \n",
      "FLAG_DOCUMENT_12                             0.003465   \n",
      "FLAG_DOCUMENT_13                             0.023929   \n",
      "FLAG_DOCUMENT_14                             0.021618   \n",
      "FLAG_DOCUMENT_15                             0.009465   \n",
      "FLAG_DOCUMENT_16                             0.019066   \n",
      "FLAG_DOCUMENT_17                             0.005233   \n",
      "FLAG_DOCUMENT_18                             0.021584   \n",
      "FLAG_DOCUMENT_19                             0.002507   \n",
      "FLAG_DOCUMENT_20                             0.003277   \n",
      "FLAG_DOCUMENT_21                             0.003998   \n",
      "AMT_REQ_CREDIT_BUREAU_HOUR                  -0.014346   \n",
      "AMT_REQ_CREDIT_BUREAU_DAY                    0.002502   \n",
      "AMT_REQ_CREDIT_BUREAU_WEEK                  -0.001711   \n",
      "AMT_REQ_CREDIT_BUREAU_MON                    0.036528   \n",
      "AMT_REQ_CREDIT_BUREAU_QRT                    0.001454   \n",
      "AMT_REQ_CREDIT_BUREAU_YEAR                  -0.025262   \n",
      "\n",
      "                              REG_REGION_NOT_LIVE_REGION  \\\n",
      "SK_ID_CURR                                     -0.000283   \n",
      "TARGET                                          0.005576   \n",
      "CNT_CHILDREN                                   -0.013319   \n",
      "AMT_INCOME_TOTAL                                0.031191   \n",
      "AMT_CREDIT                                      0.024010   \n",
      "AMT_ANNUITY                                     0.041291   \n",
      "AMT_GOODS_PRICE                                 0.026119   \n",
      "REGION_POPULATION_RELATIVE                      0.002118   \n",
      "DAYS_BIRTH                                      0.065486   \n",
      "DAYS_EMPLOYED                                  -0.035803   \n",
      "DAYS_REGISTRATION                               0.028213   \n",
      "DAYS_ID_PUBLISH                                 0.034757   \n",
      "OWN_CAR_AGE                                    -0.011362   \n",
      "FLAG_MOBIL                                      0.000224   \n",
      "FLAG_EMP_PHONE                                  0.036640   \n",
      "FLAG_WORK_PHONE                                 0.064484   \n",
      "FLAG_CONT_MOBILE                                0.001044   \n",
      "FLAG_PHONE                                      0.002078   \n",
      "FLAG_EMAIL                                      0.018632   \n",
      "CNT_FAM_MEMBERS                                -0.017133   \n",
      "REGION_RATING_CLIENT                           -0.044166   \n",
      "REGION_RATING_CLIENT_W_CITY                    -0.041143   \n",
      "HOUR_APPR_PROCESS_START                         0.054894   \n",
      "REG_REGION_NOT_LIVE_REGION                      1.000000   \n",
      "REG_REGION_NOT_WORK_REGION                      0.450804   \n",
      "LIVE_REGION_NOT_WORK_REGION                     0.088263   \n",
      "REG_CITY_NOT_LIVE_CITY                          0.339232   \n",
      "REG_CITY_NOT_WORK_CITY                          0.143075   \n",
      "LIVE_CITY_NOT_WORK_CITY                         0.009838   \n",
      "EXT_SOURCE_1                                   -0.024259   \n",
      "EXT_SOURCE_2                                    0.015564   \n",
      "EXT_SOURCE_3                                   -0.041597   \n",
      "APARTMENTS_AVG                                 -0.001902   \n",
      "BASEMENTAREA_AVG                                0.000066   \n",
      "YEARS_BEGINEXPLUATATION_AVG                     0.001852   \n",
      "YEARS_BUILD_AVG                                 0.003802   \n",
      "COMMONAREA_AVG                                  0.003635   \n",
      "ELEVATORS_AVG                                  -0.000713   \n",
      "ENTRANCES_AVG                                  -0.002706   \n",
      "FLOORSMAX_AVG                                  -0.001011   \n",
      "FLOORSMIN_AVG                                   0.004706   \n",
      "LANDAREA_AVG                                   -0.010904   \n",
      "LIVINGAPARTMENTS_AVG                            0.001774   \n",
      "LIVINGAREA_AVG                                 -0.001409   \n",
      "NONLIVINGAPARTMENTS_AVG                        -0.001665   \n",
      "NONLIVINGAREA_AVG                              -0.000616   \n",
      "APARTMENTS_MODE                                -0.003329   \n",
      "BASEMENTAREA_MODE                              -0.000398   \n",
      "YEARS_BEGINEXPLUATATION_MODE                    0.002086   \n",
      "YEARS_BUILD_MODE                                0.003790   \n",
      "COMMONAREA_MODE                                 0.001837   \n",
      "ELEVATORS_MODE                                 -0.001444   \n",
      "ENTRANCES_MODE                                 -0.002585   \n",
      "FLOORSMAX_MODE                                 -0.000798   \n",
      "FLOORSMIN_MODE                                  0.004781   \n",
      "LANDAREA_MODE                                  -0.011450   \n",
      "LIVINGAPARTMENTS_MODE                          -0.000234   \n",
      "LIVINGAREA_MODE                                -0.002684   \n",
      "NONLIVINGAPARTMENTS_MODE                       -0.001410   \n",
      "NONLIVINGAREA_MODE                             -0.001877   \n",
      "APARTMENTS_MEDI                                -0.002362   \n",
      "BASEMENTAREA_MEDI                              -0.000065   \n",
      "YEARS_BEGINEXPLUATATION_MEDI                    0.001770   \n",
      "YEARS_BUILD_MEDI                                0.003599   \n",
      "COMMONAREA_MEDI                                 0.003436   \n",
      "ELEVATORS_MEDI                                 -0.000960   \n",
      "ENTRANCES_MEDI                                 -0.002740   \n",
      "FLOORSMAX_MEDI                                 -0.001136   \n",
      "FLOORSMIN_MEDI                                  0.004591   \n",
      "LANDAREA_MEDI                                  -0.011048   \n",
      "LIVINGAPARTMENTS_MEDI                           0.001479   \n",
      "LIVINGAREA_MEDI                                -0.001646   \n",
      "NONLIVINGAPARTMENTS_MEDI                       -0.001485   \n",
      "NONLIVINGAREA_MEDI                             -0.001118   \n",
      "TOTALAREA_MODE                                 -0.001032   \n",
      "OBS_30_CNT_SOCIAL_CIRCLE                       -0.020588   \n",
      "DEF_30_CNT_SOCIAL_CIRCLE                       -0.007922   \n",
      "OBS_60_CNT_SOCIAL_CIRCLE                       -0.020540   \n",
      "DEF_60_CNT_SOCIAL_CIRCLE                       -0.007684   \n",
      "DAYS_LAST_PHONE_CHANGE                          0.037881   \n",
      "FLAG_DOCUMENT_2                                -0.000806   \n",
      "FLAG_DOCUMENT_3                                -0.033659   \n",
      "FLAG_DOCUMENT_4                                -0.001118   \n",
      "FLAG_DOCUMENT_5                                 0.009517   \n",
      "FLAG_DOCUMENT_6                                -0.024062   \n",
      "FLAG_DOCUMENT_7                                 0.002127   \n",
      "FLAG_DOCUMENT_8                                 0.023669   \n",
      "FLAG_DOCUMENT_9                                 0.017464   \n",
      "FLAG_DOCUMENT_10                                0.004989   \n",
      "FLAG_DOCUMENT_11                                0.103987   \n",
      "FLAG_DOCUMENT_12                               -0.000316   \n",
      "FLAG_DOCUMENT_13                                0.003407   \n",
      "FLAG_DOCUMENT_14                                0.002128   \n",
      "FLAG_DOCUMENT_15                               -0.002017   \n",
      "FLAG_DOCUMENT_16                               -0.006509   \n",
      "FLAG_DOCUMENT_17                                0.004498   \n",
      "FLAG_DOCUMENT_18                                0.008344   \n",
      "FLAG_DOCUMENT_19                               -0.001934   \n",
      "FLAG_DOCUMENT_20                               -0.002794   \n",
      "FLAG_DOCUMENT_21                                0.005006   \n",
      "AMT_REQ_CREDIT_BUREAU_HOUR                     -0.002318   \n",
      "AMT_REQ_CREDIT_BUREAU_DAY                      -0.001602   \n",
      "AMT_REQ_CREDIT_BUREAU_WEEK                      0.000081   \n",
      "AMT_REQ_CREDIT_BUREAU_MON                      -0.001496   \n",
      "AMT_REQ_CREDIT_BUREAU_QRT                      -0.003664   \n",
      "AMT_REQ_CREDIT_BUREAU_YEAR                     -0.018148   \n",
      "\n",
      "                              REG_REGION_NOT_WORK_REGION  \\\n",
      "SK_ID_CURR                                      0.001097   \n",
      "TARGET                                          0.006942   \n",
      "CNT_CHILDREN                                    0.008185   \n",
      "AMT_INCOME_TOTAL                                0.062340   \n",
      "AMT_CREDIT                                      0.051929   \n",
      "AMT_ANNUITY                                     0.079403   \n",
      "AMT_GOODS_PRICE                                 0.053146   \n",
      "REGION_POPULATION_RELATIVE                      0.056944   \n",
      "DAYS_BIRTH                                      0.095819   \n",
      "DAYS_EMPLOYED                                  -0.107150   \n",
      "DAYS_REGISTRATION                               0.036787   \n",
      "DAYS_ID_PUBLISH                                 0.048071   \n",
      "OWN_CAR_AGE                                    -0.012123   \n",
      "FLAG_MOBIL                                      0.000417   \n",
      "FLAG_EMP_PHONE                                  0.108355   \n",
      "FLAG_WORK_PHONE                                 0.068202   \n",
      "FLAG_CONT_MOBILE                               -0.001324   \n",
      "FLAG_PHONE                                      0.004284   \n",
      "FLAG_EMAIL                                      0.031092   \n",
      "CNT_FAM_MEMBERS                                 0.003133   \n",
      "REGION_RATING_CLIENT                           -0.139890   \n",
      "REGION_RATING_CLIENT_W_CITY                    -0.133423   \n",
      "HOUR_APPR_PROCESS_START                         0.075037   \n",
      "REG_REGION_NOT_LIVE_REGION                      0.450804   \n",
      "REG_REGION_NOT_WORK_REGION                      1.000000   \n",
      "LIVE_REGION_NOT_WORK_REGION                     0.860627   \n",
      "REG_CITY_NOT_LIVE_CITY                          0.151397   \n",
      "REG_CITY_NOT_WORK_CITY                          0.239765   \n",
      "LIVE_CITY_NOT_WORK_CITY                         0.197097   \n",
      "EXT_SOURCE_1                                   -0.035229   \n",
      "EXT_SOURCE_2                                    0.029509   \n",
      "EXT_SOURCE_3                                   -0.042168   \n",
      "APARTMENTS_AVG                                  0.001182   \n",
      "BASEMENTAREA_AVG                               -0.004799   \n",
      "YEARS_BEGINEXPLUATATION_AVG                     0.008179   \n",
      "YEARS_BUILD_AVG                                 0.011201   \n",
      "COMMONAREA_AVG                                  0.006450   \n",
      "ELEVATORS_AVG                                   0.004295   \n",
      "ENTRANCES_AVG                                  -0.009405   \n",
      "FLOORSMAX_AVG                                   0.014581   \n",
      "FLOORSMIN_AVG                                   0.022078   \n",
      "LANDAREA_AVG                                   -0.010689   \n",
      "LIVINGAPARTMENTS_AVG                            0.004592   \n",
      "LIVINGAREA_AVG                                  0.003439   \n",
      "NONLIVINGAPARTMENTS_AVG                         0.000434   \n",
      "NONLIVINGAREA_AVG                               0.001194   \n",
      "APARTMENTS_MODE                                 0.001596   \n",
      "BASEMENTAREA_MODE                              -0.004690   \n",
      "YEARS_BEGINEXPLUATATION_MODE                    0.008662   \n",
      "YEARS_BUILD_MODE                                0.011444   \n",
      "COMMONAREA_MODE                                 0.006087   \n",
      "ELEVATORS_MODE                                  0.004991   \n",
      "ENTRANCES_MODE                                 -0.008067   \n",
      "FLOORSMAX_MODE                                  0.015018   \n",
      "FLOORSMIN_MODE                                  0.022699   \n",
      "LANDAREA_MODE                                  -0.010360   \n",
      "LIVINGAPARTMENTS_MODE                           0.004316   \n",
      "LIVINGAREA_MODE                                 0.003456   \n",
      "NONLIVINGAPARTMENTS_MODE                        0.001250   \n",
      "NONLIVINGAREA_MODE                              0.001212   \n",
      "APARTMENTS_MEDI                                 0.001221   \n",
      "BASEMENTAREA_MEDI                              -0.004874   \n",
      "YEARS_BEGINEXPLUATATION_MEDI                    0.008152   \n",
      "YEARS_BUILD_MEDI                                0.011199   \n",
      "COMMONAREA_MEDI                                 0.006587   \n",
      "ELEVATORS_MEDI                                  0.004592   \n",
      "ENTRANCES_MEDI                                 -0.009359   \n",
      "FLOORSMAX_MEDI                                  0.014801   \n",
      "FLOORSMIN_MEDI                                  0.022133   \n",
      "LANDAREA_MEDI                                  -0.010578   \n",
      "LIVINGAPARTMENTS_MEDI                           0.004832   \n",
      "LIVINGAREA_MEDI                                 0.003676   \n",
      "NONLIVINGAPARTMENTS_MEDI                        0.000829   \n",
      "NONLIVINGAREA_MEDI                              0.001353   \n",
      "TOTALAREA_MODE                                  0.006598   \n",
      "OBS_30_CNT_SOCIAL_CIRCLE                       -0.028871   \n",
      "DEF_30_CNT_SOCIAL_CIRCLE                       -0.017491   \n",
      "OBS_60_CNT_SOCIAL_CIRCLE                       -0.028967   \n",
      "DEF_60_CNT_SOCIAL_CIRCLE                       -0.017067   \n",
      "DAYS_LAST_PHONE_CHANGE                          0.036389   \n",
      "FLAG_DOCUMENT_2                                 0.000775   \n",
      "FLAG_DOCUMENT_3                                -0.021021   \n",
      "FLAG_DOCUMENT_4                                -0.002085   \n",
      "FLAG_DOCUMENT_5                                 0.015787   \n",
      "FLAG_DOCUMENT_6                                -0.066949   \n",
      "FLAG_DOCUMENT_7                                 0.002144   \n",
      "FLAG_DOCUMENT_8                                 0.059899   \n",
      "FLAG_DOCUMENT_9                                 0.020255   \n",
      "FLAG_DOCUMENT_10                                0.002001   \n",
      "FLAG_DOCUMENT_11                                0.059071   \n",
      "FLAG_DOCUMENT_12                               -0.000590   \n",
      "FLAG_DOCUMENT_13                                0.012489   \n",
      "FLAG_DOCUMENT_14                                0.013183   \n",
      "FLAG_DOCUMENT_15                                0.002606   \n",
      "FLAG_DOCUMENT_16                                0.000897   \n",
      "FLAG_DOCUMENT_17                                0.001667   \n",
      "FLAG_DOCUMENT_18                                0.007436   \n",
      "FLAG_DOCUMENT_19                                0.001038   \n",
      "FLAG_DOCUMENT_20                               -0.001263   \n",
      "FLAG_DOCUMENT_21                               -0.000995   \n",
      "AMT_REQ_CREDIT_BUREAU_HOUR                     -0.001986   \n",
      "AMT_REQ_CREDIT_BUREAU_DAY                      -0.001945   \n",
      "AMT_REQ_CREDIT_BUREAU_WEEK                     -0.001478   \n",
      "AMT_REQ_CREDIT_BUREAU_MON                       0.006208   \n",
      "AMT_REQ_CREDIT_BUREAU_QRT                      -0.006172   \n",
      "AMT_REQ_CREDIT_BUREAU_YEAR                     -0.021902   \n",
      "\n",
      "                              LIVE_REGION_NOT_WORK_REGION  \\\n",
      "SK_ID_CURR                                       0.002903   \n",
      "TARGET                                           0.002819   \n",
      "CNT_CHILDREN                                     0.014835   \n",
      "AMT_INCOME_TOTAL                                 0.058059   \n",
      "AMT_CREDIT                                       0.052609   \n",
      "AMT_ANNUITY                                      0.074530   \n",
      "AMT_GOODS_PRICE                                  0.052829   \n",
      "REGION_POPULATION_RELATIVE                       0.081016   \n",
      "DAYS_BIRTH                                       0.069567   \n",
      "DAYS_EMPLOYED                                   -0.095539   \n",
      "DAYS_REGISTRATION                                0.027560   \n",
      "DAYS_ID_PUBLISH                                  0.033938   \n",
      "OWN_CAR_AGE                                     -0.009389   \n",
      "FLAG_MOBIL                                       0.000371   \n",
      "FLAG_EMP_PHONE                                   0.096447   \n",
      "FLAG_WORK_PHONE                                  0.041513   \n",
      "FLAG_CONT_MOBILE                                -0.002923   \n",
      "FLAG_PHONE                                       0.005561   \n",
      "FLAG_EMAIL                                       0.026540   \n",
      "CNT_FAM_MEMBERS                                  0.011847   \n",
      "REGION_RATING_CLIENT                            -0.146561   \n",
      "REGION_RATING_CLIENT_W_CITY                     -0.140771   \n",
      "HOUR_APPR_PROCESS_START                          0.060920   \n",
      "REG_REGION_NOT_LIVE_REGION                       0.088263   \n",
      "REG_REGION_NOT_WORK_REGION                       0.860627   \n",
      "LIVE_REGION_NOT_WORK_REGION                      1.000000   \n",
      "REG_CITY_NOT_LIVE_CITY                           0.021076   \n",
      "REG_CITY_NOT_WORK_CITY                           0.185863   \n",
      "LIVE_CITY_NOT_WORK_CITY                          0.236635   \n",
      "EXT_SOURCE_1                                    -0.022056   \n",
      "EXT_SOURCE_2                                     0.030038   \n",
      "EXT_SOURCE_3                                    -0.025485   \n",
      "APARTMENTS_AVG                                   0.010857   \n",
      "BASEMENTAREA_AVG                                 0.000162   \n",
      "YEARS_BEGINEXPLUATATION_AVG                      0.008799   \n",
      "YEARS_BUILD_AVG                                  0.009873   \n",
      "COMMONAREA_AVG                                   0.014539   \n",
      "ELEVATORS_AVG                                    0.017649   \n",
      "ENTRANCES_AVG                                   -0.005568   \n",
      "FLOORSMAX_AVG                                    0.027807   \n",
      "FLOORSMIN_AVG                                    0.030120   \n",
      "LANDAREA_AVG                                    -0.006296   \n",
      "LIVINGAPARTMENTS_AVG                             0.012558   \n",
      "LIVINGAREA_AVG                                   0.013768   \n",
      "NONLIVINGAPARTMENTS_AVG                          0.002992   \n",
      "NONLIVINGAREA_AVG                                0.007234   \n",
      "APARTMENTS_MODE                                  0.010651   \n",
      "BASEMENTAREA_MODE                               -0.000244   \n",
      "YEARS_BEGINEXPLUATATION_MODE                     0.009209   \n",
      "YEARS_BUILD_MODE                                 0.009856   \n",
      "COMMONAREA_MODE                                  0.013805   \n",
      "ELEVATORS_MODE                                   0.017624   \n",
      "ENTRANCES_MODE                                  -0.005032   \n",
      "FLOORSMAX_MODE                                   0.027695   \n",
      "FLOORSMIN_MODE                                   0.030270   \n",
      "LANDAREA_MODE                                   -0.006346   \n",
      "LIVINGAPARTMENTS_MODE                            0.011857   \n",
      "LIVINGAREA_MODE                                  0.013028   \n",
      "NONLIVINGAPARTMENTS_MODE                         0.003581   \n",
      "NONLIVINGAREA_MODE                               0.006775   \n",
      "APARTMENTS_MEDI                                  0.010807   \n",
      "BASEMENTAREA_MEDI                               -0.000008   \n",
      "YEARS_BEGINEXPLUATATION_MEDI                     0.008768   \n",
      "YEARS_BUILD_MEDI                                 0.009766   \n",
      "COMMONAREA_MEDI                                  0.014576   \n",
      "ELEVATORS_MEDI                                   0.017687   \n",
      "ENTRANCES_MEDI                                  -0.005592   \n",
      "FLOORSMAX_MEDI                                   0.027878   \n",
      "FLOORSMIN_MEDI                                   0.030086   \n",
      "LANDAREA_MEDI                                   -0.006267   \n",
      "LIVINGAPARTMENTS_MEDI                            0.012649   \n",
      "LIVINGAREA_MEDI                                  0.013856   \n",
      "NONLIVINGAPARTMENTS_MEDI                         0.003353   \n",
      "NONLIVINGAREA_MEDI                               0.007042   \n",
      "TOTALAREA_MODE                                   0.017385   \n",
      "OBS_30_CNT_SOCIAL_CIRCLE                        -0.023268   \n",
      "DEF_30_CNT_SOCIAL_CIRCLE                        -0.017027   \n",
      "OBS_60_CNT_SOCIAL_CIRCLE                        -0.023363   \n",
      "DEF_60_CNT_SOCIAL_CIRCLE                        -0.016740   \n",
      "DAYS_LAST_PHONE_CHANGE                           0.021361   \n",
      "FLAG_DOCUMENT_2                                  0.001194   \n",
      "FLAG_DOCUMENT_3                                 -0.011083   \n",
      "FLAG_DOCUMENT_4                                 -0.001856   \n",
      "FLAG_DOCUMENT_5                                  0.013363   \n",
      "FLAG_DOCUMENT_6                                 -0.059148   \n",
      "FLAG_DOCUMENT_7                                  0.000715   \n",
      "FLAG_DOCUMENT_8                                  0.060136   \n",
      "FLAG_DOCUMENT_9                                  0.015143   \n",
      "FLAG_DOCUMENT_10                                -0.000982   \n",
      "FLAG_DOCUMENT_11                                 0.007409   \n",
      "FLAG_DOCUMENT_12                                -0.000525   \n",
      "FLAG_DOCUMENT_13                                 0.016093   \n",
      "FLAG_DOCUMENT_14                                 0.013780   \n",
      "FLAG_DOCUMENT_15                                 0.003730   \n",
      "FLAG_DOCUMENT_16                                 0.004296   \n",
      "FLAG_DOCUMENT_17                                -0.001345   \n",
      "FLAG_DOCUMENT_18                                 0.004282   \n",
      "FLAG_DOCUMENT_19                                 0.003078   \n",
      "FLAG_DOCUMENT_20                                -0.000251   \n",
      "FLAG_DOCUMENT_21                                -0.001969   \n",
      "AMT_REQ_CREDIT_BUREAU_HOUR                      -0.001106   \n",
      "AMT_REQ_CREDIT_BUREAU_DAY                       -0.001072   \n",
      "AMT_REQ_CREDIT_BUREAU_WEEK                      -0.001780   \n",
      "AMT_REQ_CREDIT_BUREAU_MON                        0.008708   \n",
      "AMT_REQ_CREDIT_BUREAU_QRT                       -0.005999   \n",
      "AMT_REQ_CREDIT_BUREAU_YEAR                      -0.017021   \n",
      "\n",
      "                              REG_CITY_NOT_LIVE_CITY  REG_CITY_NOT_WORK_CITY  \\\n",
      "SK_ID_CURR                                 -0.001885               -0.001582   \n",
      "TARGET                                      0.044395                0.050994   \n",
      "CNT_CHILDREN                                0.020072                0.070650   \n",
      "AMT_INCOME_TOTAL                            0.003574                0.006431   \n",
      "AMT_CREDIT                                 -0.026886               -0.018856   \n",
      "AMT_ANNUITY                                -0.006217                0.000894   \n",
      "AMT_GOODS_PRICE                            -0.027206               -0.020348   \n",
      "REGION_POPULATION_RELATIVE                 -0.050499               -0.044057   \n",
      "DAYS_BIRTH                                  0.180382                0.242401   \n",
      "DAYS_EMPLOYED                              -0.090516               -0.254559   \n",
      "DAYS_REGISTRATION                           0.064334                0.099874   \n",
      "DAYS_ID_PUBLISH                             0.076326                0.099354   \n",
      "OWN_CAR_AGE                                 0.005932                0.025367   \n",
      "FLAG_MOBIL                                  0.000525                0.000987   \n",
      "FLAG_EMP_PHONE                              0.092166                0.256427   \n",
      "FLAG_WORK_PHONE                             0.045948                0.121000   \n",
      "FLAG_CONT_MOBILE                           -0.000878                0.003270   \n",
      "FLAG_PHONE                                 -0.048496               -0.045717   \n",
      "FLAG_EMAIL                                  0.014272                0.004154   \n",
      "CNT_FAM_MEMBERS                             0.012253                0.070719   \n",
      "REGION_RATING_CLIENT                        0.035741                0.008360   \n",
      "REGION_RATING_CLIENT_W_CITY                 0.045669                0.028081   \n",
      "HOUR_APPR_PROCESS_START                     0.016976                0.021504   \n",
      "REG_REGION_NOT_LIVE_REGION                  0.339232                0.143075   \n",
      "REG_REGION_NOT_WORK_REGION                  0.151397                0.239765   \n",
      "LIVE_REGION_NOT_WORK_REGION                 0.021076                0.185863   \n",
      "REG_CITY_NOT_LIVE_CITY                      1.000000                0.440409   \n",
      "REG_CITY_NOT_WORK_CITY                      0.440409                1.000000   \n",
      "LIVE_CITY_NOT_WORK_CITY                     0.028112                0.825575   \n",
      "EXT_SOURCE_1                               -0.100070               -0.126564   \n",
      "EXT_SOURCE_2                               -0.043222               -0.075868   \n",
      "EXT_SOURCE_3                               -0.067246               -0.069288   \n",
      "APARTMENTS_AVG                             -0.055172               -0.101254   \n",
      "BASEMENTAREA_AVG                           -0.027876               -0.053268   \n",
      "YEARS_BEGINEXPLUATATION_AVG                 0.000494                0.002870   \n",
      "YEARS_BUILD_AVG                             0.005751                0.015870   \n",
      "COMMONAREA_AVG                             -0.034571               -0.061212   \n",
      "ELEVATORS_AVG                              -0.078803               -0.139462   \n",
      "ENTRANCES_AVG                              -0.026238               -0.045928   \n",
      "FLOORSMAX_AVG                              -0.077235               -0.134419   \n",
      "FLOORSMIN_AVG                              -0.029622               -0.055735   \n",
      "LANDAREA_AVG                               -0.035468               -0.059932   \n",
      "LIVINGAPARTMENTS_AVG                       -0.038652               -0.073444   \n",
      "LIVINGAREA_AVG                             -0.057195               -0.101804   \n",
      "NONLIVINGAPARTMENTS_AVG                    -0.019790               -0.030592   \n",
      "NONLIVINGAREA_AVG                          -0.044756               -0.073888   \n",
      "APARTMENTS_MODE                            -0.054012               -0.097836   \n",
      "BASEMENTAREA_MODE                          -0.026737               -0.050550   \n",
      "YEARS_BEGINEXPLUATATION_MODE                0.002102                0.005426   \n",
      "YEARS_BUILD_MODE                            0.008229                0.020140   \n",
      "COMMONAREA_MODE                            -0.034736               -0.060607   \n",
      "ELEVATORS_MODE                             -0.075865               -0.133160   \n",
      "ENTRANCES_MODE                             -0.019190               -0.033132   \n",
      "FLOORSMAX_MODE                             -0.073898               -0.128446   \n",
      "FLOORSMIN_MODE                             -0.026763               -0.050597   \n",
      "LANDAREA_MODE                              -0.035254               -0.059474   \n",
      "LIVINGAPARTMENTS_MODE                      -0.039574               -0.074046   \n",
      "LIVINGAREA_MODE                            -0.055128               -0.097093   \n",
      "NONLIVINGAPARTMENTS_MODE                   -0.018315               -0.027720   \n",
      "NONLIVINGAREA_MODE                         -0.044932               -0.072721   \n",
      "APARTMENTS_MEDI                            -0.056178               -0.102565   \n",
      "BASEMENTAREA_MEDI                          -0.027795               -0.052859   \n",
      "YEARS_BEGINEXPLUATATION_MEDI                0.000422                0.002743   \n",
      "YEARS_BUILD_MEDI                            0.005706                0.015982   \n",
      "COMMONAREA_MEDI                            -0.034763               -0.061370   \n",
      "ELEVATORS_MEDI                             -0.078079               -0.137908   \n",
      "ENTRANCES_MEDI                             -0.025350               -0.044334   \n",
      "FLOORSMAX_MEDI                             -0.076694               -0.133295   \n",
      "FLOORSMIN_MEDI                             -0.029295               -0.055196   \n",
      "LANDAREA_MEDI                              -0.035385               -0.059824   \n",
      "LIVINGAPARTMENTS_MEDI                      -0.038941               -0.073638   \n",
      "LIVINGAREA_MEDI                            -0.057231               -0.101558   \n",
      "NONLIVINGAPARTMENTS_MEDI                   -0.019412               -0.029895   \n",
      "NONLIVINGAREA_MEDI                         -0.044575               -0.073245   \n",
      "TOTALAREA_MODE                             -0.059851               -0.105969   \n",
      "OBS_30_CNT_SOCIAL_CIRCLE                   -0.012475               -0.004374   \n",
      "DEF_30_CNT_SOCIAL_CIRCLE                    0.007218                0.000622   \n",
      "OBS_60_CNT_SOCIAL_CIRCLE                   -0.012585               -0.004568   \n",
      "DEF_60_CNT_SOCIAL_CIRCLE                    0.007599                0.001993   \n",
      "DAYS_LAST_PHONE_CHANGE                      0.054183                0.046787   \n",
      "FLAG_DOCUMENT_2                            -0.001893               -0.002370   \n",
      "FLAG_DOCUMENT_3                             0.003117                0.056275   \n",
      "FLAG_DOCUMENT_4                             0.000061               -0.002365   \n",
      "FLAG_DOCUMENT_5                            -0.000134                0.012142   \n",
      "FLAG_DOCUMENT_6                            -0.058214               -0.157457   \n",
      "FLAG_DOCUMENT_7                            -0.001410                0.001340   \n",
      "FLAG_DOCUMENT_8                             0.018113                0.042820   \n",
      "FLAG_DOCUMENT_9                             0.005318               -0.001374   \n",
      "FLAG_DOCUMENT_10                            0.003689                0.000626   \n",
      "FLAG_DOCUMENT_11                            0.055105                0.034236   \n",
      "FLAG_DOCUMENT_12                           -0.000743               -0.001396   \n",
      "FLAG_DOCUMENT_13                            0.000258               -0.000887   \n",
      "FLAG_DOCUMENT_14                           -0.004162               -0.005580   \n",
      "FLAG_DOCUMENT_15                           -0.002468               -0.001495   \n",
      "FLAG_DOCUMENT_16                           -0.012666               -0.004095   \n",
      "FLAG_DOCUMENT_17                           -0.001046                0.001467   \n",
      "FLAG_DOCUMENT_18                            0.013432                0.013919   \n",
      "FLAG_DOCUMENT_19                           -0.005119               -0.003854   \n",
      "FLAG_DOCUMENT_20                           -0.001181                0.000703   \n",
      "FLAG_DOCUMENT_21                            0.002614                0.003487   \n",
      "AMT_REQ_CREDIT_BUREAU_HOUR                 -0.000330               -0.000343   \n",
      "AMT_REQ_CREDIT_BUREAU_DAY                  -0.002652               -0.002481   \n",
      "AMT_REQ_CREDIT_BUREAU_WEEK                 -0.003207               -0.004265   \n",
      "AMT_REQ_CREDIT_BUREAU_MON                  -0.013036               -0.014177   \n",
      "AMT_REQ_CREDIT_BUREAU_QRT                  -0.002769               -0.008212   \n",
      "AMT_REQ_CREDIT_BUREAU_YEAR                 -0.009472               -0.012174   \n",
      "\n",
      "                              LIVE_CITY_NOT_WORK_CITY  EXT_SOURCE_1  \\\n",
      "SK_ID_CURR                                   0.000067      0.000060   \n",
      "TARGET                                       0.032518     -0.098887   \n",
      "CNT_CHILDREN                                 0.069957     -0.098389   \n",
      "AMT_INCOME_TOTAL                             0.008285      0.024389   \n",
      "AMT_CREDIT                                   0.000081      0.113983   \n",
      "AMT_ANNUITY                                  0.010080      0.080747   \n",
      "AMT_GOODS_PRICE                             -0.001334      0.119068   \n",
      "REGION_POPULATION_RELATIVE                  -0.015188      0.066912   \n",
      "DAYS_BIRTH                                   0.158882     -0.362185   \n",
      "DAYS_EMPLOYED                               -0.218101      0.149234   \n",
      "DAYS_REGISTRATION                            0.072658     -0.111284   \n",
      "DAYS_ID_PUBLISH                              0.061094     -0.089020   \n",
      "OWN_CAR_AGE                                  0.023490     -0.040795   \n",
      "FLAG_MOBIL                                   0.000844     -0.000022   \n",
      "FLAG_EMP_PHONE                               0.219219     -0.151509   \n",
      "FLAG_WORK_PHONE                              0.109890     -0.053343   \n",
      "FLAG_CONT_MOBILE                             0.003742      0.001897   \n",
      "FLAG_PHONE                                  -0.023580      0.053942   \n",
      "FLAG_EMAIL                                  -0.004058      0.011126   \n",
      "CNT_FAM_MEMBERS                              0.077496     -0.067929   \n",
      "REGION_RATING_CLIENT                        -0.019154     -0.078013   \n",
      "REGION_RATING_CLIENT_W_CITY                 -0.002805     -0.077968   \n",
      "HOUR_APPR_PROCESS_START                      0.015507      0.020872   \n",
      "REG_REGION_NOT_LIVE_REGION                   0.009838     -0.024259   \n",
      "REG_REGION_NOT_WORK_REGION                   0.197097     -0.035229   \n",
      "LIVE_REGION_NOT_WORK_REGION                  0.236635     -0.022056   \n",
      "REG_CITY_NOT_LIVE_CITY                       0.028112     -0.100070   \n",
      "REG_CITY_NOT_WORK_CITY                       0.825575     -0.126564   \n",
      "LIVE_CITY_NOT_WORK_CITY                      1.000000     -0.080196   \n",
      "EXT_SOURCE_1                                -0.080196      1.000000   \n",
      "EXT_SOURCE_2                                -0.058823      0.134993   \n",
      "EXT_SOURCE_3                                -0.038631      0.109100   \n",
      "APARTMENTS_AVG                              -0.080706      0.037827   \n",
      "BASEMENTAREA_AVG                            -0.043063      0.024411   \n",
      "YEARS_BEGINEXPLUATATION_AVG                  0.004378     -0.001375   \n",
      "YEARS_BUILD_AVG                              0.013867      0.006959   \n",
      "COMMONAREA_AVG                              -0.047595      0.024283   \n",
      "ELEVATORS_AVG                               -0.109107      0.056834   \n",
      "ENTRANCES_AVG                               -0.036968      0.015941   \n",
      "FLOORSMAX_AVG                               -0.103957      0.062126   \n",
      "FLOORSMIN_AVG                               -0.044198      0.035724   \n",
      "LANDAREA_AVG                                -0.047989      0.011382   \n",
      "LIVINGAPARTMENTS_AVG                        -0.059254      0.028241   \n",
      "LIVINGAREA_AVG                              -0.080639      0.045374   \n",
      "NONLIVINGAPARTMENTS_AVG                     -0.021964      0.012818   \n",
      "NONLIVINGAREA_AVG                           -0.056717      0.029778   \n",
      "APARTMENTS_MODE                             -0.077822      0.034953   \n",
      "BASEMENTAREA_MODE                           -0.040593      0.022254   \n",
      "YEARS_BEGINEXPLUATATION_MODE                 0.006158     -0.001935   \n",
      "YEARS_BUILD_MODE                             0.017135      0.005504   \n",
      "COMMONAREA_MODE                             -0.047090      0.022302   \n",
      "ELEVATORS_MODE                              -0.104062      0.053604   \n",
      "ENTRANCES_MODE                              -0.026837      0.011655   \n",
      "FLOORSMAX_MODE                              -0.099278      0.059771   \n",
      "FLOORSMIN_MODE                              -0.040181      0.033706   \n",
      "LANDAREA_MODE                               -0.047501      0.010419   \n",
      "LIVINGAPARTMENTS_MODE                       -0.059531      0.026189   \n",
      "LIVINGAREA_MODE                             -0.076780      0.042304   \n",
      "NONLIVINGAPARTMENTS_MODE                    -0.019561      0.011775   \n",
      "NONLIVINGAREA_MODE                          -0.055336      0.027859   \n",
      "APARTMENTS_MEDI                             -0.081636      0.037594   \n",
      "BASEMENTAREA_MEDI                           -0.042687      0.024187   \n",
      "YEARS_BEGINEXPLUATATION_MEDI                 0.004245     -0.001348   \n",
      "YEARS_BUILD_MEDI                             0.013909      0.006780   \n",
      "COMMONAREA_MEDI                             -0.047702      0.023937   \n",
      "ELEVATORS_MEDI                              -0.107912      0.056030   \n",
      "ENTRANCES_MEDI                              -0.035703      0.015281   \n",
      "FLOORSMAX_MEDI                              -0.103063      0.061531   \n",
      "FLOORSMIN_MEDI                              -0.043714      0.035311   \n",
      "LANDAREA_MEDI                               -0.047958      0.011179   \n",
      "LIVINGAPARTMENTS_MEDI                       -0.059405      0.027823   \n",
      "LIVINGAREA_MEDI                             -0.080441      0.044921   \n",
      "NONLIVINGAPARTMENTS_MEDI                    -0.021363      0.012548   \n",
      "NONLIVINGAREA_MEDI                          -0.056110      0.029369   \n",
      "TOTALAREA_MODE                              -0.083045      0.046144   \n",
      "OBS_30_CNT_SOCIAL_CIRCLE                     0.000309     -0.017923   \n",
      "DEF_30_CNT_SOCIAL_CIRCLE                    -0.003964     -0.019053   \n",
      "OBS_60_CNT_SOCIAL_CIRCLE                     0.000165     -0.017630   \n",
      "DEF_60_CNT_SOCIAL_CIRCLE                    -0.003252     -0.020124   \n",
      "DAYS_LAST_PHONE_CHANGE                       0.021388     -0.087115   \n",
      "FLAG_DOCUMENT_2                             -0.001739      0.000851   \n",
      "FLAG_DOCUMENT_3                              0.053945     -0.029469   \n",
      "FLAG_DOCUMENT_4                             -0.002339      0.002605   \n",
      "FLAG_DOCUMENT_5                              0.014196     -0.000467   \n",
      "FLAG_DOCUMENT_6                             -0.133229      0.095341   \n",
      "FLAG_DOCUMENT_7                              0.001472      0.002851   \n",
      "FLAG_DOCUMENT_8                              0.042759     -0.035047   \n",
      "FLAG_DOCUMENT_9                             -0.004911      0.009993   \n",
      "FLAG_DOCUMENT_10                             0.001320      0.001672   \n",
      "FLAG_DOCUMENT_11                             0.002714     -0.010332   \n",
      "FLAG_DOCUMENT_12                            -0.001193      0.001677   \n",
      "FLAG_DOCUMENT_13                            -0.000949     -0.003123   \n",
      "FLAG_DOCUMENT_14                            -0.004876      0.006984   \n",
      "FLAG_DOCUMENT_15                             0.000294      0.001973   \n",
      "FLAG_DOCUMENT_16                             0.003061     -0.000260   \n",
      "FLAG_DOCUMENT_17                             0.001181     -0.001537   \n",
      "FLAG_DOCUMENT_18                             0.006332     -0.018381   \n",
      "FLAG_DOCUMENT_19                            -0.002035      0.003443   \n",
      "FLAG_DOCUMENT_20                             0.001877     -0.003937   \n",
      "FLAG_DOCUMENT_21                             0.004401     -0.012984   \n",
      "AMT_REQ_CREDIT_BUREAU_HOUR                  -0.001280     -0.001461   \n",
      "AMT_REQ_CREDIT_BUREAU_DAY                   -0.002165     -0.002380   \n",
      "AMT_REQ_CREDIT_BUREAU_WEEK                  -0.004004      0.001216   \n",
      "AMT_REQ_CREDIT_BUREAU_MON                   -0.008601      0.023171   \n",
      "AMT_REQ_CREDIT_BUREAU_QRT                   -0.008086      0.001879   \n",
      "AMT_REQ_CREDIT_BUREAU_YEAR                  -0.010307      0.010438   \n",
      "\n",
      "                              EXT_SOURCE_2  EXT_SOURCE_3  APARTMENTS_AVG  \\\n",
      "SK_ID_CURR                        0.002319      0.000184        0.001366   \n",
      "TARGET                           -0.160295     -0.155892       -0.026734   \n",
      "CNT_CHILDREN                     -0.017990     -0.039543       -0.015757   \n",
      "AMT_INCOME_TOTAL                  0.060855     -0.030737        0.041421   \n",
      "AMT_CREDIT                        0.130930      0.036640        0.054396   \n",
      "AMT_ANNUITY                       0.125509      0.026738        0.067905   \n",
      "AMT_GOODS_PRICE                   0.138997      0.040440        0.058741   \n",
      "REGION_POPULATION_RELATIVE        0.198725     -0.004507        0.180877   \n",
      "DAYS_BIRTH                       -0.091947     -0.178527       -0.000421   \n",
      "DAYS_EMPLOYED                    -0.020652      0.101525       -0.013268   \n",
      "DAYS_REGISTRATION                -0.059924     -0.096033       -0.003339   \n",
      "DAYS_ID_PUBLISH                  -0.050881     -0.111864       -0.007754   \n",
      "OWN_CAR_AGE                      -0.033517     -0.010587       -0.025714   \n",
      "FLAG_MOBIL                       -0.000486     -0.000202       -0.000499   \n",
      "FLAG_EMP_PHONE                    0.019346     -0.103098        0.013248   \n",
      "FLAG_WORK_PHONE                  -0.018845     -0.056795       -0.019585   \n",
      "FLAG_CONT_MOBILE                 -0.003535      0.011441       -0.003725   \n",
      "FLAG_PHONE                        0.061120      0.000690        0.052402   \n",
      "FLAG_EMAIL                        0.023686     -0.048081        0.031269   \n",
      "CNT_FAM_MEMBERS                  -0.001832     -0.026752       -0.019531   \n",
      "REGION_RATING_CLIENT             -0.292621     -0.011724       -0.137741   \n",
      "REGION_RATING_CLIENT_W_CITY      -0.288013     -0.011342       -0.155891   \n",
      "HOUR_APPR_PROCESS_START           0.156631     -0.037462        0.072364   \n",
      "REG_REGION_NOT_LIVE_REGION        0.015564     -0.041597       -0.001902   \n",
      "REG_REGION_NOT_WORK_REGION        0.029509     -0.042168        0.001182   \n",
      "LIVE_REGION_NOT_WORK_REGION       0.030038     -0.025485        0.010857   \n",
      "REG_CITY_NOT_LIVE_CITY           -0.043222     -0.067246       -0.055172   \n",
      "REG_CITY_NOT_WORK_CITY           -0.075868     -0.069288       -0.101254   \n",
      "LIVE_CITY_NOT_WORK_CITY          -0.058823     -0.038631       -0.080706   \n",
      "EXT_SOURCE_1                      0.134993      0.109100        0.037827   \n",
      "EXT_SOURCE_2                      1.000000      0.094147        0.084425   \n",
      "EXT_SOURCE_3                      0.094147      1.000000        0.005583   \n",
      "APARTMENTS_AVG                    0.084425      0.005583        1.000000   \n",
      "BASEMENTAREA_AVG                  0.041663      0.006129        0.632546   \n",
      "YEARS_BEGINEXPLUATATION_AVG       0.000589     -0.000863        0.089173   \n",
      "YEARS_BUILD_AVG                   0.005709      0.007706        0.274618   \n",
      "COMMONAREA_AVG                    0.044651     -0.000437        0.452291   \n",
      "ELEVATORS_AVG                     0.118258      0.008321        0.823632   \n",
      "ENTRANCES_AVG                     0.032570      0.008497        0.605020   \n",
      "FLOORSMAX_AVG                     0.124479      0.005118        0.629150   \n",
      "FLOORSMIN_AVG                     0.070718      0.001904        0.378633   \n",
      "LANDAREA_AVG                      0.029360      0.007154        0.475741   \n",
      "LIVINGAPARTMENTS_AVG              0.058823      0.003525        0.771362   \n",
      "LIVINGAREA_AVG                    0.090411      0.005515        0.895655   \n",
      "NONLIVINGAPARTMENTS_AVG           0.021190      0.004071        0.178924   \n",
      "NONLIVINGAREA_AVG                 0.057575      0.000928        0.323485   \n",
      "APARTMENTS_MODE                   0.077766      0.005071        0.974263   \n",
      "BASEMENTAREA_MODE                 0.035519      0.005474        0.617105   \n",
      "YEARS_BEGINEXPLUATATION_MODE     -0.000475     -0.000984        0.083565   \n",
      "YEARS_BUILD_MODE                  0.002647      0.007290        0.269444   \n",
      "COMMONAREA_MODE                   0.040123     -0.000191        0.445639   \n",
      "ELEVATORS_MODE                    0.111612      0.008023        0.812049   \n",
      "ENTRANCES_MODE                    0.022620      0.007322        0.572700   \n",
      "FLOORSMAX_MODE                    0.119125      0.005466        0.624729   \n",
      "FLOORSMIN_MODE                    0.066346      0.002374        0.369041   \n",
      "LANDAREA_MODE                     0.026987      0.006406        0.468466   \n",
      "LIVINGAPARTMENTS_MODE             0.054956      0.003731        0.761209   \n",
      "LIVINGAREA_MODE                   0.082413      0.005345        0.876241   \n",
      "NONLIVINGAPARTMENTS_MODE          0.019023      0.003667        0.172104   \n",
      "NONLIVINGAREA_MODE                0.053633      0.000758        0.311117   \n",
      "APARTMENTS_MEDI                   0.084246      0.005544        0.995234   \n",
      "BASEMENTAREA_MEDI                 0.040848      0.006202        0.632213   \n",
      "YEARS_BEGINEXPLUATATION_MEDI      0.000657     -0.000487        0.088848   \n",
      "YEARS_BUILD_MEDI                  0.005511      0.007536        0.273631   \n",
      "COMMONAREA_MEDI                   0.044109     -0.000497        0.453012   \n",
      "ELEVATORS_MEDI                    0.116984      0.008303        0.822369   \n",
      "ENTRANCES_MEDI                    0.031243      0.008406        0.600957   \n",
      "FLOORSMAX_MEDI                    0.123417      0.005263        0.627125   \n",
      "FLOORSMIN_MEDI                    0.070112      0.001864        0.376906   \n",
      "LANDAREA_MEDI                     0.028734      0.007120        0.477692   \n",
      "LIVINGAPARTMENTS_MEDI             0.058161      0.003407        0.769841   \n",
      "LIVINGAREA_MEDI                   0.089601      0.005436        0.894425   \n",
      "NONLIVINGAPARTMENTS_MEDI          0.020493      0.003813        0.177489   \n",
      "NONLIVINGAREA_MEDI                0.056194      0.000596        0.321557   \n",
      "TOTALAREA_MODE                    0.091452      0.006166        0.881961   \n",
      "OBS_30_CNT_SOCIAL_CIRCLE         -0.019629     -0.001217       -0.019501   \n",
      "DEF_30_CNT_SOCIAL_CIRCLE         -0.030556     -0.032817       -0.011297   \n",
      "OBS_60_CNT_SOCIAL_CIRCLE         -0.019272     -0.001498       -0.019147   \n",
      "DEF_60_CNT_SOCIAL_CIRCLE         -0.032481     -0.030652       -0.012934   \n",
      "DAYS_LAST_PHONE_CHANGE           -0.195460     -0.063544       -0.011872   \n",
      "FLAG_DOCUMENT_2                   0.000895      0.000729        0.003052   \n",
      "FLAG_DOCUMENT_3                  -0.030664     -0.028274       -0.037580   \n",
      "FLAG_DOCUMENT_4                   0.003031      0.002854        0.001657   \n",
      "FLAG_DOCUMENT_5                   0.004258     -0.004924        0.004276   \n",
      "FLAG_DOCUMENT_6                  -0.018597      0.067031       -0.007191   \n",
      "FLAG_DOCUMENT_7                  -0.000526      0.000540        0.002062   \n",
      "FLAG_DOCUMENT_8                   0.050574     -0.014577        0.044291   \n",
      "FLAG_DOCUMENT_9                   0.016658     -0.005082        0.017421   \n",
      "FLAG_DOCUMENT_10                 -0.002064     -0.004077       -0.001776   \n",
      "FLAG_DOCUMENT_11                 -0.004325     -0.007763        0.016516   \n",
      "FLAG_DOCUMENT_12                  0.002186      0.001089        0.004204   \n",
      "FLAG_DOCUMENT_13                  0.023757     -0.000241        0.019005   \n",
      "FLAG_DOCUMENT_14                  0.020993     -0.001700        0.019851   \n",
      "FLAG_DOCUMENT_15                  0.008397      0.000493        0.008939   \n",
      "FLAG_DOCUMENT_16                  0.012984      0.001639        0.007587   \n",
      "FLAG_DOCUMENT_17                  0.002584      0.000928        0.004944   \n",
      "FLAG_DOCUMENT_18                  0.001849     -0.015288        0.005147   \n",
      "FLAG_DOCUMENT_19                  0.003242     -0.002507        0.000712   \n",
      "FLAG_DOCUMENT_20                  0.000600     -0.014049       -0.001168   \n",
      "FLAG_DOCUMENT_21                 -0.007246     -0.011426       -0.002658   \n",
      "AMT_REQ_CREDIT_BUREAU_HOUR       -0.002562     -0.002386        0.002590   \n",
      "AMT_REQ_CREDIT_BUREAU_DAY         0.001563     -0.007818        0.005120   \n",
      "AMT_REQ_CREDIT_BUREAU_WEEK        0.004074     -0.023085        0.001093   \n",
      "AMT_REQ_CREDIT_BUREAU_MON         0.052275     -0.013507        0.036030   \n",
      "AMT_REQ_CREDIT_BUREAU_QRT         0.002634     -0.023487       -0.000912   \n",
      "AMT_REQ_CREDIT_BUREAU_YEAR       -0.012479     -0.074743       -0.010554   \n",
      "\n",
      "                              BASEMENTAREA_AVG  YEARS_BEGINEXPLUATATION_AVG  \\\n",
      "SK_ID_CURR                           -0.001221                     0.001072   \n",
      "TARGET                               -0.017634                    -0.004665   \n",
      "CNT_CHILDREN                         -0.008683                     0.006403   \n",
      "AMT_INCOME_TOTAL                      0.021243                     0.003088   \n",
      "AMT_CREDIT                            0.032349                     0.002088   \n",
      "AMT_ANNUITY                           0.036666                     0.006941   \n",
      "AMT_GOODS_PRICE                       0.035806                     0.002620   \n",
      "REGION_POPULATION_RELATIVE            0.086732                    -0.010035   \n",
      "DAYS_BIRTH                           -0.005027                     0.001402   \n",
      "DAYS_EMPLOYED                        -0.001932                     0.006636   \n",
      "DAYS_REGISTRATION                    -0.020982                     0.011329   \n",
      "DAYS_ID_PUBLISH                      -0.010693                    -0.001806   \n",
      "OWN_CAR_AGE                          -0.014254                     0.002808   \n",
      "FLAG_MOBIL                            0.000717                    -0.000569   \n",
      "FLAG_EMP_PHONE                        0.001830                    -0.006647   \n",
      "FLAG_WORK_PHONE                      -0.007621                     0.000889   \n",
      "FLAG_CONT_MOBILE                     -0.002751                     0.001528   \n",
      "FLAG_PHONE                            0.039606                     0.005123   \n",
      "FLAG_EMAIL                            0.016265                     0.000793   \n",
      "CNT_FAM_MEMBERS                      -0.008638                     0.008238   \n",
      "REGION_RATING_CLIENT                 -0.056863                     0.009627   \n",
      "REGION_RATING_CLIENT_W_CITY          -0.068468                     0.007031   \n",
      "HOUR_APPR_PROCESS_START               0.032992                    -0.010800   \n",
      "REG_REGION_NOT_LIVE_REGION            0.000066                     0.001852   \n",
      "REG_REGION_NOT_WORK_REGION           -0.004799                     0.008179   \n",
      "LIVE_REGION_NOT_WORK_REGION           0.000162                     0.008799   \n",
      "REG_CITY_NOT_LIVE_CITY               -0.027876                     0.000494   \n",
      "REG_CITY_NOT_WORK_CITY               -0.053268                     0.002870   \n",
      "LIVE_CITY_NOT_WORK_CITY              -0.043063                     0.004378   \n",
      "EXT_SOURCE_1                          0.024411                    -0.001375   \n",
      "EXT_SOURCE_2                          0.041663                     0.000589   \n",
      "EXT_SOURCE_3                          0.006129                    -0.000863   \n",
      "APARTMENTS_AVG                        0.632546                     0.089173   \n",
      "BASEMENTAREA_AVG                      1.000000                     0.033484   \n",
      "YEARS_BEGINEXPLUATATION_AVG           0.033484                     1.000000   \n",
      "YEARS_BUILD_AVG                       0.205850                     0.111061   \n",
      "COMMONAREA_AVG                        0.343625                     0.027413   \n",
      "ELEVATORS_AVG                         0.525216                     0.055506   \n",
      "ENTRANCES_AVG                         0.609402                     0.025626   \n",
      "FLOORSMAX_AVG                         0.316517                     0.082607   \n",
      "FLOORSMIN_AVG                         0.194883                     0.042337   \n",
      "LANDAREA_AVG                          0.442930                     0.028659   \n",
      "LIVINGAPARTMENTS_AVG                  0.538499                     0.039778   \n",
      "LIVINGAREA_AVG                        0.645508                     0.057774   \n",
      "NONLIVINGAPARTMENTS_AVG               0.087423                     0.012292   \n",
      "NONLIVINGAREA_AVG                     0.249042                     0.010376   \n",
      "APARTMENTS_MODE                       0.620102                     0.089548   \n",
      "BASEMENTAREA_MODE                     0.973831                     0.031788   \n",
      "YEARS_BEGINEXPLUATATION_MODE          0.029385                     0.971950   \n",
      "YEARS_BUILD_MODE                      0.204587                     0.109133   \n",
      "COMMONAREA_MODE                       0.340883                     0.026391   \n",
      "ELEVATORS_MODE                        0.517532                     0.056752   \n",
      "ENTRANCES_MODE                        0.585873                     0.022605   \n",
      "FLOORSMAX_MODE                        0.315106                     0.082619   \n",
      "FLOORSMIN_MODE                        0.191300                     0.040851   \n",
      "LANDAREA_MODE                         0.437505                     0.027576   \n",
      "LIVINGAPARTMENTS_MODE                 0.538184                     0.039052   \n",
      "LIVINGAREA_MODE                       0.631357                     0.055592   \n",
      "NONLIVINGAPARTMENTS_MODE              0.086155                     0.011292   \n",
      "NONLIVINGAREA_MODE                    0.242933                     0.010105   \n",
      "APARTMENTS_MEDI                       0.631231                     0.088663   \n",
      "BASEMENTAREA_MEDI                     0.994389                     0.033254   \n",
      "YEARS_BEGINEXPLUATATION_MEDI          0.031889                     0.993838   \n",
      "YEARS_BUILD_MEDI                      0.205190                     0.110907   \n",
      "COMMONAREA_MEDI                       0.344499                     0.027509   \n",
      "ELEVATORS_MEDI                        0.523386                     0.055747   \n",
      "ENTRANCES_MEDI                        0.605519                     0.025149   \n",
      "FLOORSMAX_MEDI                        0.315019                     0.082470   \n",
      "FLOORSMIN_MEDI                        0.193631                     0.042200   \n",
      "LANDAREA_MEDI                         0.444913                     0.028710   \n",
      "LIVINGAPARTMENTS_MEDI                 0.540004                     0.039941   \n",
      "LIVINGAREA_MEDI                       0.642400                     0.057425   \n",
      "NONLIVINGAPARTMENTS_MEDI              0.087559                     0.012046   \n",
      "NONLIVINGAREA_MEDI                    0.247740                     0.009864   \n",
      "TOTALAREA_MODE                        0.625798                     0.087625   \n",
      "OBS_30_CNT_SOCIAL_CIRCLE             -0.011884                     0.000374   \n",
      "DEF_30_CNT_SOCIAL_CIRCLE             -0.007604                    -0.003070   \n",
      "OBS_60_CNT_SOCIAL_CIRCLE             -0.011633                     0.000314   \n",
      "DEF_60_CNT_SOCIAL_CIRCLE             -0.009300                    -0.002831   \n",
      "DAYS_LAST_PHONE_CHANGE               -0.008285                     0.003261   \n",
      "FLAG_DOCUMENT_2                      -0.000712                     0.000335   \n",
      "FLAG_DOCUMENT_3                      -0.023080                    -0.001648   \n",
      "FLAG_DOCUMENT_4                      -0.000204                     0.000054   \n",
      "FLAG_DOCUMENT_5                       0.000404                    -0.003769   \n",
      "FLAG_DOCUMENT_6                       0.001434                     0.004587   \n",
      "FLAG_DOCUMENT_7                      -0.001264                     0.000657   \n",
      "FLAG_DOCUMENT_8                       0.024318                     0.001958   \n",
      "FLAG_DOCUMENT_9                       0.009486                     0.001974   \n",
      "FLAG_DOCUMENT_10                     -0.001163                     0.000089   \n",
      "FLAG_DOCUMENT_11                      0.011673                    -0.003877   \n",
      "FLAG_DOCUMENT_12                      0.004995                     0.000152   \n",
      "FLAG_DOCUMENT_13                      0.010548                     0.000299   \n",
      "FLAG_DOCUMENT_14                      0.009679                    -0.000444   \n",
      "FLAG_DOCUMENT_15                      0.005040                    -0.001854   \n",
      "FLAG_DOCUMENT_16                      0.005664                    -0.001738   \n",
      "FLAG_DOCUMENT_17                      0.003292                     0.001024   \n",
      "FLAG_DOCUMENT_18                      0.004139                     0.002538   \n",
      "FLAG_DOCUMENT_19                     -0.001321                     0.000545   \n",
      "FLAG_DOCUMENT_20                      0.000564                     0.000505   \n",
      "FLAG_DOCUMENT_21                     -0.002375                    -0.000074   \n",
      "AMT_REQ_CREDIT_BUREAU_HOUR            0.000094                     0.000229   \n",
      "AMT_REQ_CREDIT_BUREAU_DAY             0.004226                    -0.001644   \n",
      "AMT_REQ_CREDIT_BUREAU_WEEK            0.000428                     0.002326   \n",
      "AMT_REQ_CREDIT_BUREAU_MON             0.019573                    -0.002438   \n",
      "AMT_REQ_CREDIT_BUREAU_QRT             0.000547                     0.001549   \n",
      "AMT_REQ_CREDIT_BUREAU_YEAR           -0.006948                    -0.004988   \n",
      "\n",
      "                              YEARS_BUILD_AVG  COMMONAREA_AVG  ELEVATORS_AVG  \\\n",
      "SK_ID_CURR                           0.003421       -0.000622       0.003612   \n",
      "TARGET                              -0.011281       -0.016194      -0.035853   \n",
      "CNT_CHILDREN                         0.016952       -0.005992      -0.019151   \n",
      "AMT_INCOME_TOTAL                     0.010500        0.031140       0.058658   \n",
      "AMT_CREDIT                           0.020957        0.039192       0.076643   \n",
      "AMT_ANNUITY                          0.019836        0.045242       0.094236   \n",
      "AMT_GOODS_PRICE                      0.024686        0.039207       0.081039   \n",
      "REGION_POPULATION_RELATIVE          -0.041009        0.134121       0.250301   \n",
      "DAYS_BIRTH                           0.015811        0.000239      -0.008773   \n",
      "DAYS_EMPLOYED                       -0.003248       -0.008006      -0.010248   \n",
      "DAYS_REGISTRATION                    0.099166        0.003256      -0.024797   \n",
      "DAYS_ID_PUBLISH                     -0.003984       -0.002662      -0.013132   \n",
      "OWN_CAR_AGE                         -0.012056       -0.014921      -0.036870   \n",
      "FLAG_MOBIL                          -0.000025        0.000296      -0.001498   \n",
      "FLAG_EMP_PHONE                       0.003233        0.007971       0.010171   \n",
      "FLAG_WORK_PHONE                      0.007681       -0.009866      -0.028681   \n",
      "FLAG_CONT_MOBILE                    -0.001274       -0.004052      -0.008364   \n",
      "FLAG_PHONE                          -0.003664        0.035174       0.075586   \n",
      "FLAG_EMAIL                           0.002910        0.020105       0.043952   \n",
      "CNT_FAM_MEMBERS                      0.024228       -0.009591      -0.025006   \n",
      "REGION_RATING_CLIENT                 0.027542       -0.091359      -0.203345   \n",
      "REGION_RATING_CLIENT_W_CITY          0.023498       -0.105003      -0.220915   \n",
      "HOUR_APPR_PROCESS_START             -0.008790        0.030662       0.095448   \n",
      "REG_REGION_NOT_LIVE_REGION           0.003802        0.003635      -0.000713   \n",
      "REG_REGION_NOT_WORK_REGION           0.011201        0.006450       0.004295   \n",
      "LIVE_REGION_NOT_WORK_REGION          0.009873        0.014539       0.017649   \n",
      "REG_CITY_NOT_LIVE_CITY               0.005751       -0.034571      -0.078803   \n",
      "REG_CITY_NOT_WORK_CITY               0.015870       -0.061212      -0.139462   \n",
      "LIVE_CITY_NOT_WORK_CITY              0.013867       -0.047595      -0.109107   \n",
      "EXT_SOURCE_1                         0.006959        0.024283       0.056834   \n",
      "EXT_SOURCE_2                         0.005709        0.044651       0.118258   \n",
      "EXT_SOURCE_3                         0.007706       -0.000437       0.008321   \n",
      "APARTMENTS_AVG                       0.274618        0.452291       0.823632   \n",
      "BASEMENTAREA_AVG                     0.205850        0.343625       0.525216   \n",
      "YEARS_BEGINEXPLUATATION_AVG          0.111061        0.027413       0.055506   \n",
      "YEARS_BUILD_AVG                      1.000000        0.204895       0.264827   \n",
      "COMMONAREA_AVG                       0.204895        1.000000       0.453199   \n",
      "ELEVATORS_AVG                        0.264827        0.453199       1.000000   \n",
      "ENTRANCES_AVG                        0.071620        0.265455       0.400445   \n",
      "FLOORSMAX_AVG                        0.403051        0.357653       0.708917   \n",
      "FLOORSMIN_AVG                        0.342443        0.295078       0.433369   \n",
      "LANDAREA_AVG                         0.140548        0.221318       0.373875   \n",
      "LIVINGAPARTMENTS_AVG                 0.307796        0.533878       0.671631   \n",
      "LIVINGAREA_AVG                       0.285413        0.461829       0.848549   \n",
      "NONLIVINGAPARTMENTS_AVG              0.064594        0.130561       0.134555   \n",
      "NONLIVINGAREA_AVG                    0.091397        0.185175       0.334340   \n",
      "APARTMENTS_MODE                      0.260372        0.433116       0.796540   \n",
      "BASEMENTAREA_MODE                    0.192978        0.327761       0.504481   \n",
      "YEARS_BEGINEXPLUATATION_MODE         0.102332        0.021947       0.048841   \n",
      "YEARS_BUILD_MODE                     0.989281        0.197744       0.255727   \n",
      "COMMONAREA_MODE                      0.196591        0.978595       0.441783   \n",
      "ELEVATORS_MODE                       0.258840        0.438637       0.981902   \n",
      "ENTRANCES_MODE                       0.059715        0.241544       0.361712   \n",
      "FLOORSMAX_MODE                       0.400299        0.351198       0.698137   \n",
      "FLOORSMIN_MODE                       0.336295        0.284893       0.419276   \n",
      "LANDAREA_MODE                        0.131913        0.211007       0.364120   \n",
      "LIVINGAPARTMENTS_MODE                0.299473        0.530291       0.663032   \n",
      "LIVINGAREA_MODE                      0.272155        0.442848       0.822324   \n",
      "NONLIVINGAPARTMENTS_MODE             0.058750        0.126501       0.127185   \n",
      "NONLIVINGAREA_MODE                   0.078802        0.175355       0.320170   \n",
      "APARTMENTS_MEDI                      0.272861        0.452084       0.823186   \n",
      "BASEMENTAREA_MEDI                    0.203750        0.342024       0.523430   \n",
      "YEARS_BEGINEXPLUATATION_MEDI         0.110266        0.025494       0.054874   \n",
      "YEARS_BUILD_MEDI                     0.998495        0.204467       0.264043   \n",
      "COMMONAREA_MEDI                      0.205210        0.996229       0.453444   \n",
      "ELEVATORS_MEDI                       0.265160        0.451775       0.996692   \n",
      "ENTRANCES_MEDI                       0.069982        0.262907       0.395918   \n",
      "FLOORSMAX_MEDI                       0.403162        0.356462       0.706541   \n",
      "FLOORSMIN_MEDI                       0.342027        0.294094       0.431513   \n",
      "LANDAREA_MEDI                        0.141044        0.221426       0.374909   \n",
      "LIVINGAPARTMENTS_MEDI                0.308475        0.535329       0.672778   \n",
      "LIVINGAREA_MEDI                      0.284812        0.461148       0.847062   \n",
      "NONLIVINGAPARTMENTS_MEDI             0.063049        0.129607       0.133452   \n",
      "NONLIVINGAREA_MEDI                   0.088988        0.183568       0.331797   \n",
      "TOTALAREA_MODE                       0.289855        0.470919       0.837651   \n",
      "OBS_30_CNT_SOCIAL_CIRCLE             0.000356       -0.013981      -0.027275   \n",
      "DEF_30_CNT_SOCIAL_CIRCLE            -0.005904       -0.008497      -0.016949   \n",
      "OBS_60_CNT_SOCIAL_CIRCLE             0.000277       -0.013724      -0.026893   \n",
      "DEF_60_CNT_SOCIAL_CIRCLE            -0.006462       -0.008812      -0.017698   \n",
      "DAYS_LAST_PHONE_CHANGE               0.007481       -0.008650      -0.018317   \n",
      "FLAG_DOCUMENT_2                      0.001128       -0.000490       0.003069   \n",
      "FLAG_DOCUMENT_3                     -0.011533       -0.029042      -0.054254   \n",
      "FLAG_DOCUMENT_4                     -0.000061        0.001736       0.000618   \n",
      "FLAG_DOCUMENT_5                     -0.000374        0.001142       0.006499   \n",
      "FLAG_DOCUMENT_6                      0.000552       -0.002683      -0.004792   \n",
      "FLAG_DOCUMENT_7                      0.000461        0.002391       0.001794   \n",
      "FLAG_DOCUMENT_8                      0.015507        0.034888       0.059426   \n",
      "FLAG_DOCUMENT_9                     -0.000769        0.012577       0.023730   \n",
      "FLAG_DOCUMENT_10                    -0.000287       -0.001453      -0.001486   \n",
      "FLAG_DOCUMENT_11                     0.002537        0.013391       0.017234   \n",
      "FLAG_DOCUMENT_12                     0.002283        0.002873       0.005178   \n",
      "FLAG_DOCUMENT_13                     0.006176        0.011281       0.022434   \n",
      "FLAG_DOCUMENT_14                     0.006147        0.012587       0.028325   \n",
      "FLAG_DOCUMENT_15                     0.000437        0.007129       0.012572   \n",
      "FLAG_DOCUMENT_16                     0.001062        0.007908       0.010527   \n",
      "FLAG_DOCUMENT_17                     0.000703        0.000253       0.004771   \n",
      "FLAG_DOCUMENT_18                     0.004127        0.010776       0.008440   \n",
      "FLAG_DOCUMENT_19                     0.001114        0.003639       0.002645   \n",
      "FLAG_DOCUMENT_20                    -0.003774        0.000801      -0.000615   \n",
      "FLAG_DOCUMENT_21                    -0.005698       -0.002239      -0.002631   \n",
      "AMT_REQ_CREDIT_BUREAU_HOUR           0.001153        0.004423       0.002911   \n",
      "AMT_REQ_CREDIT_BUREAU_DAY            0.001584        0.004336       0.006005   \n",
      "AMT_REQ_CREDIT_BUREAU_WEEK          -0.001855       -0.003516       0.001668   \n",
      "AMT_REQ_CREDIT_BUREAU_MON           -0.001051        0.019669       0.050157   \n",
      "AMT_REQ_CREDIT_BUREAU_QRT           -0.002065       -0.002794      -0.001418   \n",
      "AMT_REQ_CREDIT_BUREAU_YEAR          -0.012434       -0.006638      -0.011761   \n",
      "\n",
      "                              ENTRANCES_AVG  FLOORSMAX_AVG  FLOORSMIN_AVG  \\\n",
      "SK_ID_CURR                        -0.001928       0.003550       0.001735   \n",
      "TARGET                            -0.015984      -0.039385      -0.021158   \n",
      "CNT_CHILDREN                      -0.008674      -0.016865      -0.007753   \n",
      "AMT_INCOME_TOTAL                   0.009227       0.068419       0.040979   \n",
      "AMT_CREDIT                         0.015712       0.089300       0.052741   \n",
      "AMT_ANNUITY                        0.016466       0.111618       0.066143   \n",
      "AMT_GOODS_PRICE                    0.019001       0.094610       0.054065   \n",
      "REGION_POPULATION_RELATIVE         0.038340       0.276557       0.211433   \n",
      "DAYS_BIRTH                        -0.008859      -0.004346      -0.001262   \n",
      "DAYS_EMPLOYED                      0.001920      -0.013756      -0.009520   \n",
      "DAYS_REGISTRATION                 -0.051219       0.015464       0.006424   \n",
      "DAYS_ID_PUBLISH                   -0.012112      -0.011191      -0.006304   \n",
      "OWN_CAR_AGE                       -0.009401      -0.039893      -0.024607   \n",
      "FLAG_MOBIL                         0.001029      -0.003013       0.000148   \n",
      "FLAG_EMP_PHONE                    -0.002106       0.013698       0.009573   \n",
      "FLAG_WORK_PHONE                   -0.007035      -0.031541      -0.013903   \n",
      "FLAG_CONT_MOBILE                   0.000964      -0.010960      -0.003802   \n",
      "FLAG_PHONE                         0.037649       0.068566       0.041303   \n",
      "FLAG_EMAIL                         0.009958       0.046463       0.031102   \n",
      "CNT_FAM_MEMBERS                   -0.008024      -0.020100      -0.005792   \n",
      "REGION_RATING_CLIENT              -0.029902      -0.208119      -0.155764   \n",
      "REGION_RATING_CLIENT_W_CITY       -0.037128      -0.225703      -0.160808   \n",
      "HOUR_APPR_PROCESS_START            0.021016       0.103584       0.071780   \n",
      "REG_REGION_NOT_LIVE_REGION        -0.002706      -0.001011       0.004706   \n",
      "REG_REGION_NOT_WORK_REGION        -0.009405       0.014581       0.022078   \n",
      "LIVE_REGION_NOT_WORK_REGION       -0.005568       0.027807       0.030120   \n",
      "REG_CITY_NOT_LIVE_CITY            -0.026238      -0.077235      -0.029622   \n",
      "REG_CITY_NOT_WORK_CITY            -0.045928      -0.134419      -0.055735   \n",
      "LIVE_CITY_NOT_WORK_CITY           -0.036968      -0.103957      -0.044198   \n",
      "EXT_SOURCE_1                       0.015941       0.062126       0.035724   \n",
      "EXT_SOURCE_2                       0.032570       0.124479       0.070718   \n",
      "EXT_SOURCE_3                       0.008497       0.005118       0.001904   \n",
      "APARTMENTS_AVG                     0.605020       0.629150       0.378633   \n",
      "BASEMENTAREA_AVG                   0.609402       0.316517       0.194883   \n",
      "YEARS_BEGINEXPLUATATION_AVG        0.025626       0.082607       0.042337   \n",
      "YEARS_BUILD_AVG                    0.071620       0.403051       0.342443   \n",
      "COMMONAREA_AVG                     0.265455       0.357653       0.295078   \n",
      "ELEVATORS_AVG                      0.400445       0.708917       0.433369   \n",
      "ENTRANCES_AVG                      1.000000       0.108458       0.040016   \n",
      "FLOORSMAX_AVG                      0.108458       1.000000       0.602416   \n",
      "FLOORSMIN_AVG                      0.040016       0.602416       1.000000   \n",
      "LANDAREA_AVG                       0.479254       0.230058       0.132714   \n",
      "LIVINGAPARTMENTS_AVG               0.449219       0.500168       0.435865   \n",
      "LIVINGAREA_AVG                     0.608894       0.637783       0.395678   \n",
      "NONLIVINGAPARTMENTS_AVG            0.060241       0.124264       0.086127   \n",
      "NONLIVINGAREA_AVG                  0.176095       0.299051       0.130308   \n",
      "APARTMENTS_MODE                    0.606099       0.599239       0.356956   \n",
      "BASEMENTAREA_MODE                  0.611906       0.291421       0.174477   \n",
      "YEARS_BEGINEXPLUATATION_MODE       0.025195       0.071155       0.037663   \n",
      "YEARS_BUILD_MODE                   0.073371       0.389698       0.333212   \n",
      "COMMONAREA_MODE                    0.271023       0.339966       0.277343   \n",
      "ELEVATORS_MODE                     0.400302       0.687615       0.420549   \n",
      "ENTRANCES_MODE                     0.977322       0.074528       0.021580   \n",
      "FLOORSMAX_MODE                     0.110764       0.986610       0.593467   \n",
      "FLOORSMIN_MODE                     0.040514       0.582848       0.985863   \n",
      "LANDAREA_MODE                      0.481647       0.218431       0.125067   \n",
      "LIVINGAPARTMENTS_MODE              0.456557       0.486146       0.423472   \n",
      "LIVINGAREA_MODE                    0.612652       0.606357       0.373670   \n",
      "NONLIVINGAPARTMENTS_MODE           0.061623       0.113926       0.078622   \n",
      "NONLIVINGAREA_MODE                 0.181267       0.276138       0.112467   \n",
      "APARTMENTS_MEDI                    0.605087       0.627287       0.376499   \n",
      "BASEMENTAREA_MEDI                  0.611149       0.313215       0.191697   \n",
      "YEARS_BEGINEXPLUATATION_MEDI       0.025223       0.082415       0.041574   \n",
      "YEARS_BUILD_MEDI                   0.070993       0.402023       0.341680   \n",
      "COMMONAREA_MEDI                    0.266582       0.357131       0.293593   \n",
      "ELEVATORS_MEDI                     0.400388       0.705493       0.432173   \n",
      "ENTRANCES_MEDI                     0.996900       0.103438       0.037436   \n",
      "FLOORSMAX_MEDI                     0.107311       0.997260       0.601473   \n",
      "FLOORSMIN_MEDI                     0.039367       0.600106       0.997278   \n",
      "LANDAREA_MEDI                      0.481869       0.230345       0.133853   \n",
      "LIVINGAPARTMENTS_MEDI              0.451157       0.499965       0.435520   \n",
      "LIVINGAREA_MEDI                    0.609225       0.634883       0.394432   \n",
      "NONLIVINGAPARTMENTS_MEDI           0.060876       0.122157       0.084133   \n",
      "NONLIVINGAREA_MEDI                 0.177319       0.293493       0.124605   \n",
      "TOTALAREA_MODE                     0.589613       0.648137       0.390463   \n",
      "OBS_30_CNT_SOCIAL_CIRCLE          -0.002926      -0.030716      -0.021566   \n",
      "DEF_30_CNT_SOCIAL_CIRCLE          -0.002908      -0.021657      -0.013249   \n",
      "OBS_60_CNT_SOCIAL_CIRCLE          -0.002713      -0.030465      -0.021307   \n",
      "DEF_60_CNT_SOCIAL_CIRCLE          -0.004897      -0.021816      -0.012643   \n",
      "DAYS_LAST_PHONE_CHANGE            -0.011359      -0.013634      -0.007798   \n",
      "FLAG_DOCUMENT_2                    0.001229       0.001739       0.001876   \n",
      "FLAG_DOCUMENT_3                   -0.011253      -0.062095      -0.043078   \n",
      "FLAG_DOCUMENT_4                    0.001451       0.001717       0.005073   \n",
      "FLAG_DOCUMENT_5                   -0.001139       0.007986       0.006918   \n",
      "FLAG_DOCUMENT_6                    0.002893      -0.006282      -0.005346   \n",
      "FLAG_DOCUMENT_7                   -0.002940       0.002482       0.001940   \n",
      "FLAG_DOCUMENT_8                    0.010423       0.067191       0.046302   \n",
      "FLAG_DOCUMENT_9                    0.003990       0.029075       0.019048   \n",
      "FLAG_DOCUMENT_10                  -0.000395      -0.000008      -0.000392   \n",
      "FLAG_DOCUMENT_11                   0.009952       0.019003       0.018543   \n",
      "FLAG_DOCUMENT_12                   0.003519       0.001773       0.002673   \n",
      "FLAG_DOCUMENT_13                   0.006780       0.025328       0.014125   \n",
      "FLAG_DOCUMENT_14                   0.004940       0.031456       0.018085   \n",
      "FLAG_DOCUMENT_15                   0.006597       0.010647       0.006665   \n",
      "FLAG_DOCUMENT_16                   0.004037       0.012578       0.003670   \n",
      "FLAG_DOCUMENT_17                   0.006997       0.002570      -0.001522   \n",
      "FLAG_DOCUMENT_18                   0.000385       0.011298       0.007566   \n",
      "FLAG_DOCUMENT_19                  -0.000315       0.001859       0.002569   \n",
      "FLAG_DOCUMENT_20                  -0.002313      -0.000544      -0.000473   \n",
      "FLAG_DOCUMENT_21                  -0.000248      -0.003757      -0.002323   \n",
      "AMT_REQ_CREDIT_BUREAU_HOUR        -0.001871       0.003795       0.002462   \n",
      "AMT_REQ_CREDIT_BUREAU_DAY          0.005497       0.004203       0.003094   \n",
      "AMT_REQ_CREDIT_BUREAU_WEEK         0.001942       0.001425      -0.000045   \n",
      "AMT_REQ_CREDIT_BUREAU_MON          0.014409       0.048362       0.025247   \n",
      "AMT_REQ_CREDIT_BUREAU_QRT          0.000746       0.000974      -0.001387   \n",
      "AMT_REQ_CREDIT_BUREAU_YEAR        -0.006323      -0.012740      -0.005567   \n",
      "\n",
      "                              LANDAREA_AVG  LIVINGAPARTMENTS_AVG  \\\n",
      "SK_ID_CURR                        0.001069              0.001895   \n",
      "TARGET                           -0.012047             -0.019262   \n",
      "CNT_CHILDREN                     -0.006913             -0.010012   \n",
      "AMT_INCOME_TOTAL                  0.005443              0.035234   \n",
      "AMT_CREDIT                        0.012085              0.044497   \n",
      "AMT_ANNUITY                       0.014209              0.055585   \n",
      "AMT_GOODS_PRICE                   0.016949              0.045911   \n",
      "REGION_POPULATION_RELATIVE       -0.020479              0.152481   \n",
      "DAYS_BIRTH                       -0.001095              0.002499   \n",
      "DAYS_EMPLOYED                    -0.007704             -0.012207   \n",
      "DAYS_REGISTRATION                -0.008055              0.002960   \n",
      "DAYS_ID_PUBLISH                  -0.007138             -0.003078   \n",
      "OWN_CAR_AGE                      -0.012418             -0.019622   \n",
      "FLAG_MOBIL                       -0.000872              0.000269   \n",
      "FLAG_EMP_PHONE                    0.007578              0.012231   \n",
      "FLAG_WORK_PHONE                  -0.008548             -0.015804   \n",
      "FLAG_CONT_MOBILE                  0.002414             -0.003833   \n",
      "FLAG_PHONE                        0.014725              0.038038   \n",
      "FLAG_EMAIL                        0.008499              0.024920   \n",
      "CNT_FAM_MEMBERS                  -0.007900             -0.012880   \n",
      "REGION_RATING_CLIENT              0.012531             -0.115038   \n",
      "REGION_RATING_CLIENT_W_CITY       0.000194             -0.135251   \n",
      "HOUR_APPR_PROCESS_START           0.018794              0.050432   \n",
      "REG_REGION_NOT_LIVE_REGION       -0.010904              0.001774   \n",
      "REG_REGION_NOT_WORK_REGION       -0.010689              0.004592   \n",
      "LIVE_REGION_NOT_WORK_REGION      -0.006296              0.012558   \n",
      "REG_CITY_NOT_LIVE_CITY           -0.035468             -0.038652   \n",
      "REG_CITY_NOT_WORK_CITY           -0.059932             -0.073444   \n",
      "LIVE_CITY_NOT_WORK_CITY          -0.047989             -0.059254   \n",
      "EXT_SOURCE_1                      0.011382              0.028241   \n",
      "EXT_SOURCE_2                      0.029360              0.058823   \n",
      "EXT_SOURCE_3                      0.007154              0.003525   \n",
      "APARTMENTS_AVG                    0.475741              0.771362   \n",
      "BASEMENTAREA_AVG                  0.442930              0.538499   \n",
      "YEARS_BEGINEXPLUATATION_AVG       0.028659              0.039778   \n",
      "YEARS_BUILD_AVG                   0.140548              0.307796   \n",
      "COMMONAREA_AVG                    0.221318              0.533878   \n",
      "ELEVATORS_AVG                     0.373875              0.671631   \n",
      "ENTRANCES_AVG                     0.479254              0.449219   \n",
      "FLOORSMAX_AVG                     0.230058              0.500168   \n",
      "FLOORSMIN_AVG                     0.132714              0.435865   \n",
      "LANDAREA_AVG                      1.000000              0.349808   \n",
      "LIVINGAPARTMENTS_AVG              0.349808              1.000000   \n",
      "LIVINGAREA_AVG                    0.478511              0.721521   \n",
      "NONLIVINGAPARTMENTS_AVG           0.067554              0.183402   \n",
      "NONLIVINGAREA_AVG                 0.171591              0.240716   \n",
      "APARTMENTS_MODE                   0.475958              0.741416   \n",
      "BASEMENTAREA_MODE                 0.445816              0.518103   \n",
      "YEARS_BEGINEXPLUATATION_MODE      0.025330              0.034288   \n",
      "YEARS_BUILD_MODE                  0.140327              0.301928   \n",
      "COMMONAREA_MODE                   0.228919              0.524940   \n",
      "ELEVATORS_MODE                    0.374800              0.656993   \n",
      "ENTRANCES_MODE                    0.465502              0.419680   \n",
      "FLOORSMAX_MODE                    0.230440              0.493552   \n",
      "FLOORSMIN_MODE                    0.132261              0.424684   \n",
      "LANDAREA_MODE                     0.974467              0.341800   \n",
      "LIVINGAPARTMENTS_MODE             0.360984              0.971537   \n",
      "LIVINGAREA_MODE                   0.476883              0.698030   \n",
      "NONLIVINGAPARTMENTS_MODE          0.065704              0.167366   \n",
      "NONLIVINGAREA_MODE                0.169970              0.225256   \n",
      "APARTMENTS_MEDI                   0.476512              0.764536   \n",
      "BASEMENTAREA_MEDI                 0.444133              0.537422   \n",
      "YEARS_BEGINEXPLUATATION_MEDI      0.028018              0.037870   \n",
      "YEARS_BUILD_MEDI                  0.140345              0.306634   \n",
      "COMMONAREA_MEDI                   0.222935              0.534429   \n",
      "ELEVATORS_MEDI                    0.374076              0.669970   \n",
      "ENTRANCES_MEDI                    0.477556              0.445725   \n",
      "FLOORSMAX_MEDI                    0.229584              0.497990   \n",
      "FLOORSMIN_MEDI                    0.132782              0.433902   \n",
      "LANDAREA_MEDI                     0.991854              0.350744   \n",
      "LIVINGAPARTMENTS_MEDI             0.352308              0.994122   \n",
      "LIVINGAREA_MEDI                   0.477783              0.720353   \n",
      "NONLIVINGAPARTMENTS_MEDI          0.066400              0.179376   \n",
      "NONLIVINGAREA_MEDI                0.172284              0.237417   \n",
      "TOTALAREA_MODE                    0.470526              0.702618   \n",
      "OBS_30_CNT_SOCIAL_CIRCLE         -0.004303             -0.018546   \n",
      "DEF_30_CNT_SOCIAL_CIRCLE         -0.003733             -0.009823   \n",
      "OBS_60_CNT_SOCIAL_CIRCLE         -0.004191             -0.018268   \n",
      "DEF_60_CNT_SOCIAL_CIRCLE         -0.003095             -0.010580   \n",
      "DAYS_LAST_PHONE_CHANGE           -0.005537             -0.007831   \n",
      "FLAG_DOCUMENT_2                   0.001019              0.000910   \n",
      "FLAG_DOCUMENT_3                  -0.003590             -0.033922   \n",
      "FLAG_DOCUMENT_4                  -0.001786              0.002159   \n",
      "FLAG_DOCUMENT_5                  -0.005296              0.004563   \n",
      "FLAG_DOCUMENT_6                  -0.008272             -0.006640   \n",
      "FLAG_DOCUMENT_7                  -0.001517             -0.000870   \n",
      "FLAG_DOCUMENT_8                   0.006912              0.040559   \n",
      "FLAG_DOCUMENT_9                  -0.001812              0.014338   \n",
      "FLAG_DOCUMENT_10                 -0.000933             -0.001205   \n",
      "FLAG_DOCUMENT_11                  0.008683              0.015422   \n",
      "FLAG_DOCUMENT_12                  0.005116              0.005704   \n",
      "FLAG_DOCUMENT_13                  0.003854              0.016438   \n",
      "FLAG_DOCUMENT_14                  0.002015              0.017036   \n",
      "FLAG_DOCUMENT_15                  0.004831              0.010305   \n",
      "FLAG_DOCUMENT_16                  0.006131              0.005133   \n",
      "FLAG_DOCUMENT_17                  0.003114              0.000004   \n",
      "FLAG_DOCUMENT_18                  0.000592              0.005951   \n",
      "FLAG_DOCUMENT_19                  0.000040              0.000960   \n",
      "FLAG_DOCUMENT_20                  0.001881             -0.001102   \n",
      "FLAG_DOCUMENT_21                 -0.002313             -0.002549   \n",
      "AMT_REQ_CREDIT_BUREAU_HOUR       -0.000122              0.002348   \n",
      "AMT_REQ_CREDIT_BUREAU_DAY         0.005231              0.005259   \n",
      "AMT_REQ_CREDIT_BUREAU_WEEK        0.006534             -0.001168   \n",
      "AMT_REQ_CREDIT_BUREAU_MON         0.016647              0.024922   \n",
      "AMT_REQ_CREDIT_BUREAU_QRT         0.003133             -0.002401   \n",
      "AMT_REQ_CREDIT_BUREAU_YEAR       -0.007191             -0.007190   \n",
      "\n",
      "                              LIVINGAREA_AVG  NONLIVINGAPARTMENTS_AVG  \\\n",
      "SK_ID_CURR                          0.001512                -0.001444   \n",
      "TARGET                             -0.029464                -0.005910   \n",
      "CNT_CHILDREN                       -0.014239                -0.001729   \n",
      "AMT_INCOME_TOTAL                    0.046846                 0.013067   \n",
      "AMT_CREDIT                          0.063106                 0.015342   \n",
      "AMT_ANNUITY                         0.078046                 0.020318   \n",
      "AMT_GOODS_PRICE                     0.068040                 0.015701   \n",
      "REGION_POPULATION_RELATIVE          0.186474                 0.034105   \n",
      "DAYS_BIRTH                         -0.004132                -0.001279   \n",
      "DAYS_EMPLOYED                      -0.010832                -0.003435   \n",
      "DAYS_REGISTRATION                  -0.008863                 0.011983   \n",
      "DAYS_ID_PUBLISH                    -0.010808                -0.003904   \n",
      "OWN_CAR_AGE                        -0.028796                -0.010749   \n",
      "FLAG_MOBIL                         -0.000846                 0.000182   \n",
      "FLAG_EMP_PHONE                      0.010768                 0.003429   \n",
      "FLAG_WORK_PHONE                    -0.019167                -0.007369   \n",
      "FLAG_CONT_MOBILE                   -0.006933                -0.002618   \n",
      "FLAG_PHONE                          0.059871                 0.006698   \n",
      "FLAG_EMAIL                          0.035290                 0.003810   \n",
      "CNT_FAM_MEMBERS                    -0.016184                -0.005241   \n",
      "REGION_RATING_CLIENT               -0.146933                -0.023663   \n",
      "REGION_RATING_CLIENT_W_CITY        -0.164615                -0.030544   \n",
      "HOUR_APPR_PROCESS_START             0.073972                 0.012456   \n",
      "REG_REGION_NOT_LIVE_REGION         -0.001409                -0.001665   \n",
      "REG_REGION_NOT_WORK_REGION          0.003439                 0.000434   \n",
      "LIVE_REGION_NOT_WORK_REGION         0.013768                 0.002992   \n",
      "REG_CITY_NOT_LIVE_CITY             -0.057195                -0.019790   \n",
      "REG_CITY_NOT_WORK_CITY             -0.101804                -0.030592   \n",
      "LIVE_CITY_NOT_WORK_CITY            -0.080639                -0.021964   \n",
      "EXT_SOURCE_1                        0.045374                 0.012818   \n",
      "EXT_SOURCE_2                        0.090411                 0.021190   \n",
      "EXT_SOURCE_3                        0.005515                 0.004071   \n",
      "APARTMENTS_AVG                      0.895655                 0.178924   \n",
      "BASEMENTAREA_AVG                    0.645508                 0.087423   \n",
      "YEARS_BEGINEXPLUATATION_AVG         0.057774                 0.012292   \n",
      "YEARS_BUILD_AVG                     0.285413                 0.064594   \n",
      "COMMONAREA_AVG                      0.461829                 0.130561   \n",
      "ELEVATORS_AVG                       0.848549                 0.134555   \n",
      "ENTRANCES_AVG                       0.608894                 0.060241   \n",
      "FLOORSMAX_AVG                       0.637783                 0.124264   \n",
      "FLOORSMIN_AVG                       0.395678                 0.086127   \n",
      "LANDAREA_AVG                        0.478511                 0.067554   \n",
      "LIVINGAPARTMENTS_AVG                0.721521                 0.183402   \n",
      "LIVINGAREA_AVG                      1.000000                 0.133935   \n",
      "NONLIVINGAPARTMENTS_AVG             0.133935                 1.000000   \n",
      "NONLIVINGAREA_AVG                   0.333705                 0.172857   \n",
      "APARTMENTS_MODE                     0.874063                 0.166007   \n",
      "BASEMENTAREA_MODE                   0.629546                 0.082320   \n",
      "YEARS_BEGINEXPLUATATION_MODE        0.050811                 0.010562   \n",
      "YEARS_BUILD_MODE                    0.279589                 0.060591   \n",
      "COMMONAREA_MODE                     0.454992                 0.128319   \n",
      "ELEVATORS_MODE                      0.836295                 0.126401   \n",
      "ENTRANCES_MODE                      0.576018                 0.048346   \n",
      "FLOORSMAX_MODE                      0.633048                 0.117936   \n",
      "FLOORSMIN_MODE                      0.385365                 0.080496   \n",
      "LANDAREA_MODE                       0.470271                 0.063796   \n",
      "LIVINGAPARTMENTS_MODE               0.716058                 0.166740   \n",
      "LIVINGAREA_MODE                     0.973222                 0.125524   \n",
      "NONLIVINGAPARTMENTS_MODE            0.128229                 0.970007   \n",
      "NONLIVINGAREA_MODE                  0.320545                 0.163625   \n",
      "APARTMENTS_MEDI                     0.894842                 0.176232   \n",
      "BASEMENTAREA_MEDI                   0.645306                 0.086702   \n",
      "YEARS_BEGINEXPLUATATION_MEDI        0.056357                 0.012100   \n",
      "YEARS_BUILD_MEDI                    0.284529                 0.064140   \n",
      "COMMONAREA_MEDI                     0.462650                 0.130757   \n",
      "ELEVATORS_MEDI                      0.847140                 0.134017   \n",
      "ENTRANCES_MEDI                      0.604657                 0.059197   \n",
      "FLOORSMAX_MEDI                      0.635882                 0.123420   \n",
      "FLOORSMIN_MEDI                      0.393983                 0.085464   \n",
      "LANDAREA_MEDI                       0.480221                 0.068716   \n",
      "LIVINGAPARTMENTS_MEDI               0.723518                 0.179897   \n",
      "LIVINGAREA_MEDI                     0.995783                 0.133242   \n",
      "NONLIVINGAPARTMENTS_MEDI            0.133635                 0.990977   \n",
      "NONLIVINGAREA_MEDI                  0.332000                 0.171346   \n",
      "TOTALAREA_MODE                      0.916656                 0.143695   \n",
      "OBS_30_CNT_SOCIAL_CIRCLE           -0.021879                -0.003886   \n",
      "DEF_30_CNT_SOCIAL_CIRCLE           -0.013452                 0.000649   \n",
      "OBS_60_CNT_SOCIAL_CIRCLE           -0.021568                -0.003656   \n",
      "DEF_60_CNT_SOCIAL_CIRCLE           -0.014543                -0.001094   \n",
      "DAYS_LAST_PHONE_CHANGE             -0.013983                -0.003463   \n",
      "FLAG_DOCUMENT_2                     0.002563                -0.000455   \n",
      "FLAG_DOCUMENT_3                    -0.043286                -0.010929   \n",
      "FLAG_DOCUMENT_4                     0.000708                 0.013721   \n",
      "FLAG_DOCUMENT_5                     0.003891                 0.002141   \n",
      "FLAG_DOCUMENT_6                    -0.007235                -0.000837   \n",
      "FLAG_DOCUMENT_7                    -0.000470                -0.000456   \n",
      "FLAG_DOCUMENT_8                     0.050414                 0.009993   \n",
      "FLAG_DOCUMENT_9                     0.020175                 0.004373   \n",
      "FLAG_DOCUMENT_10                   -0.001570                -0.000382   \n",
      "FLAG_DOCUMENT_11                    0.017891                 0.007426   \n",
      "FLAG_DOCUMENT_12                    0.005728                 0.002140   \n",
      "FLAG_DOCUMENT_13                    0.020719                 0.003635   \n",
      "FLAG_DOCUMENT_14                    0.022892                 0.006092   \n",
      "FLAG_DOCUMENT_15                    0.010789                 0.004660   \n",
      "FLAG_DOCUMENT_16                    0.007934                 0.001438   \n",
      "FLAG_DOCUMENT_17                    0.008014                 0.001256   \n",
      "FLAG_DOCUMENT_18                    0.006806                 0.001460   \n",
      "FLAG_DOCUMENT_19                    0.001193                -0.001176   \n",
      "FLAG_DOCUMENT_20                   -0.001172                -0.000101   \n",
      "FLAG_DOCUMENT_21                   -0.002573                 0.000074   \n",
      "AMT_REQ_CREDIT_BUREAU_HOUR          0.003879                 0.000490   \n",
      "AMT_REQ_CREDIT_BUREAU_DAY           0.008852                 0.000614   \n",
      "AMT_REQ_CREDIT_BUREAU_WEEK          0.000261                -0.000795   \n",
      "AMT_REQ_CREDIT_BUREAU_MON           0.037284                 0.005033   \n",
      "AMT_REQ_CREDIT_BUREAU_QRT          -0.000425                 0.001666   \n",
      "AMT_REQ_CREDIT_BUREAU_YEAR         -0.012188                -0.000255   \n",
      "\n",
      "                              NONLIVINGAREA_AVG  APARTMENTS_MODE  \\\n",
      "SK_ID_CURR                             0.002163         0.001649   \n",
      "TARGET                                -0.018187        -0.025418   \n",
      "CNT_CHILDREN                          -0.008905        -0.015136   \n",
      "AMT_INCOME_TOTAL                       0.033655         0.037378   \n",
      "AMT_CREDIT                             0.040013         0.049245   \n",
      "AMT_ANNUITY                            0.050300         0.060978   \n",
      "AMT_GOODS_PRICE                        0.044217         0.053560   \n",
      "REGION_POPULATION_RELATIVE             0.087634         0.157104   \n",
      "DAYS_BIRTH                            -0.001154        -0.000355   \n",
      "DAYS_EMPLOYED                         -0.011062        -0.012116   \n",
      "DAYS_REGISTRATION                      0.016911        -0.003859   \n",
      "DAYS_ID_PUBLISH                       -0.002342        -0.007660   \n",
      "OWN_CAR_AGE                           -0.020420        -0.023712   \n",
      "FLAG_MOBIL                             0.000416        -0.000635   \n",
      "FLAG_EMP_PHONE                         0.011010         0.012099   \n",
      "FLAG_WORK_PHONE                       -0.012858        -0.018120   \n",
      "FLAG_CONT_MOBILE                      -0.006475        -0.002475   \n",
      "FLAG_PHONE                             0.027640         0.048579   \n",
      "FLAG_EMAIL                             0.021256         0.029196   \n",
      "CNT_FAM_MEMBERS                       -0.014272        -0.018446   \n",
      "REGION_RATING_CLIENT                  -0.086622        -0.117148   \n",
      "REGION_RATING_CLIENT_W_CITY           -0.094437        -0.136500   \n",
      "HOUR_APPR_PROCESS_START                0.046433         0.066773   \n",
      "REG_REGION_NOT_LIVE_REGION            -0.000616        -0.003329   \n",
      "REG_REGION_NOT_WORK_REGION             0.001194         0.001596   \n",
      "LIVE_REGION_NOT_WORK_REGION            0.007234         0.010651   \n",
      "REG_CITY_NOT_LIVE_CITY                -0.044756        -0.054012   \n",
      "REG_CITY_NOT_WORK_CITY                -0.073888        -0.097836   \n",
      "LIVE_CITY_NOT_WORK_CITY               -0.056717        -0.077822   \n",
      "EXT_SOURCE_1                           0.029778         0.034953   \n",
      "EXT_SOURCE_2                           0.057575         0.077766   \n",
      "EXT_SOURCE_3                           0.000928         0.005071   \n",
      "APARTMENTS_AVG                         0.323485         0.974263   \n",
      "BASEMENTAREA_AVG                       0.249042         0.620102   \n",
      "YEARS_BEGINEXPLUATATION_AVG            0.010376         0.089548   \n",
      "YEARS_BUILD_AVG                        0.091397         0.260372   \n",
      "COMMONAREA_AVG                         0.185175         0.433116   \n",
      "ELEVATORS_AVG                          0.334340         0.796540   \n",
      "ENTRANCES_AVG                          0.176095         0.606099   \n",
      "FLOORSMAX_AVG                          0.299051         0.599239   \n",
      "FLOORSMIN_AVG                          0.130308         0.356956   \n",
      "LANDAREA_AVG                           0.171591         0.475958   \n",
      "LIVINGAPARTMENTS_AVG                   0.240716         0.741416   \n",
      "LIVINGAREA_AVG                         0.333705         0.874063   \n",
      "NONLIVINGAPARTMENTS_AVG                0.172857         0.166007   \n",
      "NONLIVINGAREA_AVG                      1.000000         0.311712   \n",
      "APARTMENTS_MODE                        0.311712         1.000000   \n",
      "BASEMENTAREA_MODE                      0.240928         0.631869   \n",
      "YEARS_BEGINEXPLUATATION_MODE          -0.002438         0.089133   \n",
      "YEARS_BUILD_MODE                       0.086654         0.262177   \n",
      "COMMONAREA_MODE                        0.180700         0.442690   \n",
      "ELEVATORS_MODE                         0.324486         0.815365   \n",
      "ENTRANCES_MODE                         0.159025         0.604029   \n",
      "FLOORSMAX_MODE                         0.291400         0.607706   \n",
      "FLOORSMIN_MODE                         0.123083         0.357527   \n",
      "LANDAREA_MODE                          0.167125         0.486325   \n",
      "LIVINGAPARTMENTS_MODE                  0.236417         0.764236   \n",
      "LIVINGAREA_MODE                        0.318455         0.891804   \n",
      "NONLIVINGAPARTMENTS_MODE               0.166779         0.168537   \n",
      "NONLIVINGAREA_MODE                     0.968341         0.319251   \n",
      "APARTMENTS_MEDI                        0.322446         0.978075   \n",
      "BASEMENTAREA_MEDI                      0.248592         0.622604   \n",
      "YEARS_BEGINEXPLUATATION_MEDI           0.011408         0.088895   \n",
      "YEARS_BUILD_MEDI                       0.091391         0.259636   \n",
      "COMMONAREA_MEDI                        0.185358         0.435516   \n",
      "ELEVATORS_MEDI                         0.331380         0.799354   \n",
      "ENTRANCES_MEDI                         0.172591         0.605661   \n",
      "FLOORSMAX_MEDI                         0.297805         0.598303   \n",
      "FLOORSMIN_MEDI                         0.129283         0.356154   \n",
      "LANDAREA_MEDI                          0.171539         0.479543   \n",
      "LIVINGAPARTMENTS_MEDI                  0.241415         0.746286   \n",
      "LIVINGAREA_MEDI                        0.330465         0.877219   \n",
      "NONLIVINGAPARTMENTS_MEDI               0.172598         0.167735   \n",
      "NONLIVINGAREA_MEDI                     0.991071         0.314249   \n",
      "TOTALAREA_MODE                         0.392264         0.854855   \n",
      "OBS_30_CNT_SOCIAL_CIRCLE              -0.013991        -0.017008   \n",
      "DEF_30_CNT_SOCIAL_CIRCLE              -0.009532        -0.010640   \n",
      "OBS_60_CNT_SOCIAL_CIRCLE              -0.013830        -0.016675   \n",
      "DEF_60_CNT_SOCIAL_CIRCLE              -0.009389        -0.012412   \n",
      "DAYS_LAST_PHONE_CHANGE                -0.008854        -0.011280   \n",
      "FLAG_DOCUMENT_2                        0.001237         0.003298   \n",
      "FLAG_DOCUMENT_3                       -0.027724        -0.033409   \n",
      "FLAG_DOCUMENT_4                       -0.000046         0.001021   \n",
      "FLAG_DOCUMENT_5                        0.002282         0.003375   \n",
      "FLAG_DOCUMENT_6                       -0.007325        -0.006928   \n",
      "FLAG_DOCUMENT_7                        0.002871        -0.000020   \n",
      "FLAG_DOCUMENT_8                        0.028071         0.039327   \n",
      "FLAG_DOCUMENT_9                        0.013262         0.014066   \n",
      "FLAG_DOCUMENT_10                       0.002025        -0.001577   \n",
      "FLAG_DOCUMENT_11                       0.008491         0.016154   \n",
      "FLAG_DOCUMENT_12                       0.011301         0.004469   \n",
      "FLAG_DOCUMENT_13                       0.009031         0.016798   \n",
      "FLAG_DOCUMENT_14                       0.019797         0.017844   \n",
      "FLAG_DOCUMENT_15                       0.008556         0.008610   \n",
      "FLAG_DOCUMENT_16                       0.005392         0.007839   \n",
      "FLAG_DOCUMENT_17                       0.007372         0.005491   \n",
      "FLAG_DOCUMENT_18                       0.005066         0.005383   \n",
      "FLAG_DOCUMENT_19                       0.001834         0.001008   \n",
      "FLAG_DOCUMENT_20                       0.000335        -0.001138   \n",
      "FLAG_DOCUMENT_21                       0.000318        -0.002684   \n",
      "AMT_REQ_CREDIT_BUREAU_HOUR             0.003663         0.002716   \n",
      "AMT_REQ_CREDIT_BUREAU_DAY              0.003691         0.004745   \n",
      "AMT_REQ_CREDIT_BUREAU_WEEK            -0.002435         0.001345   \n",
      "AMT_REQ_CREDIT_BUREAU_MON              0.022959         0.034278   \n",
      "AMT_REQ_CREDIT_BUREAU_QRT             -0.000952        -0.000557   \n",
      "AMT_REQ_CREDIT_BUREAU_YEAR            -0.006037        -0.009305   \n",
      "\n",
      "                              BASEMENTAREA_MODE  YEARS_BEGINEXPLUATATION_MODE  \\\n",
      "SK_ID_CURR                            -0.000793                      0.001312   \n",
      "TARGET                                -0.016136                     -0.004061   \n",
      "CNT_CHILDREN                          -0.008860                      0.006058   \n",
      "AMT_INCOME_TOTAL                       0.017280                      0.002563   \n",
      "AMT_CREDIT                             0.027197                      0.000817   \n",
      "AMT_ANNUITY                            0.030149                      0.006154   \n",
      "AMT_GOODS_PRICE                        0.030538                      0.001327   \n",
      "REGION_POPULATION_RELATIVE             0.062990                     -0.010512   \n",
      "DAYS_BIRTH                            -0.005066                      0.001446   \n",
      "DAYS_EMPLOYED                         -0.001253                      0.006680   \n",
      "DAYS_REGISTRATION                     -0.020805                      0.009919   \n",
      "DAYS_ID_PUBLISH                       -0.010219                     -0.001165   \n",
      "OWN_CAR_AGE                           -0.012409                      0.003680   \n",
      "FLAG_MOBIL                             0.000579                     -0.000535   \n",
      "FLAG_EMP_PHONE                         0.001140                     -0.006687   \n",
      "FLAG_WORK_PHONE                       -0.006379                      0.001443   \n",
      "FLAG_CONT_MOBILE                      -0.001196                      0.001337   \n",
      "FLAG_PHONE                             0.035532                      0.004769   \n",
      "FLAG_EMAIL                             0.014661                      0.000587   \n",
      "CNT_FAM_MEMBERS                       -0.008476                      0.008094   \n",
      "REGION_RATING_CLIENT                  -0.037127                      0.010110   \n",
      "REGION_RATING_CLIENT_W_CITY           -0.050531                      0.007510   \n",
      "HOUR_APPR_PROCESS_START                0.028941                     -0.011710   \n",
      "REG_REGION_NOT_LIVE_REGION            -0.000398                      0.002086   \n",
      "REG_REGION_NOT_WORK_REGION            -0.004690                      0.008662   \n",
      "LIVE_REGION_NOT_WORK_REGION           -0.000244                      0.009209   \n",
      "REG_CITY_NOT_LIVE_CITY                -0.026737                      0.002102   \n",
      "REG_CITY_NOT_WORK_CITY                -0.050550                      0.005426   \n",
      "LIVE_CITY_NOT_WORK_CITY               -0.040593                      0.006158   \n",
      "EXT_SOURCE_1                           0.022254                     -0.001935   \n",
      "EXT_SOURCE_2                           0.035519                     -0.000475   \n",
      "EXT_SOURCE_3                           0.005474                     -0.000984   \n",
      "APARTMENTS_AVG                         0.617105                      0.083565   \n",
      "BASEMENTAREA_AVG                       0.973831                      0.029385   \n",
      "YEARS_BEGINEXPLUATATION_AVG            0.031788                      0.971950   \n",
      "YEARS_BUILD_AVG                        0.192978                      0.102332   \n",
      "COMMONAREA_AVG                         0.327761                      0.021947   \n",
      "ELEVATORS_AVG                          0.504481                      0.048841   \n",
      "ENTRANCES_AVG                          0.611906                      0.025195   \n",
      "FLOORSMAX_AVG                          0.291421                      0.071155   \n",
      "FLOORSMIN_AVG                          0.174477                      0.037663   \n",
      "LANDAREA_AVG                           0.445816                      0.025330   \n",
      "LIVINGAPARTMENTS_AVG                   0.518103                      0.034288   \n",
      "LIVINGAREA_AVG                         0.629546                      0.050811   \n",
      "NONLIVINGAPARTMENTS_AVG                0.082320                      0.010562   \n",
      "NONLIVINGAREA_AVG                      0.240928                     -0.002438   \n",
      "APARTMENTS_MODE                        0.631869                      0.089133   \n",
      "BASEMENTAREA_MODE                      1.000000                      0.028772   \n",
      "YEARS_BEGINEXPLUATATION_MODE           0.028772                      1.000000   \n",
      "YEARS_BUILD_MODE                       0.199611                      0.102591   \n",
      "COMMONAREA_MODE                        0.342568                      0.021364   \n",
      "ELEVATORS_MODE                         0.516915                      0.053245   \n",
      "ENTRANCES_MODE                         0.611490                      0.023974   \n",
      "FLOORSMAX_MODE                         0.299715                      0.073533   \n",
      "FLOORSMIN_MODE                         0.179432                      0.037104   \n",
      "LANDAREA_MODE                          0.456719                      0.025035   \n",
      "LIVINGAPARTMENTS_MODE                  0.540517                      0.034046   \n",
      "LIVINGAREA_MODE                        0.643763                      0.049759   \n",
      "NONLIVINGAPARTMENTS_MODE               0.086975                      0.009883   \n",
      "NONLIVINGAREA_MODE                     0.253550                      0.001292   \n",
      "APARTMENTS_MEDI                        0.619134                      0.083294   \n",
      "BASEMENTAREA_MEDI                      0.978219                      0.029137   \n",
      "YEARS_BEGINEXPLUATATION_MEDI           0.030082                      0.963610   \n",
      "YEARS_BUILD_MEDI                       0.192535                      0.102316   \n",
      "COMMONAREA_MEDI                        0.329880                      0.022017   \n",
      "ELEVATORS_MEDI                         0.505729                      0.049463   \n",
      "ENTRANCES_MEDI                         0.610841                      0.024885   \n",
      "FLOORSMAX_MEDI                         0.291116                      0.071085   \n",
      "FLOORSMIN_MEDI                         0.174062                      0.037575   \n",
      "LANDAREA_MEDI                          0.449387                      0.025408   \n",
      "LIVINGAPARTMENTS_MEDI                  0.521790                      0.034421   \n",
      "LIVINGAREA_MEDI                        0.629000                      0.050618   \n",
      "NONLIVINGAPARTMENTS_MEDI               0.083766                      0.010374   \n",
      "NONLIVINGAREA_MEDI                     0.244553                     -0.002865   \n",
      "TOTALAREA_MODE                         0.606097                      0.084599   \n",
      "OBS_30_CNT_SOCIAL_CIRCLE              -0.009472                      0.000834   \n",
      "DEF_30_CNT_SOCIAL_CIRCLE              -0.006744                     -0.001955   \n",
      "OBS_60_CNT_SOCIAL_CIRCLE              -0.009219                      0.000761   \n",
      "DEF_60_CNT_SOCIAL_CIRCLE              -0.008373                     -0.001831   \n",
      "DAYS_LAST_PHONE_CHANGE                -0.007752                      0.002813   \n",
      "FLAG_DOCUMENT_2                       -0.001154                      0.000292   \n",
      "FLAG_DOCUMENT_3                       -0.019393                     -0.001373   \n",
      "FLAG_DOCUMENT_4                       -0.000050                      0.000061   \n",
      "FLAG_DOCUMENT_5                        0.000098                     -0.002877   \n",
      "FLAG_DOCUMENT_6                        0.001664                      0.004286   \n",
      "FLAG_DOCUMENT_7                       -0.001332                      0.000632   \n",
      "FLAG_DOCUMENT_8                        0.019438                      0.001509   \n",
      "FLAG_DOCUMENT_9                        0.006000                      0.001329   \n",
      "FLAG_DOCUMENT_10                      -0.000907                      0.000119   \n",
      "FLAG_DOCUMENT_11                       0.011484                     -0.005448   \n",
      "FLAG_DOCUMENT_12                       0.005272                      0.000158   \n",
      "FLAG_DOCUMENT_13                       0.007927                      0.000493   \n",
      "FLAG_DOCUMENT_14                       0.007124                     -0.001043   \n",
      "FLAG_DOCUMENT_15                       0.004813                     -0.002058   \n",
      "FLAG_DOCUMENT_16                       0.005326                     -0.001897   \n",
      "FLAG_DOCUMENT_17                       0.003653                      0.000998   \n",
      "FLAG_DOCUMENT_18                       0.004141                      0.002020   \n",
      "FLAG_DOCUMENT_19                      -0.001356                      0.001243   \n",
      "FLAG_DOCUMENT_20                       0.000584                      0.000510   \n",
      "FLAG_DOCUMENT_21                      -0.002288                      0.000011   \n",
      "AMT_REQ_CREDIT_BUREAU_HOUR             0.000534                      0.000070   \n",
      "AMT_REQ_CREDIT_BUREAU_DAY              0.004027                     -0.001927   \n",
      "AMT_REQ_CREDIT_BUREAU_WEEK             0.000382                      0.001809   \n",
      "AMT_REQ_CREDIT_BUREAU_MON              0.018658                     -0.002593   \n",
      "AMT_REQ_CREDIT_BUREAU_QRT              0.000642                      0.001618   \n",
      "AMT_REQ_CREDIT_BUREAU_YEAR            -0.006234                     -0.005032   \n",
      "\n",
      "                              YEARS_BUILD_MODE  COMMONAREA_MODE  \\\n",
      "SK_ID_CURR                            0.003043        -0.000403   \n",
      "TARGET                               -0.010648        -0.015238   \n",
      "CNT_CHILDREN                          0.017108        -0.005972   \n",
      "AMT_INCOME_TOTAL                      0.008407         0.027894   \n",
      "AMT_CREDIT                            0.018554         0.035367   \n",
      "AMT_ANNUITY                           0.016754         0.040675   \n",
      "AMT_GOODS_PRICE                       0.022231         0.035242   \n",
      "REGION_POPULATION_RELATIVE           -0.048061         0.113239   \n",
      "DAYS_BIRTH                            0.015694         0.000827   \n",
      "DAYS_EMPLOYED                        -0.002699        -0.008297   \n",
      "DAYS_REGISTRATION                     0.099247         0.003450   \n",
      "DAYS_ID_PUBLISH                      -0.003722        -0.002780   \n",
      "OWN_CAR_AGE                          -0.011004        -0.013473   \n",
      "FLAG_MOBIL                           -0.000049         0.000303   \n",
      "FLAG_EMP_PHONE                        0.002718         0.008253   \n",
      "FLAG_WORK_PHONE                       0.008379        -0.009630   \n",
      "FLAG_CONT_MOBILE                     -0.000921        -0.003816   \n",
      "FLAG_PHONE                           -0.005305         0.030659   \n",
      "FLAG_EMAIL                            0.001623         0.018630   \n",
      "CNT_FAM_MEMBERS                       0.024710        -0.009237   \n",
      "REGION_RATING_CLIENT                  0.033413        -0.076859   \n",
      "REGION_RATING_CLIENT_W_CITY           0.029465        -0.092033   \n",
      "HOUR_APPR_PROCESS_START              -0.010664         0.026848   \n",
      "REG_REGION_NOT_LIVE_REGION            0.003790         0.001837   \n",
      "REG_REGION_NOT_WORK_REGION            0.011444         0.006087   \n",
      "LIVE_REGION_NOT_WORK_REGION           0.009856         0.013805   \n",
      "REG_CITY_NOT_LIVE_CITY                0.008229        -0.034736   \n",
      "REG_CITY_NOT_WORK_CITY                0.020140        -0.060607   \n",
      "LIVE_CITY_NOT_WORK_CITY               0.017135        -0.047090   \n",
      "EXT_SOURCE_1                          0.005504         0.022302   \n",
      "EXT_SOURCE_2                          0.002647         0.040123   \n",
      "EXT_SOURCE_3                          0.007290        -0.000191   \n",
      "APARTMENTS_AVG                        0.269444         0.445639   \n",
      "BASEMENTAREA_AVG                      0.204587         0.340883   \n",
      "YEARS_BEGINEXPLUATATION_AVG           0.109133         0.026391   \n",
      "YEARS_BUILD_AVG                       0.989281         0.196591   \n",
      "COMMONAREA_AVG                        0.197744         0.978595   \n",
      "ELEVATORS_AVG                         0.255727         0.441783   \n",
      "ENTRANCES_AVG                         0.073371         0.271023   \n",
      "FLOORSMAX_AVG                         0.389698         0.339966   \n",
      "FLOORSMIN_AVG                         0.333212         0.277343   \n",
      "LANDAREA_AVG                          0.140327         0.228919   \n",
      "LIVINGAPARTMENTS_AVG                  0.301928         0.524940   \n",
      "LIVINGAREA_AVG                        0.279589         0.454992   \n",
      "NONLIVINGAPARTMENTS_AVG               0.060591         0.128319   \n",
      "NONLIVINGAREA_AVG                     0.086654         0.180700   \n",
      "APARTMENTS_MODE                       0.262177         0.442690   \n",
      "BASEMENTAREA_MODE                     0.199611         0.342568   \n",
      "YEARS_BEGINEXPLUATATION_MODE          0.102591         0.021364   \n",
      "YEARS_BUILD_MODE                      1.000000         0.195119   \n",
      "COMMONAREA_MODE                       0.195119         1.000000   \n",
      "ELEVATORS_MODE                        0.255423         0.440673   \n",
      "ENTRANCES_MODE                        0.068897         0.257809   \n",
      "FLOORSMAX_MODE                        0.394530         0.339332   \n",
      "FLOORSMIN_MODE                        0.335611         0.274598   \n",
      "LANDAREA_MODE                         0.136575         0.227139   \n",
      "LIVINGAPARTMENTS_MODE                 0.300962         0.541551   \n",
      "LIVINGAREA_MODE                       0.273651         0.453489   \n",
      "NONLIVINGAPARTMENTS_MODE              0.057839         0.130927   \n",
      "NONLIVINGAREA_MODE                    0.079527         0.183163   \n",
      "APARTMENTS_MEDI                       0.268299         0.447595   \n",
      "BASEMENTAREA_MEDI                     0.203157         0.342555   \n",
      "YEARS_BEGINEXPLUATATION_MEDI          0.108495         0.024374   \n",
      "YEARS_BUILD_MEDI                      0.989307         0.196174   \n",
      "COMMONAREA_MEDI                       0.198529         0.981182   \n",
      "ELEVATORS_MEDI                        0.256998         0.442414   \n",
      "ENTRANCES_MEDI                        0.072550         0.269892   \n",
      "FLOORSMAX_MEDI                        0.390779         0.339140   \n",
      "FLOORSMIN_MEDI                        0.333517         0.276578   \n",
      "LANDAREA_MEDI                         0.141324         0.229932   \n",
      "LIVINGAPARTMENTS_MEDI                 0.303172         0.528731   \n",
      "LIVINGAREA_MEDI                       0.279755         0.456300   \n",
      "NONLIVINGAPARTMENTS_MEDI              0.059608         0.129081   \n",
      "NONLIVINGAREA_MEDI                    0.085711         0.182462   \n",
      "TOTALAREA_MODE                        0.282496         0.463898   \n",
      "OBS_30_CNT_SOCIAL_CIRCLE              0.001228        -0.012127   \n",
      "DEF_30_CNT_SOCIAL_CIRCLE             -0.005498        -0.007910   \n",
      "OBS_60_CNT_SOCIAL_CIRCLE              0.001170        -0.011868   \n",
      "DEF_60_CNT_SOCIAL_CIRCLE             -0.006050        -0.008049   \n",
      "DAYS_LAST_PHONE_CHANGE                0.008053        -0.007781   \n",
      "FLAG_DOCUMENT_2                       0.000484        -0.000469   \n",
      "FLAG_DOCUMENT_3                      -0.009868        -0.026078   \n",
      "FLAG_DOCUMENT_4                      -0.000458         0.001771   \n",
      "FLAG_DOCUMENT_5                      -0.000583         0.000160   \n",
      "FLAG_DOCUMENT_6                       0.000737        -0.002945   \n",
      "FLAG_DOCUMENT_7                       0.000133         0.002587   \n",
      "FLAG_DOCUMENT_8                       0.013912         0.031498   \n",
      "FLAG_DOCUMENT_9                      -0.001561         0.010988   \n",
      "FLAG_DOCUMENT_10                     -0.000220        -0.001377   \n",
      "FLAG_DOCUMENT_11                      0.002302         0.013165   \n",
      "FLAG_DOCUMENT_12                      0.002290         0.003032   \n",
      "FLAG_DOCUMENT_13                      0.005699         0.009972   \n",
      "FLAG_DOCUMENT_14                      0.005259         0.011781   \n",
      "FLAG_DOCUMENT_15                     -0.000305         0.006910   \n",
      "FLAG_DOCUMENT_16                     -0.000058         0.007726   \n",
      "FLAG_DOCUMENT_17                      0.000462         0.000444   \n",
      "FLAG_DOCUMENT_18                      0.004100         0.009623   \n",
      "FLAG_DOCUMENT_19                      0.000510         0.003848   \n",
      "FLAG_DOCUMENT_20                     -0.004096         0.001028   \n",
      "FLAG_DOCUMENT_21                     -0.006004        -0.002215   \n",
      "AMT_REQ_CREDIT_BUREAU_HOUR            0.000788         0.004270   \n",
      "AMT_REQ_CREDIT_BUREAU_DAY             0.000819         0.004539   \n",
      "AMT_REQ_CREDIT_BUREAU_WEEK           -0.002007        -0.002928   \n",
      "AMT_REQ_CREDIT_BUREAU_MON            -0.001760         0.018530   \n",
      "AMT_REQ_CREDIT_BUREAU_QRT            -0.002031        -0.002275   \n",
      "AMT_REQ_CREDIT_BUREAU_YEAR           -0.011982        -0.006036   \n",
      "\n",
      "                              ELEVATORS_MODE  ENTRANCES_MODE  FLOORSMAX_MODE  \\\n",
      "SK_ID_CURR                          0.003711       -0.001945        0.003233   \n",
      "TARGET                             -0.034220       -0.013515       -0.038377   \n",
      "CNT_CHILDREN                       -0.018273       -0.006496       -0.016196   \n",
      "AMT_INCOME_TOTAL                    0.054726        0.004454        0.065618   \n",
      "AMT_CREDIT                          0.072264        0.009797        0.086689   \n",
      "AMT_ANNUITY                         0.088196        0.008866        0.108218   \n",
      "AMT_GOODS_PRICE                     0.076674        0.013024        0.091864   \n",
      "REGION_POPULATION_RELATIVE          0.228910        0.018298        0.261683   \n",
      "DAYS_BIRTH                         -0.008158       -0.007606       -0.004267   \n",
      "DAYS_EMPLOYED                      -0.009524        0.002912       -0.013024   \n",
      "DAYS_REGISTRATION                  -0.022647       -0.046941        0.016677   \n",
      "DAYS_ID_PUBLISH                    -0.013002       -0.011760       -0.011037   \n",
      "OWN_CAR_AGE                        -0.034726       -0.006251       -0.038500   \n",
      "FLAG_MOBIL                         -0.001587        0.000965       -0.003080   \n",
      "FLAG_EMP_PHONE                      0.009457       -0.003071        0.012982   \n",
      "FLAG_WORK_PHONE                    -0.027077       -0.004127       -0.030547   \n",
      "FLAG_CONT_MOBILE                   -0.007025        0.001933       -0.010105   \n",
      "FLAG_PHONE                          0.071152        0.031906        0.065006   \n",
      "FLAG_EMAIL                          0.042137        0.007146        0.044351   \n",
      "CNT_FAM_MEMBERS                    -0.023095       -0.004653       -0.018574   \n",
      "REGION_RATING_CLIENT               -0.185423       -0.011015       -0.195792   \n",
      "REGION_RATING_CLIENT_W_CITY        -0.203495       -0.017893       -0.213763   \n",
      "HOUR_APPR_PROCESS_START             0.090459        0.015408        0.099241   \n",
      "REG_REGION_NOT_LIVE_REGION         -0.001444       -0.002585       -0.000798   \n",
      "REG_REGION_NOT_WORK_REGION          0.004991       -0.008067        0.015018   \n",
      "LIVE_REGION_NOT_WORK_REGION         0.017624       -0.005032        0.027695   \n",
      "REG_CITY_NOT_LIVE_CITY             -0.075865       -0.019190       -0.073898   \n",
      "REG_CITY_NOT_WORK_CITY             -0.133160       -0.033132       -0.128446   \n",
      "LIVE_CITY_NOT_WORK_CITY            -0.104062       -0.026837       -0.099278   \n",
      "EXT_SOURCE_1                        0.053604        0.011655        0.059771   \n",
      "EXT_SOURCE_2                        0.111612        0.022620        0.119125   \n",
      "EXT_SOURCE_3                        0.008023        0.007322        0.005466   \n",
      "APARTMENTS_AVG                      0.812049        0.572700        0.624729   \n",
      "BASEMENTAREA_AVG                    0.517532        0.585873        0.315106   \n",
      "YEARS_BEGINEXPLUATATION_AVG         0.056752        0.022605        0.082619   \n",
      "YEARS_BUILD_AVG                     0.258840        0.059715        0.400299   \n",
      "COMMONAREA_AVG                      0.438637        0.241544        0.351198   \n",
      "ELEVATORS_AVG                       0.981902        0.361712        0.698137   \n",
      "ENTRANCES_AVG                       0.400302        0.977322        0.110764   \n",
      "FLOORSMAX_AVG                       0.687615        0.074528        0.986610   \n",
      "FLOORSMIN_AVG                       0.420549        0.021580        0.593467   \n",
      "LANDAREA_AVG                        0.374800        0.465502        0.230440   \n",
      "LIVINGAPARTMENTS_AVG                0.656993        0.419680        0.493552   \n",
      "LIVINGAREA_AVG                      0.836295        0.576018        0.633048   \n",
      "NONLIVINGAPARTMENTS_AVG             0.126401        0.048346        0.117936   \n",
      "NONLIVINGAREA_AVG                   0.324486        0.159025        0.291400   \n",
      "APARTMENTS_MODE                     0.815365        0.604029        0.607706   \n",
      "BASEMENTAREA_MODE                   0.516915        0.611490        0.299715   \n",
      "YEARS_BEGINEXPLUATATION_MODE        0.053245        0.023974        0.073533   \n",
      "YEARS_BUILD_MODE                    0.255423        0.068897        0.394530   \n",
      "COMMONAREA_MODE                     0.440673        0.257809        0.339332   \n",
      "ELEVATORS_MODE                      1.000000        0.386744        0.688750   \n",
      "ENTRANCES_MODE                      0.386744        1.000000        0.088195   \n",
      "FLOORSMAX_MODE                      0.688750        0.088195        1.000000   \n",
      "FLOORSMIN_MODE                      0.415528        0.030548        0.587501   \n",
      "LANDAREA_MODE                       0.377620        0.483313        0.224818   \n",
      "LIVINGAPARTMENTS_MODE               0.669127        0.446203        0.487493   \n",
      "LIVINGAREA_MODE                     0.838205        0.607189        0.613722   \n",
      "NONLIVINGAPARTMENTS_MODE            0.124822        0.054781        0.110786   \n",
      "NONLIVINGAREA_MODE                  0.325487        0.178139        0.278124   \n",
      "APARTMENTS_MEDI                     0.816353        0.576816        0.624185   \n",
      "BASEMENTAREA_MEDI                   0.518291        0.590421        0.312437   \n",
      "YEARS_BEGINEXPLUATATION_MEDI        0.056266        0.022040        0.082188   \n",
      "YEARS_BUILD_MEDI                    0.258331        0.059012        0.400292   \n",
      "COMMONAREA_MEDI                     0.440156        0.243670        0.350998   \n",
      "ELEVATORS_MEDI                      0.985319        0.365319        0.696436   \n",
      "ENTRANCES_MEDI                      0.399097        0.980355        0.105651   \n",
      "FLOORSMAX_MEDI                      0.686678        0.073792        0.989001   \n",
      "FLOORSMIN_MEDI                      0.419609        0.021314        0.593667   \n",
      "LANDAREA_MEDI                       0.376802        0.469213        0.230711   \n",
      "LIVINGAPARTMENTS_MEDI               0.661400        0.423930        0.494186   \n",
      "LIVINGAREA_MEDI                     0.839475        0.580126        0.631560   \n",
      "NONLIVINGAPARTMENTS_MEDI            0.126365        0.049946        0.116506   \n",
      "NONLIVINGAREA_MEDI                  0.325299        0.162997        0.287573   \n",
      "TOTALAREA_MODE                      0.817786        0.550682        0.640622   \n",
      "OBS_30_CNT_SOCIAL_CIRCLE           -0.024826       -0.000488       -0.029450   \n",
      "DEF_30_CNT_SOCIAL_CIRCLE           -0.016170       -0.002391       -0.021226   \n",
      "OBS_60_CNT_SOCIAL_CIRCLE           -0.024445       -0.000299       -0.029195   \n",
      "DEF_60_CNT_SOCIAL_CIRCLE           -0.016971       -0.004432       -0.021399   \n",
      "DAYS_LAST_PHONE_CHANGE             -0.017416       -0.009692       -0.012903   \n",
      "FLAG_DOCUMENT_2                     0.003252        0.001366        0.001634   \n",
      "FLAG_DOCUMENT_3                    -0.050223       -0.006928       -0.059201   \n",
      "FLAG_DOCUMENT_4                     0.000209        0.000416        0.000033   \n",
      "FLAG_DOCUMENT_5                     0.005419       -0.001654        0.007738   \n",
      "FLAG_DOCUMENT_6                    -0.005067        0.002977       -0.005813   \n",
      "FLAG_DOCUMENT_7                     0.001649       -0.003315        0.001985   \n",
      "FLAG_DOCUMENT_8                     0.055140        0.005575        0.064117   \n",
      "FLAG_DOCUMENT_9                     0.020874        0.001484        0.027421   \n",
      "FLAG_DOCUMENT_10                   -0.001417       -0.000242        0.000082   \n",
      "FLAG_DOCUMENT_11                    0.016533        0.008956        0.018538   \n",
      "FLAG_DOCUMENT_12                    0.005400        0.003575        0.001841   \n",
      "FLAG_DOCUMENT_13                    0.020581        0.004479        0.024242   \n",
      "FLAG_DOCUMENT_14                    0.025889        0.002522        0.030286   \n",
      "FLAG_DOCUMENT_15                    0.012122        0.005936        0.009908   \n",
      "FLAG_DOCUMENT_16                    0.010413        0.003491        0.012201   \n",
      "FLAG_DOCUMENT_17                    0.005186        0.006982        0.002435   \n",
      "FLAG_DOCUMENT_18                    0.008127        0.000080        0.011228   \n",
      "FLAG_DOCUMENT_19                    0.002910       -0.000073        0.001801   \n",
      "FLAG_DOCUMENT_20                   -0.000639       -0.002119       -0.000379   \n",
      "FLAG_DOCUMENT_21                   -0.002561       -0.000583       -0.003794   \n",
      "AMT_REQ_CREDIT_BUREAU_HOUR          0.002735       -0.001778        0.003972   \n",
      "AMT_REQ_CREDIT_BUREAU_DAY           0.005784        0.004449        0.003821   \n",
      "AMT_REQ_CREDIT_BUREAU_WEEK          0.001760        0.001897        0.001622   \n",
      "AMT_REQ_CREDIT_BUREAU_MON           0.047976        0.011452        0.045871   \n",
      "AMT_REQ_CREDIT_BUREAU_QRT          -0.001059        0.000896        0.001320   \n",
      "AMT_REQ_CREDIT_BUREAU_YEAR         -0.011077       -0.004778       -0.012272   \n",
      "\n",
      "                              FLOORSMIN_MODE  LANDAREA_MODE  \\\n",
      "SK_ID_CURR                          0.001174       0.001127   \n",
      "TARGET                             -0.020147      -0.011860   \n",
      "CNT_CHILDREN                       -0.006889      -0.006585   \n",
      "AMT_INCOME_TOTAL                    0.038214       0.003827   \n",
      "AMT_CREDIT                          0.049908       0.009999   \n",
      "AMT_ANNUITY                         0.062004       0.011293   \n",
      "AMT_GOODS_PRICE                     0.051096       0.014706   \n",
      "REGION_POPULATION_RELATIVE          0.197072      -0.026459   \n",
      "DAYS_BIRTH                         -0.001266      -0.000729   \n",
      "DAYS_EMPLOYED                      -0.009167      -0.007241   \n",
      "DAYS_REGISTRATION                   0.006702      -0.008323   \n",
      "DAYS_ID_PUBLISH                    -0.006182      -0.007567   \n",
      "OWN_CAR_AGE                        -0.023350      -0.011834   \n",
      "FLAG_MOBIL                          0.000125      -0.000995   \n",
      "FLAG_EMP_PHONE                      0.009223       0.007114   \n",
      "FLAG_WORK_PHONE                    -0.012719      -0.008023   \n",
      "FLAG_CONT_MOBILE                   -0.003577       0.003589   \n",
      "FLAG_PHONE                          0.038435       0.014024   \n",
      "FLAG_EMAIL                          0.028671       0.008204   \n",
      "CNT_FAM_MEMBERS                    -0.004227      -0.007231   \n",
      "REGION_RATING_CLIENT               -0.144887       0.020824   \n",
      "REGION_RATING_CLIENT_W_CITY        -0.150003       0.007114   \n",
      "HOUR_APPR_PROCESS_START             0.068167       0.017362   \n",
      "REG_REGION_NOT_LIVE_REGION          0.004781      -0.011450   \n",
      "REG_REGION_NOT_WORK_REGION          0.022699      -0.010360   \n",
      "LIVE_REGION_NOT_WORK_REGION         0.030270      -0.006346   \n",
      "REG_CITY_NOT_LIVE_CITY             -0.026763      -0.035254   \n",
      "REG_CITY_NOT_WORK_CITY             -0.050597      -0.059474   \n",
      "LIVE_CITY_NOT_WORK_CITY            -0.040181      -0.047501   \n",
      "EXT_SOURCE_1                        0.033706       0.010419   \n",
      "EXT_SOURCE_2                        0.066346       0.026987   \n",
      "EXT_SOURCE_3                        0.002374       0.006406   \n",
      "APARTMENTS_AVG                      0.369041       0.468466   \n",
      "BASEMENTAREA_AVG                    0.191300       0.437505   \n",
      "YEARS_BEGINEXPLUATATION_AVG         0.040851       0.027576   \n",
      "YEARS_BUILD_AVG                     0.336295       0.131913   \n",
      "COMMONAREA_AVG                      0.284893       0.211007   \n",
      "ELEVATORS_AVG                       0.419276       0.364120   \n",
      "ENTRANCES_AVG                       0.040514       0.481647   \n",
      "FLOORSMAX_AVG                       0.582848       0.218431   \n",
      "FLOORSMIN_AVG                       0.985863       0.125067   \n",
      "LANDAREA_AVG                        0.132261       0.974467   \n",
      "LIVINGAPARTMENTS_AVG                0.424684       0.341800   \n",
      "LIVINGAREA_AVG                      0.385365       0.470271   \n",
      "NONLIVINGAPARTMENTS_AVG             0.080496       0.063796   \n",
      "NONLIVINGAREA_AVG                   0.123083       0.167125   \n",
      "APARTMENTS_MODE                     0.357527       0.486325   \n",
      "BASEMENTAREA_MODE                   0.179432       0.456719   \n",
      "YEARS_BEGINEXPLUATATION_MODE        0.037104       0.025035   \n",
      "YEARS_BUILD_MODE                    0.335611       0.136575   \n",
      "COMMONAREA_MODE                     0.274598       0.227139   \n",
      "ELEVATORS_MODE                      0.415528       0.377620   \n",
      "ENTRANCES_MODE                      0.030548       0.483313   \n",
      "FLOORSMAX_MODE                      0.587501       0.224818   \n",
      "FLOORSMIN_MODE                      1.000000       0.130397   \n",
      "LANDAREA_MODE                       0.130397       1.000000   \n",
      "LIVINGAPARTMENTS_MODE               0.422804       0.363314   \n",
      "LIVINGAREA_MODE                     0.373260       0.487144   \n",
      "NONLIVINGAPARTMENTS_MODE            0.077815       0.065499   \n",
      "NONLIVINGAREA_MODE                  0.113338       0.177752   \n",
      "APARTMENTS_MEDI                     0.367652       0.470719   \n",
      "BASEMENTAREA_MEDI                   0.188764       0.440261   \n",
      "YEARS_BEGINEXPLUATATION_MEDI        0.040236       0.026857   \n",
      "YEARS_BUILD_MEDI                    0.336294       0.131788   \n",
      "COMMONAREA_MEDI                     0.283641       0.213425   \n",
      "ELEVATORS_MEDI                      0.419376       0.365718   \n",
      "ENTRANCES_MEDI                      0.038084       0.481214   \n",
      "FLOORSMAX_MEDI                      0.584409       0.218134   \n",
      "FLOORSMIN_MEDI                      0.988392       0.125239   \n",
      "LANDAREA_MEDI                       0.133531       0.981392   \n",
      "LIVINGAPARTMENTS_MEDI               0.425060       0.345460   \n",
      "LIVINGAREA_MEDI                     0.385108       0.471060   \n",
      "NONLIVINGAPARTMENTS_MEDI            0.079080       0.062561   \n",
      "NONLIVINGAREA_MEDI                  0.119284       0.170269   \n",
      "TOTALAREA_MODE                      0.378473       0.460482   \n",
      "OBS_30_CNT_SOCIAL_CIRCLE           -0.020343      -0.003549   \n",
      "DEF_30_CNT_SOCIAL_CIRCLE           -0.012657      -0.004131   \n",
      "OBS_60_CNT_SOCIAL_CIRCLE           -0.020070      -0.003434   \n",
      "DEF_60_CNT_SOCIAL_CIRCLE           -0.012063      -0.003459   \n",
      "DAYS_LAST_PHONE_CHANGE             -0.007112      -0.006094   \n",
      "FLAG_DOCUMENT_2                     0.001593       0.001054   \n",
      "FLAG_DOCUMENT_3                    -0.040587      -0.002208   \n",
      "FLAG_DOCUMENT_4                     0.004286      -0.001737   \n",
      "FLAG_DOCUMENT_5                     0.006607      -0.005099   \n",
      "FLAG_DOCUMENT_6                    -0.004963      -0.007911   \n",
      "FLAG_DOCUMENT_7                     0.001493      -0.001396   \n",
      "FLAG_DOCUMENT_8                     0.043793       0.005027   \n",
      "FLAG_DOCUMENT_9                     0.017731      -0.003352   \n",
      "FLAG_DOCUMENT_10                   -0.000329      -0.000753   \n",
      "FLAG_DOCUMENT_11                    0.018338       0.008650   \n",
      "FLAG_DOCUMENT_12                    0.002717       0.005342   \n",
      "FLAG_DOCUMENT_13                    0.013367       0.002642   \n",
      "FLAG_DOCUMENT_14                    0.017194       0.000824   \n",
      "FLAG_DOCUMENT_15                    0.006425       0.004950   \n",
      "FLAG_DOCUMENT_16                    0.003711       0.006497   \n",
      "FLAG_DOCUMENT_17                   -0.001670       0.003316   \n",
      "FLAG_DOCUMENT_18                    0.007598       0.001220   \n",
      "FLAG_DOCUMENT_19                    0.002731       0.000052   \n",
      "FLAG_DOCUMENT_20                    0.000147       0.002634   \n",
      "FLAG_DOCUMENT_21                   -0.002877      -0.002330   \n",
      "AMT_REQ_CREDIT_BUREAU_HOUR          0.002284       0.000105   \n",
      "AMT_REQ_CREDIT_BUREAU_DAY           0.002915       0.004892   \n",
      "AMT_REQ_CREDIT_BUREAU_WEEK          0.000228       0.005640   \n",
      "AMT_REQ_CREDIT_BUREAU_MON           0.022739       0.015862   \n",
      "AMT_REQ_CREDIT_BUREAU_QRT          -0.001160       0.003497   \n",
      "AMT_REQ_CREDIT_BUREAU_YEAR         -0.004860      -0.006018   \n",
      "\n",
      "                              LIVINGAPARTMENTS_MODE  LIVINGAREA_MODE  \\\n",
      "SK_ID_CURR                                 0.002158         0.001776   \n",
      "TARGET                                    -0.018829        -0.027884   \n",
      "CNT_CHILDREN                              -0.010021        -0.013762   \n",
      "AMT_INCOME_TOTAL                           0.032221         0.042072   \n",
      "AMT_CREDIT                                 0.040712         0.057240   \n",
      "AMT_ANNUITY                                0.050633         0.070517   \n",
      "AMT_GOODS_PRICE                            0.041826         0.062153   \n",
      "REGION_POPULATION_RELATIVE                 0.133360         0.161049   \n",
      "DAYS_BIRTH                                 0.002533        -0.003870   \n",
      "DAYS_EMPLOYED                             -0.011916        -0.009720   \n",
      "DAYS_REGISTRATION                          0.001626        -0.008669   \n",
      "DAYS_ID_PUBLISH                           -0.003598        -0.011182   \n",
      "OWN_CAR_AGE                               -0.018039        -0.026916   \n",
      "FLAG_MOBIL                                 0.000288        -0.000989   \n",
      "FLAG_EMP_PHONE                             0.011927         0.009648   \n",
      "FLAG_WORK_PHONE                           -0.015337        -0.017150   \n",
      "FLAG_CONT_MOBILE                          -0.003040        -0.005610   \n",
      "FLAG_PHONE                                 0.034852         0.054835   \n",
      "FLAG_EMAIL                                 0.024193         0.032761   \n",
      "CNT_FAM_MEMBERS                           -0.013165        -0.014917   \n",
      "REGION_RATING_CLIENT                      -0.099851        -0.124130   \n",
      "REGION_RATING_CLIENT_W_CITY               -0.122116        -0.142948   \n",
      "HOUR_APPR_PROCESS_START                    0.046635         0.067456   \n",
      "REG_REGION_NOT_LIVE_REGION                -0.000234        -0.002684   \n",
      "REG_REGION_NOT_WORK_REGION                 0.004316         0.003456   \n",
      "LIVE_REGION_NOT_WORK_REGION                0.011857         0.013028   \n",
      "REG_CITY_NOT_LIVE_CITY                    -0.039574        -0.055128   \n",
      "REG_CITY_NOT_WORK_CITY                    -0.074046        -0.097093   \n",
      "LIVE_CITY_NOT_WORK_CITY                   -0.059531        -0.076780   \n",
      "EXT_SOURCE_1                               0.026189         0.042304   \n",
      "EXT_SOURCE_2                               0.054956         0.082413   \n",
      "EXT_SOURCE_3                               0.003731         0.005345   \n",
      "APARTMENTS_AVG                             0.761209         0.876241   \n",
      "BASEMENTAREA_AVG                           0.538184         0.631357   \n",
      "YEARS_BEGINEXPLUATATION_AVG                0.039052         0.055592   \n",
      "YEARS_BUILD_AVG                            0.299473         0.272155   \n",
      "COMMONAREA_AVG                             0.530291         0.442848   \n",
      "ELEVATORS_AVG                              0.663032         0.822324   \n",
      "ENTRANCES_AVG                              0.456557         0.612652   \n",
      "FLOORSMAX_AVG                              0.486146         0.606357   \n",
      "FLOORSMIN_AVG                              0.423472         0.373670   \n",
      "LANDAREA_AVG                               0.360984         0.476883   \n",
      "LIVINGAPARTMENTS_AVG                       0.971537         0.698030   \n",
      "LIVINGAREA_AVG                             0.716058         0.973222   \n",
      "NONLIVINGAPARTMENTS_AVG                    0.166740         0.125524   \n",
      "NONLIVINGAREA_AVG                          0.236417         0.318455   \n",
      "APARTMENTS_MODE                            0.764236         0.891804   \n",
      "BASEMENTAREA_MODE                          0.540517         0.643763   \n",
      "YEARS_BEGINEXPLUATATION_MODE               0.034046         0.049759   \n",
      "YEARS_BUILD_MODE                           0.300962         0.273651   \n",
      "COMMONAREA_MODE                            0.541551         0.453489   \n",
      "ELEVATORS_MODE                             0.669127         0.838205   \n",
      "ENTRANCES_MODE                             0.446203         0.607189   \n",
      "FLOORSMAX_MODE                             0.487493         0.613722   \n",
      "FLOORSMIN_MODE                             0.422804         0.373260   \n",
      "LANDAREA_MODE                              0.363314         0.487144   \n",
      "LIVINGAPARTMENTS_MODE                      1.000000         0.718939   \n",
      "LIVINGAREA_MODE                            0.718939         1.000000   \n",
      "NONLIVINGAPARTMENTS_MODE                   0.168296         0.127208   \n",
      "NONLIVINGAREA_MODE                         0.235817         0.327887   \n",
      "APARTMENTS_MEDI                            0.762167         0.878957   \n",
      "BASEMENTAREA_MEDI                          0.540481         0.634437   \n",
      "YEARS_BEGINEXPLUATATION_MEDI               0.037051         0.053803   \n",
      "YEARS_BUILD_MEDI                           0.298500         0.271446   \n",
      "COMMONAREA_MEDI                            0.533143         0.445224   \n",
      "ELEVATORS_MEDI                             0.664366         0.824489   \n",
      "ENTRANCES_MEDI                             0.455355         0.611502   \n",
      "FLOORSMAX_MEDI                             0.484815         0.605480   \n",
      "FLOORSMIN_MEDI                             0.422536         0.372681   \n",
      "LANDAREA_MEDI                              0.362908         0.480175   \n",
      "LIVINGAPARTMENTS_MEDI                      0.976806         0.702499   \n",
      "LIVINGAREA_MEDI                            0.717805         0.975806   \n",
      "NONLIVINGAPARTMENTS_MEDI                   0.167877         0.126544   \n",
      "NONLIVINGAREA_MEDI                         0.236645         0.321909   \n",
      "TOTALAREA_MODE                             0.692664         0.892256   \n",
      "OBS_30_CNT_SOCIAL_CIRCLE                  -0.017125        -0.018524   \n",
      "DEF_30_CNT_SOCIAL_CIRCLE                  -0.010060        -0.012508   \n",
      "OBS_60_CNT_SOCIAL_CIRCLE                  -0.016859        -0.018209   \n",
      "DEF_60_CNT_SOCIAL_CIRCLE                  -0.010790        -0.013772   \n",
      "DAYS_LAST_PHONE_CHANGE                    -0.008239        -0.013180   \n",
      "FLAG_DOCUMENT_2                            0.001081         0.002671   \n",
      "FLAG_DOCUMENT_3                           -0.031532        -0.039153   \n",
      "FLAG_DOCUMENT_4                            0.002143         0.000922   \n",
      "FLAG_DOCUMENT_5                            0.003392         0.002875   \n",
      "FLAG_DOCUMENT_6                           -0.006469        -0.006760   \n",
      "FLAG_DOCUMENT_7                           -0.000626        -0.000604   \n",
      "FLAG_DOCUMENT_8                            0.037541         0.045058   \n",
      "FLAG_DOCUMENT_9                            0.012721         0.016357   \n",
      "FLAG_DOCUMENT_10                          -0.001069        -0.001386   \n",
      "FLAG_DOCUMENT_11                           0.015860         0.018445   \n",
      "FLAG_DOCUMENT_12                           0.005983         0.006069   \n",
      "FLAG_DOCUMENT_13                           0.014546         0.018536   \n",
      "FLAG_DOCUMENT_14                           0.015309         0.019966   \n",
      "FLAG_DOCUMENT_15                           0.010046         0.010158   \n",
      "FLAG_DOCUMENT_16                           0.005298         0.007963   \n",
      "FLAG_DOCUMENT_17                           0.000251         0.008602   \n",
      "FLAG_DOCUMENT_18                           0.005994         0.006441   \n",
      "FLAG_DOCUMENT_19                           0.000480         0.000853   \n",
      "FLAG_DOCUMENT_20                          -0.001151        -0.000914   \n",
      "FLAG_DOCUMENT_21                          -0.002874        -0.002823   \n",
      "AMT_REQ_CREDIT_BUREAU_HOUR                 0.002771         0.003193   \n",
      "AMT_REQ_CREDIT_BUREAU_DAY                  0.005594         0.006323   \n",
      "AMT_REQ_CREDIT_BUREAU_WEEK                -0.000763         0.000809   \n",
      "AMT_REQ_CREDIT_BUREAU_MON                  0.024266         0.034929   \n",
      "AMT_REQ_CREDIT_BUREAU_QRT                 -0.002115         0.000239   \n",
      "AMT_REQ_CREDIT_BUREAU_YEAR                -0.006752        -0.010895   \n",
      "\n",
      "                              NONLIVINGAPARTMENTS_MODE  NONLIVINGAREA_MODE  \\\n",
      "SK_ID_CURR                                   -0.001087            0.001439   \n",
      "TARGET                                       -0.004859           -0.017984   \n",
      "CNT_CHILDREN                                 -0.001511           -0.009082   \n",
      "AMT_INCOME_TOTAL                              0.011645            0.030200   \n",
      "AMT_CREDIT                                    0.013094            0.036714   \n",
      "AMT_ANNUITY                                   0.017271            0.045209   \n",
      "AMT_GOODS_PRICE                               0.013293            0.040926   \n",
      "REGION_POPULATION_RELATIVE                    0.028078            0.070148   \n",
      "DAYS_BIRTH                                   -0.000707           -0.001439   \n",
      "DAYS_EMPLOYED                                -0.003489           -0.010413   \n",
      "DAYS_REGISTRATION                             0.011001            0.015098   \n",
      "DAYS_ID_PUBLISH                              -0.003711           -0.003114   \n",
      "OWN_CAR_AGE                                  -0.009817           -0.019565   \n",
      "FLAG_MOBIL                                    0.000172            0.000430   \n",
      "FLAG_EMP_PHONE                                0.003479            0.010360   \n",
      "FLAG_WORK_PHONE                              -0.006138           -0.012364   \n",
      "FLAG_CONT_MOBILE                             -0.001815           -0.004821   \n",
      "FLAG_PHONE                                    0.005335            0.024918   \n",
      "FLAG_EMAIL                                    0.003173            0.019038   \n",
      "CNT_FAM_MEMBERS                              -0.004900           -0.014102   \n",
      "REGION_RATING_CLIENT                         -0.018141           -0.071620   \n",
      "REGION_RATING_CLIENT_W_CITY                  -0.025346           -0.080616   \n",
      "HOUR_APPR_PROCESS_START                       0.011123            0.043155   \n",
      "REG_REGION_NOT_LIVE_REGION                   -0.001410           -0.001877   \n",
      "REG_REGION_NOT_WORK_REGION                    0.001250            0.001212   \n",
      "LIVE_REGION_NOT_WORK_REGION                   0.003581            0.006775   \n",
      "REG_CITY_NOT_LIVE_CITY                       -0.018315           -0.044932   \n",
      "REG_CITY_NOT_WORK_CITY                       -0.027720           -0.072721   \n",
      "LIVE_CITY_NOT_WORK_CITY                      -0.019561           -0.055336   \n",
      "EXT_SOURCE_1                                  0.011775            0.027859   \n",
      "EXT_SOURCE_2                                  0.019023            0.053633   \n",
      "EXT_SOURCE_3                                  0.003667            0.000758   \n",
      "APARTMENTS_AVG                                0.172104            0.311117   \n",
      "BASEMENTAREA_AVG                              0.086155            0.242933   \n",
      "YEARS_BEGINEXPLUATATION_AVG                   0.011292            0.010105   \n",
      "YEARS_BUILD_AVG                               0.058750            0.078802   \n",
      "COMMONAREA_AVG                                0.126501            0.175355   \n",
      "ELEVATORS_AVG                                 0.127185            0.320170   \n",
      "ENTRANCES_AVG                                 0.061623            0.181267   \n",
      "FLOORSMAX_AVG                                 0.113926            0.276138   \n",
      "FLOORSMIN_AVG                                 0.078622            0.112467   \n",
      "LANDAREA_AVG                                  0.065704            0.169970   \n",
      "LIVINGAPARTMENTS_AVG                          0.167366            0.225256   \n",
      "LIVINGAREA_AVG                                0.128229            0.320545   \n",
      "NONLIVINGAPARTMENTS_AVG                       0.970007            0.163625   \n",
      "NONLIVINGAREA_AVG                             0.166779            0.968341   \n",
      "APARTMENTS_MODE                               0.168537            0.319251   \n",
      "BASEMENTAREA_MODE                             0.086975            0.253550   \n",
      "YEARS_BEGINEXPLUATATION_MODE                  0.009883            0.001292   \n",
      "YEARS_BUILD_MODE                              0.057839            0.079527   \n",
      "COMMONAREA_MODE                               0.130927            0.183163   \n",
      "ELEVATORS_MODE                                0.124822            0.325487   \n",
      "ENTRANCES_MODE                                0.054781            0.178139   \n",
      "FLOORSMAX_MODE                                0.110786            0.278124   \n",
      "FLOORSMIN_MODE                                0.077815            0.113338   \n",
      "LANDAREA_MODE                                 0.065499            0.177752   \n",
      "LIVINGAPARTMENTS_MODE                         0.168296            0.235817   \n",
      "LIVINGAREA_MODE                               0.127208            0.327887   \n",
      "NONLIVINGAPARTMENTS_MODE                      1.000000            0.165994   \n",
      "NONLIVINGAREA_MODE                            0.165994            1.000000   \n",
      "APARTMENTS_MEDI                               0.171669            0.313340   \n",
      "BASEMENTAREA_MEDI                             0.086438            0.245049   \n",
      "YEARS_BEGINEXPLUATATION_MEDI                  0.011144            0.009337   \n",
      "YEARS_BUILD_MEDI                              0.058690            0.078851   \n",
      "COMMONAREA_MEDI                               0.127704            0.176846   \n",
      "ELEVATORS_MEDI                                0.127384            0.320185   \n",
      "ENTRANCES_MEDI                                0.061250            0.180078   \n",
      "FLOORSMAX_MEDI                                0.113809            0.275940   \n",
      "FLOORSMIN_MEDI                                0.078416            0.112129   \n",
      "LANDAREA_MEDI                                 0.066146            0.171256   \n",
      "LIVINGAPARTMENTS_MEDI                         0.168635            0.227462   \n",
      "LIVINGAREA_MEDI                               0.128298            0.320067   \n",
      "NONLIVINGAPARTMENTS_MEDI                      0.979018            0.164883   \n",
      "NONLIVINGAREA_MEDI                            0.166780            0.977454   \n",
      "TOTALAREA_MODE                                0.137344            0.376030   \n",
      "OBS_30_CNT_SOCIAL_CIRCLE                     -0.003277           -0.011581   \n",
      "DEF_30_CNT_SOCIAL_CIRCLE                      0.001552           -0.008463   \n",
      "OBS_60_CNT_SOCIAL_CIRCLE                     -0.003052           -0.011417   \n",
      "DEF_60_CNT_SOCIAL_CIRCLE                     -0.000514           -0.008516   \n",
      "DAYS_LAST_PHONE_CHANGE                       -0.003453           -0.008905   \n",
      "FLAG_DOCUMENT_2                              -0.000470            0.000924   \n",
      "FLAG_DOCUMENT_3                              -0.009219           -0.024216   \n",
      "FLAG_DOCUMENT_4                               0.014231            0.000085   \n",
      "FLAG_DOCUMENT_5                               0.002068            0.001400   \n",
      "FLAG_DOCUMENT_6                              -0.001029           -0.007117   \n",
      "FLAG_DOCUMENT_7                              -0.000545            0.002220   \n",
      "FLAG_DOCUMENT_8                               0.008861            0.024325   \n",
      "FLAG_DOCUMENT_9                               0.003052            0.009727   \n",
      "FLAG_DOCUMENT_10                             -0.000353            0.002320   \n",
      "FLAG_DOCUMENT_11                              0.007561            0.007963   \n",
      "FLAG_DOCUMENT_12                              0.002252            0.011961   \n",
      "FLAG_DOCUMENT_13                              0.001830            0.008291   \n",
      "FLAG_DOCUMENT_14                              0.003949            0.017460   \n",
      "FLAG_DOCUMENT_15                              0.004916            0.008159   \n",
      "FLAG_DOCUMENT_16                              0.001669            0.005450   \n",
      "FLAG_DOCUMENT_17                              0.001379            0.007876   \n",
      "FLAG_DOCUMENT_18                              0.001678            0.004483   \n",
      "FLAG_DOCUMENT_19                             -0.001145            0.002156   \n",
      "FLAG_DOCUMENT_20                             -0.000129            0.000724   \n",
      "FLAG_DOCUMENT_21                             -0.000117            0.000156   \n",
      "AMT_REQ_CREDIT_BUREAU_HOUR                   -0.000025            0.003255   \n",
      "AMT_REQ_CREDIT_BUREAU_DAY                     0.000748            0.002491   \n",
      "AMT_REQ_CREDIT_BUREAU_WEEK                   -0.000795           -0.001804   \n",
      "AMT_REQ_CREDIT_BUREAU_MON                     0.003823            0.020931   \n",
      "AMT_REQ_CREDIT_BUREAU_QRT                     0.001926            0.000127   \n",
      "AMT_REQ_CREDIT_BUREAU_YEAR                   -0.000029           -0.005214   \n",
      "\n",
      "                              APARTMENTS_MEDI  BASEMENTAREA_MEDI  \\\n",
      "SK_ID_CURR                           0.001675          -0.000949   \n",
      "TARGET                              -0.026841          -0.017255   \n",
      "CNT_CHILDREN                        -0.015904          -0.008900   \n",
      "AMT_INCOME_TOTAL                     0.041134           0.020406   \n",
      "AMT_CREDIT                           0.053541           0.031064   \n",
      "AMT_ANNUITY                          0.066766           0.035307   \n",
      "AMT_GOODS_PRICE                      0.057935           0.034481   \n",
      "REGION_POPULATION_RELATIVE           0.177982           0.083551   \n",
      "DAYS_BIRTH                          -0.000375          -0.005001   \n",
      "DAYS_EMPLOYED                       -0.013259          -0.002033   \n",
      "DAYS_REGISTRATION                   -0.003717          -0.021522   \n",
      "DAYS_ID_PUBLISH                     -0.007738          -0.010762   \n",
      "OWN_CAR_AGE                         -0.025616          -0.013830   \n",
      "FLAG_MOBIL                          -0.000531           0.000702   \n",
      "FLAG_EMP_PHONE                       0.013237           0.001927   \n",
      "FLAG_WORK_PHONE                     -0.019818          -0.007738   \n",
      "FLAG_CONT_MOBILE                    -0.003382          -0.002490   \n",
      "FLAG_PHONE                           0.052652           0.038983   \n",
      "FLAG_EMAIL                           0.031306           0.016264   \n",
      "CNT_FAM_MEMBERS                     -0.019985          -0.008985   \n",
      "REGION_RATING_CLIENT                -0.135689          -0.054192   \n",
      "REGION_RATING_CLIENT_W_CITY         -0.154120          -0.065930   \n",
      "HOUR_APPR_PROCESS_START              0.072281           0.032786   \n",
      "REG_REGION_NOT_LIVE_REGION          -0.002362          -0.000065   \n",
      "REG_REGION_NOT_WORK_REGION           0.001221          -0.004874   \n",
      "LIVE_REGION_NOT_WORK_REGION          0.010807          -0.000008   \n",
      "REG_CITY_NOT_LIVE_CITY              -0.056178          -0.027795   \n",
      "REG_CITY_NOT_WORK_CITY              -0.102565          -0.052859   \n",
      "LIVE_CITY_NOT_WORK_CITY             -0.081636          -0.042687   \n",
      "EXT_SOURCE_1                         0.037594           0.024187   \n",
      "EXT_SOURCE_2                         0.084246           0.040848   \n",
      "EXT_SOURCE_3                         0.005544           0.006202   \n",
      "APARTMENTS_AVG                       0.995234           0.632213   \n",
      "BASEMENTAREA_AVG                     0.631231           0.994389   \n",
      "YEARS_BEGINEXPLUATATION_AVG          0.088663           0.033254   \n",
      "YEARS_BUILD_AVG                      0.272861           0.203750   \n",
      "COMMONAREA_AVG                       0.452084           0.342024   \n",
      "ELEVATORS_AVG                        0.823186           0.523430   \n",
      "ENTRANCES_AVG                        0.605087           0.611149   \n",
      "FLOORSMAX_AVG                        0.627287           0.313215   \n",
      "FLOORSMIN_AVG                        0.376499           0.191697   \n",
      "LANDAREA_AVG                         0.476512           0.444133   \n",
      "LIVINGAPARTMENTS_AVG                 0.764536           0.537422   \n",
      "LIVINGAREA_AVG                       0.894842           0.645306   \n",
      "NONLIVINGAPARTMENTS_AVG              0.176232           0.086702   \n",
      "NONLIVINGAREA_AVG                    0.322446           0.248592   \n",
      "APARTMENTS_MODE                      0.978075           0.622604   \n",
      "BASEMENTAREA_MODE                    0.619134           0.978219   \n",
      "YEARS_BEGINEXPLUATATION_MODE         0.083294           0.029137   \n",
      "YEARS_BUILD_MODE                     0.268299           0.203157   \n",
      "COMMONAREA_MODE                      0.447595           0.342555   \n",
      "ELEVATORS_MODE                       0.816353           0.518291   \n",
      "ENTRANCES_MODE                       0.576816           0.590421   \n",
      "FLOORSMAX_MODE                       0.624185           0.312437   \n",
      "FLOORSMIN_MODE                       0.367652           0.188764   \n",
      "LANDAREA_MODE                        0.470719           0.440261   \n",
      "LIVINGAPARTMENTS_MODE                0.762167           0.540481   \n",
      "LIVINGAREA_MODE                      0.878957           0.634437   \n",
      "NONLIVINGAPARTMENTS_MODE             0.171669           0.086438   \n",
      "NONLIVINGAREA_MODE                   0.313340           0.245049   \n",
      "APARTMENTS_MEDI                      1.000000           0.633327   \n",
      "BASEMENTAREA_MEDI                    0.633327           1.000000   \n",
      "YEARS_BEGINEXPLUATATION_MEDI         0.088649           0.031640   \n",
      "YEARS_BUILD_MEDI                     0.272123           0.203197   \n",
      "COMMONAREA_MEDI                      0.454277           0.343666   \n",
      "ELEVATORS_MEDI                       0.826074           0.523807   \n",
      "ENTRANCES_MEDI                       0.604320           0.609694   \n",
      "FLOORSMAX_MEDI                       0.626407           0.312040   \n",
      "FLOORSMIN_MEDI                       0.375445           0.190677   \n",
      "LANDAREA_MEDI                        0.479457           0.446524   \n",
      "LIVINGAPARTMENTS_MEDI                0.769935           0.541034   \n",
      "LIVINGAREA_MEDI                      0.898036           0.644310   \n",
      "NONLIVINGAPARTMENTS_MEDI             0.176957           0.087384   \n",
      "NONLIVINGAREA_MEDI                   0.322989           0.249298   \n",
      "TOTALAREA_MODE                       0.876697           0.623214   \n",
      "OBS_30_CNT_SOCIAL_CIRCLE            -0.019287          -0.011874   \n",
      "DEF_30_CNT_SOCIAL_CIRCLE            -0.011298          -0.007515   \n",
      "OBS_60_CNT_SOCIAL_CIRCLE            -0.018932          -0.011633   \n",
      "DEF_60_CNT_SOCIAL_CIRCLE            -0.012920          -0.009092   \n",
      "DAYS_LAST_PHONE_CHANGE              -0.012208          -0.008583   \n",
      "FLAG_DOCUMENT_2                      0.003008          -0.000649   \n",
      "FLAG_DOCUMENT_3                     -0.036770          -0.022294   \n",
      "FLAG_DOCUMENT_4                      0.001724          -0.000239   \n",
      "FLAG_DOCUMENT_5                      0.004493           0.000564   \n",
      "FLAG_DOCUMENT_6                     -0.007238           0.001359   \n",
      "FLAG_DOCUMENT_7                      0.000175          -0.001368   \n",
      "FLAG_DOCUMENT_8                      0.043559           0.023459   \n",
      "FLAG_DOCUMENT_9                      0.016669           0.008991   \n",
      "FLAG_DOCUMENT_10                    -0.001725          -0.001135   \n",
      "FLAG_DOCUMENT_11                     0.016476           0.011326   \n",
      "FLAG_DOCUMENT_12                     0.004249           0.005035   \n",
      "FLAG_DOCUMENT_13                     0.018468           0.009383   \n",
      "FLAG_DOCUMENT_14                     0.019313           0.008797   \n",
      "FLAG_DOCUMENT_15                     0.008726           0.004928   \n",
      "FLAG_DOCUMENT_16                     0.007841           0.005553   \n",
      "FLAG_DOCUMENT_17                     0.005072           0.003321   \n",
      "FLAG_DOCUMENT_18                     0.005234           0.004161   \n",
      "FLAG_DOCUMENT_19                     0.000769          -0.001307   \n",
      "FLAG_DOCUMENT_20                    -0.001175           0.000434   \n",
      "FLAG_DOCUMENT_21                    -0.002669          -0.002362   \n",
      "AMT_REQ_CREDIT_BUREAU_HOUR           0.002733           0.000230   \n",
      "AMT_REQ_CREDIT_BUREAU_DAY            0.004968           0.004308   \n",
      "AMT_REQ_CREDIT_BUREAU_WEEK           0.001097           0.000269   \n",
      "AMT_REQ_CREDIT_BUREAU_MON            0.036230           0.019713   \n",
      "AMT_REQ_CREDIT_BUREAU_QRT           -0.000799           0.000530   \n",
      "AMT_REQ_CREDIT_BUREAU_YEAR          -0.010305          -0.006672   \n",
      "\n",
      "                              YEARS_BEGINEXPLUATATION_MEDI  YEARS_BUILD_MEDI  \\\n",
      "SK_ID_CURR                                        0.000941          0.003350   \n",
      "TARGET                                           -0.004872         -0.011364   \n",
      "CNT_CHILDREN                                      0.006037          0.016936   \n",
      "AMT_INCOME_TOTAL                                  0.003105          0.010396   \n",
      "AMT_CREDIT                                        0.001768          0.020762   \n",
      "AMT_ANNUITY                                       0.006720          0.019517   \n",
      "AMT_GOODS_PRICE                                   0.002360          0.024450   \n",
      "REGION_POPULATION_RELATIVE                       -0.009984         -0.041895   \n",
      "DAYS_BIRTH                                        0.001420          0.015946   \n",
      "DAYS_EMPLOYED                                     0.006469         -0.003436   \n",
      "DAYS_REGISTRATION                                 0.011281          0.099097   \n",
      "DAYS_ID_PUBLISH                                  -0.001657         -0.003805   \n",
      "OWN_CAR_AGE                                       0.002912         -0.011967   \n",
      "FLAG_MOBIL                                       -0.000562         -0.000026   \n",
      "FLAG_EMP_PHONE                                   -0.006485          0.003426   \n",
      "FLAG_WORK_PHONE                                   0.001314          0.007823   \n",
      "FLAG_CONT_MOBILE                                  0.001472         -0.001378   \n",
      "FLAG_PHONE                                        0.005591         -0.003779   \n",
      "FLAG_EMAIL                                        0.000810          0.002887   \n",
      "CNT_FAM_MEMBERS                                   0.007947          0.024199   \n",
      "REGION_RATING_CLIENT                              0.009536          0.028192   \n",
      "REGION_RATING_CLIENT_W_CITY                       0.006986          0.024136   \n",
      "HOUR_APPR_PROCESS_START                          -0.010367         -0.008980   \n",
      "REG_REGION_NOT_LIVE_REGION                        0.001770          0.003599   \n",
      "REG_REGION_NOT_WORK_REGION                        0.008152          0.011199   \n",
      "LIVE_REGION_NOT_WORK_REGION                       0.008768          0.009766   \n",
      "REG_CITY_NOT_LIVE_CITY                            0.000422          0.005706   \n",
      "REG_CITY_NOT_WORK_CITY                            0.002743          0.015982   \n",
      "LIVE_CITY_NOT_WORK_CITY                           0.004245          0.013909   \n",
      "EXT_SOURCE_1                                     -0.001348          0.006780   \n",
      "EXT_SOURCE_2                                      0.000657          0.005511   \n",
      "EXT_SOURCE_3                                     -0.000487          0.007536   \n",
      "APARTMENTS_AVG                                    0.088848          0.273631   \n",
      "BASEMENTAREA_AVG                                  0.031889          0.205190   \n",
      "YEARS_BEGINEXPLUATATION_AVG                       0.993838          0.110907   \n",
      "YEARS_BUILD_AVG                                   0.110266          0.998495   \n",
      "COMMONAREA_AVG                                    0.025494          0.204467   \n",
      "ELEVATORS_AVG                                     0.054874          0.264043   \n",
      "ENTRANCES_AVG                                     0.025223          0.070993   \n",
      "FLOORSMAX_AVG                                     0.082415          0.402023   \n",
      "FLOORSMIN_AVG                                     0.041574          0.341680   \n",
      "LANDAREA_AVG                                      0.028018          0.140345   \n",
      "LIVINGAPARTMENTS_AVG                              0.037870          0.306634   \n",
      "LIVINGAREA_AVG                                    0.056357          0.284529   \n",
      "NONLIVINGAPARTMENTS_AVG                           0.012100          0.064140   \n",
      "NONLIVINGAREA_AVG                                 0.011408          0.091391   \n",
      "APARTMENTS_MODE                                   0.088895          0.259636   \n",
      "BASEMENTAREA_MODE                                 0.030082          0.192535   \n",
      "YEARS_BEGINEXPLUATATION_MODE                      0.963610          0.102316   \n",
      "YEARS_BUILD_MODE                                  0.108495          0.989307   \n",
      "COMMONAREA_MODE                                   0.024374          0.196174   \n",
      "ELEVATORS_MODE                                    0.056266          0.258331   \n",
      "ENTRANCES_MODE                                    0.022040          0.059012   \n",
      "FLOORSMAX_MODE                                    0.082188          0.400292   \n",
      "FLOORSMIN_MODE                                    0.040236          0.336294   \n",
      "LANDAREA_MODE                                     0.026857          0.131788   \n",
      "LIVINGAPARTMENTS_MODE                             0.037051          0.298500   \n",
      "LIVINGAREA_MODE                                   0.053803          0.271446   \n",
      "NONLIVINGAPARTMENTS_MODE                          0.011144          0.058690   \n",
      "NONLIVINGAREA_MODE                                0.009337          0.078851   \n",
      "APARTMENTS_MEDI                                   0.088649          0.272123   \n",
      "BASEMENTAREA_MEDI                                 0.031640          0.203197   \n",
      "YEARS_BEGINEXPLUATATION_MEDI                      1.000000          0.110395   \n",
      "YEARS_BUILD_MEDI                                  0.110395          1.000000   \n",
      "COMMONAREA_MEDI                                   0.025601          0.205126   \n",
      "ELEVATORS_MEDI                                    0.055210          0.264753   \n",
      "ENTRANCES_MEDI                                    0.024764          0.069220   \n",
      "FLOORSMAX_MEDI                                    0.082513          0.403144   \n",
      "FLOORSMIN_MEDI                                    0.041552          0.342157   \n",
      "LANDAREA_MEDI                                     0.028068          0.140807   \n",
      "LIVINGAPARTMENTS_MEDI                             0.038024          0.307577   \n",
      "LIVINGAREA_MEDI                                   0.056193          0.284194   \n",
      "NONLIVINGAPARTMENTS_MEDI                          0.011883          0.062900   \n",
      "NONLIVINGAREA_MEDI                                0.010980          0.089112   \n",
      "TOTALAREA_MODE                                    0.086554          0.288705   \n",
      "OBS_30_CNT_SOCIAL_CIRCLE                          0.000517          0.000347   \n",
      "DEF_30_CNT_SOCIAL_CIRCLE                         -0.003097         -0.005997   \n",
      "OBS_60_CNT_SOCIAL_CIRCLE                          0.000461          0.000272   \n",
      "DEF_60_CNT_SOCIAL_CIRCLE                         -0.002932         -0.006541   \n",
      "DAYS_LAST_PHONE_CHANGE                            0.003446          0.007400   \n",
      "FLAG_DOCUMENT_2                                   0.000301          0.000920   \n",
      "FLAG_DOCUMENT_3                                  -0.001440         -0.011339   \n",
      "FLAG_DOCUMENT_4                                   0.000069          0.000090   \n",
      "FLAG_DOCUMENT_5                                  -0.003747         -0.000437   \n",
      "FLAG_DOCUMENT_6                                   0.004354          0.000401   \n",
      "FLAG_DOCUMENT_7                                   0.000677          0.000729   \n",
      "FLAG_DOCUMENT_8                                   0.001754          0.015513   \n",
      "FLAG_DOCUMENT_9                                   0.001917         -0.000829   \n",
      "FLAG_DOCUMENT_10                                  0.000087         -0.000285   \n",
      "FLAG_DOCUMENT_11                                 -0.003857          0.002571   \n",
      "FLAG_DOCUMENT_12                                  0.000150          0.002277   \n",
      "FLAG_DOCUMENT_13                                  0.000290          0.006298   \n",
      "FLAG_DOCUMENT_14                                 -0.000402          0.005924   \n",
      "FLAG_DOCUMENT_15                                 -0.002357          0.000479   \n",
      "FLAG_DOCUMENT_16                                 -0.001720          0.001058   \n",
      "FLAG_DOCUMENT_17                                  0.001012          0.000703   \n",
      "FLAG_DOCUMENT_18                                  0.002485          0.004104   \n",
      "FLAG_DOCUMENT_19                                  0.001292          0.000950   \n",
      "FLAG_DOCUMENT_20                                  0.000505         -0.003656   \n",
      "FLAG_DOCUMENT_21                                 -0.000057         -0.005662   \n",
      "AMT_REQ_CREDIT_BUREAU_HOUR                        0.000253          0.001041   \n",
      "AMT_REQ_CREDIT_BUREAU_DAY                        -0.001604          0.001869   \n",
      "AMT_REQ_CREDIT_BUREAU_WEEK                        0.001853         -0.001803   \n",
      "AMT_REQ_CREDIT_BUREAU_MON                        -0.002152         -0.001096   \n",
      "AMT_REQ_CREDIT_BUREAU_QRT                         0.001599         -0.002116   \n",
      "AMT_REQ_CREDIT_BUREAU_YEAR                       -0.005166         -0.012402   \n",
      "\n",
      "                              COMMONAREA_MEDI  ELEVATORS_MEDI  ENTRANCES_MEDI  \\\n",
      "SK_ID_CURR                          -0.000393        0.003742       -0.001725   \n",
      "TARGET                              -0.016266       -0.035552       -0.015734   \n",
      "CNT_CHILDREN                        -0.005816       -0.018844       -0.008519   \n",
      "AMT_INCOME_TOTAL                     0.030800        0.057776        0.008466   \n",
      "AMT_CREDIT                           0.038739        0.075508        0.014588   \n",
      "AMT_ANNUITY                          0.044916        0.092862        0.015128   \n",
      "AMT_GOODS_PRICE                      0.038740        0.079931        0.017900   \n",
      "REGION_POPULATION_RELATIVE           0.131481        0.245688        0.035383   \n",
      "DAYS_BIRTH                           0.000629       -0.008613       -0.008501   \n",
      "DAYS_EMPLOYED                       -0.008269       -0.010238        0.002045   \n",
      "DAYS_REGISTRATION                    0.003649       -0.023946       -0.050614   \n",
      "DAYS_ID_PUBLISH                     -0.002542       -0.013019       -0.012248   \n",
      "OWN_CAR_AGE                         -0.014837       -0.036477       -0.008946   \n",
      "FLAG_MOBIL                           0.000299       -0.001509        0.001020   \n",
      "FLAG_EMP_PHONE                       0.008231        0.010160       -0.002224   \n",
      "FLAG_WORK_PHONE                     -0.010072       -0.028412       -0.006615   \n",
      "FLAG_CONT_MOBILE                    -0.004140       -0.007842        0.001217   \n",
      "FLAG_PHONE                           0.034706        0.074726        0.037070   \n",
      "FLAG_EMAIL                           0.020026        0.043684        0.009750   \n",
      "CNT_FAM_MEMBERS                     -0.009403       -0.024587       -0.007840   \n",
      "REGION_RATING_CLIENT                -0.089609       -0.199483       -0.027657   \n",
      "REGION_RATING_CLIENT_W_CITY         -0.103507       -0.217124       -0.034627   \n",
      "HOUR_APPR_PROCESS_START              0.029979        0.094686        0.020500   \n",
      "REG_REGION_NOT_LIVE_REGION           0.003436       -0.000960       -0.002740   \n",
      "REG_REGION_NOT_WORK_REGION           0.006587        0.004592       -0.009359   \n",
      "LIVE_REGION_NOT_WORK_REGION          0.014576        0.017687       -0.005592   \n",
      "REG_CITY_NOT_LIVE_CITY              -0.034763       -0.078079       -0.025350   \n",
      "REG_CITY_NOT_WORK_CITY              -0.061370       -0.137908       -0.044334   \n",
      "LIVE_CITY_NOT_WORK_CITY             -0.047702       -0.107912       -0.035703   \n",
      "EXT_SOURCE_1                         0.023937        0.056030        0.015281   \n",
      "EXT_SOURCE_2                         0.044109        0.116984        0.031243   \n",
      "EXT_SOURCE_3                        -0.000497        0.008303        0.008406   \n",
      "APARTMENTS_AVG                       0.453012        0.822369        0.600957   \n",
      "BASEMENTAREA_AVG                     0.344499        0.523386        0.605519   \n",
      "YEARS_BEGINEXPLUATATION_AVG          0.027509        0.055747        0.025149   \n",
      "YEARS_BUILD_AVG                      0.205210        0.265160        0.069982   \n",
      "COMMONAREA_AVG                       0.996229        0.451775        0.262907   \n",
      "ELEVATORS_AVG                        0.453444        0.996692        0.395918   \n",
      "ENTRANCES_AVG                        0.266582        0.400388        0.996900   \n",
      "FLOORSMAX_AVG                        0.357131        0.705493        0.103438   \n",
      "FLOORSMIN_AVG                        0.293593        0.432173        0.037436   \n",
      "LANDAREA_AVG                         0.222935        0.374076        0.477556   \n",
      "LIVINGAPARTMENTS_AVG                 0.534429        0.669970        0.445725   \n",
      "LIVINGAREA_AVG                       0.462650        0.847140        0.604657   \n",
      "NONLIVINGAPARTMENTS_AVG              0.130757        0.134017        0.059197   \n",
      "NONLIVINGAREA_AVG                    0.185358        0.331380        0.172591   \n",
      "APARTMENTS_MODE                      0.435516        0.799354        0.605661   \n",
      "BASEMENTAREA_MODE                    0.329880        0.505729        0.610841   \n",
      "YEARS_BEGINEXPLUATATION_MODE         0.022017        0.049463        0.024885   \n",
      "YEARS_BUILD_MODE                     0.198529        0.256998        0.072550   \n",
      "COMMONAREA_MODE                      0.981182        0.442414        0.269892   \n",
      "ELEVATORS_MODE                       0.440156        0.985319        0.399097   \n",
      "ENTRANCES_MODE                       0.243670        0.365319        0.980355   \n",
      "FLOORSMAX_MODE                       0.350998        0.696436        0.105651   \n",
      "FLOORSMIN_MODE                       0.283641        0.419376        0.038084   \n",
      "LANDAREA_MODE                        0.213425        0.365718        0.481214   \n",
      "LIVINGAPARTMENTS_MODE                0.533143        0.664366        0.455355   \n",
      "LIVINGAREA_MODE                      0.445224        0.824489        0.611502   \n",
      "NONLIVINGAPARTMENTS_MODE             0.127704        0.127384        0.061250   \n",
      "NONLIVINGAREA_MODE                   0.176846        0.320185        0.180078   \n",
      "APARTMENTS_MEDI                      0.454277        0.826074        0.604320   \n",
      "BASEMENTAREA_MEDI                    0.343666        0.523807        0.609694   \n",
      "YEARS_BEGINEXPLUATATION_MEDI         0.025601        0.055210        0.024764   \n",
      "YEARS_BUILD_MEDI                     0.205126        0.264753        0.069220   \n",
      "COMMONAREA_MEDI                      1.000000        0.453417        0.264922   \n",
      "ELEVATORS_MEDI                       0.453417        1.000000        0.398741   \n",
      "ENTRANCES_MEDI                       0.264922        0.398741        1.000000   \n",
      "FLOORSMAX_MEDI                       0.356306        0.704647        0.101740   \n",
      "FLOORSMIN_MEDI                       0.292810        0.431259        0.036514   \n",
      "LANDAREA_MEDI                        0.223289        0.375844        0.480943   \n",
      "LIVINGAPARTMENTS_MEDI                0.537748        0.674109        0.449877   \n",
      "LIVINGAREA_MEDI                      0.463333        0.849763        0.608282   \n",
      "NONLIVINGAPARTMENTS_MEDI             0.130616        0.133495        0.060220   \n",
      "NONLIVINGAREA_MEDI                   0.184772        0.331211        0.175412   \n",
      "TOTALAREA_MODE                       0.470666        0.832169        0.582512   \n",
      "OBS_30_CNT_SOCIAL_CIRCLE            -0.013622       -0.026695       -0.002514   \n",
      "DEF_30_CNT_SOCIAL_CIRCLE            -0.008422       -0.016734       -0.002689   \n",
      "OBS_60_CNT_SOCIAL_CIRCLE            -0.013368       -0.026317       -0.002299   \n",
      "DEF_60_CNT_SOCIAL_CIRCLE            -0.008644       -0.017419       -0.004679   \n",
      "DAYS_LAST_PHONE_CHANGE              -0.008537       -0.018375       -0.011338   \n",
      "FLAG_DOCUMENT_2                     -0.000442        0.003036        0.001188   \n",
      "FLAG_DOCUMENT_3                     -0.028601       -0.053127       -0.010475   \n",
      "FLAG_DOCUMENT_4                      0.001762        0.000753        0.001303   \n",
      "FLAG_DOCUMENT_5                      0.001220        0.006454       -0.000924   \n",
      "FLAG_DOCUMENT_6                     -0.002923       -0.005104        0.002801   \n",
      "FLAG_DOCUMENT_7                      0.002429        0.001855       -0.002920   \n",
      "FLAG_DOCUMENT_8                      0.034670        0.058477        0.009528   \n",
      "FLAG_DOCUMENT_9                      0.012222        0.022957        0.003232   \n",
      "FLAG_DOCUMENT_10                    -0.001442       -0.001470       -0.000377   \n",
      "FLAG_DOCUMENT_11                     0.012659        0.016896        0.009573   \n",
      "FLAG_DOCUMENT_12                     0.002898        0.005201        0.003518   \n",
      "FLAG_DOCUMENT_13                     0.010974        0.022017        0.006664   \n",
      "FLAG_DOCUMENT_14                     0.012340        0.026886        0.003838   \n",
      "FLAG_DOCUMENT_15                     0.007165        0.012255        0.006482   \n",
      "FLAG_DOCUMENT_16                     0.007808        0.010178        0.004028   \n",
      "FLAG_DOCUMENT_17                     0.000211        0.004849        0.007036   \n",
      "FLAG_DOCUMENT_18                     0.010988        0.008300        0.000420   \n",
      "FLAG_DOCUMENT_19                     0.003654        0.002654       -0.000242   \n",
      "FLAG_DOCUMENT_20                     0.000799       -0.000881       -0.002586   \n",
      "FLAG_DOCUMENT_21                    -0.002213       -0.002628       -0.000323   \n",
      "AMT_REQ_CREDIT_BUREAU_HOUR           0.004511        0.002739       -0.001970   \n",
      "AMT_REQ_CREDIT_BUREAU_DAY            0.004434        0.005850        0.005238   \n",
      "AMT_REQ_CREDIT_BUREAU_WEEK          -0.003658        0.001555        0.001713   \n",
      "AMT_REQ_CREDIT_BUREAU_MON            0.019624        0.049835        0.014377   \n",
      "AMT_REQ_CREDIT_BUREAU_QRT           -0.002714       -0.001217        0.000843   \n",
      "AMT_REQ_CREDIT_BUREAU_YEAR          -0.006494       -0.011628       -0.006202   \n",
      "\n",
      "                              FLOORSMAX_MEDI  FLOORSMIN_MEDI  LANDAREA_MEDI  \\\n",
      "SK_ID_CURR                      3.370552e-03        0.001597       0.001217   \n",
      "TARGET                         -3.915721e-02       -0.020995      -0.012269   \n",
      "CNT_CHILDREN                   -1.661135e-02       -0.007432      -0.006738   \n",
      "AMT_INCOME_TOTAL                6.789522e-02        0.040563       0.005178   \n",
      "AMT_CREDIT                      8.884221e-02        0.052393       0.011564   \n",
      "AMT_ANNUITY                     1.108127e-01        0.065361       0.013625   \n",
      "AMT_GOODS_PRICE                 9.410556e-02        0.053667       0.016464   \n",
      "REGION_POPULATION_RELATIVE      2.731610e-01        0.208852      -0.021457   \n",
      "DAYS_BIRTH                     -4.191107e-03       -0.001119      -0.000892   \n",
      "DAYS_EMPLOYED                  -1.379283e-02       -0.009756      -0.007717   \n",
      "DAYS_REGISTRATION               1.591893e-02        0.006622      -0.008154   \n",
      "DAYS_ID_PUBLISH                -1.120886e-02       -0.006223      -0.007227   \n",
      "OWN_CAR_AGE                    -3.965896e-02       -0.024638      -0.012420   \n",
      "FLAG_MOBIL                     -3.009401e-03        0.000146      -0.000885   \n",
      "FLAG_EMP_PHONE                  1.373002e-02        0.009806       0.007588   \n",
      "FLAG_WORK_PHONE                -3.145709e-02       -0.013790      -0.008489   \n",
      "FLAG_CONT_MOBILE               -1.096071e-02       -0.003797       0.002819   \n",
      "FLAG_PHONE                      6.774520e-02        0.040799       0.015018   \n",
      "FLAG_EMAIL                      4.595542e-02        0.030830       0.008804   \n",
      "CNT_FAM_MEMBERS                -1.970950e-02       -0.005381      -0.007697   \n",
      "REGION_RATING_CLIENT           -2.054213e-01       -0.153914       0.013715   \n",
      "REGION_RATING_CLIENT_W_CITY    -2.229747e-01       -0.158916       0.001188   \n",
      "HOUR_APPR_PROCESS_START         1.025929e-01        0.071311       0.018693   \n",
      "REG_REGION_NOT_LIVE_REGION     -1.135605e-03        0.004591      -0.011048   \n",
      "REG_REGION_NOT_WORK_REGION      1.480112e-02        0.022133      -0.010578   \n",
      "LIVE_REGION_NOT_WORK_REGION     2.787847e-02        0.030086      -0.006267   \n",
      "REG_CITY_NOT_LIVE_CITY         -7.669379e-02       -0.029295      -0.035385   \n",
      "REG_CITY_NOT_WORK_CITY         -1.332948e-01       -0.055196      -0.059824   \n",
      "LIVE_CITY_NOT_WORK_CITY        -1.030627e-01       -0.043714      -0.047958   \n",
      "EXT_SOURCE_1                    6.153051e-02        0.035311       0.011179   \n",
      "EXT_SOURCE_2                    1.234174e-01        0.070112       0.028734   \n",
      "EXT_SOURCE_3                    5.262830e-03        0.001864       0.007120   \n",
      "APARTMENTS_AVG                  6.271252e-01        0.376906       0.477692   \n",
      "BASEMENTAREA_AVG                3.150187e-01        0.193631       0.444913   \n",
      "YEARS_BEGINEXPLUATATION_AVG     8.246972e-02        0.042200       0.028710   \n",
      "YEARS_BUILD_AVG                 4.031617e-01        0.342027       0.141044   \n",
      "COMMONAREA_AVG                  3.564621e-01        0.294094       0.221426   \n",
      "ELEVATORS_AVG                   7.065409e-01        0.431513       0.374909   \n",
      "ENTRANCES_AVG                   1.073110e-01        0.039367       0.481869   \n",
      "FLOORSMAX_AVG                   9.972599e-01        0.600106       0.230345   \n",
      "FLOORSMIN_AVG                   6.014735e-01        0.997278       0.133853   \n",
      "LANDAREA_AVG                    2.295840e-01        0.132782       0.991854   \n",
      "LIVINGAPARTMENTS_AVG            4.979901e-01        0.433902       0.350744   \n",
      "LIVINGAREA_AVG                  6.358815e-01        0.393983       0.480221   \n",
      "NONLIVINGAPARTMENTS_AVG         1.234203e-01        0.085464       0.068716   \n",
      "NONLIVINGAREA_AVG               2.978046e-01        0.129283       0.171539   \n",
      "APARTMENTS_MODE                 5.983032e-01        0.356154       0.479543   \n",
      "BASEMENTAREA_MODE               2.911162e-01        0.174062       0.449387   \n",
      "YEARS_BEGINEXPLUATATION_MODE    7.108549e-02        0.037575       0.025408   \n",
      "YEARS_BUILD_MODE                3.907793e-01        0.333517       0.141324   \n",
      "COMMONAREA_MODE                 3.391401e-01        0.276578       0.229932   \n",
      "ELEVATORS_MODE                  6.866784e-01        0.419609       0.376802   \n",
      "ENTRANCES_MODE                  7.379233e-02        0.021314       0.469213   \n",
      "FLOORSMAX_MODE                  9.890006e-01        0.593667       0.230711   \n",
      "FLOORSMIN_MODE                  5.844087e-01        0.988392       0.133531   \n",
      "LANDAREA_MODE                   2.181340e-01        0.125239       0.981392   \n",
      "LIVINGAPARTMENTS_MODE           4.848151e-01        0.422536       0.362908   \n",
      "LIVINGAREA_MODE                 6.054801e-01        0.372681       0.480175   \n",
      "NONLIVINGAPARTMENTS_MODE        1.138092e-01        0.078416       0.066146   \n",
      "NONLIVINGAREA_MODE              2.759396e-01        0.112129       0.171256   \n",
      "APARTMENTS_MEDI                 6.264066e-01        0.375445       0.479457   \n",
      "BASEMENTAREA_MEDI               3.120405e-01        0.190677       0.446524   \n",
      "YEARS_BEGINEXPLUATATION_MEDI    8.251266e-02        0.041552       0.028068   \n",
      "YEARS_BUILD_MEDI                4.031437e-01        0.342157       0.140807   \n",
      "COMMONAREA_MEDI                 3.563065e-01        0.292810       0.223289   \n",
      "ELEVATORS_MEDI                  7.046474e-01        0.431259       0.375844   \n",
      "ENTRANCES_MEDI                  1.017397e-01        0.036514       0.480943   \n",
      "FLOORSMAX_MEDI                  1.000000e+00        0.601492       0.229969   \n",
      "FLOORSMIN_MEDI                  6.014915e-01        1.000000       0.133862   \n",
      "LANDAREA_MEDI                   2.299695e-01        0.133862       1.000000   \n",
      "LIVINGAPARTMENTS_MEDI           4.985035e-01        0.434332       0.353759   \n",
      "LIVINGAREA_MEDI                 6.341075e-01        0.393452       0.480290   \n",
      "NONLIVINGAPARTMENTS_MEDI        1.218422e-01        0.083883       0.066702   \n",
      "NONLIVINGAREA_MEDI              2.931962e-01        0.124108       0.173402   \n",
      "TOTALAREA_MODE                  6.455908e-01        0.388369       0.471835   \n",
      "OBS_30_CNT_SOCIAL_CIRCLE       -3.041017e-02       -0.021540      -0.004076   \n",
      "DEF_30_CNT_SOCIAL_CIRCLE       -2.160617e-02       -0.013277      -0.003824   \n",
      "OBS_60_CNT_SOCIAL_CIRCLE       -3.015782e-02       -0.021283      -0.003967   \n",
      "DEF_60_CNT_SOCIAL_CIRCLE       -2.172496e-02       -0.012606      -0.003104   \n",
      "DAYS_LAST_PHONE_CHANGE         -1.352608e-02       -0.007829      -0.005965   \n",
      "FLAG_DOCUMENT_2                 1.503223e-03        0.001502       0.001043   \n",
      "FLAG_DOCUMENT_3                -6.146838e-02       -0.042601      -0.003310   \n",
      "FLAG_DOCUMENT_4                 2.057929e-03        0.004795      -0.001873   \n",
      "FLAG_DOCUMENT_5                 8.162953e-03        0.006834      -0.005217   \n",
      "FLAG_DOCUMENT_6                -6.274443e-03       -0.005380      -0.008161   \n",
      "FLAG_DOCUMENT_7                 2.411061e-03        0.001947      -0.001497   \n",
      "FLAG_DOCUMENT_8                 6.649892e-02        0.046003       0.006535   \n",
      "FLAG_DOCUMENT_9                 2.893508e-02        0.018872      -0.001976   \n",
      "FLAG_DOCUMENT_10                7.697476e-07       -0.000386      -0.000918   \n",
      "FLAG_DOCUMENT_11                1.917710e-02        0.018577       0.008880   \n",
      "FLAG_DOCUMENT_12                1.773549e-03        0.002667       0.005153   \n",
      "FLAG_DOCUMENT_13                2.512375e-02        0.014110       0.003598   \n",
      "FLAG_DOCUMENT_14                3.113935e-02        0.017936       0.001902   \n",
      "FLAG_DOCUMENT_15                1.003027e-02        0.006393       0.004903   \n",
      "FLAG_DOCUMENT_16                1.236115e-02        0.003671       0.006217   \n",
      "FLAG_DOCUMENT_17                2.593767e-03       -0.001502       0.003168   \n",
      "FLAG_DOCUMENT_18                1.119340e-02        0.007779       0.000508   \n",
      "FLAG_DOCUMENT_19                1.833832e-03        0.002620      -0.000034   \n",
      "FLAG_DOCUMENT_20               -5.284431e-04       -0.000133       0.002187   \n",
      "FLAG_DOCUMENT_21               -3.774622e-03       -0.002644      -0.002196   \n",
      "AMT_REQ_CREDIT_BUREAU_HOUR      3.918542e-03        0.002487      -0.000255   \n",
      "AMT_REQ_CREDIT_BUREAU_DAY       4.054317e-03        0.003127       0.004595   \n",
      "AMT_REQ_CREDIT_BUREAU_WEEK      1.506506e-03        0.000192       0.005469   \n",
      "AMT_REQ_CREDIT_BUREAU_MON       4.772226e-02        0.024776       0.016439   \n",
      "AMT_REQ_CREDIT_BUREAU_QRT       1.063760e-03       -0.001349       0.003397   \n",
      "AMT_REQ_CREDIT_BUREAU_YEAR     -1.279755e-02       -0.005657      -0.006692   \n",
      "\n",
      "                              LIVINGAPARTMENTS_MEDI  LIVINGAREA_MEDI  \\\n",
      "SK_ID_CURR                                 0.001980         0.001814   \n",
      "TARGET                                    -0.019138        -0.029359   \n",
      "CNT_CHILDREN                              -0.009736        -0.014271   \n",
      "AMT_INCOME_TOTAL                           0.034831         0.046258   \n",
      "AMT_CREDIT                                 0.043621         0.062258   \n",
      "AMT_ANNUITY                                0.054422         0.077032   \n",
      "AMT_GOODS_PRICE                            0.045019         0.067199   \n",
      "REGION_POPULATION_RELATIVE                 0.149347         0.183379   \n",
      "DAYS_BIRTH                                 0.002777        -0.003867   \n",
      "DAYS_EMPLOYED                             -0.012305        -0.010981   \n",
      "DAYS_REGISTRATION                          0.003162        -0.008629   \n",
      "DAYS_ID_PUBLISH                           -0.003272        -0.010691   \n",
      "OWN_CAR_AGE                               -0.019567        -0.028373   \n",
      "FLAG_MOBIL                                 0.000273        -0.000866   \n",
      "FLAG_EMP_PHONE                             0.012327         0.010916   \n",
      "FLAG_WORK_PHONE                           -0.015807        -0.019018   \n",
      "FLAG_CONT_MOBILE                          -0.003730        -0.006359   \n",
      "FLAG_PHONE                                 0.038068         0.059538   \n",
      "FLAG_EMAIL                                 0.025093         0.035361   \n",
      "CNT_FAM_MEMBERS                           -0.012708        -0.016132   \n",
      "REGION_RATING_CLIENT                      -0.112635        -0.144401   \n",
      "REGION_RATING_CLIENT_W_CITY               -0.133274        -0.162136   \n",
      "HOUR_APPR_PROCESS_START                    0.049757         0.073410   \n",
      "REG_REGION_NOT_LIVE_REGION                 0.001479        -0.001646   \n",
      "REG_REGION_NOT_WORK_REGION                 0.004832         0.003676   \n",
      "LIVE_REGION_NOT_WORK_REGION                0.012649         0.013856   \n",
      "REG_CITY_NOT_LIVE_CITY                    -0.038941        -0.057231   \n",
      "REG_CITY_NOT_WORK_CITY                    -0.073638        -0.101558   \n",
      "LIVE_CITY_NOT_WORK_CITY                   -0.059405        -0.080441   \n",
      "EXT_SOURCE_1                               0.027823         0.044921   \n",
      "EXT_SOURCE_2                               0.058161         0.089601   \n",
      "EXT_SOURCE_3                               0.003407         0.005436   \n",
      "APARTMENTS_AVG                             0.769841         0.894425   \n",
      "BASEMENTAREA_AVG                           0.540004         0.642400   \n",
      "YEARS_BEGINEXPLUATATION_AVG                0.039941         0.057425   \n",
      "YEARS_BUILD_AVG                            0.308475         0.284812   \n",
      "COMMONAREA_AVG                             0.535329         0.461148   \n",
      "ELEVATORS_AVG                              0.672778         0.847062   \n",
      "ENTRANCES_AVG                              0.451157         0.609225   \n",
      "FLOORSMAX_AVG                              0.499965         0.634883   \n",
      "FLOORSMIN_AVG                              0.435520         0.394432   \n",
      "LANDAREA_AVG                               0.352308         0.477783   \n",
      "LIVINGAPARTMENTS_AVG                       0.994122         0.720353   \n",
      "LIVINGAREA_AVG                             0.723518         0.995783   \n",
      "NONLIVINGAPARTMENTS_AVG                    0.179897         0.133242   \n",
      "NONLIVINGAREA_AVG                          0.241415         0.330465   \n",
      "APARTMENTS_MODE                            0.746286         0.877219   \n",
      "BASEMENTAREA_MODE                          0.521790         0.629000   \n",
      "YEARS_BEGINEXPLUATATION_MODE               0.034421         0.050618   \n",
      "YEARS_BUILD_MODE                           0.303172         0.279755   \n",
      "COMMONAREA_MODE                            0.528731         0.456300   \n",
      "ELEVATORS_MODE                             0.661400         0.839475   \n",
      "ENTRANCES_MODE                             0.423930         0.580126   \n",
      "FLOORSMAX_MODE                             0.494186         0.631560   \n",
      "FLOORSMIN_MODE                             0.425060         0.385108   \n",
      "LANDAREA_MODE                              0.345460         0.471060   \n",
      "LIVINGAPARTMENTS_MODE                      0.976806         0.717805   \n",
      "LIVINGAREA_MODE                            0.702499         0.975806   \n",
      "NONLIVINGAPARTMENTS_MODE                   0.168635         0.128298   \n",
      "NONLIVINGAREA_MODE                         0.227462         0.320067   \n",
      "APARTMENTS_MEDI                            0.769935         0.898036   \n",
      "BASEMENTAREA_MEDI                          0.541034         0.644310   \n",
      "YEARS_BEGINEXPLUATATION_MEDI               0.038024         0.056193   \n",
      "YEARS_BUILD_MEDI                           0.307577         0.284194   \n",
      "COMMONAREA_MEDI                            0.537748         0.463333   \n",
      "ELEVATORS_MEDI                             0.674109         0.849763   \n",
      "ENTRANCES_MEDI                             0.449877         0.608282   \n",
      "FLOORSMAX_MEDI                             0.498503         0.634108   \n",
      "FLOORSMIN_MEDI                             0.434332         0.393452   \n",
      "LANDAREA_MEDI                              0.353759         0.480290   \n",
      "LIVINGAPARTMENTS_MEDI                      1.000000         0.725415   \n",
      "LIVINGAREA_MEDI                            0.725415         1.000000   \n",
      "NONLIVINGAPARTMENTS_MEDI                   0.180367         0.133454   \n",
      "NONLIVINGAREA_MEDI                         0.239397         0.330698   \n",
      "TOTALAREA_MODE                             0.701347         0.911370   \n",
      "OBS_30_CNT_SOCIAL_CIRCLE                  -0.018492        -0.021387   \n",
      "DEF_30_CNT_SOCIAL_CIRCLE                  -0.009866        -0.013279   \n",
      "OBS_60_CNT_SOCIAL_CIRCLE                  -0.018210        -0.021073   \n",
      "DEF_60_CNT_SOCIAL_CIRCLE                  -0.010590        -0.014292   \n",
      "DAYS_LAST_PHONE_CHANGE                    -0.007659        -0.014142   \n",
      "FLAG_DOCUMENT_2                            0.000845         0.002484   \n",
      "FLAG_DOCUMENT_3                           -0.033396        -0.042600   \n",
      "FLAG_DOCUMENT_4                            0.002241         0.000721   \n",
      "FLAG_DOCUMENT_5                            0.004740         0.004043   \n",
      "FLAG_DOCUMENT_6                           -0.006822        -0.007290   \n",
      "FLAG_DOCUMENT_7                           -0.000801        -0.000447   \n",
      "FLAG_DOCUMENT_8                            0.040202         0.049756   \n",
      "FLAG_DOCUMENT_9                            0.013847         0.019451   \n",
      "FLAG_DOCUMENT_10                          -0.001185        -0.001539   \n",
      "FLAG_DOCUMENT_11                           0.015414         0.017996   \n",
      "FLAG_DOCUMENT_12                           0.005747         0.005768   \n",
      "FLAG_DOCUMENT_13                           0.015486         0.020516   \n",
      "FLAG_DOCUMENT_14                           0.016039         0.021948   \n",
      "FLAG_DOCUMENT_15                           0.010081         0.010569   \n",
      "FLAG_DOCUMENT_16                           0.005238         0.008155   \n",
      "FLAG_DOCUMENT_17                           0.000059         0.008145   \n",
      "FLAG_DOCUMENT_18                           0.006107         0.006777   \n",
      "FLAG_DOCUMENT_19                           0.000977         0.001429   \n",
      "FLAG_DOCUMENT_20                          -0.001424        -0.001449   \n",
      "FLAG_DOCUMENT_21                          -0.002529        -0.002539   \n",
      "AMT_REQ_CREDIT_BUREAU_HOUR                 0.002304         0.003023   \n",
      "AMT_REQ_CREDIT_BUREAU_DAY                  0.005331         0.006691   \n",
      "AMT_REQ_CREDIT_BUREAU_WEEK                -0.001209         0.000385   \n",
      "AMT_REQ_CREDIT_BUREAU_MON                  0.025013         0.037194   \n",
      "AMT_REQ_CREDIT_BUREAU_QRT                 -0.002283        -0.000470   \n",
      "AMT_REQ_CREDIT_BUREAU_YEAR                -0.007324        -0.012213   \n",
      "\n",
      "                              NONLIVINGAPARTMENTS_MEDI  NONLIVINGAREA_MEDI  \\\n",
      "SK_ID_CURR                                   -0.001687            0.001774   \n",
      "TARGET                                       -0.005650           -0.018094   \n",
      "CNT_CHILDREN                                 -0.001644           -0.008935   \n",
      "AMT_INCOME_TOTAL                              0.012649            0.032597   \n",
      "AMT_CREDIT                                    0.014711            0.038689   \n",
      "AMT_ANNUITY                                   0.019751            0.048615   \n",
      "AMT_GOODS_PRICE                               0.015025            0.042903   \n",
      "REGION_POPULATION_RELATIVE                    0.032324            0.081351   \n",
      "DAYS_BIRTH                                   -0.001294           -0.000786   \n",
      "DAYS_EMPLOYED                                -0.003417           -0.011150   \n",
      "DAYS_REGISTRATION                             0.011603            0.017423   \n",
      "DAYS_ID_PUBLISH                              -0.003558           -0.002247   \n",
      "OWN_CAR_AGE                                  -0.010583           -0.020244   \n",
      "FLAG_MOBIL                                    0.000180            0.000418   \n",
      "FLAG_EMP_PHONE                                0.003414            0.011099   \n",
      "FLAG_WORK_PHONE                              -0.006924           -0.012597   \n",
      "FLAG_CONT_MOBILE                             -0.002616           -0.006262   \n",
      "FLAG_PHONE                                    0.006507            0.026492   \n",
      "FLAG_EMAIL                                    0.003663            0.020510   \n",
      "CNT_FAM_MEMBERS                              -0.005108           -0.014262   \n",
      "REGION_RATING_CLIENT                         -0.022099           -0.081617   \n",
      "REGION_RATING_CLIENT_W_CITY                  -0.029103           -0.089873   \n",
      "HOUR_APPR_PROCESS_START                       0.012205            0.045723   \n",
      "REG_REGION_NOT_LIVE_REGION                   -0.001485           -0.001118   \n",
      "REG_REGION_NOT_WORK_REGION                    0.000829            0.001353   \n",
      "LIVE_REGION_NOT_WORK_REGION                   0.003353            0.007042   \n",
      "REG_CITY_NOT_LIVE_CITY                       -0.019412           -0.044575   \n",
      "REG_CITY_NOT_WORK_CITY                       -0.029895           -0.073245   \n",
      "LIVE_CITY_NOT_WORK_CITY                      -0.021363           -0.056110   \n",
      "EXT_SOURCE_1                                  0.012548            0.029369   \n",
      "EXT_SOURCE_2                                  0.020493            0.056194   \n",
      "EXT_SOURCE_3                                  0.003813            0.000596   \n",
      "APARTMENTS_AVG                                0.177489            0.321557   \n",
      "BASEMENTAREA_AVG                              0.087559            0.247740   \n",
      "YEARS_BEGINEXPLUATATION_AVG                   0.012046            0.009864   \n",
      "YEARS_BUILD_AVG                               0.063049            0.088988   \n",
      "COMMONAREA_AVG                                0.129607            0.183568   \n",
      "ELEVATORS_AVG                                 0.133452            0.331797   \n",
      "ENTRANCES_AVG                                 0.060876            0.177319   \n",
      "FLOORSMAX_AVG                                 0.122157            0.293493   \n",
      "FLOORSMIN_AVG                                 0.084133            0.124605   \n",
      "LANDAREA_AVG                                  0.066400            0.172284   \n",
      "LIVINGAPARTMENTS_AVG                          0.179376            0.237417   \n",
      "LIVINGAREA_AVG                                0.133635            0.332000   \n",
      "NONLIVINGAPARTMENTS_AVG                       0.990977            0.171346   \n",
      "NONLIVINGAREA_AVG                             0.172598            0.991071   \n",
      "APARTMENTS_MODE                               0.167735            0.314249   \n",
      "BASEMENTAREA_MODE                             0.083766            0.244553   \n",
      "YEARS_BEGINEXPLUATATION_MODE                  0.010374           -0.002865   \n",
      "YEARS_BUILD_MODE                              0.059608            0.085711   \n",
      "COMMONAREA_MODE                               0.129081            0.182462   \n",
      "ELEVATORS_MODE                                0.126365            0.325299   \n",
      "ENTRANCES_MODE                                0.049946            0.162997   \n",
      "FLOORSMAX_MODE                                0.116506            0.287573   \n",
      "FLOORSMIN_MODE                                0.079080            0.119284   \n",
      "LANDAREA_MODE                                 0.062561            0.170269   \n",
      "LIVINGAPARTMENTS_MODE                         0.167877            0.236645   \n",
      "LIVINGAREA_MODE                               0.126544            0.321909   \n",
      "NONLIVINGAPARTMENTS_MODE                      0.979018            0.166780   \n",
      "NONLIVINGAREA_MODE                            0.164883            0.977454   \n",
      "APARTMENTS_MEDI                               0.176957            0.322989   \n",
      "BASEMENTAREA_MEDI                             0.087384            0.249298   \n",
      "YEARS_BEGINEXPLUATATION_MEDI                  0.011883            0.010980   \n",
      "YEARS_BUILD_MEDI                              0.062900            0.089112   \n",
      "COMMONAREA_MEDI                               0.130616            0.184772   \n",
      "ELEVATORS_MEDI                                0.133495            0.331211   \n",
      "ENTRANCES_MEDI                                0.060220            0.175412   \n",
      "FLOORSMAX_MEDI                                0.121842            0.293196   \n",
      "FLOORSMIN_MEDI                                0.083883            0.124108   \n",
      "LANDAREA_MEDI                                 0.066702            0.173402   \n",
      "LIVINGAPARTMENTS_MEDI                         0.180367            0.239397   \n",
      "LIVINGAREA_MEDI                               0.133454            0.330698   \n",
      "NONLIVINGAPARTMENTS_MEDI                      1.000000            0.172081   \n",
      "NONLIVINGAREA_MEDI                            0.172081            1.000000   \n",
      "TOTALAREA_MODE                                0.142929            0.388024   \n",
      "OBS_30_CNT_SOCIAL_CIRCLE                     -0.003610           -0.012911   \n",
      "DEF_30_CNT_SOCIAL_CIRCLE                      0.000938           -0.009159   \n",
      "OBS_60_CNT_SOCIAL_CIRCLE                     -0.003381           -0.012754   \n",
      "DEF_60_CNT_SOCIAL_CIRCLE                     -0.000854           -0.009063   \n",
      "DAYS_LAST_PHONE_CHANGE                       -0.003453           -0.009034   \n",
      "FLAG_DOCUMENT_2                              -0.000501            0.001066   \n",
      "FLAG_DOCUMENT_3                              -0.010225           -0.026696   \n",
      "FLAG_DOCUMENT_4                               0.013838           -0.000080   \n",
      "FLAG_DOCUMENT_5                               0.002278            0.002125   \n",
      "FLAG_DOCUMENT_6                              -0.000968           -0.007406   \n",
      "FLAG_DOCUMENT_7                              -0.000453            0.002909   \n",
      "FLAG_DOCUMENT_8                               0.009656            0.026941   \n",
      "FLAG_DOCUMENT_9                               0.003895            0.012414   \n",
      "FLAG_DOCUMENT_10                             -0.000376            0.002095   \n",
      "FLAG_DOCUMENT_11                              0.007490            0.008397   \n",
      "FLAG_DOCUMENT_12                              0.002174            0.011463   \n",
      "FLAG_DOCUMENT_13                              0.002484            0.008572   \n",
      "FLAG_DOCUMENT_14                              0.005563            0.019381   \n",
      "FLAG_DOCUMENT_15                              0.004776            0.008081   \n",
      "FLAG_DOCUMENT_16                              0.001416            0.004977   \n",
      "FLAG_DOCUMENT_17                              0.001316            0.007604   \n",
      "FLAG_DOCUMENT_18                              0.001537            0.004767   \n",
      "FLAG_DOCUMENT_19                             -0.001233            0.001680   \n",
      "FLAG_DOCUMENT_20                             -0.000057            0.000531   \n",
      "FLAG_DOCUMENT_21                              0.000022            0.000354   \n",
      "AMT_REQ_CREDIT_BUREAU_HOUR                    0.000556            0.003374   \n",
      "AMT_REQ_CREDIT_BUREAU_DAY                     0.000620            0.002781   \n",
      "AMT_REQ_CREDIT_BUREAU_WEEK                   -0.000884           -0.002537   \n",
      "AMT_REQ_CREDIT_BUREAU_MON                     0.004901            0.022368   \n",
      "AMT_REQ_CREDIT_BUREAU_QRT                     0.001891           -0.000696   \n",
      "AMT_REQ_CREDIT_BUREAU_YEAR                   -0.000009           -0.005830   \n",
      "\n",
      "                              TOTALAREA_MODE  OBS_30_CNT_SOCIAL_CIRCLE  \\\n",
      "SK_ID_CURR                          0.001861                 -0.001413   \n",
      "TARGET                             -0.030214                  0.009447   \n",
      "CNT_CHILDREN                       -0.013467                  0.015662   \n",
      "AMT_INCOME_TOTAL                    0.049422                 -0.013495   \n",
      "AMT_CREDIT                          0.065627                  0.000895   \n",
      "AMT_ANNUITY                         0.081015                 -0.011352   \n",
      "AMT_GOODS_PRICE                     0.070261                  0.000788   \n",
      "REGION_POPULATION_RELATIVE          0.182032                 -0.012021   \n",
      "DAYS_BIRTH                         -0.003221                  0.007280   \n",
      "DAYS_EMPLOYED                      -0.012963                  0.005781   \n",
      "DAYS_REGISTRATION                  -0.001085                  0.009119   \n",
      "DAYS_ID_PUBLISH                    -0.010867                 -0.012542   \n",
      "OWN_CAR_AGE                        -0.029996                  0.002673   \n",
      "FLAG_MOBIL                         -0.000466                  0.001066   \n",
      "FLAG_EMP_PHONE                      0.012899                 -0.005780   \n",
      "FLAG_WORK_PHONE                    -0.020610                 -0.011435   \n",
      "FLAG_CONT_MOBILE                   -0.005727                  0.003256   \n",
      "FLAG_PHONE                          0.056889                 -0.032720   \n",
      "FLAG_EMAIL                          0.036335                 -0.002939   \n",
      "CNT_FAM_MEMBERS                    -0.015635                  0.025471   \n",
      "REGION_RATING_CLIENT               -0.149428                  0.034966   \n",
      "REGION_RATING_CLIENT_W_CITY        -0.166787                  0.030727   \n",
      "HOUR_APPR_PROCESS_START             0.072707                 -0.009049   \n",
      "REG_REGION_NOT_LIVE_REGION         -0.001032                 -0.020588   \n",
      "REG_REGION_NOT_WORK_REGION          0.006598                 -0.028871   \n",
      "LIVE_REGION_NOT_WORK_REGION         0.017385                 -0.023268   \n",
      "REG_CITY_NOT_LIVE_CITY             -0.059851                 -0.012475   \n",
      "REG_CITY_NOT_WORK_CITY             -0.105969                 -0.004374   \n",
      "LIVE_CITY_NOT_WORK_CITY            -0.083045                  0.000309   \n",
      "EXT_SOURCE_1                        0.046144                 -0.017923   \n",
      "EXT_SOURCE_2                        0.091452                 -0.019629   \n",
      "EXT_SOURCE_3                        0.006166                 -0.001217   \n",
      "APARTMENTS_AVG                      0.881961                 -0.019501   \n",
      "BASEMENTAREA_AVG                    0.625798                 -0.011884   \n",
      "YEARS_BEGINEXPLUATATION_AVG         0.087625                  0.000374   \n",
      "YEARS_BUILD_AVG                     0.289855                  0.000356   \n",
      "COMMONAREA_AVG                      0.470919                 -0.013981   \n",
      "ELEVATORS_AVG                       0.837651                 -0.027275   \n",
      "ENTRANCES_AVG                       0.589613                 -0.002926   \n",
      "FLOORSMAX_AVG                       0.648137                 -0.030716   \n",
      "FLOORSMIN_AVG                       0.390463                 -0.021566   \n",
      "LANDAREA_AVG                        0.470526                 -0.004303   \n",
      "LIVINGAPARTMENTS_AVG                0.702618                 -0.018546   \n",
      "LIVINGAREA_AVG                      0.916656                 -0.021879   \n",
      "NONLIVINGAPARTMENTS_AVG             0.143695                 -0.003886   \n",
      "NONLIVINGAREA_AVG                   0.392264                 -0.013991   \n",
      "APARTMENTS_MODE                     0.854855                 -0.017008   \n",
      "BASEMENTAREA_MODE                   0.606097                 -0.009472   \n",
      "YEARS_BEGINEXPLUATATION_MODE        0.084599                  0.000834   \n",
      "YEARS_BUILD_MODE                    0.282496                  0.001228   \n",
      "COMMONAREA_MODE                     0.463898                 -0.012127   \n",
      "ELEVATORS_MODE                      0.817786                 -0.024826   \n",
      "ENTRANCES_MODE                      0.550682                 -0.000488   \n",
      "FLOORSMAX_MODE                      0.640622                 -0.029450   \n",
      "FLOORSMIN_MODE                      0.378473                 -0.020343   \n",
      "LANDAREA_MODE                       0.460482                 -0.003549   \n",
      "LIVINGAPARTMENTS_MODE               0.692664                 -0.017125   \n",
      "LIVINGAREA_MODE                     0.892256                 -0.018524   \n",
      "NONLIVINGAPARTMENTS_MODE            0.137344                 -0.003277   \n",
      "NONLIVINGAREA_MODE                  0.376030                 -0.011581   \n",
      "APARTMENTS_MEDI                     0.876697                 -0.019287   \n",
      "BASEMENTAREA_MEDI                   0.623214                 -0.011874   \n",
      "YEARS_BEGINEXPLUATATION_MEDI        0.086554                  0.000517   \n",
      "YEARS_BUILD_MEDI                    0.288705                  0.000347   \n",
      "COMMONAREA_MEDI                     0.470666                 -0.013622   \n",
      "ELEVATORS_MEDI                      0.832169                 -0.026695   \n",
      "ENTRANCES_MEDI                      0.582512                 -0.002514   \n",
      "FLOORSMAX_MEDI                      0.645591                 -0.030410   \n",
      "FLOORSMIN_MEDI                      0.388369                 -0.021540   \n",
      "LANDAREA_MEDI                       0.471835                 -0.004076   \n",
      "LIVINGAPARTMENTS_MEDI               0.701347                 -0.018492   \n",
      "LIVINGAREA_MEDI                     0.911370                 -0.021387   \n",
      "NONLIVINGAPARTMENTS_MEDI            0.142929                 -0.003610   \n",
      "NONLIVINGAREA_MEDI                  0.388024                 -0.012911   \n",
      "TOTALAREA_MODE                      1.000000                 -0.022356   \n",
      "OBS_30_CNT_SOCIAL_CIRCLE           -0.022356                  1.000000   \n",
      "DEF_30_CNT_SOCIAL_CIRCLE           -0.014286                  0.329721   \n",
      "OBS_60_CNT_SOCIAL_CIRCLE           -0.022036                  0.998491   \n",
      "DEF_60_CNT_SOCIAL_CIRCLE           -0.015383                  0.253862   \n",
      "DAYS_LAST_PHONE_CHANGE             -0.012598                 -0.015188   \n",
      "FLAG_DOCUMENT_2                     0.001484                  0.001162   \n",
      "FLAG_DOCUMENT_3                    -0.044451                  0.029057   \n",
      "FLAG_DOCUMENT_4                    -0.000001                 -0.001570   \n",
      "FLAG_DOCUMENT_5                     0.004391                 -0.010164   \n",
      "FLAG_DOCUMENT_6                    -0.007244                  0.003786   \n",
      "FLAG_DOCUMENT_7                     0.000816                 -0.001824   \n",
      "FLAG_DOCUMENT_8                     0.051779                 -0.022763   \n",
      "FLAG_DOCUMENT_9                     0.017642                 -0.007709   \n",
      "FLAG_DOCUMENT_10                   -0.001418                  0.001443   \n",
      "FLAG_DOCUMENT_11                    0.017332                 -0.003633   \n",
      "FLAG_DOCUMENT_12                    0.006831                 -0.000444   \n",
      "FLAG_DOCUMENT_13                    0.020716                 -0.002782   \n",
      "FLAG_DOCUMENT_14                    0.023810                 -0.003609   \n",
      "FLAG_DOCUMENT_15                    0.011151                 -0.000988   \n",
      "FLAG_DOCUMENT_16                    0.009589                  0.004627   \n",
      "FLAG_DOCUMENT_17                    0.005941                 -0.001431   \n",
      "FLAG_DOCUMENT_18                    0.006919                  0.003491   \n",
      "FLAG_DOCUMENT_19                    0.001018                  0.000978   \n",
      "FLAG_DOCUMENT_20                    0.000034                  0.000474   \n",
      "FLAG_DOCUMENT_21                   -0.002607                 -0.000667   \n",
      "AMT_REQ_CREDIT_BUREAU_HOUR          0.004814                  0.000660   \n",
      "AMT_REQ_CREDIT_BUREAU_DAY           0.009467                 -0.001953   \n",
      "AMT_REQ_CREDIT_BUREAU_WEEK          0.000683                  0.000852   \n",
      "AMT_REQ_CREDIT_BUREAU_MON           0.037479                  0.002582   \n",
      "AMT_REQ_CREDIT_BUREAU_QRT          -0.001189                  0.005232   \n",
      "AMT_REQ_CREDIT_BUREAU_YEAR         -0.012288                  0.032109   \n",
      "\n",
      "                              DEF_30_CNT_SOCIAL_CIRCLE  \\\n",
      "SK_ID_CURR                                   -0.000085   \n",
      "TARGET                                        0.032394   \n",
      "CNT_CHILDREN                                 -0.001205   \n",
      "AMT_INCOME_TOTAL                             -0.013454   \n",
      "AMT_CREDIT                                   -0.020811   \n",
      "AMT_ANNUITY                                  -0.022445   \n",
      "AMT_GOODS_PRICE                              -0.021949   \n",
      "REGION_POPULATION_RELATIVE                    0.005817   \n",
      "DAYS_BIRTH                                    0.000136   \n",
      "DAYS_EMPLOYED                                 0.016720   \n",
      "DAYS_REGISTRATION                             0.003363   \n",
      "DAYS_ID_PUBLISH                               0.002669   \n",
      "OWN_CAR_AGE                                   0.001727   \n",
      "FLAG_MOBIL                                    0.000578   \n",
      "FLAG_EMP_PHONE                               -0.016561   \n",
      "FLAG_WORK_PHONE                              -0.007548   \n",
      "FLAG_CONT_MOBILE                              0.004907   \n",
      "FLAG_PHONE                                   -0.029338   \n",
      "FLAG_EMAIL                                   -0.003096   \n",
      "CNT_FAM_MEMBERS                              -0.002535   \n",
      "REGION_RATING_CLIENT                          0.015753   \n",
      "REGION_RATING_CLIENT_W_CITY                   0.014291   \n",
      "HOUR_APPR_PROCESS_START                      -0.005909   \n",
      "REG_REGION_NOT_LIVE_REGION                   -0.007922   \n",
      "REG_REGION_NOT_WORK_REGION                   -0.017491   \n",
      "LIVE_REGION_NOT_WORK_REGION                  -0.017027   \n",
      "REG_CITY_NOT_LIVE_CITY                        0.007218   \n",
      "REG_CITY_NOT_WORK_CITY                        0.000622   \n",
      "LIVE_CITY_NOT_WORK_CITY                      -0.003964   \n",
      "EXT_SOURCE_1                                 -0.019053   \n",
      "EXT_SOURCE_2                                 -0.030556   \n",
      "EXT_SOURCE_3                                 -0.032817   \n",
      "APARTMENTS_AVG                               -0.011297   \n",
      "BASEMENTAREA_AVG                             -0.007604   \n",
      "YEARS_BEGINEXPLUATATION_AVG                  -0.003070   \n",
      "YEARS_BUILD_AVG                              -0.005904   \n",
      "COMMONAREA_AVG                               -0.008497   \n",
      "ELEVATORS_AVG                                -0.016949   \n",
      "ENTRANCES_AVG                                -0.002908   \n",
      "FLOORSMAX_AVG                                -0.021657   \n",
      "FLOORSMIN_AVG                                -0.013249   \n",
      "LANDAREA_AVG                                 -0.003733   \n",
      "LIVINGAPARTMENTS_AVG                         -0.009823   \n",
      "LIVINGAREA_AVG                               -0.013452   \n",
      "NONLIVINGAPARTMENTS_AVG                       0.000649   \n",
      "NONLIVINGAREA_AVG                            -0.009532   \n",
      "APARTMENTS_MODE                              -0.010640   \n",
      "BASEMENTAREA_MODE                            -0.006744   \n",
      "YEARS_BEGINEXPLUATATION_MODE                 -0.001955   \n",
      "YEARS_BUILD_MODE                             -0.005498   \n",
      "COMMONAREA_MODE                              -0.007910   \n",
      "ELEVATORS_MODE                               -0.016170   \n",
      "ENTRANCES_MODE                               -0.002391   \n",
      "FLOORSMAX_MODE                               -0.021226   \n",
      "FLOORSMIN_MODE                               -0.012657   \n",
      "LANDAREA_MODE                                -0.004131   \n",
      "LIVINGAPARTMENTS_MODE                        -0.010060   \n",
      "LIVINGAREA_MODE                              -0.012508   \n",
      "NONLIVINGAPARTMENTS_MODE                      0.001552   \n",
      "NONLIVINGAREA_MODE                           -0.008463   \n",
      "APARTMENTS_MEDI                              -0.011298   \n",
      "BASEMENTAREA_MEDI                            -0.007515   \n",
      "YEARS_BEGINEXPLUATATION_MEDI                 -0.003097   \n",
      "YEARS_BUILD_MEDI                             -0.005997   \n",
      "COMMONAREA_MEDI                              -0.008422   \n",
      "ELEVATORS_MEDI                               -0.016734   \n",
      "ENTRANCES_MEDI                               -0.002689   \n",
      "FLOORSMAX_MEDI                               -0.021606   \n",
      "FLOORSMIN_MEDI                               -0.013277   \n",
      "LANDAREA_MEDI                                -0.003824   \n",
      "LIVINGAPARTMENTS_MEDI                        -0.009866   \n",
      "LIVINGAREA_MEDI                              -0.013279   \n",
      "NONLIVINGAPARTMENTS_MEDI                      0.000938   \n",
      "NONLIVINGAREA_MEDI                           -0.009159   \n",
      "TOTALAREA_MODE                               -0.014286   \n",
      "OBS_30_CNT_SOCIAL_CIRCLE                      0.329721   \n",
      "DEF_30_CNT_SOCIAL_CIRCLE                      1.000000   \n",
      "OBS_60_CNT_SOCIAL_CIRCLE                      0.331951   \n",
      "DEF_60_CNT_SOCIAL_CIRCLE                      0.860556   \n",
      "DAYS_LAST_PHONE_CHANGE                        0.000188   \n",
      "FLAG_DOCUMENT_2                               0.002402   \n",
      "FLAG_DOCUMENT_3                               0.014228   \n",
      "FLAG_DOCUMENT_4                              -0.002890   \n",
      "FLAG_DOCUMENT_5                              -0.004207   \n",
      "FLAG_DOCUMENT_6                               0.008036   \n",
      "FLAG_DOCUMENT_7                              -0.000755   \n",
      "FLAG_DOCUMENT_8                              -0.018534   \n",
      "FLAG_DOCUMENT_9                              -0.004242   \n",
      "FLAG_DOCUMENT_10                             -0.001529   \n",
      "FLAG_DOCUMENT_11                             -0.000930   \n",
      "FLAG_DOCUMENT_12                             -0.000817   \n",
      "FLAG_DOCUMENT_13                             -0.007621   \n",
      "FLAG_DOCUMENT_14                             -0.004727   \n",
      "FLAG_DOCUMENT_15                             -0.003183   \n",
      "FLAG_DOCUMENT_16                             -0.004516   \n",
      "FLAG_DOCUMENT_17                             -0.001215   \n",
      "FLAG_DOCUMENT_18                             -0.000922   \n",
      "FLAG_DOCUMENT_19                             -0.003336   \n",
      "FLAG_DOCUMENT_20                              0.000227   \n",
      "FLAG_DOCUMENT_21                             -0.000687   \n",
      "AMT_REQ_CREDIT_BUREAU_HOUR                   -0.000228   \n",
      "AMT_REQ_CREDIT_BUREAU_DAY                    -0.001144   \n",
      "AMT_REQ_CREDIT_BUREAU_WEEK                   -0.001969   \n",
      "AMT_REQ_CREDIT_BUREAU_MON                     0.000256   \n",
      "AMT_REQ_CREDIT_BUREAU_QRT                    -0.001204   \n",
      "AMT_REQ_CREDIT_BUREAU_YEAR                    0.017047   \n",
      "\n",
      "                              OBS_60_CNT_SOCIAL_CIRCLE  \\\n",
      "SK_ID_CURR                                   -0.001427   \n",
      "TARGET                                        0.009337   \n",
      "CNT_CHILDREN                                  0.015302   \n",
      "AMT_INCOME_TOTAL                             -0.013411   \n",
      "AMT_CREDIT                                    0.000942   \n",
      "AMT_ANNUITY                                  -0.011099   \n",
      "AMT_GOODS_PRICE                               0.000806   \n",
      "REGION_POPULATION_RELATIVE                   -0.011498   \n",
      "DAYS_BIRTH                                    0.006878   \n",
      "DAYS_EMPLOYED                                 0.005934   \n",
      "DAYS_REGISTRATION                             0.009083   \n",
      "DAYS_ID_PUBLISH                              -0.012960   \n",
      "OWN_CAR_AGE                                   0.002634   \n",
      "FLAG_MOBIL                                    0.001062   \n",
      "FLAG_EMP_PHONE                               -0.005930   \n",
      "FLAG_WORK_PHONE                              -0.011661   \n",
      "FLAG_CONT_MOBILE                              0.003326   \n",
      "FLAG_PHONE                                   -0.032667   \n",
      "FLAG_EMAIL                                   -0.002571   \n",
      "CNT_FAM_MEMBERS                               0.025125   \n",
      "REGION_RATING_CLIENT                          0.034585   \n",
      "REGION_RATING_CLIENT_W_CITY                   0.030355   \n",
      "HOUR_APPR_PROCESS_START                      -0.008953   \n",
      "REG_REGION_NOT_LIVE_REGION                   -0.020540   \n",
      "REG_REGION_NOT_WORK_REGION                   -0.028967   \n",
      "LIVE_REGION_NOT_WORK_REGION                  -0.023363   \n",
      "REG_CITY_NOT_LIVE_CITY                       -0.012585   \n",
      "REG_CITY_NOT_WORK_CITY                       -0.004568   \n",
      "LIVE_CITY_NOT_WORK_CITY                       0.000165   \n",
      "EXT_SOURCE_1                                 -0.017630   \n",
      "EXT_SOURCE_2                                 -0.019272   \n",
      "EXT_SOURCE_3                                 -0.001498   \n",
      "APARTMENTS_AVG                               -0.019147   \n",
      "BASEMENTAREA_AVG                             -0.011633   \n",
      "YEARS_BEGINEXPLUATATION_AVG                   0.000314   \n",
      "YEARS_BUILD_AVG                               0.000277   \n",
      "COMMONAREA_AVG                               -0.013724   \n",
      "ELEVATORS_AVG                                -0.026893   \n",
      "ENTRANCES_AVG                                -0.002713   \n",
      "FLOORSMAX_AVG                                -0.030465   \n",
      "FLOORSMIN_AVG                                -0.021307   \n",
      "LANDAREA_AVG                                 -0.004191   \n",
      "LIVINGAPARTMENTS_AVG                         -0.018268   \n",
      "LIVINGAREA_AVG                               -0.021568   \n",
      "NONLIVINGAPARTMENTS_AVG                      -0.003656   \n",
      "NONLIVINGAREA_AVG                            -0.013830   \n",
      "APARTMENTS_MODE                              -0.016675   \n",
      "BASEMENTAREA_MODE                            -0.009219   \n",
      "YEARS_BEGINEXPLUATATION_MODE                  0.000761   \n",
      "YEARS_BUILD_MODE                              0.001170   \n",
      "COMMONAREA_MODE                              -0.011868   \n",
      "ELEVATORS_MODE                               -0.024445   \n",
      "ENTRANCES_MODE                               -0.000299   \n",
      "FLOORSMAX_MODE                               -0.029195   \n",
      "FLOORSMIN_MODE                               -0.020070   \n",
      "LANDAREA_MODE                                -0.003434   \n",
      "LIVINGAPARTMENTS_MODE                        -0.016859   \n",
      "LIVINGAREA_MODE                              -0.018209   \n",
      "NONLIVINGAPARTMENTS_MODE                     -0.003052   \n",
      "NONLIVINGAREA_MODE                           -0.011417   \n",
      "APARTMENTS_MEDI                              -0.018932   \n",
      "BASEMENTAREA_MEDI                            -0.011633   \n",
      "YEARS_BEGINEXPLUATATION_MEDI                  0.000461   \n",
      "YEARS_BUILD_MEDI                              0.000272   \n",
      "COMMONAREA_MEDI                              -0.013368   \n",
      "ELEVATORS_MEDI                               -0.026317   \n",
      "ENTRANCES_MEDI                               -0.002299   \n",
      "FLOORSMAX_MEDI                               -0.030158   \n",
      "FLOORSMIN_MEDI                               -0.021283   \n",
      "LANDAREA_MEDI                                -0.003967   \n",
      "LIVINGAPARTMENTS_MEDI                        -0.018210   \n",
      "LIVINGAREA_MEDI                              -0.021073   \n",
      "NONLIVINGAPARTMENTS_MEDI                     -0.003381   \n",
      "NONLIVINGAREA_MEDI                           -0.012754   \n",
      "TOTALAREA_MODE                               -0.022036   \n",
      "OBS_30_CNT_SOCIAL_CIRCLE                      0.998491   \n",
      "DEF_30_CNT_SOCIAL_CIRCLE                      0.331951   \n",
      "OBS_60_CNT_SOCIAL_CIRCLE                      1.000000   \n",
      "DEF_60_CNT_SOCIAL_CIRCLE                      0.255931   \n",
      "DAYS_LAST_PHONE_CHANGE                       -0.015601   \n",
      "FLAG_DOCUMENT_2                               0.001008   \n",
      "FLAG_DOCUMENT_3                               0.029093   \n",
      "FLAG_DOCUMENT_4                              -0.001520   \n",
      "FLAG_DOCUMENT_5                              -0.010069   \n",
      "FLAG_DOCUMENT_6                               0.003856   \n",
      "FLAG_DOCUMENT_7                              -0.001841   \n",
      "FLAG_DOCUMENT_8                              -0.022751   \n",
      "FLAG_DOCUMENT_9                              -0.007838   \n",
      "FLAG_DOCUMENT_10                              0.001490   \n",
      "FLAG_DOCUMENT_11                             -0.003637   \n",
      "FLAG_DOCUMENT_12                             -0.000430   \n",
      "FLAG_DOCUMENT_13                             -0.002868   \n",
      "FLAG_DOCUMENT_14                             -0.003533   \n",
      "FLAG_DOCUMENT_15                             -0.000985   \n",
      "FLAG_DOCUMENT_16                              0.004427   \n",
      "FLAG_DOCUMENT_17                             -0.001328   \n",
      "FLAG_DOCUMENT_18                              0.003434   \n",
      "FLAG_DOCUMENT_19                              0.001048   \n",
      "FLAG_DOCUMENT_20                              0.000395   \n",
      "FLAG_DOCUMENT_21                             -0.000618   \n",
      "AMT_REQ_CREDIT_BUREAU_HOUR                    0.000592   \n",
      "AMT_REQ_CREDIT_BUREAU_DAY                    -0.002044   \n",
      "AMT_REQ_CREDIT_BUREAU_WEEK                    0.000963   \n",
      "AMT_REQ_CREDIT_BUREAU_MON                     0.002659   \n",
      "AMT_REQ_CREDIT_BUREAU_QRT                     0.005045   \n",
      "AMT_REQ_CREDIT_BUREAU_YEAR                    0.032479   \n",
      "\n",
      "                              DEF_60_CNT_SOCIAL_CIRCLE  \\\n",
      "SK_ID_CURR                                    0.001182   \n",
      "TARGET                                        0.031401   \n",
      "CNT_CHILDREN                                 -0.001811   \n",
      "AMT_INCOME_TOTAL                             -0.013314   \n",
      "AMT_CREDIT                                   -0.023399   \n",
      "AMT_ANNUITY                                  -0.023655   \n",
      "AMT_GOODS_PRICE                              -0.024245   \n",
      "REGION_POPULATION_RELATIVE                    0.001974   \n",
      "DAYS_BIRTH                                    0.001861   \n",
      "DAYS_EMPLOYED                                 0.014215   \n",
      "DAYS_REGISTRATION                             0.004537   \n",
      "DAYS_ID_PUBLISH                               0.004265   \n",
      "OWN_CAR_AGE                                   0.004058   \n",
      "FLAG_MOBIL                                    0.000497   \n",
      "FLAG_EMP_PHONE                               -0.014038   \n",
      "FLAG_WORK_PHONE                              -0.007030   \n",
      "FLAG_CONT_MOBILE                              0.005256   \n",
      "FLAG_PHONE                                   -0.028071   \n",
      "FLAG_EMAIL                                   -0.002148   \n",
      "CNT_FAM_MEMBERS                              -0.004643   \n",
      "REGION_RATING_CLIENT                          0.018230   \n",
      "REGION_RATING_CLIENT_W_CITY                   0.017371   \n",
      "HOUR_APPR_PROCESS_START                      -0.008934   \n",
      "REG_REGION_NOT_LIVE_REGION                   -0.007684   \n",
      "REG_REGION_NOT_WORK_REGION                   -0.017067   \n",
      "LIVE_REGION_NOT_WORK_REGION                  -0.016740   \n",
      "REG_CITY_NOT_LIVE_CITY                        0.007599   \n",
      "REG_CITY_NOT_WORK_CITY                        0.001993   \n",
      "LIVE_CITY_NOT_WORK_CITY                      -0.003252   \n",
      "EXT_SOURCE_1                                 -0.020124   \n",
      "EXT_SOURCE_2                                 -0.032481   \n",
      "EXT_SOURCE_3                                 -0.030652   \n",
      "APARTMENTS_AVG                               -0.012934   \n",
      "BASEMENTAREA_AVG                             -0.009300   \n",
      "YEARS_BEGINEXPLUATATION_AVG                  -0.002831   \n",
      "YEARS_BUILD_AVG                              -0.006462   \n",
      "COMMONAREA_AVG                               -0.008812   \n",
      "ELEVATORS_AVG                                -0.017698   \n",
      "ENTRANCES_AVG                                -0.004897   \n",
      "FLOORSMAX_AVG                                -0.021816   \n",
      "FLOORSMIN_AVG                                -0.012643   \n",
      "LANDAREA_AVG                                 -0.003095   \n",
      "LIVINGAPARTMENTS_AVG                         -0.010580   \n",
      "LIVINGAREA_AVG                               -0.014543   \n",
      "NONLIVINGAPARTMENTS_AVG                      -0.001094   \n",
      "NONLIVINGAREA_AVG                            -0.009389   \n",
      "APARTMENTS_MODE                              -0.012412   \n",
      "BASEMENTAREA_MODE                            -0.008373   \n",
      "YEARS_BEGINEXPLUATATION_MODE                 -0.001831   \n",
      "YEARS_BUILD_MODE                             -0.006050   \n",
      "COMMONAREA_MODE                              -0.008049   \n",
      "ELEVATORS_MODE                               -0.016971   \n",
      "ENTRANCES_MODE                               -0.004432   \n",
      "FLOORSMAX_MODE                               -0.021399   \n",
      "FLOORSMIN_MODE                               -0.012063   \n",
      "LANDAREA_MODE                                -0.003459   \n",
      "LIVINGAPARTMENTS_MODE                        -0.010790   \n",
      "LIVINGAREA_MODE                              -0.013772   \n",
      "NONLIVINGAPARTMENTS_MODE                     -0.000514   \n",
      "NONLIVINGAREA_MODE                           -0.008516   \n",
      "APARTMENTS_MEDI                              -0.012920   \n",
      "BASEMENTAREA_MEDI                            -0.009092   \n",
      "YEARS_BEGINEXPLUATATION_MEDI                 -0.002932   \n",
      "YEARS_BUILD_MEDI                             -0.006541   \n",
      "COMMONAREA_MEDI                              -0.008644   \n",
      "ELEVATORS_MEDI                               -0.017419   \n",
      "ENTRANCES_MEDI                               -0.004679   \n",
      "FLOORSMAX_MEDI                               -0.021725   \n",
      "FLOORSMIN_MEDI                               -0.012606   \n",
      "LANDAREA_MEDI                                -0.003104   \n",
      "LIVINGAPARTMENTS_MEDI                        -0.010590   \n",
      "LIVINGAREA_MEDI                              -0.014292   \n",
      "NONLIVINGAPARTMENTS_MEDI                     -0.000854   \n",
      "NONLIVINGAREA_MEDI                           -0.009063   \n",
      "TOTALAREA_MODE                               -0.015383   \n",
      "OBS_30_CNT_SOCIAL_CIRCLE                      0.253862   \n",
      "DEF_30_CNT_SOCIAL_CIRCLE                      0.860556   \n",
      "OBS_60_CNT_SOCIAL_CIRCLE                      0.255931   \n",
      "DEF_60_CNT_SOCIAL_CIRCLE                      1.000000   \n",
      "DAYS_LAST_PHONE_CHANGE                        0.001797   \n",
      "FLAG_DOCUMENT_2                               0.002356   \n",
      "FLAG_DOCUMENT_3                               0.013113   \n",
      "FLAG_DOCUMENT_4                              -0.002486   \n",
      "FLAG_DOCUMENT_5                              -0.004825   \n",
      "FLAG_DOCUMENT_6                               0.006499   \n",
      "FLAG_DOCUMENT_7                               0.000725   \n",
      "FLAG_DOCUMENT_8                              -0.017535   \n",
      "FLAG_DOCUMENT_9                              -0.004684   \n",
      "FLAG_DOCUMENT_10                             -0.001315   \n",
      "FLAG_DOCUMENT_11                             -0.002010   \n",
      "FLAG_DOCUMENT_12                             -0.000703   \n",
      "FLAG_DOCUMENT_13                             -0.007902   \n",
      "FLAG_DOCUMENT_14                             -0.003829   \n",
      "FLAG_DOCUMENT_15                             -0.004162   \n",
      "FLAG_DOCUMENT_16                             -0.005843   \n",
      "FLAG_DOCUMENT_17                             -0.000648   \n",
      "FLAG_DOCUMENT_18                             -0.003233   \n",
      "FLAG_DOCUMENT_19                             -0.003040   \n",
      "FLAG_DOCUMENT_20                              0.000177   \n",
      "FLAG_DOCUMENT_21                              0.000358   \n",
      "AMT_REQ_CREDIT_BUREAU_HOUR                   -0.001477   \n",
      "AMT_REQ_CREDIT_BUREAU_DAY                    -0.001716   \n",
      "AMT_REQ_CREDIT_BUREAU_WEEK                   -0.002470   \n",
      "AMT_REQ_CREDIT_BUREAU_MON                    -0.001661   \n",
      "AMT_REQ_CREDIT_BUREAU_QRT                    -0.000585   \n",
      "AMT_REQ_CREDIT_BUREAU_YEAR                    0.015282   \n",
      "\n",
      "                              DAYS_LAST_PHONE_CHANGE  FLAG_DOCUMENT_2  \\\n",
      "SK_ID_CURR                                 -0.000859         0.000700   \n",
      "TARGET                                      0.055218         0.005417   \n",
      "CNT_CHILDREN                               -0.005866         0.001786   \n",
      "AMT_INCOME_TOTAL                           -0.018585        -0.001000   \n",
      "AMT_CREDIT                                 -0.073702         0.008905   \n",
      "AMT_ANNUITY                                -0.063746         0.003397   \n",
      "AMT_GOODS_PRICE                            -0.076294         0.010775   \n",
      "REGION_POPULATION_RELATIVE                 -0.044014        -0.003040   \n",
      "DAYS_BIRTH                                  0.082940        -0.001191   \n",
      "DAYS_EMPLOYED                               0.023032        -0.003090   \n",
      "DAYS_REGISTRATION                           0.056983        -0.004466   \n",
      "DAYS_ID_PUBLISH                             0.088577        -0.000349   \n",
      "OWN_CAR_AGE                                -0.006495         0.000244   \n",
      "FLAG_MOBIL                                 -0.000449         0.000012   \n",
      "FLAG_EMP_PHONE                             -0.021103         0.003047   \n",
      "FLAG_WORK_PHONE                            -0.041538        -0.001993   \n",
      "FLAG_CONT_MOBILE                           -0.028950         0.000281   \n",
      "FLAG_PHONE                                 -0.067458        -0.000728   \n",
      "FLAG_EMAIL                                 -0.019472         0.002730   \n",
      "CNT_FAM_MEMBERS                            -0.027109         0.000558   \n",
      "REGION_RATING_CLIENT                        0.026022         0.001295   \n",
      "REGION_RATING_CLIENT_W_CITY                 0.025717        -0.000408   \n",
      "HOUR_APPR_PROCESS_START                    -0.014902        -0.001964   \n",
      "REG_REGION_NOT_LIVE_REGION                  0.037881        -0.000806   \n",
      "REG_REGION_NOT_WORK_REGION                  0.036389         0.000775   \n",
      "LIVE_REGION_NOT_WORK_REGION                 0.021361         0.001194   \n",
      "REG_CITY_NOT_LIVE_CITY                      0.054183        -0.001893   \n",
      "REG_CITY_NOT_WORK_CITY                      0.046787        -0.002370   \n",
      "LIVE_CITY_NOT_WORK_CITY                     0.021388        -0.001739   \n",
      "EXT_SOURCE_1                               -0.087115         0.000851   \n",
      "EXT_SOURCE_2                               -0.195460         0.000895   \n",
      "EXT_SOURCE_3                               -0.063544         0.000729   \n",
      "APARTMENTS_AVG                             -0.011872         0.003052   \n",
      "BASEMENTAREA_AVG                           -0.008285        -0.000712   \n",
      "YEARS_BEGINEXPLUATATION_AVG                 0.003261         0.000335   \n",
      "YEARS_BUILD_AVG                             0.007481         0.001128   \n",
      "COMMONAREA_AVG                             -0.008650        -0.000490   \n",
      "ELEVATORS_AVG                              -0.018317         0.003069   \n",
      "ENTRANCES_AVG                              -0.011359         0.001229   \n",
      "FLOORSMAX_AVG                              -0.013634         0.001739   \n",
      "FLOORSMIN_AVG                              -0.007798         0.001876   \n",
      "LANDAREA_AVG                               -0.005537         0.001019   \n",
      "LIVINGAPARTMENTS_AVG                       -0.007831         0.000910   \n",
      "LIVINGAREA_AVG                             -0.013983         0.002563   \n",
      "NONLIVINGAPARTMENTS_AVG                    -0.003463        -0.000455   \n",
      "NONLIVINGAREA_AVG                          -0.008854         0.001237   \n",
      "APARTMENTS_MODE                            -0.011280         0.003298   \n",
      "BASEMENTAREA_MODE                          -0.007752        -0.001154   \n",
      "YEARS_BEGINEXPLUATATION_MODE                0.002813         0.000292   \n",
      "YEARS_BUILD_MODE                            0.008053         0.000484   \n",
      "COMMONAREA_MODE                            -0.007781        -0.000469   \n",
      "ELEVATORS_MODE                             -0.017416         0.003252   \n",
      "ENTRANCES_MODE                             -0.009692         0.001366   \n",
      "FLOORSMAX_MODE                             -0.012903         0.001634   \n",
      "FLOORSMIN_MODE                             -0.007112         0.001593   \n",
      "LANDAREA_MODE                              -0.006094         0.001054   \n",
      "LIVINGAPARTMENTS_MODE                      -0.008239         0.001081   \n",
      "LIVINGAREA_MODE                            -0.013180         0.002671   \n",
      "NONLIVINGAPARTMENTS_MODE                   -0.003453        -0.000470   \n",
      "NONLIVINGAREA_MODE                         -0.008905         0.000924   \n",
      "APARTMENTS_MEDI                            -0.012208         0.003008   \n",
      "BASEMENTAREA_MEDI                          -0.008583        -0.000649   \n",
      "YEARS_BEGINEXPLUATATION_MEDI                0.003446         0.000301   \n",
      "YEARS_BUILD_MEDI                            0.007400         0.000920   \n",
      "COMMONAREA_MEDI                            -0.008537        -0.000442   \n",
      "ELEVATORS_MEDI                             -0.018375         0.003036   \n",
      "ENTRANCES_MEDI                             -0.011338         0.001188   \n",
      "FLOORSMAX_MEDI                             -0.013526         0.001503   \n",
      "FLOORSMIN_MEDI                             -0.007829         0.001502   \n",
      "LANDAREA_MEDI                              -0.005965         0.001043   \n",
      "LIVINGAPARTMENTS_MEDI                      -0.007659         0.000845   \n",
      "LIVINGAREA_MEDI                            -0.014142         0.002484   \n",
      "NONLIVINGAPARTMENTS_MEDI                   -0.003453        -0.000501   \n",
      "NONLIVINGAREA_MEDI                         -0.009034         0.001066   \n",
      "TOTALAREA_MODE                             -0.012598         0.001484   \n",
      "OBS_30_CNT_SOCIAL_CIRCLE                   -0.015188         0.001162   \n",
      "DEF_30_CNT_SOCIAL_CIRCLE                    0.000188         0.002402   \n",
      "OBS_60_CNT_SOCIAL_CIRCLE                   -0.015601         0.001008   \n",
      "DEF_60_CNT_SOCIAL_CIRCLE                    0.001797         0.002356   \n",
      "DAYS_LAST_PHONE_CHANGE                      1.000000        -0.001495   \n",
      "FLAG_DOCUMENT_2                            -0.001495         1.000000   \n",
      "FLAG_DOCUMENT_3                            -0.061761        -0.010174   \n",
      "FLAG_DOCUMENT_4                             0.000752        -0.000059   \n",
      "FLAG_DOCUMENT_5                            -0.013621        -0.000805   \n",
      "FLAG_DOCUMENT_6                             0.034618        -0.002020   \n",
      "FLAG_DOCUMENT_7                             0.003050        -0.000090   \n",
      "FLAG_DOCUMENT_8                            -0.010729        -0.001935   \n",
      "FLAG_DOCUMENT_9                             0.003957        -0.000407   \n",
      "FLAG_DOCUMENT_10                           -0.000040        -0.000031   \n",
      "FLAG_DOCUMENT_11                            0.044568        -0.000407   \n",
      "FLAG_DOCUMENT_12                           -0.004508        -0.000017   \n",
      "FLAG_DOCUMENT_13                            0.022177        -0.000387   \n",
      "FLAG_DOCUMENT_14                            0.027555        -0.000353   \n",
      "FLAG_DOCUMENT_15                            0.012595        -0.000226   \n",
      "FLAG_DOCUMENT_16                            0.041698        -0.000651   \n",
      "FLAG_DOCUMENT_17                            0.006235        -0.000106   \n",
      "FLAG_DOCUMENT_18                            0.047604        -0.000589   \n",
      "FLAG_DOCUMENT_19                            0.006852        -0.000159   \n",
      "FLAG_DOCUMENT_20                            0.009171        -0.000146   \n",
      "FLAG_DOCUMENT_21                            0.009826        -0.000119   \n",
      "AMT_REQ_CREDIT_BUREAU_HOUR                 -0.002798        -0.000462   \n",
      "AMT_REQ_CREDIT_BUREAU_DAY                   0.000538        -0.000382   \n",
      "AMT_REQ_CREDIT_BUREAU_WEEK                 -0.007646        -0.001013   \n",
      "AMT_REQ_CREDIT_BUREAU_MON                  -0.046005        -0.001755   \n",
      "AMT_REQ_CREDIT_BUREAU_QRT                  -0.010018        -0.002007   \n",
      "AMT_REQ_CREDIT_BUREAU_YEAR                 -0.116385        -0.002867   \n",
      "\n",
      "                              FLAG_DOCUMENT_3  FLAG_DOCUMENT_4  \\\n",
      "SK_ID_CURR                          -0.003411        -0.004139   \n",
      "TARGET                               0.044346        -0.002672   \n",
      "CNT_CHILDREN                         0.056837        -0.003709   \n",
      "AMT_INCOME_TOTAL                    -0.016751         0.000529   \n",
      "AMT_CREDIT                           0.096365         0.000630   \n",
      "AMT_ANNUITY                          0.102842         0.001109   \n",
      "AMT_GOODS_PRICE                      0.075040         0.001115   \n",
      "REGION_POPULATION_RELATIVE          -0.084644         0.008102   \n",
      "DAYS_BIRTH                           0.109666        -0.002789   \n",
      "DAYS_EMPLOYED                       -0.249082         0.000437   \n",
      "DAYS_REGISTRATION                    0.033740        -0.004221   \n",
      "DAYS_ID_PUBLISH                      0.050309         0.000545   \n",
      "OWN_CAR_AGE                          0.007338        -0.002384   \n",
      "FLAG_MOBIL                           0.002822         0.000016   \n",
      "FLAG_EMP_PHONE                       0.248534        -0.000467   \n",
      "FLAG_WORK_PHONE                      0.060342        -0.004500   \n",
      "FLAG_CONT_MOBILE                     0.006235         0.000390   \n",
      "FLAG_PHONE                          -0.008020         0.003990   \n",
      "FLAG_EMAIL                           0.012015         0.002467   \n",
      "CNT_FAM_MEMBERS                      0.066131        -0.003096   \n",
      "REGION_RATING_CLIENT                 0.062528        -0.005889   \n",
      "REGION_RATING_CLIENT_W_CITY          0.067083        -0.005587   \n",
      "HOUR_APPR_PROCESS_START             -0.013992         0.000156   \n",
      "REG_REGION_NOT_LIVE_REGION          -0.033659        -0.001118   \n",
      "REG_REGION_NOT_WORK_REGION          -0.021021        -0.002085   \n",
      "LIVE_REGION_NOT_WORK_REGION         -0.011083        -0.001856   \n",
      "REG_CITY_NOT_LIVE_CITY               0.003117         0.000061   \n",
      "REG_CITY_NOT_WORK_CITY               0.056275        -0.002365   \n",
      "LIVE_CITY_NOT_WORK_CITY              0.053945        -0.002339   \n",
      "EXT_SOURCE_1                        -0.029469         0.002605   \n",
      "EXT_SOURCE_2                        -0.030664         0.003031   \n",
      "EXT_SOURCE_3                        -0.028274         0.002854   \n",
      "APARTMENTS_AVG                      -0.037580         0.001657   \n",
      "BASEMENTAREA_AVG                    -0.023080        -0.000204   \n",
      "YEARS_BEGINEXPLUATATION_AVG         -0.001648         0.000054   \n",
      "YEARS_BUILD_AVG                     -0.011533        -0.000061   \n",
      "COMMONAREA_AVG                      -0.029042         0.001736   \n",
      "ELEVATORS_AVG                       -0.054254         0.000618   \n",
      "ENTRANCES_AVG                       -0.011253         0.001451   \n",
      "FLOORSMAX_AVG                       -0.062095         0.001717   \n",
      "FLOORSMIN_AVG                       -0.043078         0.005073   \n",
      "LANDAREA_AVG                        -0.003590        -0.001786   \n",
      "LIVINGAPARTMENTS_AVG                -0.033922         0.002159   \n",
      "LIVINGAREA_AVG                      -0.043286         0.000708   \n",
      "NONLIVINGAPARTMENTS_AVG             -0.010929         0.013721   \n",
      "NONLIVINGAREA_AVG                   -0.027724        -0.000046   \n",
      "APARTMENTS_MODE                     -0.033409         0.001021   \n",
      "BASEMENTAREA_MODE                   -0.019393        -0.000050   \n",
      "YEARS_BEGINEXPLUATATION_MODE        -0.001373         0.000061   \n",
      "YEARS_BUILD_MODE                    -0.009868        -0.000458   \n",
      "COMMONAREA_MODE                     -0.026078         0.001771   \n",
      "ELEVATORS_MODE                      -0.050223         0.000209   \n",
      "ENTRANCES_MODE                      -0.006928         0.000416   \n",
      "FLOORSMAX_MODE                      -0.059201         0.000033   \n",
      "FLOORSMIN_MODE                      -0.040587         0.004286   \n",
      "LANDAREA_MODE                       -0.002208        -0.001737   \n",
      "LIVINGAPARTMENTS_MODE               -0.031532         0.002143   \n",
      "LIVINGAREA_MODE                     -0.039153         0.000922   \n",
      "NONLIVINGAPARTMENTS_MODE            -0.009219         0.014231   \n",
      "NONLIVINGAREA_MODE                  -0.024216         0.000085   \n",
      "APARTMENTS_MEDI                     -0.036770         0.001724   \n",
      "BASEMENTAREA_MEDI                   -0.022294        -0.000239   \n",
      "YEARS_BEGINEXPLUATATION_MEDI        -0.001440         0.000069   \n",
      "YEARS_BUILD_MEDI                    -0.011339         0.000090   \n",
      "COMMONAREA_MEDI                     -0.028601         0.001762   \n",
      "ELEVATORS_MEDI                      -0.053127         0.000753   \n",
      "ENTRANCES_MEDI                      -0.010475         0.001303   \n",
      "FLOORSMAX_MEDI                      -0.061468         0.002058   \n",
      "FLOORSMIN_MEDI                      -0.042601         0.004795   \n",
      "LANDAREA_MEDI                       -0.003310        -0.001873   \n",
      "LIVINGAPARTMENTS_MEDI               -0.033396         0.002241   \n",
      "LIVINGAREA_MEDI                     -0.042600         0.000721   \n",
      "NONLIVINGAPARTMENTS_MEDI            -0.010225         0.013838   \n",
      "NONLIVINGAREA_MEDI                  -0.026696        -0.000080   \n",
      "TOTALAREA_MODE                      -0.044451        -0.000001   \n",
      "OBS_30_CNT_SOCIAL_CIRCLE             0.029057        -0.001570   \n",
      "DEF_30_CNT_SOCIAL_CIRCLE             0.014228        -0.002890   \n",
      "OBS_60_CNT_SOCIAL_CIRCLE             0.029093        -0.001520   \n",
      "DEF_60_CNT_SOCIAL_CIRCLE             0.013113        -0.002486   \n",
      "DAYS_LAST_PHONE_CHANGE              -0.061761         0.000752   \n",
      "FLAG_DOCUMENT_2                     -0.010174        -0.000059   \n",
      "FLAG_DOCUMENT_3                      1.000000        -0.014110   \n",
      "FLAG_DOCUMENT_4                     -0.014110         1.000000   \n",
      "FLAG_DOCUMENT_5                     -0.193850        -0.001117   \n",
      "FLAG_DOCUMENT_6                     -0.486238        -0.002802   \n",
      "FLAG_DOCUMENT_7                     -0.021677        -0.000125   \n",
      "FLAG_DOCUMENT_8                     -0.465730        -0.002684   \n",
      "FLAG_DOCUMENT_9                     -0.097859        -0.000564   \n",
      "FLAG_DOCUMENT_10                    -0.007466        -0.000043   \n",
      "FLAG_DOCUMENT_11                    -0.093242        -0.000565   \n",
      "FLAG_DOCUMENT_12                    -0.001180        -0.000023   \n",
      "FLAG_DOCUMENT_13                    -0.020274        -0.000536   \n",
      "FLAG_DOCUMENT_14                     0.002099        -0.000489   \n",
      "FLAG_DOCUMENT_15                     0.000592        -0.000314   \n",
      "FLAG_DOCUMENT_16                     0.033418        -0.000903   \n",
      "FLAG_DOCUMENT_17                     0.002536        -0.000147   \n",
      "FLAG_DOCUMENT_18                     0.007976        -0.000816   \n",
      "FLAG_DOCUMENT_19                     0.009423        -0.000220   \n",
      "FLAG_DOCUMENT_20                     0.007396        -0.000203   \n",
      "FLAG_DOCUMENT_21                    -0.025510        -0.000165   \n",
      "AMT_REQ_CREDIT_BUREAU_HOUR          -0.000383        -0.000640   \n",
      "AMT_REQ_CREDIT_BUREAU_DAY            0.001178        -0.000530   \n",
      "AMT_REQ_CREDIT_BUREAU_WEEK           0.008281        -0.001405   \n",
      "AMT_REQ_CREDIT_BUREAU_MON            0.010787         0.005143   \n",
      "AMT_REQ_CREDIT_BUREAU_QRT            0.010223         0.000610   \n",
      "AMT_REQ_CREDIT_BUREAU_YEAR           0.046066         0.000723   \n",
      "\n",
      "                              FLAG_DOCUMENT_5  FLAG_DOCUMENT_6  \\\n",
      "SK_ID_CURR                          -0.001097         0.002121   \n",
      "TARGET                              -0.000316        -0.028602   \n",
      "CNT_CHILDREN                        -0.016737        -0.157024   \n",
      "AMT_INCOME_TOTAL                     0.001507        -0.045878   \n",
      "AMT_CREDIT                          -0.011756        -0.046717   \n",
      "AMT_ANNUITY                         -0.006661        -0.073895   \n",
      "AMT_GOODS_PRICE                     -0.005995        -0.050169   \n",
      "REGION_POPULATION_RELATIVE           0.016032         0.000728   \n",
      "DAYS_BIRTH                           0.016774        -0.407160   \n",
      "DAYS_EMPLOYED                       -0.020041         0.597484   \n",
      "DAYS_REGISTRATION                   -0.001243        -0.137769   \n",
      "DAYS_ID_PUBLISH                      0.002066        -0.178282   \n",
      "OWN_CAR_AGE                          0.000960        -0.011721   \n",
      "FLAG_MOBIL                           0.000223         0.000560   \n",
      "FLAG_EMP_PHONE                       0.019778        -0.597732   \n",
      "FLAG_WORK_PHONE                      0.036847        -0.138345   \n",
      "FLAG_CONT_MOBILE                     0.005357         0.009981   \n",
      "FLAG_PHONE                           0.075455         0.009836   \n",
      "FLAG_EMAIL                           0.000734        -0.042660   \n",
      "CNT_FAM_MEMBERS                     -0.015177        -0.156682   \n",
      "REGION_RATING_CLIENT                -0.014077         0.020930   \n",
      "REGION_RATING_CLIENT_W_CITY         -0.015614         0.019870   \n",
      "HOUR_APPR_PROCESS_START              0.026158        -0.069582   \n",
      "REG_REGION_NOT_LIVE_REGION           0.009517        -0.024062   \n",
      "REG_REGION_NOT_WORK_REGION           0.015787        -0.066949   \n",
      "LIVE_REGION_NOT_WORK_REGION          0.013363        -0.059148   \n",
      "REG_CITY_NOT_LIVE_CITY              -0.000134        -0.058214   \n",
      "REG_CITY_NOT_WORK_CITY               0.012142        -0.157457   \n",
      "LIVE_CITY_NOT_WORK_CITY              0.014196        -0.133229   \n",
      "EXT_SOURCE_1                        -0.000467         0.095341   \n",
      "EXT_SOURCE_2                         0.004258        -0.018597   \n",
      "EXT_SOURCE_3                        -0.004924         0.067031   \n",
      "APARTMENTS_AVG                       0.004276        -0.007191   \n",
      "BASEMENTAREA_AVG                     0.000404         0.001434   \n",
      "YEARS_BEGINEXPLUATATION_AVG         -0.003769         0.004587   \n",
      "YEARS_BUILD_AVG                     -0.000374         0.000552   \n",
      "COMMONAREA_AVG                       0.001142        -0.002683   \n",
      "ELEVATORS_AVG                        0.006499        -0.004792   \n",
      "ENTRANCES_AVG                       -0.001139         0.002893   \n",
      "FLOORSMAX_AVG                        0.007986        -0.006282   \n",
      "FLOORSMIN_AVG                        0.006918        -0.005346   \n",
      "LANDAREA_AVG                        -0.005296        -0.008272   \n",
      "LIVINGAPARTMENTS_AVG                 0.004563        -0.006640   \n",
      "LIVINGAREA_AVG                       0.003891        -0.007235   \n",
      "NONLIVINGAPARTMENTS_AVG              0.002141        -0.000837   \n",
      "NONLIVINGAREA_AVG                    0.002282        -0.007325   \n",
      "APARTMENTS_MODE                      0.003375        -0.006928   \n",
      "BASEMENTAREA_MODE                    0.000098         0.001664   \n",
      "YEARS_BEGINEXPLUATATION_MODE        -0.002877         0.004286   \n",
      "YEARS_BUILD_MODE                    -0.000583         0.000737   \n",
      "COMMONAREA_MODE                      0.000160        -0.002945   \n",
      "ELEVATORS_MODE                       0.005419        -0.005067   \n",
      "ENTRANCES_MODE                      -0.001654         0.002977   \n",
      "FLOORSMAX_MODE                       0.007738        -0.005813   \n",
      "FLOORSMIN_MODE                       0.006607        -0.004963   \n",
      "LANDAREA_MODE                       -0.005099        -0.007911   \n",
      "LIVINGAPARTMENTS_MODE                0.003392        -0.006469   \n",
      "LIVINGAREA_MODE                      0.002875        -0.006760   \n",
      "NONLIVINGAPARTMENTS_MODE             0.002068        -0.001029   \n",
      "NONLIVINGAREA_MODE                   0.001400        -0.007117   \n",
      "APARTMENTS_MEDI                      0.004493        -0.007238   \n",
      "BASEMENTAREA_MEDI                    0.000564         0.001359   \n",
      "YEARS_BEGINEXPLUATATION_MEDI        -0.003747         0.004354   \n",
      "YEARS_BUILD_MEDI                    -0.000437         0.000401   \n",
      "COMMONAREA_MEDI                      0.001220        -0.002923   \n",
      "ELEVATORS_MEDI                       0.006454        -0.005104   \n",
      "ENTRANCES_MEDI                      -0.000924         0.002801   \n",
      "FLOORSMAX_MEDI                       0.008163        -0.006274   \n",
      "FLOORSMIN_MEDI                       0.006834        -0.005380   \n",
      "LANDAREA_MEDI                       -0.005217        -0.008161   \n",
      "LIVINGAPARTMENTS_MEDI                0.004740        -0.006822   \n",
      "LIVINGAREA_MEDI                      0.004043        -0.007290   \n",
      "NONLIVINGAPARTMENTS_MEDI             0.002278        -0.000968   \n",
      "NONLIVINGAREA_MEDI                   0.002125        -0.007406   \n",
      "TOTALAREA_MODE                       0.004391        -0.007244   \n",
      "OBS_30_CNT_SOCIAL_CIRCLE            -0.010164         0.003786   \n",
      "DEF_30_CNT_SOCIAL_CIRCLE            -0.004207         0.008036   \n",
      "OBS_60_CNT_SOCIAL_CIRCLE            -0.010069         0.003856   \n",
      "DEF_60_CNT_SOCIAL_CIRCLE            -0.004825         0.006499   \n",
      "DAYS_LAST_PHONE_CHANGE              -0.013621         0.034618   \n",
      "FLAG_DOCUMENT_2                     -0.000805        -0.002020   \n",
      "FLAG_DOCUMENT_3                     -0.193850        -0.486238   \n",
      "FLAG_DOCUMENT_4                     -0.001117        -0.002802   \n",
      "FLAG_DOCUMENT_5                      1.000000        -0.038495   \n",
      "FLAG_DOCUMENT_6                     -0.038495         1.000000   \n",
      "FLAG_DOCUMENT_7                     -0.001716        -0.004305   \n",
      "FLAG_DOCUMENT_8                     -0.036871        -0.092485   \n",
      "FLAG_DOCUMENT_9                     -0.007747        -0.019433   \n",
      "FLAG_DOCUMENT_10                    -0.000591        -0.001483   \n",
      "FLAG_DOCUMENT_11                    -0.007764        -0.018738   \n",
      "FLAG_DOCUMENT_12                    -0.000316        -0.000792   \n",
      "FLAG_DOCUMENT_13                    -0.007368        -0.017514   \n",
      "FLAG_DOCUMENT_14                    -0.006723        -0.014318   \n",
      "FLAG_DOCUMENT_15                    -0.004311        -0.009824   \n",
      "FLAG_DOCUMENT_16                    -0.012137        -0.026603   \n",
      "FLAG_DOCUMENT_17                    -0.002023        -0.004372   \n",
      "FLAG_DOCUMENT_18                    -0.010622        -0.023915   \n",
      "FLAG_DOCUMENT_19                    -0.003023        -0.004759   \n",
      "FLAG_DOCUMENT_20                    -0.002791        -0.005981   \n",
      "FLAG_DOCUMENT_21                     0.000645        -0.005688   \n",
      "AMT_REQ_CREDIT_BUREAU_HOUR          -0.000936        -0.001465   \n",
      "AMT_REQ_CREDIT_BUREAU_DAY           -0.000555         0.003346   \n",
      "AMT_REQ_CREDIT_BUREAU_WEEK           0.001796         0.002598   \n",
      "AMT_REQ_CREDIT_BUREAU_MON            0.006282        -0.021777   \n",
      "AMT_REQ_CREDIT_BUREAU_QRT           -0.004167         0.009378   \n",
      "AMT_REQ_CREDIT_BUREAU_YEAR          -0.009304         0.011139   \n",
      "\n",
      "                              FLAG_DOCUMENT_7  FLAG_DOCUMENT_8  \\\n",
      "SK_ID_CURR                          -0.002694         0.001809   \n",
      "TARGET                              -0.001520        -0.008040   \n",
      "CNT_CHILDREN                        -0.001498         0.051697   \n",
      "AMT_INCOME_TOTAL                     0.003825         0.072451   \n",
      "AMT_CREDIT                          -0.004040         0.082819   \n",
      "AMT_ANNUITY                         -0.002272         0.130577   \n",
      "AMT_GOODS_PRICE                     -0.000724         0.080511   \n",
      "REGION_POPULATION_RELATIVE           0.002436         0.088523   \n",
      "DAYS_BIRTH                           0.001469         0.113243   \n",
      "DAYS_EMPLOYED                       -0.002221        -0.121571   \n",
      "DAYS_REGISTRATION                    0.001366         0.057041   \n",
      "DAYS_ID_PUBLISH                     -0.000034         0.024065   \n",
      "OWN_CAR_AGE                          0.001570        -0.000021   \n",
      "FLAG_MOBIL                           0.000025        -0.006059   \n",
      "FLAG_EMP_PHONE                       0.001605         0.122043   \n",
      "FLAG_WORK_PHONE                      0.001902         0.021464   \n",
      "FLAG_CONT_MOBILE                    -0.004841        -0.022400   \n",
      "FLAG_PHONE                           0.013276         0.004778   \n",
      "FLAG_EMAIL                           0.001678         0.030474   \n",
      "CNT_FAM_MEMBERS                     -0.002322         0.056653   \n",
      "REGION_RATING_CLIENT                 0.001340        -0.084393   \n",
      "REGION_RATING_CLIENT_W_CITY          0.001000        -0.087861   \n",
      "HOUR_APPR_PROCESS_START              0.002103         0.033338   \n",
      "REG_REGION_NOT_LIVE_REGION           0.002127         0.023669   \n",
      "REG_REGION_NOT_WORK_REGION           0.002144         0.059899   \n",
      "LIVE_REGION_NOT_WORK_REGION          0.000715         0.060136   \n",
      "REG_CITY_NOT_LIVE_CITY              -0.001410         0.018113   \n",
      "REG_CITY_NOT_WORK_CITY               0.001340         0.042820   \n",
      "LIVE_CITY_NOT_WORK_CITY              0.001472         0.042759   \n",
      "EXT_SOURCE_1                         0.002851        -0.035047   \n",
      "EXT_SOURCE_2                        -0.000526         0.050574   \n",
      "EXT_SOURCE_3                         0.000540        -0.014577   \n",
      "APARTMENTS_AVG                       0.002062         0.044291   \n",
      "BASEMENTAREA_AVG                    -0.001264         0.024318   \n",
      "YEARS_BEGINEXPLUATATION_AVG          0.000657         0.001958   \n",
      "YEARS_BUILD_AVG                      0.000461         0.015507   \n",
      "COMMONAREA_AVG                       0.002391         0.034888   \n",
      "ELEVATORS_AVG                        0.001794         0.059426   \n",
      "ENTRANCES_AVG                       -0.002940         0.010423   \n",
      "FLOORSMAX_AVG                        0.002482         0.067191   \n",
      "FLOORSMIN_AVG                        0.001940         0.046302   \n",
      "LANDAREA_AVG                        -0.001517         0.006912   \n",
      "LIVINGAPARTMENTS_AVG                -0.000870         0.040559   \n",
      "LIVINGAREA_AVG                      -0.000470         0.050414   \n",
      "NONLIVINGAPARTMENTS_AVG             -0.000456         0.009993   \n",
      "NONLIVINGAREA_AVG                    0.002871         0.028071   \n",
      "APARTMENTS_MODE                     -0.000020         0.039327   \n",
      "BASEMENTAREA_MODE                   -0.001332         0.019438   \n",
      "YEARS_BEGINEXPLUATATION_MODE         0.000632         0.001509   \n",
      "YEARS_BUILD_MODE                     0.000133         0.013912   \n",
      "COMMONAREA_MODE                      0.002587         0.031498   \n",
      "ELEVATORS_MODE                       0.001649         0.055140   \n",
      "ENTRANCES_MODE                      -0.003315         0.005575   \n",
      "FLOORSMAX_MODE                       0.001985         0.064117   \n",
      "FLOORSMIN_MODE                       0.001493         0.043793   \n",
      "LANDAREA_MODE                       -0.001396         0.005027   \n",
      "LIVINGAPARTMENTS_MODE               -0.000626         0.037541   \n",
      "LIVINGAREA_MODE                     -0.000604         0.045058   \n",
      "NONLIVINGAPARTMENTS_MODE            -0.000545         0.008861   \n",
      "NONLIVINGAREA_MODE                   0.002220         0.024325   \n",
      "APARTMENTS_MEDI                      0.000175         0.043559   \n",
      "BASEMENTAREA_MEDI                   -0.001368         0.023459   \n",
      "YEARS_BEGINEXPLUATATION_MEDI         0.000677         0.001754   \n",
      "YEARS_BUILD_MEDI                     0.000729         0.015513   \n",
      "COMMONAREA_MEDI                      0.002429         0.034670   \n",
      "ELEVATORS_MEDI                       0.001855         0.058477   \n",
      "ENTRANCES_MEDI                      -0.002920         0.009528   \n",
      "FLOORSMAX_MEDI                       0.002411         0.066499   \n",
      "FLOORSMIN_MEDI                       0.001947         0.046003   \n",
      "LANDAREA_MEDI                       -0.001497         0.006535   \n",
      "LIVINGAPARTMENTS_MEDI               -0.000801         0.040202   \n",
      "LIVINGAREA_MEDI                     -0.000447         0.049756   \n",
      "NONLIVINGAPARTMENTS_MEDI            -0.000453         0.009656   \n",
      "NONLIVINGAREA_MEDI                   0.002909         0.026941   \n",
      "TOTALAREA_MODE                       0.000816         0.051779   \n",
      "OBS_30_CNT_SOCIAL_CIRCLE            -0.001824        -0.022763   \n",
      "DEF_30_CNT_SOCIAL_CIRCLE            -0.000755        -0.018534   \n",
      "OBS_60_CNT_SOCIAL_CIRCLE            -0.001841        -0.022751   \n",
      "DEF_60_CNT_SOCIAL_CIRCLE             0.000725        -0.017535   \n",
      "DAYS_LAST_PHONE_CHANGE               0.003050        -0.010729   \n",
      "FLAG_DOCUMENT_2                     -0.000090        -0.001935   \n",
      "FLAG_DOCUMENT_3                     -0.021677        -0.465730   \n",
      "FLAG_DOCUMENT_4                     -0.000125        -0.002684   \n",
      "FLAG_DOCUMENT_5                     -0.001716        -0.036871   \n",
      "FLAG_DOCUMENT_6                     -0.004305        -0.092485   \n",
      "FLAG_DOCUMENT_7                      1.000000        -0.004123   \n",
      "FLAG_DOCUMENT_8                     -0.004123         1.000000   \n",
      "FLAG_DOCUMENT_9                     -0.000866        -0.018613   \n",
      "FLAG_DOCUMENT_10                    -0.000066        -0.001420   \n",
      "FLAG_DOCUMENT_11                    -0.000868        -0.017509   \n",
      "FLAG_DOCUMENT_12                    -0.000035         0.003905   \n",
      "FLAG_DOCUMENT_13                    -0.000824         0.077019   \n",
      "FLAG_DOCUMENT_14                    -0.000752         0.030228   \n",
      "FLAG_DOCUMENT_15                    -0.000482         0.023517   \n",
      "FLAG_DOCUMENT_16                    -0.001387         0.012783   \n",
      "FLAG_DOCUMENT_17                    -0.000226         0.005338   \n",
      "FLAG_DOCUMENT_18                    -0.001254         0.007756   \n",
      "FLAG_DOCUMENT_19                    -0.000338         0.000053   \n",
      "FLAG_DOCUMENT_20                    -0.000312         0.003859   \n",
      "FLAG_DOCUMENT_21                    -0.000254        -0.001548   \n",
      "AMT_REQ_CREDIT_BUREAU_HOUR          -0.000983         0.004790   \n",
      "AMT_REQ_CREDIT_BUREAU_DAY           -0.000814         0.000979   \n",
      "AMT_REQ_CREDIT_BUREAU_WEEK          -0.000928         0.000887   \n",
      "AMT_REQ_CREDIT_BUREAU_MON           -0.002917         0.018353   \n",
      "AMT_REQ_CREDIT_BUREAU_QRT           -0.000489        -0.002450   \n",
      "AMT_REQ_CREDIT_BUREAU_YEAR           0.002935        -0.021526   \n",
      "\n",
      "                              FLAG_DOCUMENT_9  FLAG_DOCUMENT_10  \\\n",
      "SK_ID_CURR                           0.001505     -8.146608e-04   \n",
      "TARGET                              -0.004352     -1.413892e-03   \n",
      "CNT_CHILDREN                        -0.001997     -2.755523e-03   \n",
      "AMT_INCOME_TOTAL                     0.018389      2.900723e-04   \n",
      "AMT_CREDIT                           0.022602     -3.100154e-03   \n",
      "AMT_ANNUITY                          0.033692     -3.368805e-03   \n",
      "AMT_GOODS_PRICE                      0.022477     -2.137710e-03   \n",
      "REGION_POPULATION_RELATIVE           0.038434      1.991828e-03   \n",
      "DAYS_BIRTH                           0.018213     -1.680618e-04   \n",
      "DAYS_EMPLOYED                       -0.023834     -4.390905e-04   \n",
      "DAYS_REGISTRATION                    0.009898      2.919252e-04   \n",
      "DAYS_ID_PUBLISH                      0.015271     -1.214034e-03   \n",
      "OWN_CAR_AGE                         -0.003699     -1.368641e-03   \n",
      "FLAG_MOBIL                           0.000113      8.603873e-06   \n",
      "FLAG_EMP_PHONE                       0.023878      4.625336e-04   \n",
      "FLAG_WORK_PHONE                      0.008252      2.737154e-03   \n",
      "FLAG_CONT_MOBILE                    -0.008180      2.063265e-04   \n",
      "FLAG_PHONE                           0.012923      4.598145e-03   \n",
      "FLAG_EMAIL                           0.009490      1.776750e-03   \n",
      "CNT_FAM_MEMBERS                     -0.006127     -3.045170e-03   \n",
      "REGION_RATING_CLIENT                -0.037314     -4.917361e-04   \n",
      "REGION_RATING_CLIENT_W_CITY         -0.038914     -1.654913e-03   \n",
      "HOUR_APPR_PROCESS_START              0.016209     -2.597108e-03   \n",
      "REG_REGION_NOT_LIVE_REGION           0.017464      4.989414e-03   \n",
      "REG_REGION_NOT_WORK_REGION           0.020255      2.001441e-03   \n",
      "LIVE_REGION_NOT_WORK_REGION          0.015143     -9.822315e-04   \n",
      "REG_CITY_NOT_LIVE_CITY               0.005318      3.688722e-03   \n",
      "REG_CITY_NOT_WORK_CITY              -0.001374      6.260820e-04   \n",
      "LIVE_CITY_NOT_WORK_CITY             -0.004911      1.319655e-03   \n",
      "EXT_SOURCE_1                         0.009993      1.672419e-03   \n",
      "EXT_SOURCE_2                         0.016658     -2.063980e-03   \n",
      "EXT_SOURCE_3                        -0.005082     -4.077220e-03   \n",
      "APARTMENTS_AVG                       0.017421     -1.775698e-03   \n",
      "BASEMENTAREA_AVG                     0.009486     -1.162844e-03   \n",
      "YEARS_BEGINEXPLUATATION_AVG          0.001974      8.928352e-05   \n",
      "YEARS_BUILD_AVG                     -0.000769     -2.868669e-04   \n",
      "COMMONAREA_AVG                       0.012577     -1.453136e-03   \n",
      "ELEVATORS_AVG                        0.023730     -1.485725e-03   \n",
      "ENTRANCES_AVG                        0.003990     -3.949899e-04   \n",
      "FLOORSMAX_AVG                        0.029075     -7.879649e-06   \n",
      "FLOORSMIN_AVG                        0.019048     -3.919425e-04   \n",
      "LANDAREA_AVG                        -0.001812     -9.325675e-04   \n",
      "LIVINGAPARTMENTS_AVG                 0.014338     -1.204990e-03   \n",
      "LIVINGAREA_AVG                       0.020175     -1.570138e-03   \n",
      "NONLIVINGAPARTMENTS_AVG              0.004373     -3.815912e-04   \n",
      "NONLIVINGAREA_AVG                    0.013262      2.024782e-03   \n",
      "APARTMENTS_MODE                      0.014066     -1.577091e-03   \n",
      "BASEMENTAREA_MODE                    0.006000     -9.073881e-04   \n",
      "YEARS_BEGINEXPLUATATION_MODE         0.001329      1.187016e-04   \n",
      "YEARS_BUILD_MODE                    -0.001561     -2.200679e-04   \n",
      "COMMONAREA_MODE                      0.010988     -1.376728e-03   \n",
      "ELEVATORS_MODE                       0.020874     -1.417417e-03   \n",
      "ENTRANCES_MODE                       0.001484     -2.415278e-04   \n",
      "FLOORSMAX_MODE                       0.027421      8.208608e-05   \n",
      "FLOORSMIN_MODE                       0.017731     -3.292620e-04   \n",
      "LANDAREA_MODE                       -0.003352     -7.527842e-04   \n",
      "LIVINGAPARTMENTS_MODE                0.012721     -1.068991e-03   \n",
      "LIVINGAREA_MODE                      0.016357     -1.385713e-03   \n",
      "NONLIVINGAPARTMENTS_MODE             0.003052     -3.527658e-04   \n",
      "NONLIVINGAREA_MODE                   0.009727      2.319618e-03   \n",
      "APARTMENTS_MEDI                      0.016669     -1.725439e-03   \n",
      "BASEMENTAREA_MEDI                    0.008991     -1.134934e-03   \n",
      "YEARS_BEGINEXPLUATATION_MEDI         0.001917      8.729042e-05   \n",
      "YEARS_BUILD_MEDI                    -0.000829     -2.851490e-04   \n",
      "COMMONAREA_MEDI                      0.012222     -1.441906e-03   \n",
      "ELEVATORS_MEDI                       0.022957     -1.469976e-03   \n",
      "ENTRANCES_MEDI                       0.003232     -3.767662e-04   \n",
      "FLOORSMAX_MEDI                       0.028935      7.697476e-07   \n",
      "FLOORSMIN_MEDI                       0.018872     -3.862297e-04   \n",
      "LANDAREA_MEDI                       -0.001976     -9.184339e-04   \n",
      "LIVINGAPARTMENTS_MEDI                0.013847     -1.185412e-03   \n",
      "LIVINGAREA_MEDI                      0.019451     -1.539224e-03   \n",
      "NONLIVINGAPARTMENTS_MEDI             0.003895     -3.755703e-04   \n",
      "NONLIVINGAREA_MEDI                   0.012414      2.095363e-03   \n",
      "TOTALAREA_MODE                       0.017642     -1.418190e-03   \n",
      "OBS_30_CNT_SOCIAL_CIRCLE            -0.007709      1.442918e-03   \n",
      "DEF_30_CNT_SOCIAL_CIRCLE            -0.004242     -1.529062e-03   \n",
      "OBS_60_CNT_SOCIAL_CIRCLE            -0.007838      1.489681e-03   \n",
      "DEF_60_CNT_SOCIAL_CIRCLE            -0.004684     -1.315232e-03   \n",
      "DAYS_LAST_PHONE_CHANGE               0.003957     -4.038848e-05   \n",
      "FLAG_DOCUMENT_2                     -0.000407     -3.102231e-05   \n",
      "FLAG_DOCUMENT_3                     -0.097859     -7.465836e-03   \n",
      "FLAG_DOCUMENT_4                     -0.000564     -4.302105e-05   \n",
      "FLAG_DOCUMENT_5                     -0.007747     -5.910627e-04   \n",
      "FLAG_DOCUMENT_6                     -0.019433     -1.482577e-03   \n",
      "FLAG_DOCUMENT_7                     -0.000866     -6.609384e-05   \n",
      "FLAG_DOCUMENT_8                     -0.018613     -1.420047e-03   \n",
      "FLAG_DOCUMENT_9                      1.000000     -2.983797e-04   \n",
      "FLAG_DOCUMENT_10                    -0.000298      1.000000e+00   \n",
      "FLAG_DOCUMENT_11                    -0.003919     -2.990042e-04   \n",
      "FLAG_DOCUMENT_12                    -0.000159     -1.216773e-05   \n",
      "FLAG_DOCUMENT_13                     0.000684     -2.837754e-04   \n",
      "FLAG_DOCUMENT_14                     0.001430     -2.589261e-04   \n",
      "FLAG_DOCUMENT_15                     0.002329     -1.660457e-04   \n",
      "FLAG_DOCUMENT_16                     0.008480     -4.777749e-04   \n",
      "FLAG_DOCUMENT_17                     0.008570     -7.792165e-05   \n",
      "FLAG_DOCUMENT_18                     0.001895     -4.319524e-04   \n",
      "FLAG_DOCUMENT_19                    -0.001526     -1.164255e-04   \n",
      "FLAG_DOCUMENT_20                    -0.001409     -1.074894e-04   \n",
      "FLAG_DOCUMENT_21                    -0.001145     -8.733426e-05   \n",
      "AMT_REQ_CREDIT_BUREAU_HOUR          -0.002432     -3.386921e-04   \n",
      "AMT_REQ_CREDIT_BUREAU_DAY           -0.000129     -2.803817e-04   \n",
      "AMT_REQ_CREDIT_BUREAU_WEEK          -0.000166     -7.435250e-04   \n",
      "AMT_REQ_CREDIT_BUREAU_MON            0.004138      1.098551e-03   \n",
      "AMT_REQ_CREDIT_BUREAU_QRT           -0.003585      3.107775e-03   \n",
      "AMT_REQ_CREDIT_BUREAU_YEAR          -0.010366      2.915033e-03   \n",
      "\n",
      "                              FLAG_DOCUMENT_11  FLAG_DOCUMENT_12  \\\n",
      "SK_ID_CURR                           -0.002012         -0.001045   \n",
      "TARGET                               -0.004229         -0.000756   \n",
      "CNT_CHILDREN                         -0.005318          0.000293   \n",
      "AMT_INCOME_TOTAL                      0.002315          0.002540   \n",
      "AMT_CREDIT                            0.028986          0.003857   \n",
      "AMT_ANNUITY                          -0.003668          0.000847   \n",
      "AMT_GOODS_PRICE                       0.035137          0.004067   \n",
      "REGION_POPULATION_RELATIVE            0.024632         -0.000404   \n",
      "DAYS_BIRTH                            0.044716          0.000236   \n",
      "DAYS_EMPLOYED                        -0.028915         -0.001225   \n",
      "DAYS_REGISTRATION                     0.014731          0.001682   \n",
      "DAYS_ID_PUBLISH                       0.022875         -0.002193   \n",
      "OWN_CAR_AGE                          -0.012113         -0.002703   \n",
      "FLAG_MOBIL                            0.000113          0.000005   \n",
      "FLAG_EMP_PHONE                        0.029373          0.001195   \n",
      "FLAG_WORK_PHONE                       0.123500         -0.001273   \n",
      "FLAG_CONT_MOBILE                      0.002710          0.000110   \n",
      "FLAG_PHONE                            0.003231         -0.001595   \n",
      "FLAG_EMAIL                           -0.003656         -0.000625   \n",
      "CNT_FAM_MEMBERS                      -0.007932          0.000973   \n",
      "REGION_RATING_CLIENT                 -0.010348         -0.000263   \n",
      "REGION_RATING_CLIENT_W_CITY          -0.013152         -0.000160   \n",
      "HOUR_APPR_PROCESS_START               0.014224          0.003465   \n",
      "REG_REGION_NOT_LIVE_REGION            0.103987         -0.000316   \n",
      "REG_REGION_NOT_WORK_REGION            0.059071         -0.000590   \n",
      "LIVE_REGION_NOT_WORK_REGION           0.007409         -0.000525   \n",
      "REG_CITY_NOT_LIVE_CITY                0.055105         -0.000743   \n",
      "REG_CITY_NOT_WORK_CITY                0.034236         -0.001396   \n",
      "LIVE_CITY_NOT_WORK_CITY               0.002714         -0.001193   \n",
      "EXT_SOURCE_1                         -0.010332          0.001677   \n",
      "EXT_SOURCE_2                         -0.004325          0.002186   \n",
      "EXT_SOURCE_3                         -0.007763          0.001089   \n",
      "APARTMENTS_AVG                        0.016516          0.004204   \n",
      "BASEMENTAREA_AVG                      0.011673          0.004995   \n",
      "YEARS_BEGINEXPLUATATION_AVG          -0.003877          0.000152   \n",
      "YEARS_BUILD_AVG                       0.002537          0.002283   \n",
      "COMMONAREA_AVG                        0.013391          0.002873   \n",
      "ELEVATORS_AVG                         0.017234          0.005178   \n",
      "ENTRANCES_AVG                         0.009952          0.003519   \n",
      "FLOORSMAX_AVG                         0.019003          0.001773   \n",
      "FLOORSMIN_AVG                         0.018543          0.002673   \n",
      "LANDAREA_AVG                          0.008683          0.005116   \n",
      "LIVINGAPARTMENTS_AVG                  0.015422          0.005704   \n",
      "LIVINGAREA_AVG                        0.017891          0.005728   \n",
      "NONLIVINGAPARTMENTS_AVG               0.007426          0.002140   \n",
      "NONLIVINGAREA_AVG                     0.008491          0.011301   \n",
      "APARTMENTS_MODE                       0.016154          0.004469   \n",
      "BASEMENTAREA_MODE                     0.011484          0.005272   \n",
      "YEARS_BEGINEXPLUATATION_MODE         -0.005448          0.000158   \n",
      "YEARS_BUILD_MODE                      0.002302          0.002290   \n",
      "COMMONAREA_MODE                       0.013165          0.003032   \n",
      "ELEVATORS_MODE                        0.016533          0.005400   \n",
      "ENTRANCES_MODE                        0.008956          0.003575   \n",
      "FLOORSMAX_MODE                        0.018538          0.001841   \n",
      "FLOORSMIN_MODE                        0.018338          0.002717   \n",
      "LANDAREA_MODE                         0.008650          0.005342   \n",
      "LIVINGAPARTMENTS_MODE                 0.015860          0.005983   \n",
      "LIVINGAREA_MODE                       0.018445          0.006069   \n",
      "NONLIVINGAPARTMENTS_MODE              0.007561          0.002252   \n",
      "NONLIVINGAREA_MODE                    0.007963          0.011961   \n",
      "APARTMENTS_MEDI                       0.016476          0.004249   \n",
      "BASEMENTAREA_MEDI                     0.011326          0.005035   \n",
      "YEARS_BEGINEXPLUATATION_MEDI         -0.003857          0.000150   \n",
      "YEARS_BUILD_MEDI                      0.002571          0.002277   \n",
      "COMMONAREA_MEDI                       0.012659          0.002898   \n",
      "ELEVATORS_MEDI                        0.016896          0.005201   \n",
      "ENTRANCES_MEDI                        0.009573          0.003518   \n",
      "FLOORSMAX_MEDI                        0.019177          0.001774   \n",
      "FLOORSMIN_MEDI                        0.018577          0.002667   \n",
      "LANDAREA_MEDI                         0.008880          0.005153   \n",
      "LIVINGAPARTMENTS_MEDI                 0.015414          0.005747   \n",
      "LIVINGAREA_MEDI                       0.017996          0.005768   \n",
      "NONLIVINGAPARTMENTS_MEDI              0.007490          0.002174   \n",
      "NONLIVINGAREA_MEDI                    0.008397          0.011463   \n",
      "TOTALAREA_MODE                        0.017332          0.006831   \n",
      "OBS_30_CNT_SOCIAL_CIRCLE             -0.003633         -0.000444   \n",
      "DEF_30_CNT_SOCIAL_CIRCLE             -0.000930         -0.000817   \n",
      "OBS_60_CNT_SOCIAL_CIRCLE             -0.003637         -0.000430   \n",
      "DEF_60_CNT_SOCIAL_CIRCLE             -0.002010         -0.000703   \n",
      "DAYS_LAST_PHONE_CHANGE                0.044568         -0.004508   \n",
      "FLAG_DOCUMENT_2                      -0.000407         -0.000017   \n",
      "FLAG_DOCUMENT_3                      -0.093242         -0.001180   \n",
      "FLAG_DOCUMENT_4                      -0.000565         -0.000023   \n",
      "FLAG_DOCUMENT_5                      -0.007764         -0.000316   \n",
      "FLAG_DOCUMENT_6                      -0.018738         -0.000792   \n",
      "FLAG_DOCUMENT_7                      -0.000868         -0.000035   \n",
      "FLAG_DOCUMENT_8                      -0.017509          0.003905   \n",
      "FLAG_DOCUMENT_9                      -0.003919         -0.000159   \n",
      "FLAG_DOCUMENT_10                     -0.000299         -0.000012   \n",
      "FLAG_DOCUMENT_11                      1.000000         -0.000160   \n",
      "FLAG_DOCUMENT_12                     -0.000160          1.000000   \n",
      "FLAG_DOCUMENT_13                     -0.003727         -0.000152   \n",
      "FLAG_DOCUMENT_14                     -0.003401         -0.000138   \n",
      "FLAG_DOCUMENT_15                     -0.002181         -0.000089   \n",
      "FLAG_DOCUMENT_16                     -0.006276         -0.000255   \n",
      "FLAG_DOCUMENT_17                     -0.001024         -0.000042   \n",
      "FLAG_DOCUMENT_18                     -0.005674         -0.000231   \n",
      "FLAG_DOCUMENT_19                     -0.001529         -0.000062   \n",
      "FLAG_DOCUMENT_20                     -0.001412         -0.000057   \n",
      "FLAG_DOCUMENT_21                     -0.001147         -0.000047   \n",
      "AMT_REQ_CREDIT_BUREAU_HOUR           -0.003113          0.016164   \n",
      "AMT_REQ_CREDIT_BUREAU_DAY             0.002890          0.012226   \n",
      "AMT_REQ_CREDIT_BUREAU_WEEK           -0.001572         -0.000397   \n",
      "AMT_REQ_CREDIT_BUREAU_MON            -0.003967          0.002288   \n",
      "AMT_REQ_CREDIT_BUREAU_QRT            -0.008909         -0.000787   \n",
      "AMT_REQ_CREDIT_BUREAU_YEAR           -0.031704         -0.001847   \n",
      "\n",
      "                              FLAG_DOCUMENT_13  FLAG_DOCUMENT_14  \\\n",
      "SK_ID_CURR                            0.000896         -0.001077   \n",
      "TARGET                               -0.011583         -0.009464   \n",
      "CNT_CHILDREN                          0.003945         -0.005459   \n",
      "AMT_INCOME_TOTAL                      0.022747          0.020708   \n",
      "AMT_CREDIT                            0.052429          0.048828   \n",
      "AMT_ANNUITY                           0.025116          0.036857   \n",
      "AMT_GOODS_PRICE                       0.052369          0.048760   \n",
      "REGION_POPULATION_RELATIVE            0.031186          0.032202   \n",
      "DAYS_BIRTH                            0.026333          0.030733   \n",
      "DAYS_EMPLOYED                        -0.025778         -0.023383   \n",
      "DAYS_REGISTRATION                     0.015470          0.011636   \n",
      "DAYS_ID_PUBLISH                       0.003048          0.008710   \n",
      "OWN_CAR_AGE                          -0.048370         -0.008025   \n",
      "FLAG_MOBIL                            0.000107          0.000098   \n",
      "FLAG_EMP_PHONE                        0.025878          0.023559   \n",
      "FLAG_WORK_PHONE                       0.001769         -0.002712   \n",
      "FLAG_CONT_MOBILE                     -0.064800         -0.072839   \n",
      "FLAG_PHONE                            0.006997          0.010321   \n",
      "FLAG_EMAIL                           -0.003436          0.001502   \n",
      "CNT_FAM_MEMBERS                       0.005273         -0.010417   \n",
      "REGION_RATING_CLIENT                 -0.032431         -0.038179   \n",
      "REGION_RATING_CLIENT_W_CITY          -0.032760         -0.037711   \n",
      "HOUR_APPR_PROCESS_START               0.023929          0.021618   \n",
      "REG_REGION_NOT_LIVE_REGION            0.003407          0.002128   \n",
      "REG_REGION_NOT_WORK_REGION            0.012489          0.013183   \n",
      "LIVE_REGION_NOT_WORK_REGION           0.016093          0.013780   \n",
      "REG_CITY_NOT_LIVE_CITY                0.000258         -0.004162   \n",
      "REG_CITY_NOT_WORK_CITY               -0.000887         -0.005580   \n",
      "LIVE_CITY_NOT_WORK_CITY              -0.000949         -0.004876   \n",
      "EXT_SOURCE_1                         -0.003123          0.006984   \n",
      "EXT_SOURCE_2                          0.023757          0.020993   \n",
      "EXT_SOURCE_3                         -0.000241         -0.001700   \n",
      "APARTMENTS_AVG                        0.019005          0.019851   \n",
      "BASEMENTAREA_AVG                      0.010548          0.009679   \n",
      "YEARS_BEGINEXPLUATATION_AVG           0.000299         -0.000444   \n",
      "YEARS_BUILD_AVG                       0.006176          0.006147   \n",
      "COMMONAREA_AVG                        0.011281          0.012587   \n",
      "ELEVATORS_AVG                         0.022434          0.028325   \n",
      "ENTRANCES_AVG                         0.006780          0.004940   \n",
      "FLOORSMAX_AVG                         0.025328          0.031456   \n",
      "FLOORSMIN_AVG                         0.014125          0.018085   \n",
      "LANDAREA_AVG                          0.003854          0.002015   \n",
      "LIVINGAPARTMENTS_AVG                  0.016438          0.017036   \n",
      "LIVINGAREA_AVG                        0.020719          0.022892   \n",
      "NONLIVINGAPARTMENTS_AVG               0.003635          0.006092   \n",
      "NONLIVINGAREA_AVG                     0.009031          0.019797   \n",
      "APARTMENTS_MODE                       0.016798          0.017844   \n",
      "BASEMENTAREA_MODE                     0.007927          0.007124   \n",
      "YEARS_BEGINEXPLUATATION_MODE          0.000493         -0.001043   \n",
      "YEARS_BUILD_MODE                      0.005699          0.005259   \n",
      "COMMONAREA_MODE                       0.009972          0.011781   \n",
      "ELEVATORS_MODE                        0.020581          0.025889   \n",
      "ENTRANCES_MODE                        0.004479          0.002522   \n",
      "FLOORSMAX_MODE                        0.024242          0.030286   \n",
      "FLOORSMIN_MODE                        0.013367          0.017194   \n",
      "LANDAREA_MODE                         0.002642          0.000824   \n",
      "LIVINGAPARTMENTS_MODE                 0.014546          0.015309   \n",
      "LIVINGAREA_MODE                       0.018536          0.019966   \n",
      "NONLIVINGAPARTMENTS_MODE              0.001830          0.003949   \n",
      "NONLIVINGAREA_MODE                    0.008291          0.017460   \n",
      "APARTMENTS_MEDI                       0.018468          0.019313   \n",
      "BASEMENTAREA_MEDI                     0.009383          0.008797   \n",
      "YEARS_BEGINEXPLUATATION_MEDI          0.000290         -0.000402   \n",
      "YEARS_BUILD_MEDI                      0.006298          0.005924   \n",
      "COMMONAREA_MEDI                       0.010974          0.012340   \n",
      "ELEVATORS_MEDI                        0.022017          0.026886   \n",
      "ENTRANCES_MEDI                        0.006664          0.003838   \n",
      "FLOORSMAX_MEDI                        0.025124          0.031139   \n",
      "FLOORSMIN_MEDI                        0.014110          0.017936   \n",
      "LANDAREA_MEDI                         0.003598          0.001902   \n",
      "LIVINGAPARTMENTS_MEDI                 0.015486          0.016039   \n",
      "LIVINGAREA_MEDI                       0.020516          0.021948   \n",
      "NONLIVINGAPARTMENTS_MEDI              0.002484          0.005563   \n",
      "NONLIVINGAREA_MEDI                    0.008572          0.019381   \n",
      "TOTALAREA_MODE                        0.020716          0.023810   \n",
      "OBS_30_CNT_SOCIAL_CIRCLE             -0.002782         -0.003609   \n",
      "DEF_30_CNT_SOCIAL_CIRCLE             -0.007621         -0.004727   \n",
      "OBS_60_CNT_SOCIAL_CIRCLE             -0.002868         -0.003533   \n",
      "DEF_60_CNT_SOCIAL_CIRCLE             -0.007902         -0.003829   \n",
      "DAYS_LAST_PHONE_CHANGE                0.022177          0.027555   \n",
      "FLAG_DOCUMENT_2                      -0.000387         -0.000353   \n",
      "FLAG_DOCUMENT_3                      -0.020274          0.002099   \n",
      "FLAG_DOCUMENT_4                      -0.000536         -0.000489   \n",
      "FLAG_DOCUMENT_5                      -0.007368         -0.006723   \n",
      "FLAG_DOCUMENT_6                      -0.017514         -0.014318   \n",
      "FLAG_DOCUMENT_7                      -0.000824         -0.000752   \n",
      "FLAG_DOCUMENT_8                       0.077019          0.030228   \n",
      "FLAG_DOCUMENT_9                       0.000684          0.001430   \n",
      "FLAG_DOCUMENT_10                     -0.000284         -0.000259   \n",
      "FLAG_DOCUMENT_11                     -0.003727         -0.003401   \n",
      "FLAG_DOCUMENT_12                     -0.000152         -0.000138   \n",
      "FLAG_DOCUMENT_13                      1.000000         -0.003228   \n",
      "FLAG_DOCUMENT_14                     -0.003228          1.000000   \n",
      "FLAG_DOCUMENT_15                     -0.002070         -0.001889   \n",
      "FLAG_DOCUMENT_16                     -0.005956         -0.005434   \n",
      "FLAG_DOCUMENT_17                     -0.000971         -0.000886   \n",
      "FLAG_DOCUMENT_18                     -0.005385         -0.004913   \n",
      "FLAG_DOCUMENT_19                     -0.001451         -0.001324   \n",
      "FLAG_DOCUMENT_20                      0.042520          0.030805   \n",
      "FLAG_DOCUMENT_21                      0.004908          0.002291   \n",
      "AMT_REQ_CREDIT_BUREAU_HOUR           -0.001409          0.001540   \n",
      "AMT_REQ_CREDIT_BUREAU_DAY             0.007155          0.013142   \n",
      "AMT_REQ_CREDIT_BUREAU_WEEK           -0.002940          0.000051   \n",
      "AMT_REQ_CREDIT_BUREAU_MON             0.012185          0.006042   \n",
      "AMT_REQ_CREDIT_BUREAU_QRT            -0.002501         -0.002533   \n",
      "AMT_REQ_CREDIT_BUREAU_YEAR           -0.029892         -0.029273   \n",
      "\n",
      "                              FLAG_DOCUMENT_15  FLAG_DOCUMENT_16  \\\n",
      "SK_ID_CURR                            0.002604         -0.000724   \n",
      "TARGET                               -0.006536         -0.011615   \n",
      "CNT_CHILDREN                          0.003609          0.010662   \n",
      "AMT_INCOME_TOTAL                      0.010793          0.007269   \n",
      "AMT_CREDIT                            0.032252          0.061925   \n",
      "AMT_ANNUITY                           0.016125          0.007199   \n",
      "AMT_GOODS_PRICE                       0.032939          0.058325   \n",
      "REGION_POPULATION_RELATIVE            0.009446          0.006313   \n",
      "DAYS_BIRTH                            0.012953          0.024044   \n",
      "DAYS_EMPLOYED                        -0.014285         -0.042905   \n",
      "DAYS_REGISTRATION                     0.008195          0.025935   \n",
      "DAYS_ID_PUBLISH                       0.000158          0.002782   \n",
      "OWN_CAR_AGE                          -0.027918         -0.002025   \n",
      "FLAG_MOBIL                            0.000063          0.000181   \n",
      "FLAG_EMP_PHONE                        0.014364          0.043008   \n",
      "FLAG_WORK_PHONE                       0.007689          0.005692   \n",
      "FLAG_CONT_MOBILE                     -0.013667         -0.030625   \n",
      "FLAG_PHONE                            0.008001          0.010354   \n",
      "FLAG_EMAIL                           -0.003276         -0.012644   \n",
      "CNT_FAM_MEMBERS                       0.003720          0.009686   \n",
      "REGION_RATING_CLIENT                 -0.009284         -0.005424   \n",
      "REGION_RATING_CLIENT_W_CITY          -0.009253         -0.005430   \n",
      "HOUR_APPR_PROCESS_START               0.009465          0.019066   \n",
      "REG_REGION_NOT_LIVE_REGION           -0.002017         -0.006509   \n",
      "REG_REGION_NOT_WORK_REGION            0.002606          0.000897   \n",
      "LIVE_REGION_NOT_WORK_REGION           0.003730          0.004296   \n",
      "REG_CITY_NOT_LIVE_CITY               -0.002468         -0.012666   \n",
      "REG_CITY_NOT_WORK_CITY               -0.001495         -0.004095   \n",
      "LIVE_CITY_NOT_WORK_CITY               0.000294          0.003061   \n",
      "EXT_SOURCE_1                          0.001973         -0.000260   \n",
      "EXT_SOURCE_2                          0.008397          0.012984   \n",
      "EXT_SOURCE_3                          0.000493          0.001639   \n",
      "APARTMENTS_AVG                        0.008939          0.007587   \n",
      "BASEMENTAREA_AVG                      0.005040          0.005664   \n",
      "YEARS_BEGINEXPLUATATION_AVG          -0.001854         -0.001738   \n",
      "YEARS_BUILD_AVG                       0.000437          0.001062   \n",
      "COMMONAREA_AVG                        0.007129          0.007908   \n",
      "ELEVATORS_AVG                         0.012572          0.010527   \n",
      "ENTRANCES_AVG                         0.006597          0.004037   \n",
      "FLOORSMAX_AVG                         0.010647          0.012578   \n",
      "FLOORSMIN_AVG                         0.006665          0.003670   \n",
      "LANDAREA_AVG                          0.004831          0.006131   \n",
      "LIVINGAPARTMENTS_AVG                  0.010305          0.005133   \n",
      "LIVINGAREA_AVG                        0.010789          0.007934   \n",
      "NONLIVINGAPARTMENTS_AVG               0.004660          0.001438   \n",
      "NONLIVINGAREA_AVG                     0.008556          0.005392   \n",
      "APARTMENTS_MODE                       0.008610          0.007839   \n",
      "BASEMENTAREA_MODE                     0.004813          0.005326   \n",
      "YEARS_BEGINEXPLUATATION_MODE         -0.002058         -0.001897   \n",
      "YEARS_BUILD_MODE                     -0.000305         -0.000058   \n",
      "COMMONAREA_MODE                       0.006910          0.007726   \n",
      "ELEVATORS_MODE                        0.012122          0.010413   \n",
      "ENTRANCES_MODE                        0.005936          0.003491   \n",
      "FLOORSMAX_MODE                        0.009908          0.012201   \n",
      "FLOORSMIN_MODE                        0.006425          0.003711   \n",
      "LANDAREA_MODE                         0.004950          0.006497   \n",
      "LIVINGAPARTMENTS_MODE                 0.010046          0.005298   \n",
      "LIVINGAREA_MODE                       0.010158          0.007963   \n",
      "NONLIVINGAPARTMENTS_MODE              0.004916          0.001669   \n",
      "NONLIVINGAREA_MODE                    0.008159          0.005450   \n",
      "APARTMENTS_MEDI                       0.008726          0.007841   \n",
      "BASEMENTAREA_MEDI                     0.004928          0.005553   \n",
      "YEARS_BEGINEXPLUATATION_MEDI         -0.002357         -0.001720   \n",
      "YEARS_BUILD_MEDI                      0.000479          0.001058   \n",
      "COMMONAREA_MEDI                       0.007165          0.007808   \n",
      "ELEVATORS_MEDI                        0.012255          0.010178   \n",
      "ENTRANCES_MEDI                        0.006482          0.004028   \n",
      "FLOORSMAX_MEDI                        0.010030          0.012361   \n",
      "FLOORSMIN_MEDI                        0.006393          0.003671   \n",
      "LANDAREA_MEDI                         0.004903          0.006217   \n",
      "LIVINGAPARTMENTS_MEDI                 0.010081          0.005238   \n",
      "LIVINGAREA_MEDI                       0.010569          0.008155   \n",
      "NONLIVINGAPARTMENTS_MEDI              0.004776          0.001416   \n",
      "NONLIVINGAREA_MEDI                    0.008081          0.004977   \n",
      "TOTALAREA_MODE                        0.011151          0.009589   \n",
      "OBS_30_CNT_SOCIAL_CIRCLE             -0.000988          0.004627   \n",
      "DEF_30_CNT_SOCIAL_CIRCLE             -0.003183         -0.004516   \n",
      "OBS_60_CNT_SOCIAL_CIRCLE             -0.000985          0.004427   \n",
      "DEF_60_CNT_SOCIAL_CIRCLE             -0.004162         -0.005843   \n",
      "DAYS_LAST_PHONE_CHANGE                0.012595          0.041698   \n",
      "FLAG_DOCUMENT_2                      -0.000226         -0.000651   \n",
      "FLAG_DOCUMENT_3                       0.000592          0.033418   \n",
      "FLAG_DOCUMENT_4                      -0.000314         -0.000903   \n",
      "FLAG_DOCUMENT_5                      -0.004311         -0.012137   \n",
      "FLAG_DOCUMENT_6                      -0.009824         -0.026603   \n",
      "FLAG_DOCUMENT_7                      -0.000482         -0.001387   \n",
      "FLAG_DOCUMENT_8                       0.023517          0.012783   \n",
      "FLAG_DOCUMENT_9                       0.002329          0.008480   \n",
      "FLAG_DOCUMENT_10                     -0.000166         -0.000478   \n",
      "FLAG_DOCUMENT_11                     -0.002181         -0.006276   \n",
      "FLAG_DOCUMENT_12                     -0.000089         -0.000255   \n",
      "FLAG_DOCUMENT_13                     -0.002070         -0.005956   \n",
      "FLAG_DOCUMENT_14                     -0.001889         -0.005434   \n",
      "FLAG_DOCUMENT_15                      1.000000         -0.003485   \n",
      "FLAG_DOCUMENT_16                     -0.003485          1.000000   \n",
      "FLAG_DOCUMENT_17                     -0.000568         -0.001635   \n",
      "FLAG_DOCUMENT_18                     -0.003151         -0.009066   \n",
      "FLAG_DOCUMENT_19                     -0.000849         -0.002444   \n",
      "FLAG_DOCUMENT_20                      0.028299          0.082229   \n",
      "FLAG_DOCUMENT_21                     -0.000637          0.003544   \n",
      "AMT_REQ_CREDIT_BUREAU_HOUR           -0.000072         -0.001643   \n",
      "AMT_REQ_CREDIT_BUREAU_DAY             0.003403          0.006530   \n",
      "AMT_REQ_CREDIT_BUREAU_WEEK            0.001934         -0.008210   \n",
      "AMT_REQ_CREDIT_BUREAU_MON             0.003271          0.003976   \n",
      "AMT_REQ_CREDIT_BUREAU_QRT            -0.000430          0.002995   \n",
      "AMT_REQ_CREDIT_BUREAU_YEAR           -0.016670         -0.042964   \n",
      "\n",
      "                              FLAG_DOCUMENT_17  FLAG_DOCUMENT_18  \\\n",
      "SK_ID_CURR                            0.001450          0.000509   \n",
      "TARGET                               -0.003378         -0.007952   \n",
      "CNT_CHILDREN                          0.000773          0.004031   \n",
      "AMT_INCOME_TOTAL                      0.002230          0.003130   \n",
      "AMT_CREDIT                            0.011743          0.034329   \n",
      "AMT_ANNUITY                           0.003191         -0.009744   \n",
      "AMT_GOODS_PRICE                       0.012142          0.032767   \n",
      "REGION_POPULATION_RELATIVE            0.007414          0.013367   \n",
      "DAYS_BIRTH                            0.007877          0.044498   \n",
      "DAYS_EMPLOYED                        -0.007187         -0.040396   \n",
      "DAYS_REGISTRATION                     0.002102          0.017040   \n",
      "DAYS_ID_PUBLISH                       0.004804          0.014084   \n",
      "OWN_CAR_AGE                          -0.000150         -0.006319   \n",
      "FLAG_MOBIL                            0.000029         -0.019919   \n",
      "FLAG_EMP_PHONE                        0.007136          0.040548   \n",
      "FLAG_WORK_PHONE                       0.001322          0.032049   \n",
      "FLAG_CONT_MOBILE                     -0.013136         -0.043068   \n",
      "FLAG_PHONE                            0.004410          0.004055   \n",
      "FLAG_EMAIL                           -0.001422         -0.008110   \n",
      "CNT_FAM_MEMBERS                       0.000761          0.001485   \n",
      "REGION_RATING_CLIENT                 -0.004422         -0.012532   \n",
      "REGION_RATING_CLIENT_W_CITY          -0.004193         -0.013672   \n",
      "HOUR_APPR_PROCESS_START               0.005233          0.021584   \n",
      "REG_REGION_NOT_LIVE_REGION            0.004498          0.008344   \n",
      "REG_REGION_NOT_WORK_REGION            0.001667          0.007436   \n",
      "LIVE_REGION_NOT_WORK_REGION          -0.001345          0.004282   \n",
      "REG_CITY_NOT_LIVE_CITY               -0.001046          0.013432   \n",
      "REG_CITY_NOT_WORK_CITY                0.001467          0.013919   \n",
      "LIVE_CITY_NOT_WORK_CITY               0.001181          0.006332   \n",
      "EXT_SOURCE_1                         -0.001537         -0.018381   \n",
      "EXT_SOURCE_2                          0.002584          0.001849   \n",
      "EXT_SOURCE_3                          0.000928         -0.015288   \n",
      "APARTMENTS_AVG                        0.004944          0.005147   \n",
      "BASEMENTAREA_AVG                      0.003292          0.004139   \n",
      "YEARS_BEGINEXPLUATATION_AVG           0.001024          0.002538   \n",
      "YEARS_BUILD_AVG                       0.000703          0.004127   \n",
      "COMMONAREA_AVG                        0.000253          0.010776   \n",
      "ELEVATORS_AVG                         0.004771          0.008440   \n",
      "ENTRANCES_AVG                         0.006997          0.000385   \n",
      "FLOORSMAX_AVG                         0.002570          0.011298   \n",
      "FLOORSMIN_AVG                        -0.001522          0.007566   \n",
      "LANDAREA_AVG                          0.003114          0.000592   \n",
      "LIVINGAPARTMENTS_AVG                  0.000004          0.005951   \n",
      "LIVINGAREA_AVG                        0.008014          0.006806   \n",
      "NONLIVINGAPARTMENTS_AVG               0.001256          0.001460   \n",
      "NONLIVINGAREA_AVG                     0.007372          0.005066   \n",
      "APARTMENTS_MODE                       0.005491          0.005383   \n",
      "BASEMENTAREA_MODE                     0.003653          0.004141   \n",
      "YEARS_BEGINEXPLUATATION_MODE          0.000998          0.002020   \n",
      "YEARS_BUILD_MODE                      0.000462          0.004100   \n",
      "COMMONAREA_MODE                       0.000444          0.009623   \n",
      "ELEVATORS_MODE                        0.005186          0.008127   \n",
      "ENTRANCES_MODE                        0.006982          0.000080   \n",
      "FLOORSMAX_MODE                        0.002435          0.011228   \n",
      "FLOORSMIN_MODE                       -0.001670          0.007598   \n",
      "LANDAREA_MODE                         0.003316          0.001220   \n",
      "LIVINGAPARTMENTS_MODE                 0.000251          0.005994   \n",
      "LIVINGAREA_MODE                       0.008602          0.006441   \n",
      "NONLIVINGAPARTMENTS_MODE              0.001379          0.001678   \n",
      "NONLIVINGAREA_MODE                    0.007876          0.004483   \n",
      "APARTMENTS_MEDI                       0.005072          0.005234   \n",
      "BASEMENTAREA_MEDI                     0.003321          0.004161   \n",
      "YEARS_BEGINEXPLUATATION_MEDI          0.001012          0.002485   \n",
      "YEARS_BUILD_MEDI                      0.000703          0.004104   \n",
      "COMMONAREA_MEDI                       0.000211          0.010988   \n",
      "ELEVATORS_MEDI                        0.004849          0.008300   \n",
      "ENTRANCES_MEDI                        0.007036          0.000420   \n",
      "FLOORSMAX_MEDI                        0.002594          0.011193   \n",
      "FLOORSMIN_MEDI                       -0.001502          0.007779   \n",
      "LANDAREA_MEDI                         0.003168          0.000508   \n",
      "LIVINGAPARTMENTS_MEDI                 0.000059          0.006107   \n",
      "LIVINGAREA_MEDI                       0.008145          0.006777   \n",
      "NONLIVINGAPARTMENTS_MEDI              0.001316          0.001537   \n",
      "NONLIVINGAREA_MEDI                    0.007604          0.004767   \n",
      "TOTALAREA_MODE                        0.005941          0.006919   \n",
      "OBS_30_CNT_SOCIAL_CIRCLE             -0.001431          0.003491   \n",
      "DEF_30_CNT_SOCIAL_CIRCLE             -0.001215         -0.000922   \n",
      "OBS_60_CNT_SOCIAL_CIRCLE             -0.001328          0.003434   \n",
      "DEF_60_CNT_SOCIAL_CIRCLE             -0.000648         -0.003233   \n",
      "DAYS_LAST_PHONE_CHANGE                0.006235          0.047604   \n",
      "FLAG_DOCUMENT_2                      -0.000106         -0.000589   \n",
      "FLAG_DOCUMENT_3                       0.002536          0.007976   \n",
      "FLAG_DOCUMENT_4                      -0.000147         -0.000816   \n",
      "FLAG_DOCUMENT_5                      -0.002023         -0.010622   \n",
      "FLAG_DOCUMENT_6                      -0.004372         -0.023915   \n",
      "FLAG_DOCUMENT_7                      -0.000226         -0.001254   \n",
      "FLAG_DOCUMENT_8                       0.005338          0.007756   \n",
      "FLAG_DOCUMENT_9                       0.008570          0.001895   \n",
      "FLAG_DOCUMENT_10                     -0.000078         -0.000432   \n",
      "FLAG_DOCUMENT_11                     -0.001024         -0.005674   \n",
      "FLAG_DOCUMENT_12                     -0.000042         -0.000231   \n",
      "FLAG_DOCUMENT_13                     -0.000971         -0.005385   \n",
      "FLAG_DOCUMENT_14                     -0.000886         -0.004913   \n",
      "FLAG_DOCUMENT_15                     -0.000568         -0.003151   \n",
      "FLAG_DOCUMENT_16                     -0.001635         -0.009066   \n",
      "FLAG_DOCUMENT_17                      1.000000         -0.001479   \n",
      "FLAG_DOCUMENT_18                     -0.001479          1.000000   \n",
      "FLAG_DOCUMENT_19                     -0.000399         -0.002209   \n",
      "FLAG_DOCUMENT_20                      0.026167          0.081589   \n",
      "FLAG_DOCUMENT_21                     -0.000299          0.006259   \n",
      "AMT_REQ_CREDIT_BUREAU_HOUR           -0.001159         -0.001785   \n",
      "AMT_REQ_CREDIT_BUREAU_DAY            -0.000960          0.012956   \n",
      "AMT_REQ_CREDIT_BUREAU_WEEK           -0.002545         -0.003666   \n",
      "AMT_REQ_CREDIT_BUREAU_MON             0.000473         -0.000179   \n",
      "AMT_REQ_CREDIT_BUREAU_QRT            -0.001025         -0.003362   \n",
      "AMT_REQ_CREDIT_BUREAU_YEAR           -0.008780         -0.042442   \n",
      "\n",
      "                              FLAG_DOCUMENT_19  FLAG_DOCUMENT_20  \\\n",
      "SK_ID_CURR                            0.000167          0.001073   \n",
      "TARGET                               -0.001358          0.000215   \n",
      "CNT_CHILDREN                          0.000864          0.000988   \n",
      "AMT_INCOME_TOTAL                      0.002408          0.000242   \n",
      "AMT_CREDIT                            0.021082          0.031023   \n",
      "AMT_ANNUITY                           0.004573          0.011718   \n",
      "AMT_GOODS_PRICE                       0.020284          0.031644   \n",
      "REGION_POPULATION_RELATIVE            0.002364         -0.000045   \n",
      "DAYS_BIRTH                            0.003614          0.009015   \n",
      "DAYS_EMPLOYED                        -0.010040         -0.010135   \n",
      "DAYS_REGISTRATION                     0.004764          0.006971   \n",
      "DAYS_ID_PUBLISH                       0.000903          0.000070   \n",
      "OWN_CAR_AGE                          -0.002577         -0.003641   \n",
      "FLAG_MOBIL                            0.000044          0.000041   \n",
      "FLAG_EMP_PHONE                        0.010049          0.010183   \n",
      "FLAG_WORK_PHONE                       0.011854          0.001771   \n",
      "FLAG_CONT_MOBILE                     -0.005123          0.000974   \n",
      "FLAG_PHONE                            0.009660          0.000692   \n",
      "FLAG_EMAIL                           -0.002525         -0.001778   \n",
      "CNT_FAM_MEMBERS                       0.002205          0.000188   \n",
      "REGION_RATING_CLIENT                 -0.001205          0.002217   \n",
      "REGION_RATING_CLIENT_W_CITY          -0.001530          0.002609   \n",
      "HOUR_APPR_PROCESS_START               0.002507          0.003277   \n",
      "REG_REGION_NOT_LIVE_REGION           -0.001934         -0.002794   \n",
      "REG_REGION_NOT_WORK_REGION            0.001038         -0.001263   \n",
      "LIVE_REGION_NOT_WORK_REGION           0.003078         -0.000251   \n",
      "REG_CITY_NOT_LIVE_CITY               -0.005119         -0.001181   \n",
      "REG_CITY_NOT_WORK_CITY               -0.003854          0.000703   \n",
      "LIVE_CITY_NOT_WORK_CITY              -0.002035          0.001877   \n",
      "EXT_SOURCE_1                          0.003443         -0.003937   \n",
      "EXT_SOURCE_2                          0.003242          0.000600   \n",
      "EXT_SOURCE_3                         -0.002507         -0.014049   \n",
      "APARTMENTS_AVG                        0.000712         -0.001168   \n",
      "BASEMENTAREA_AVG                     -0.001321          0.000564   \n",
      "YEARS_BEGINEXPLUATATION_AVG           0.000545          0.000505   \n",
      "YEARS_BUILD_AVG                       0.001114         -0.003774   \n",
      "COMMONAREA_AVG                        0.003639          0.000801   \n",
      "ELEVATORS_AVG                         0.002645         -0.000615   \n",
      "ENTRANCES_AVG                        -0.000315         -0.002313   \n",
      "FLOORSMAX_AVG                         0.001859         -0.000544   \n",
      "FLOORSMIN_AVG                         0.002569         -0.000473   \n",
      "LANDAREA_AVG                          0.000040          0.001881   \n",
      "LIVINGAPARTMENTS_AVG                  0.000960         -0.001102   \n",
      "LIVINGAREA_AVG                        0.001193         -0.001172   \n",
      "NONLIVINGAPARTMENTS_AVG              -0.001176         -0.000101   \n",
      "NONLIVINGAREA_AVG                     0.001834          0.000335   \n",
      "APARTMENTS_MODE                       0.001008         -0.001138   \n",
      "BASEMENTAREA_MODE                    -0.001356          0.000584   \n",
      "YEARS_BEGINEXPLUATATION_MODE          0.001243          0.000510   \n",
      "YEARS_BUILD_MODE                      0.000510         -0.004096   \n",
      "COMMONAREA_MODE                       0.003848          0.001028   \n",
      "ELEVATORS_MODE                        0.002910         -0.000639   \n",
      "ENTRANCES_MODE                       -0.000073         -0.002119   \n",
      "FLOORSMAX_MODE                        0.001801         -0.000379   \n",
      "FLOORSMIN_MODE                        0.002731          0.000147   \n",
      "LANDAREA_MODE                         0.000052          0.002634   \n",
      "LIVINGAPARTMENTS_MODE                 0.000480         -0.001151   \n",
      "LIVINGAREA_MODE                       0.000853         -0.000914   \n",
      "NONLIVINGAPARTMENTS_MODE             -0.001145         -0.000129   \n",
      "NONLIVINGAREA_MODE                    0.002156          0.000724   \n",
      "APARTMENTS_MEDI                       0.000769         -0.001175   \n",
      "BASEMENTAREA_MEDI                    -0.001307          0.000434   \n",
      "YEARS_BEGINEXPLUATATION_MEDI          0.001292          0.000505   \n",
      "YEARS_BUILD_MEDI                      0.000950         -0.003656   \n",
      "COMMONAREA_MEDI                       0.003654          0.000799   \n",
      "ELEVATORS_MEDI                        0.002654         -0.000881   \n",
      "ENTRANCES_MEDI                       -0.000242         -0.002586   \n",
      "FLOORSMAX_MEDI                        0.001834         -0.000528   \n",
      "FLOORSMIN_MEDI                        0.002620         -0.000133   \n",
      "LANDAREA_MEDI                        -0.000034          0.002187   \n",
      "LIVINGAPARTMENTS_MEDI                 0.000977         -0.001424   \n",
      "LIVINGAREA_MEDI                       0.001429         -0.001449   \n",
      "NONLIVINGAPARTMENTS_MEDI             -0.001233         -0.000057   \n",
      "NONLIVINGAREA_MEDI                    0.001680          0.000531   \n",
      "TOTALAREA_MODE                        0.001018          0.000034   \n",
      "OBS_30_CNT_SOCIAL_CIRCLE              0.000978          0.000474   \n",
      "DEF_30_CNT_SOCIAL_CIRCLE             -0.003336          0.000227   \n",
      "OBS_60_CNT_SOCIAL_CIRCLE              0.001048          0.000395   \n",
      "DEF_60_CNT_SOCIAL_CIRCLE             -0.003040          0.000177   \n",
      "DAYS_LAST_PHONE_CHANGE                0.006852          0.009171   \n",
      "FLAG_DOCUMENT_2                      -0.000159         -0.000146   \n",
      "FLAG_DOCUMENT_3                       0.009423          0.007396   \n",
      "FLAG_DOCUMENT_4                      -0.000220         -0.000203   \n",
      "FLAG_DOCUMENT_5                      -0.003023         -0.002791   \n",
      "FLAG_DOCUMENT_6                      -0.004759         -0.005981   \n",
      "FLAG_DOCUMENT_7                      -0.000338         -0.000312   \n",
      "FLAG_DOCUMENT_8                       0.000053          0.003859   \n",
      "FLAG_DOCUMENT_9                      -0.001526         -0.001409   \n",
      "FLAG_DOCUMENT_10                     -0.000116         -0.000107   \n",
      "FLAG_DOCUMENT_11                     -0.001529         -0.001412   \n",
      "FLAG_DOCUMENT_12                     -0.000062         -0.000057   \n",
      "FLAG_DOCUMENT_13                     -0.001451          0.042520   \n",
      "FLAG_DOCUMENT_14                     -0.001324          0.030805   \n",
      "FLAG_DOCUMENT_15                     -0.000849          0.028299   \n",
      "FLAG_DOCUMENT_16                     -0.002444          0.082229   \n",
      "FLAG_DOCUMENT_17                     -0.000399          0.026167   \n",
      "FLAG_DOCUMENT_18                     -0.002209          0.081589   \n",
      "FLAG_DOCUMENT_19                      1.000000          0.034981   \n",
      "FLAG_DOCUMENT_20                      0.034981          1.000000   \n",
      "FLAG_DOCUMENT_21                     -0.000447          0.007480   \n",
      "AMT_REQ_CREDIT_BUREAU_HOUR            0.003395         -0.001599   \n",
      "AMT_REQ_CREDIT_BUREAU_DAY             0.001154          0.000078   \n",
      "AMT_REQ_CREDIT_BUREAU_WEEK           -0.001006         -0.001239   \n",
      "AMT_REQ_CREDIT_BUREAU_MON            -0.002230          0.002177   \n",
      "AMT_REQ_CREDIT_BUREAU_QRT            -0.001079          0.000034   \n",
      "AMT_REQ_CREDIT_BUREAU_YEAR           -0.006001         -0.010424   \n",
      "\n",
      "                              FLAG_DOCUMENT_21  AMT_REQ_CREDIT_BUREAU_HOUR  \\\n",
      "SK_ID_CURR                            0.000282                   -0.002517   \n",
      "TARGET                                0.003709                   -0.000074   \n",
      "CNT_CHILDREN                         -0.002450                    0.000159   \n",
      "AMT_INCOME_TOTAL                     -0.000589                    0.001432   \n",
      "AMT_CREDIT                           -0.016148                   -0.002366   \n",
      "AMT_ANNUITY                          -0.017598                    0.003888   \n",
      "AMT_GOODS_PRICE                      -0.014426                   -0.001743   \n",
      "REGION_POPULATION_RELATIVE            0.003437                   -0.002216   \n",
      "DAYS_BIRTH                            0.027282                    0.003581   \n",
      "DAYS_EMPLOYED                        -0.008396                   -0.004553   \n",
      "DAYS_REGISTRATION                     0.003859                   -0.002685   \n",
      "DAYS_ID_PUBLISH                       0.017246                    0.001819   \n",
      "OWN_CAR_AGE                           0.002242                    0.000311   \n",
      "FLAG_MOBIL                            0.000033                    0.000128   \n",
      "FLAG_EMP_PHONE                        0.008579                    0.004418   \n",
      "FLAG_WORK_PHONE                       0.001541                   -0.005271   \n",
      "FLAG_CONT_MOBILE                     -0.015677                   -0.004656   \n",
      "FLAG_PHONE                            0.000020                   -0.002379   \n",
      "FLAG_EMAIL                           -0.000647                    0.003497   \n",
      "CNT_FAM_MEMBERS                      -0.005801                    0.001465   \n",
      "REGION_RATING_CLIENT                 -0.001887                    0.005950   \n",
      "REGION_RATING_CLIENT_W_CITY          -0.001501                    0.005913   \n",
      "HOUR_APPR_PROCESS_START               0.003998                   -0.014346   \n",
      "REG_REGION_NOT_LIVE_REGION            0.005006                   -0.002318   \n",
      "REG_REGION_NOT_WORK_REGION           -0.000995                   -0.001986   \n",
      "LIVE_REGION_NOT_WORK_REGION          -0.001969                   -0.001106   \n",
      "REG_CITY_NOT_LIVE_CITY                0.002614                   -0.000330   \n",
      "REG_CITY_NOT_WORK_CITY                0.003487                   -0.000343   \n",
      "LIVE_CITY_NOT_WORK_CITY               0.004401                   -0.001280   \n",
      "EXT_SOURCE_1                         -0.012984                   -0.001461   \n",
      "EXT_SOURCE_2                         -0.007246                   -0.002562   \n",
      "EXT_SOURCE_3                         -0.011426                   -0.002386   \n",
      "APARTMENTS_AVG                       -0.002658                    0.002590   \n",
      "BASEMENTAREA_AVG                     -0.002375                    0.000094   \n",
      "YEARS_BEGINEXPLUATATION_AVG          -0.000074                    0.000229   \n",
      "YEARS_BUILD_AVG                      -0.005698                    0.001153   \n",
      "COMMONAREA_AVG                       -0.002239                    0.004423   \n",
      "ELEVATORS_AVG                        -0.002631                    0.002911   \n",
      "ENTRANCES_AVG                        -0.000248                   -0.001871   \n",
      "FLOORSMAX_AVG                        -0.003757                    0.003795   \n",
      "FLOORSMIN_AVG                        -0.002323                    0.002462   \n",
      "LANDAREA_AVG                         -0.002313                   -0.000122   \n",
      "LIVINGAPARTMENTS_AVG                 -0.002549                    0.002348   \n",
      "LIVINGAREA_AVG                       -0.002573                    0.003879   \n",
      "NONLIVINGAPARTMENTS_AVG               0.000074                    0.000490   \n",
      "NONLIVINGAREA_AVG                     0.000318                    0.003663   \n",
      "APARTMENTS_MODE                      -0.002684                    0.002716   \n",
      "BASEMENTAREA_MODE                    -0.002288                    0.000534   \n",
      "YEARS_BEGINEXPLUATATION_MODE          0.000011                    0.000070   \n",
      "YEARS_BUILD_MODE                     -0.006004                    0.000788   \n",
      "COMMONAREA_MODE                      -0.002215                    0.004270   \n",
      "ELEVATORS_MODE                       -0.002561                    0.002735   \n",
      "ENTRANCES_MODE                       -0.000583                   -0.001778   \n",
      "FLOORSMAX_MODE                       -0.003794                    0.003972   \n",
      "FLOORSMIN_MODE                       -0.002877                    0.002284   \n",
      "LANDAREA_MODE                        -0.002330                    0.000105   \n",
      "LIVINGAPARTMENTS_MODE                -0.002874                    0.002771   \n",
      "LIVINGAREA_MODE                      -0.002823                    0.003193   \n",
      "NONLIVINGAPARTMENTS_MODE             -0.000117                   -0.000025   \n",
      "NONLIVINGAREA_MODE                    0.000156                    0.003255   \n",
      "APARTMENTS_MEDI                      -0.002669                    0.002733   \n",
      "BASEMENTAREA_MEDI                    -0.002362                    0.000230   \n",
      "YEARS_BEGINEXPLUATATION_MEDI         -0.000057                    0.000253   \n",
      "YEARS_BUILD_MEDI                     -0.005662                    0.001041   \n",
      "COMMONAREA_MEDI                      -0.002213                    0.004511   \n",
      "ELEVATORS_MEDI                       -0.002628                    0.002739   \n",
      "ENTRANCES_MEDI                       -0.000323                   -0.001970   \n",
      "FLOORSMAX_MEDI                       -0.003775                    0.003919   \n",
      "FLOORSMIN_MEDI                       -0.002644                    0.002487   \n",
      "LANDAREA_MEDI                        -0.002196                   -0.000255   \n",
      "LIVINGAPARTMENTS_MEDI                -0.002529                    0.002304   \n",
      "LIVINGAREA_MEDI                      -0.002539                    0.003023   \n",
      "NONLIVINGAPARTMENTS_MEDI              0.000022                    0.000556   \n",
      "NONLIVINGAREA_MEDI                    0.000354                    0.003374   \n",
      "TOTALAREA_MODE                       -0.002607                    0.004814   \n",
      "OBS_30_CNT_SOCIAL_CIRCLE             -0.000667                    0.000660   \n",
      "DEF_30_CNT_SOCIAL_CIRCLE             -0.000687                   -0.000228   \n",
      "OBS_60_CNT_SOCIAL_CIRCLE             -0.000618                    0.000592   \n",
      "DEF_60_CNT_SOCIAL_CIRCLE              0.000358                   -0.001477   \n",
      "DAYS_LAST_PHONE_CHANGE                0.009826                   -0.002798   \n",
      "FLAG_DOCUMENT_2                      -0.000119                   -0.000462   \n",
      "FLAG_DOCUMENT_3                      -0.025510                   -0.000383   \n",
      "FLAG_DOCUMENT_4                      -0.000165                   -0.000640   \n",
      "FLAG_DOCUMENT_5                       0.000645                   -0.000936   \n",
      "FLAG_DOCUMENT_6                      -0.005688                   -0.001465   \n",
      "FLAG_DOCUMENT_7                      -0.000254                   -0.000983   \n",
      "FLAG_DOCUMENT_8                      -0.001548                    0.004790   \n",
      "FLAG_DOCUMENT_9                      -0.001145                   -0.002432   \n",
      "FLAG_DOCUMENT_10                     -0.000087                   -0.000339   \n",
      "FLAG_DOCUMENT_11                     -0.001147                   -0.003113   \n",
      "FLAG_DOCUMENT_12                     -0.000047                    0.016164   \n",
      "FLAG_DOCUMENT_13                      0.004908                   -0.001409   \n",
      "FLAG_DOCUMENT_14                      0.002291                    0.001540   \n",
      "FLAG_DOCUMENT_15                     -0.000637                   -0.000072   \n",
      "FLAG_DOCUMENT_16                      0.003544                   -0.001643   \n",
      "FLAG_DOCUMENT_17                     -0.000299                   -0.001159   \n",
      "FLAG_DOCUMENT_18                      0.006259                   -0.001785   \n",
      "FLAG_DOCUMENT_19                     -0.000447                    0.003395   \n",
      "FLAG_DOCUMENT_20                      0.007480                   -0.001599   \n",
      "FLAG_DOCUMENT_21                      1.000000                   -0.001299   \n",
      "AMT_REQ_CREDIT_BUREAU_HOUR           -0.001299                    1.000000   \n",
      "AMT_REQ_CREDIT_BUREAU_DAY            -0.001076                    0.230873   \n",
      "AMT_REQ_CREDIT_BUREAU_WEEK           -0.000057                    0.006422   \n",
      "AMT_REQ_CREDIT_BUREAU_MON            -0.003489                    0.002973   \n",
      "AMT_REQ_CREDIT_BUREAU_QRT            -0.002066                    0.000725   \n",
      "AMT_REQ_CREDIT_BUREAU_YEAR           -0.005253                    0.000361   \n",
      "\n",
      "                              AMT_REQ_CREDIT_BUREAU_DAY  \\\n",
      "SK_ID_CURR                                    -0.002066   \n",
      "TARGET                                         0.001701   \n",
      "CNT_CHILDREN                                   0.000107   \n",
      "AMT_INCOME_TOTAL                               0.003481   \n",
      "AMT_CREDIT                                     0.005028   \n",
      "AMT_ANNUITY                                    0.002286   \n",
      "AMT_GOODS_PRICE                                0.005442   \n",
      "REGION_POPULATION_RELATIVE                     0.001160   \n",
      "DAYS_BIRTH                                     0.001018   \n",
      "DAYS_EMPLOYED                                  0.000309   \n",
      "DAYS_REGISTRATION                             -0.000498   \n",
      "DAYS_ID_PUBLISH                               -0.003029   \n",
      "OWN_CAR_AGE                                   -0.004952   \n",
      "FLAG_MOBIL                                     0.000106   \n",
      "FLAG_EMP_PHONE                                -0.000298   \n",
      "FLAG_WORK_PHONE                               -0.004362   \n",
      "FLAG_CONT_MOBILE                              -0.002577   \n",
      "FLAG_PHONE                                    -0.000235   \n",
      "FLAG_EMAIL                                     0.003873   \n",
      "CNT_FAM_MEMBERS                               -0.000425   \n",
      "REGION_RATING_CLIENT                          -0.001965   \n",
      "REGION_RATING_CLIENT_W_CITY                   -0.001676   \n",
      "HOUR_APPR_PROCESS_START                        0.002502   \n",
      "REG_REGION_NOT_LIVE_REGION                    -0.001602   \n",
      "REG_REGION_NOT_WORK_REGION                    -0.001945   \n",
      "LIVE_REGION_NOT_WORK_REGION                   -0.001072   \n",
      "REG_CITY_NOT_LIVE_CITY                        -0.002652   \n",
      "REG_CITY_NOT_WORK_CITY                        -0.002481   \n",
      "LIVE_CITY_NOT_WORK_CITY                       -0.002165   \n",
      "EXT_SOURCE_1                                  -0.002380   \n",
      "EXT_SOURCE_2                                   0.001563   \n",
      "EXT_SOURCE_3                                  -0.007818   \n",
      "APARTMENTS_AVG                                 0.005120   \n",
      "BASEMENTAREA_AVG                               0.004226   \n",
      "YEARS_BEGINEXPLUATATION_AVG                   -0.001644   \n",
      "YEARS_BUILD_AVG                                0.001584   \n",
      "COMMONAREA_AVG                                 0.004336   \n",
      "ELEVATORS_AVG                                  0.006005   \n",
      "ENTRANCES_AVG                                  0.005497   \n",
      "FLOORSMAX_AVG                                  0.004203   \n",
      "FLOORSMIN_AVG                                  0.003094   \n",
      "LANDAREA_AVG                                   0.005231   \n",
      "LIVINGAPARTMENTS_AVG                           0.005259   \n",
      "LIVINGAREA_AVG                                 0.008852   \n",
      "NONLIVINGAPARTMENTS_AVG                        0.000614   \n",
      "NONLIVINGAREA_AVG                              0.003691   \n",
      "APARTMENTS_MODE                                0.004745   \n",
      "BASEMENTAREA_MODE                              0.004027   \n",
      "YEARS_BEGINEXPLUATATION_MODE                  -0.001927   \n",
      "YEARS_BUILD_MODE                               0.000819   \n",
      "COMMONAREA_MODE                                0.004539   \n",
      "ELEVATORS_MODE                                 0.005784   \n",
      "ENTRANCES_MODE                                 0.004449   \n",
      "FLOORSMAX_MODE                                 0.003821   \n",
      "FLOORSMIN_MODE                                 0.002915   \n",
      "LANDAREA_MODE                                  0.004892   \n",
      "LIVINGAPARTMENTS_MODE                          0.005594   \n",
      "LIVINGAREA_MODE                                0.006323   \n",
      "NONLIVINGAPARTMENTS_MODE                       0.000748   \n",
      "NONLIVINGAREA_MODE                             0.002491   \n",
      "APARTMENTS_MEDI                                0.004968   \n",
      "BASEMENTAREA_MEDI                              0.004308   \n",
      "YEARS_BEGINEXPLUATATION_MEDI                  -0.001604   \n",
      "YEARS_BUILD_MEDI                               0.001869   \n",
      "COMMONAREA_MEDI                                0.004434   \n",
      "ELEVATORS_MEDI                                 0.005850   \n",
      "ENTRANCES_MEDI                                 0.005238   \n",
      "FLOORSMAX_MEDI                                 0.004054   \n",
      "FLOORSMIN_MEDI                                 0.003127   \n",
      "LANDAREA_MEDI                                  0.004595   \n",
      "LIVINGAPARTMENTS_MEDI                          0.005331   \n",
      "LIVINGAREA_MEDI                                0.006691   \n",
      "NONLIVINGAPARTMENTS_MEDI                       0.000620   \n",
      "NONLIVINGAREA_MEDI                             0.002781   \n",
      "TOTALAREA_MODE                                 0.009467   \n",
      "OBS_30_CNT_SOCIAL_CIRCLE                      -0.001953   \n",
      "DEF_30_CNT_SOCIAL_CIRCLE                      -0.001144   \n",
      "OBS_60_CNT_SOCIAL_CIRCLE                      -0.002044   \n",
      "DEF_60_CNT_SOCIAL_CIRCLE                      -0.001716   \n",
      "DAYS_LAST_PHONE_CHANGE                         0.000538   \n",
      "FLAG_DOCUMENT_2                               -0.000382   \n",
      "FLAG_DOCUMENT_3                                0.001178   \n",
      "FLAG_DOCUMENT_4                               -0.000530   \n",
      "FLAG_DOCUMENT_5                               -0.000555   \n",
      "FLAG_DOCUMENT_6                                0.003346   \n",
      "FLAG_DOCUMENT_7                               -0.000814   \n",
      "FLAG_DOCUMENT_8                                0.000979   \n",
      "FLAG_DOCUMENT_9                               -0.000129   \n",
      "FLAG_DOCUMENT_10                              -0.000280   \n",
      "FLAG_DOCUMENT_11                               0.002890   \n",
      "FLAG_DOCUMENT_12                               0.012226   \n",
      "FLAG_DOCUMENT_13                               0.007155   \n",
      "FLAG_DOCUMENT_14                               0.013142   \n",
      "FLAG_DOCUMENT_15                               0.003403   \n",
      "FLAG_DOCUMENT_16                               0.006530   \n",
      "FLAG_DOCUMENT_17                              -0.000960   \n",
      "FLAG_DOCUMENT_18                               0.012956   \n",
      "FLAG_DOCUMENT_19                               0.001154   \n",
      "FLAG_DOCUMENT_20                               0.000078   \n",
      "FLAG_DOCUMENT_21                              -0.001076   \n",
      "AMT_REQ_CREDIT_BUREAU_HOUR                     0.230873   \n",
      "AMT_REQ_CREDIT_BUREAU_DAY                      1.000000   \n",
      "AMT_REQ_CREDIT_BUREAU_WEEK                     0.218370   \n",
      "AMT_REQ_CREDIT_BUREAU_MON                     -0.002750   \n",
      "AMT_REQ_CREDIT_BUREAU_QRT                     -0.001551   \n",
      "AMT_REQ_CREDIT_BUREAU_YEAR                     0.000742   \n",
      "\n",
      "                              AMT_REQ_CREDIT_BUREAU_WEEK  \\\n",
      "SK_ID_CURR                                      0.001879   \n",
      "TARGET                                         -0.001306   \n",
      "CNT_CHILDREN                                   -0.001083   \n",
      "AMT_INCOME_TOTAL                                0.003950   \n",
      "AMT_CREDIT                                      0.001634   \n",
      "AMT_ANNUITY                                     0.013494   \n",
      "AMT_GOODS_PRICE                                 0.001880   \n",
      "REGION_POPULATION_RELATIVE                     -0.002335   \n",
      "DAYS_BIRTH                                     -0.004014   \n",
      "DAYS_EMPLOYED                                   0.002505   \n",
      "DAYS_REGISTRATION                              -0.001060   \n",
      "DAYS_ID_PUBLISH                                -0.006747   \n",
      "OWN_CAR_AGE                                     0.000802   \n",
      "FLAG_MOBIL                                      0.000281   \n",
      "FLAG_EMP_PHONE                                 -0.002520   \n",
      "FLAG_WORK_PHONE                                -0.004747   \n",
      "FLAG_CONT_MOBILE                               -0.008666   \n",
      "FLAG_PHONE                                      0.001254   \n",
      "FLAG_EMAIL                                      0.020903   \n",
      "CNT_FAM_MEMBERS                                 0.000780   \n",
      "REGION_RATING_CLIENT                            0.001825   \n",
      "REGION_RATING_CLIENT_W_CITY                     0.001353   \n",
      "HOUR_APPR_PROCESS_START                        -0.001711   \n",
      "REG_REGION_NOT_LIVE_REGION                      0.000081   \n",
      "REG_REGION_NOT_WORK_REGION                     -0.001478   \n",
      "LIVE_REGION_NOT_WORK_REGION                    -0.001780   \n",
      "REG_CITY_NOT_LIVE_CITY                         -0.003207   \n",
      "REG_CITY_NOT_WORK_CITY                         -0.004265   \n",
      "LIVE_CITY_NOT_WORK_CITY                        -0.004004   \n",
      "EXT_SOURCE_1                                    0.001216   \n",
      "EXT_SOURCE_2                                    0.004074   \n",
      "EXT_SOURCE_3                                   -0.023085   \n",
      "APARTMENTS_AVG                                  0.001093   \n",
      "BASEMENTAREA_AVG                                0.000428   \n",
      "YEARS_BEGINEXPLUATATION_AVG                     0.002326   \n",
      "YEARS_BUILD_AVG                                -0.001855   \n",
      "COMMONAREA_AVG                                 -0.003516   \n",
      "ELEVATORS_AVG                                   0.001668   \n",
      "ENTRANCES_AVG                                   0.001942   \n",
      "FLOORSMAX_AVG                                   0.001425   \n",
      "FLOORSMIN_AVG                                  -0.000045   \n",
      "LANDAREA_AVG                                    0.006534   \n",
      "LIVINGAPARTMENTS_AVG                           -0.001168   \n",
      "LIVINGAREA_AVG                                  0.000261   \n",
      "NONLIVINGAPARTMENTS_AVG                        -0.000795   \n",
      "NONLIVINGAREA_AVG                              -0.002435   \n",
      "APARTMENTS_MODE                                 0.001345   \n",
      "BASEMENTAREA_MODE                               0.000382   \n",
      "YEARS_BEGINEXPLUATATION_MODE                    0.001809   \n",
      "YEARS_BUILD_MODE                               -0.002007   \n",
      "COMMONAREA_MODE                                -0.002928   \n",
      "ELEVATORS_MODE                                  0.001760   \n",
      "ENTRANCES_MODE                                  0.001897   \n",
      "FLOORSMAX_MODE                                  0.001622   \n",
      "FLOORSMIN_MODE                                  0.000228   \n",
      "LANDAREA_MODE                                   0.005640   \n",
      "LIVINGAPARTMENTS_MODE                          -0.000763   \n",
      "LIVINGAREA_MODE                                 0.000809   \n",
      "NONLIVINGAPARTMENTS_MODE                       -0.000795   \n",
      "NONLIVINGAREA_MODE                             -0.001804   \n",
      "APARTMENTS_MEDI                                 0.001097   \n",
      "BASEMENTAREA_MEDI                               0.000269   \n",
      "YEARS_BEGINEXPLUATATION_MEDI                    0.001853   \n",
      "YEARS_BUILD_MEDI                               -0.001803   \n",
      "COMMONAREA_MEDI                                -0.003658   \n",
      "ELEVATORS_MEDI                                  0.001555   \n",
      "ENTRANCES_MEDI                                  0.001713   \n",
      "FLOORSMAX_MEDI                                  0.001507   \n",
      "FLOORSMIN_MEDI                                  0.000192   \n",
      "LANDAREA_MEDI                                   0.005469   \n",
      "LIVINGAPARTMENTS_MEDI                          -0.001209   \n",
      "LIVINGAREA_MEDI                                 0.000385   \n",
      "NONLIVINGAPARTMENTS_MEDI                       -0.000884   \n",
      "NONLIVINGAREA_MEDI                             -0.002537   \n",
      "TOTALAREA_MODE                                  0.000683   \n",
      "OBS_30_CNT_SOCIAL_CIRCLE                        0.000852   \n",
      "DEF_30_CNT_SOCIAL_CIRCLE                       -0.001969   \n",
      "OBS_60_CNT_SOCIAL_CIRCLE                        0.000963   \n",
      "DEF_60_CNT_SOCIAL_CIRCLE                       -0.002470   \n",
      "DAYS_LAST_PHONE_CHANGE                         -0.007646   \n",
      "FLAG_DOCUMENT_2                                -0.001013   \n",
      "FLAG_DOCUMENT_3                                 0.008281   \n",
      "FLAG_DOCUMENT_4                                -0.001405   \n",
      "FLAG_DOCUMENT_5                                 0.001796   \n",
      "FLAG_DOCUMENT_6                                 0.002598   \n",
      "FLAG_DOCUMENT_7                                -0.000928   \n",
      "FLAG_DOCUMENT_8                                 0.000887   \n",
      "FLAG_DOCUMENT_9                                -0.000166   \n",
      "FLAG_DOCUMENT_10                               -0.000744   \n",
      "FLAG_DOCUMENT_11                               -0.001572   \n",
      "FLAG_DOCUMENT_12                               -0.000397   \n",
      "FLAG_DOCUMENT_13                               -0.002940   \n",
      "FLAG_DOCUMENT_14                                0.000051   \n",
      "FLAG_DOCUMENT_15                                0.001934   \n",
      "FLAG_DOCUMENT_16                               -0.008210   \n",
      "FLAG_DOCUMENT_17                               -0.002545   \n",
      "FLAG_DOCUMENT_18                               -0.003666   \n",
      "FLAG_DOCUMENT_19                               -0.001006   \n",
      "FLAG_DOCUMENT_20                               -0.001239   \n",
      "FLAG_DOCUMENT_21                               -0.000057   \n",
      "AMT_REQ_CREDIT_BUREAU_HOUR                      0.006422   \n",
      "AMT_REQ_CREDIT_BUREAU_DAY                       0.218370   \n",
      "AMT_REQ_CREDIT_BUREAU_WEEK                      1.000000   \n",
      "AMT_REQ_CREDIT_BUREAU_MON                      -0.007423   \n",
      "AMT_REQ_CREDIT_BUREAU_QRT                      -0.007466   \n",
      "AMT_REQ_CREDIT_BUREAU_YEAR                      0.029318   \n",
      "\n",
      "                              AMT_REQ_CREDIT_BUREAU_MON  \\\n",
      "SK_ID_CURR                                     0.000328   \n",
      "TARGET                                        -0.014794   \n",
      "CNT_CHILDREN                                  -0.007983   \n",
      "AMT_INCOME_TOTAL                               0.026746   \n",
      "AMT_CREDIT                                     0.055536   \n",
      "AMT_ANNUITY                                    0.037171   \n",
      "AMT_GOODS_PRICE                                0.057337   \n",
      "REGION_POPULATION_RELATIVE                     0.071630   \n",
      "DAYS_BIRTH                                    -0.003580   \n",
      "DAYS_EMPLOYED                                 -0.032416   \n",
      "DAYS_REGISTRATION                             -0.010617   \n",
      "DAYS_ID_PUBLISH                               -0.018524   \n",
      "OWN_CAR_AGE                                   -0.008882   \n",
      "FLAG_MOBIL                                     0.000487   \n",
      "FLAG_EMP_PHONE                                 0.031974   \n",
      "FLAG_WORK_PHONE                               -0.002851   \n",
      "FLAG_CONT_MOBILE                               0.004815   \n",
      "FLAG_PHONE                                     0.032212   \n",
      "FLAG_EMAIL                                     0.025151   \n",
      "CNT_FAM_MEMBERS                               -0.004181   \n",
      "REGION_RATING_CLIENT                          -0.063514   \n",
      "REGION_RATING_CLIENT_W_CITY                   -0.061618   \n",
      "HOUR_APPR_PROCESS_START                        0.036528   \n",
      "REG_REGION_NOT_LIVE_REGION                    -0.001496   \n",
      "REG_REGION_NOT_WORK_REGION                     0.006208   \n",
      "LIVE_REGION_NOT_WORK_REGION                    0.008708   \n",
      "REG_CITY_NOT_LIVE_CITY                        -0.013036   \n",
      "REG_CITY_NOT_WORK_CITY                        -0.014177   \n",
      "LIVE_CITY_NOT_WORK_CITY                       -0.008601   \n",
      "EXT_SOURCE_1                                   0.023171   \n",
      "EXT_SOURCE_2                                   0.052275   \n",
      "EXT_SOURCE_3                                  -0.013507   \n",
      "APARTMENTS_AVG                                 0.036030   \n",
      "BASEMENTAREA_AVG                               0.019573   \n",
      "YEARS_BEGINEXPLUATATION_AVG                   -0.002438   \n",
      "YEARS_BUILD_AVG                               -0.001051   \n",
      "COMMONAREA_AVG                                 0.019669   \n",
      "ELEVATORS_AVG                                  0.050157   \n",
      "ENTRANCES_AVG                                  0.014409   \n",
      "FLOORSMAX_AVG                                  0.048362   \n",
      "FLOORSMIN_AVG                                  0.025247   \n",
      "LANDAREA_AVG                                   0.016647   \n",
      "LIVINGAPARTMENTS_AVG                           0.024922   \n",
      "LIVINGAREA_AVG                                 0.037284   \n",
      "NONLIVINGAPARTMENTS_AVG                        0.005033   \n",
      "NONLIVINGAREA_AVG                              0.022959   \n",
      "APARTMENTS_MODE                                0.034278   \n",
      "BASEMENTAREA_MODE                              0.018658   \n",
      "YEARS_BEGINEXPLUATATION_MODE                  -0.002593   \n",
      "YEARS_BUILD_MODE                              -0.001760   \n",
      "COMMONAREA_MODE                                0.018530   \n",
      "ELEVATORS_MODE                                 0.047976   \n",
      "ENTRANCES_MODE                                 0.011452   \n",
      "FLOORSMAX_MODE                                 0.045871   \n",
      "FLOORSMIN_MODE                                 0.022739   \n",
      "LANDAREA_MODE                                  0.015862   \n",
      "LIVINGAPARTMENTS_MODE                          0.024266   \n",
      "LIVINGAREA_MODE                                0.034929   \n",
      "NONLIVINGAPARTMENTS_MODE                       0.003823   \n",
      "NONLIVINGAREA_MODE                             0.020931   \n",
      "APARTMENTS_MEDI                                0.036230   \n",
      "BASEMENTAREA_MEDI                              0.019713   \n",
      "YEARS_BEGINEXPLUATATION_MEDI                  -0.002152   \n",
      "YEARS_BUILD_MEDI                              -0.001096   \n",
      "COMMONAREA_MEDI                                0.019624   \n",
      "ELEVATORS_MEDI                                 0.049835   \n",
      "ENTRANCES_MEDI                                 0.014377   \n",
      "FLOORSMAX_MEDI                                 0.047722   \n",
      "FLOORSMIN_MEDI                                 0.024776   \n",
      "LANDAREA_MEDI                                  0.016439   \n",
      "LIVINGAPARTMENTS_MEDI                          0.025013   \n",
      "LIVINGAREA_MEDI                                0.037194   \n",
      "NONLIVINGAPARTMENTS_MEDI                       0.004901   \n",
      "NONLIVINGAREA_MEDI                             0.022368   \n",
      "TOTALAREA_MODE                                 0.037479   \n",
      "OBS_30_CNT_SOCIAL_CIRCLE                       0.002582   \n",
      "DEF_30_CNT_SOCIAL_CIRCLE                       0.000256   \n",
      "OBS_60_CNT_SOCIAL_CIRCLE                       0.002659   \n",
      "DEF_60_CNT_SOCIAL_CIRCLE                      -0.001661   \n",
      "DAYS_LAST_PHONE_CHANGE                        -0.046005   \n",
      "FLAG_DOCUMENT_2                               -0.001755   \n",
      "FLAG_DOCUMENT_3                                0.010787   \n",
      "FLAG_DOCUMENT_4                                0.005143   \n",
      "FLAG_DOCUMENT_5                                0.006282   \n",
      "FLAG_DOCUMENT_6                               -0.021777   \n",
      "FLAG_DOCUMENT_7                               -0.002917   \n",
      "FLAG_DOCUMENT_8                                0.018353   \n",
      "FLAG_DOCUMENT_9                                0.004138   \n",
      "FLAG_DOCUMENT_10                               0.001099   \n",
      "FLAG_DOCUMENT_11                              -0.003967   \n",
      "FLAG_DOCUMENT_12                               0.002288   \n",
      "FLAG_DOCUMENT_13                               0.012185   \n",
      "FLAG_DOCUMENT_14                               0.006042   \n",
      "FLAG_DOCUMENT_15                               0.003271   \n",
      "FLAG_DOCUMENT_16                               0.003976   \n",
      "FLAG_DOCUMENT_17                               0.000473   \n",
      "FLAG_DOCUMENT_18                              -0.000179   \n",
      "FLAG_DOCUMENT_19                              -0.002230   \n",
      "FLAG_DOCUMENT_20                               0.002177   \n",
      "FLAG_DOCUMENT_21                              -0.003489   \n",
      "AMT_REQ_CREDIT_BUREAU_HOUR                     0.002973   \n",
      "AMT_REQ_CREDIT_BUREAU_DAY                     -0.002750   \n",
      "AMT_REQ_CREDIT_BUREAU_WEEK                    -0.007423   \n",
      "AMT_REQ_CREDIT_BUREAU_MON                      1.000000   \n",
      "AMT_REQ_CREDIT_BUREAU_QRT                      0.005318   \n",
      "AMT_REQ_CREDIT_BUREAU_YEAR                     0.013708   \n",
      "\n",
      "                              AMT_REQ_CREDIT_BUREAU_QRT  \\\n",
      "SK_ID_CURR                                     0.000809   \n",
      "TARGET                                        -0.005833   \n",
      "CNT_CHILDREN                                  -0.004913   \n",
      "AMT_INCOME_TOTAL                               0.007924   \n",
      "AMT_CREDIT                                     0.020379   \n",
      "AMT_ANNUITY                                    0.010685   \n",
      "AMT_GOODS_PRICE                                0.020811   \n",
      "REGION_POPULATION_RELATIVE                    -0.001873   \n",
      "DAYS_BIRTH                                    -0.016281   \n",
      "DAYS_EMPLOYED                                  0.013466   \n",
      "DAYS_REGISTRATION                             -0.001340   \n",
      "DAYS_ID_PUBLISH                               -0.016744   \n",
      "OWN_CAR_AGE                                   -0.009260   \n",
      "FLAG_MOBIL                                     0.000557   \n",
      "FLAG_EMP_PHONE                                -0.013508   \n",
      "FLAG_WORK_PHONE                               -0.022461   \n",
      "FLAG_CONT_MOBILE                               0.005651   \n",
      "FLAG_PHONE                                    -0.006390   \n",
      "FLAG_EMAIL                                     0.013884   \n",
      "CNT_FAM_MEMBERS                               -0.000673   \n",
      "REGION_RATING_CLIENT                           0.005524   \n",
      "REGION_RATING_CLIENT_W_CITY                    0.005044   \n",
      "HOUR_APPR_PROCESS_START                        0.001454   \n",
      "REG_REGION_NOT_LIVE_REGION                    -0.003664   \n",
      "REG_REGION_NOT_WORK_REGION                    -0.006172   \n",
      "LIVE_REGION_NOT_WORK_REGION                   -0.005999   \n",
      "REG_CITY_NOT_LIVE_CITY                        -0.002769   \n",
      "REG_CITY_NOT_WORK_CITY                        -0.008212   \n",
      "LIVE_CITY_NOT_WORK_CITY                       -0.008086   \n",
      "EXT_SOURCE_1                                   0.001879   \n",
      "EXT_SOURCE_2                                   0.002634   \n",
      "EXT_SOURCE_3                                  -0.023487   \n",
      "APARTMENTS_AVG                                -0.000912   \n",
      "BASEMENTAREA_AVG                               0.000547   \n",
      "YEARS_BEGINEXPLUATATION_AVG                    0.001549   \n",
      "YEARS_BUILD_AVG                               -0.002065   \n",
      "COMMONAREA_AVG                                -0.002794   \n",
      "ELEVATORS_AVG                                 -0.001418   \n",
      "ENTRANCES_AVG                                  0.000746   \n",
      "FLOORSMAX_AVG                                  0.000974   \n",
      "FLOORSMIN_AVG                                 -0.001387   \n",
      "LANDAREA_AVG                                   0.003133   \n",
      "LIVINGAPARTMENTS_AVG                          -0.002401   \n",
      "LIVINGAREA_AVG                                -0.000425   \n",
      "NONLIVINGAPARTMENTS_AVG                        0.001666   \n",
      "NONLIVINGAREA_AVG                             -0.000952   \n",
      "APARTMENTS_MODE                               -0.000557   \n",
      "BASEMENTAREA_MODE                              0.000642   \n",
      "YEARS_BEGINEXPLUATATION_MODE                   0.001618   \n",
      "YEARS_BUILD_MODE                              -0.002031   \n",
      "COMMONAREA_MODE                               -0.002275   \n",
      "ELEVATORS_MODE                                -0.001059   \n",
      "ENTRANCES_MODE                                 0.000896   \n",
      "FLOORSMAX_MODE                                 0.001320   \n",
      "FLOORSMIN_MODE                                -0.001160   \n",
      "LANDAREA_MODE                                  0.003497   \n",
      "LIVINGAPARTMENTS_MODE                         -0.002115   \n",
      "LIVINGAREA_MODE                                0.000239   \n",
      "NONLIVINGAPARTMENTS_MODE                       0.001926   \n",
      "NONLIVINGAREA_MODE                             0.000127   \n",
      "APARTMENTS_MEDI                               -0.000799   \n",
      "BASEMENTAREA_MEDI                              0.000530   \n",
      "YEARS_BEGINEXPLUATATION_MEDI                   0.001599   \n",
      "YEARS_BUILD_MEDI                              -0.002116   \n",
      "COMMONAREA_MEDI                               -0.002714   \n",
      "ELEVATORS_MEDI                                -0.001217   \n",
      "ENTRANCES_MEDI                                 0.000843   \n",
      "FLOORSMAX_MEDI                                 0.001064   \n",
      "FLOORSMIN_MEDI                                -0.001349   \n",
      "LANDAREA_MEDI                                  0.003397   \n",
      "LIVINGAPARTMENTS_MEDI                         -0.002283   \n",
      "LIVINGAREA_MEDI                               -0.000470   \n",
      "NONLIVINGAPARTMENTS_MEDI                       0.001891   \n",
      "NONLIVINGAREA_MEDI                            -0.000696   \n",
      "TOTALAREA_MODE                                -0.001189   \n",
      "OBS_30_CNT_SOCIAL_CIRCLE                       0.005232   \n",
      "DEF_30_CNT_SOCIAL_CIRCLE                      -0.001204   \n",
      "OBS_60_CNT_SOCIAL_CIRCLE                       0.005045   \n",
      "DEF_60_CNT_SOCIAL_CIRCLE                      -0.000585   \n",
      "DAYS_LAST_PHONE_CHANGE                        -0.010018   \n",
      "FLAG_DOCUMENT_2                               -0.002007   \n",
      "FLAG_DOCUMENT_3                                0.010223   \n",
      "FLAG_DOCUMENT_4                                0.000610   \n",
      "FLAG_DOCUMENT_5                               -0.004167   \n",
      "FLAG_DOCUMENT_6                                0.009378   \n",
      "FLAG_DOCUMENT_7                               -0.000489   \n",
      "FLAG_DOCUMENT_8                               -0.002450   \n",
      "FLAG_DOCUMENT_9                               -0.003585   \n",
      "FLAG_DOCUMENT_10                               0.003108   \n",
      "FLAG_DOCUMENT_11                              -0.008909   \n",
      "FLAG_DOCUMENT_12                              -0.000787   \n",
      "FLAG_DOCUMENT_13                              -0.002501   \n",
      "FLAG_DOCUMENT_14                              -0.002533   \n",
      "FLAG_DOCUMENT_15                              -0.000430   \n",
      "FLAG_DOCUMENT_16                               0.002995   \n",
      "FLAG_DOCUMENT_17                              -0.001025   \n",
      "FLAG_DOCUMENT_18                              -0.003362   \n",
      "FLAG_DOCUMENT_19                              -0.001079   \n",
      "FLAG_DOCUMENT_20                               0.000034   \n",
      "FLAG_DOCUMENT_21                              -0.002066   \n",
      "AMT_REQ_CREDIT_BUREAU_HOUR                     0.000725   \n",
      "AMT_REQ_CREDIT_BUREAU_DAY                     -0.001551   \n",
      "AMT_REQ_CREDIT_BUREAU_WEEK                    -0.007466   \n",
      "AMT_REQ_CREDIT_BUREAU_MON                      0.005318   \n",
      "AMT_REQ_CREDIT_BUREAU_QRT                      1.000000   \n",
      "AMT_REQ_CREDIT_BUREAU_YEAR                     0.095723   \n",
      "\n",
      "                              AMT_REQ_CREDIT_BUREAU_YEAR  \n",
      "SK_ID_CURR                                      0.004071  \n",
      "TARGET                                          0.012161  \n",
      "CNT_CHILDREN                                   -0.034874  \n",
      "AMT_INCOME_TOTAL                                0.015821  \n",
      "AMT_CREDIT                                     -0.036634  \n",
      "AMT_ANNUITY                                    -0.008286  \n",
      "AMT_GOODS_PRICE                                -0.038979  \n",
      "REGION_POPULATION_RELATIVE                     -0.000085  \n",
      "DAYS_BIRTH                                     -0.072990  \n",
      "DAYS_EMPLOYED                                   0.044747  \n",
      "DAYS_REGISTRATION                              -0.022911  \n",
      "DAYS_ID_PUBLISH                                -0.047590  \n",
      "OWN_CAR_AGE                                    -0.014468  \n",
      "FLAG_MOBIL                                      0.000795  \n",
      "FLAG_EMP_PHONE                                 -0.044864  \n",
      "FLAG_WORK_PHONE                                -0.071164  \n",
      "FLAG_CONT_MOBILE                                0.023932  \n",
      "FLAG_PHONE                                     -0.024980  \n",
      "FLAG_EMAIL                                      0.051258  \n",
      "CNT_FAM_MEMBERS                                -0.020884  \n",
      "REGION_RATING_CLIENT                            0.011225  \n",
      "REGION_RATING_CLIENT_W_CITY                     0.010670  \n",
      "HOUR_APPR_PROCESS_START                        -0.025262  \n",
      "REG_REGION_NOT_LIVE_REGION                     -0.018148  \n",
      "REG_REGION_NOT_WORK_REGION                     -0.021902  \n",
      "LIVE_REGION_NOT_WORK_REGION                    -0.017021  \n",
      "REG_CITY_NOT_LIVE_CITY                         -0.009472  \n",
      "REG_CITY_NOT_WORK_CITY                         -0.012174  \n",
      "LIVE_CITY_NOT_WORK_CITY                        -0.010307  \n",
      "EXT_SOURCE_1                                    0.010438  \n",
      "EXT_SOURCE_2                                   -0.012479  \n",
      "EXT_SOURCE_3                                   -0.074743  \n",
      "APARTMENTS_AVG                                 -0.010554  \n",
      "BASEMENTAREA_AVG                               -0.006948  \n",
      "YEARS_BEGINEXPLUATATION_AVG                    -0.004988  \n",
      "YEARS_BUILD_AVG                                -0.012434  \n",
      "COMMONAREA_AVG                                 -0.006638  \n",
      "ELEVATORS_AVG                                  -0.011761  \n",
      "ENTRANCES_AVG                                  -0.006323  \n",
      "FLOORSMAX_AVG                                  -0.012740  \n",
      "FLOORSMIN_AVG                                  -0.005567  \n",
      "LANDAREA_AVG                                   -0.007191  \n",
      "LIVINGAPARTMENTS_AVG                           -0.007190  \n",
      "LIVINGAREA_AVG                                 -0.012188  \n",
      "NONLIVINGAPARTMENTS_AVG                        -0.000255  \n",
      "NONLIVINGAREA_AVG                              -0.006037  \n",
      "APARTMENTS_MODE                                -0.009305  \n",
      "BASEMENTAREA_MODE                              -0.006234  \n",
      "YEARS_BEGINEXPLUATATION_MODE                   -0.005032  \n",
      "YEARS_BUILD_MODE                               -0.011982  \n",
      "COMMONAREA_MODE                                -0.006036  \n",
      "ELEVATORS_MODE                                 -0.011077  \n",
      "ENTRANCES_MODE                                 -0.004778  \n",
      "FLOORSMAX_MODE                                 -0.012272  \n",
      "FLOORSMIN_MODE                                 -0.004860  \n",
      "LANDAREA_MODE                                  -0.006018  \n",
      "LIVINGAPARTMENTS_MODE                          -0.006752  \n",
      "LIVINGAREA_MODE                                -0.010895  \n",
      "NONLIVINGAPARTMENTS_MODE                       -0.000029  \n",
      "NONLIVINGAREA_MODE                             -0.005214  \n",
      "APARTMENTS_MEDI                                -0.010305  \n",
      "BASEMENTAREA_MEDI                              -0.006672  \n",
      "YEARS_BEGINEXPLUATATION_MEDI                   -0.005166  \n",
      "YEARS_BUILD_MEDI                               -0.012402  \n",
      "COMMONAREA_MEDI                                -0.006494  \n",
      "ELEVATORS_MEDI                                 -0.011628  \n",
      "ENTRANCES_MEDI                                 -0.006202  \n",
      "FLOORSMAX_MEDI                                 -0.012798  \n",
      "FLOORSMIN_MEDI                                 -0.005657  \n",
      "LANDAREA_MEDI                                  -0.006692  \n",
      "LIVINGAPARTMENTS_MEDI                          -0.007324  \n",
      "LIVINGAREA_MEDI                                -0.012213  \n",
      "NONLIVINGAPARTMENTS_MEDI                       -0.000009  \n",
      "NONLIVINGAREA_MEDI                             -0.005830  \n",
      "TOTALAREA_MODE                                 -0.012288  \n",
      "OBS_30_CNT_SOCIAL_CIRCLE                        0.032109  \n",
      "DEF_30_CNT_SOCIAL_CIRCLE                        0.017047  \n",
      "OBS_60_CNT_SOCIAL_CIRCLE                        0.032479  \n",
      "DEF_60_CNT_SOCIAL_CIRCLE                        0.015282  \n",
      "DAYS_LAST_PHONE_CHANGE                         -0.116385  \n",
      "FLAG_DOCUMENT_2                                -0.002867  \n",
      "FLAG_DOCUMENT_3                                 0.046066  \n",
      "FLAG_DOCUMENT_4                                 0.000723  \n",
      "FLAG_DOCUMENT_5                                -0.009304  \n",
      "FLAG_DOCUMENT_6                                 0.011139  \n",
      "FLAG_DOCUMENT_7                                 0.002935  \n",
      "FLAG_DOCUMENT_8                                -0.021526  \n",
      "FLAG_DOCUMENT_9                                -0.010366  \n",
      "FLAG_DOCUMENT_10                                0.002915  \n",
      "FLAG_DOCUMENT_11                               -0.031704  \n",
      "FLAG_DOCUMENT_12                               -0.001847  \n",
      "FLAG_DOCUMENT_13                               -0.029892  \n",
      "FLAG_DOCUMENT_14                               -0.029273  \n",
      "FLAG_DOCUMENT_15                               -0.016670  \n",
      "FLAG_DOCUMENT_16                               -0.042964  \n",
      "FLAG_DOCUMENT_17                               -0.008780  \n",
      "FLAG_DOCUMENT_18                               -0.042442  \n",
      "FLAG_DOCUMENT_19                               -0.006001  \n",
      "FLAG_DOCUMENT_20                               -0.010424  \n",
      "FLAG_DOCUMENT_21                               -0.005253  \n",
      "AMT_REQ_CREDIT_BUREAU_HOUR                      0.000361  \n",
      "AMT_REQ_CREDIT_BUREAU_DAY                       0.000742  \n",
      "AMT_REQ_CREDIT_BUREAU_WEEK                      0.029318  \n",
      "AMT_REQ_CREDIT_BUREAU_MON                       0.013708  \n",
      "AMT_REQ_CREDIT_BUREAU_QRT                       0.095723  \n",
      "AMT_REQ_CREDIT_BUREAU_YEAR                      1.000000  \n"
     ]
    }
   ],
   "source": [
    "# Korelasi dataset\n",
    "app_train_corr = app_train.corr()\n",
    "print('Korelasi dataset:\\n', app_train_corr)"
   ]
  },
  {
   "cell_type": "code",
   "execution_count": 8,
   "metadata": {},
   "outputs": [
    {
     "name": "stdout",
     "output_type": "stream",
     "text": [
      "Distribusi Target:\n",
      "\n",
      "TARGET\n",
      "0    282686\n",
      "1     24825\n",
      "Name: TARGET, dtype: int64\n"
     ]
    },
    {
     "data": {
      "application/vnd.plotly.v1+json": {
       "config": {
        "linkText": "Export to plot.ly",
        "plotlyServerURL": "https://plot.ly",
        "showLink": false
       },
       "data": [
        {
         "labels": [
          0,
          1
         ],
         "type": "pie",
         "values": [
          282686,
          24825
         ]
        }
       ],
       "layout": {
        "template": {
         "data": {
          "bar": [
           {
            "error_x": {
             "color": "#2a3f5f"
            },
            "error_y": {
             "color": "#2a3f5f"
            },
            "marker": {
             "line": {
              "color": "#E5ECF6",
              "width": 0.5
             },
             "pattern": {
              "fillmode": "overlay",
              "size": 10,
              "solidity": 0.2
             }
            },
            "type": "bar"
           }
          ],
          "barpolar": [
           {
            "marker": {
             "line": {
              "color": "#E5ECF6",
              "width": 0.5
             },
             "pattern": {
              "fillmode": "overlay",
              "size": 10,
              "solidity": 0.2
             }
            },
            "type": "barpolar"
           }
          ],
          "carpet": [
           {
            "aaxis": {
             "endlinecolor": "#2a3f5f",
             "gridcolor": "white",
             "linecolor": "white",
             "minorgridcolor": "white",
             "startlinecolor": "#2a3f5f"
            },
            "baxis": {
             "endlinecolor": "#2a3f5f",
             "gridcolor": "white",
             "linecolor": "white",
             "minorgridcolor": "white",
             "startlinecolor": "#2a3f5f"
            },
            "type": "carpet"
           }
          ],
          "choropleth": [
           {
            "colorbar": {
             "outlinewidth": 0,
             "ticks": ""
            },
            "type": "choropleth"
           }
          ],
          "contour": [
           {
            "colorbar": {
             "outlinewidth": 0,
             "ticks": ""
            },
            "colorscale": [
             [
              0,
              "#0d0887"
             ],
             [
              0.1111111111111111,
              "#46039f"
             ],
             [
              0.2222222222222222,
              "#7201a8"
             ],
             [
              0.3333333333333333,
              "#9c179e"
             ],
             [
              0.4444444444444444,
              "#bd3786"
             ],
             [
              0.5555555555555556,
              "#d8576b"
             ],
             [
              0.6666666666666666,
              "#ed7953"
             ],
             [
              0.7777777777777778,
              "#fb9f3a"
             ],
             [
              0.8888888888888888,
              "#fdca26"
             ],
             [
              1,
              "#f0f921"
             ]
            ],
            "type": "contour"
           }
          ],
          "contourcarpet": [
           {
            "colorbar": {
             "outlinewidth": 0,
             "ticks": ""
            },
            "type": "contourcarpet"
           }
          ],
          "heatmap": [
           {
            "colorbar": {
             "outlinewidth": 0,
             "ticks": ""
            },
            "colorscale": [
             [
              0,
              "#0d0887"
             ],
             [
              0.1111111111111111,
              "#46039f"
             ],
             [
              0.2222222222222222,
              "#7201a8"
             ],
             [
              0.3333333333333333,
              "#9c179e"
             ],
             [
              0.4444444444444444,
              "#bd3786"
             ],
             [
              0.5555555555555556,
              "#d8576b"
             ],
             [
              0.6666666666666666,
              "#ed7953"
             ],
             [
              0.7777777777777778,
              "#fb9f3a"
             ],
             [
              0.8888888888888888,
              "#fdca26"
             ],
             [
              1,
              "#f0f921"
             ]
            ],
            "type": "heatmap"
           }
          ],
          "heatmapgl": [
           {
            "colorbar": {
             "outlinewidth": 0,
             "ticks": ""
            },
            "colorscale": [
             [
              0,
              "#0d0887"
             ],
             [
              0.1111111111111111,
              "#46039f"
             ],
             [
              0.2222222222222222,
              "#7201a8"
             ],
             [
              0.3333333333333333,
              "#9c179e"
             ],
             [
              0.4444444444444444,
              "#bd3786"
             ],
             [
              0.5555555555555556,
              "#d8576b"
             ],
             [
              0.6666666666666666,
              "#ed7953"
             ],
             [
              0.7777777777777778,
              "#fb9f3a"
             ],
             [
              0.8888888888888888,
              "#fdca26"
             ],
             [
              1,
              "#f0f921"
             ]
            ],
            "type": "heatmapgl"
           }
          ],
          "histogram": [
           {
            "marker": {
             "pattern": {
              "fillmode": "overlay",
              "size": 10,
              "solidity": 0.2
             }
            },
            "type": "histogram"
           }
          ],
          "histogram2d": [
           {
            "colorbar": {
             "outlinewidth": 0,
             "ticks": ""
            },
            "colorscale": [
             [
              0,
              "#0d0887"
             ],
             [
              0.1111111111111111,
              "#46039f"
             ],
             [
              0.2222222222222222,
              "#7201a8"
             ],
             [
              0.3333333333333333,
              "#9c179e"
             ],
             [
              0.4444444444444444,
              "#bd3786"
             ],
             [
              0.5555555555555556,
              "#d8576b"
             ],
             [
              0.6666666666666666,
              "#ed7953"
             ],
             [
              0.7777777777777778,
              "#fb9f3a"
             ],
             [
              0.8888888888888888,
              "#fdca26"
             ],
             [
              1,
              "#f0f921"
             ]
            ],
            "type": "histogram2d"
           }
          ],
          "histogram2dcontour": [
           {
            "colorbar": {
             "outlinewidth": 0,
             "ticks": ""
            },
            "colorscale": [
             [
              0,
              "#0d0887"
             ],
             [
              0.1111111111111111,
              "#46039f"
             ],
             [
              0.2222222222222222,
              "#7201a8"
             ],
             [
              0.3333333333333333,
              "#9c179e"
             ],
             [
              0.4444444444444444,
              "#bd3786"
             ],
             [
              0.5555555555555556,
              "#d8576b"
             ],
             [
              0.6666666666666666,
              "#ed7953"
             ],
             [
              0.7777777777777778,
              "#fb9f3a"
             ],
             [
              0.8888888888888888,
              "#fdca26"
             ],
             [
              1,
              "#f0f921"
             ]
            ],
            "type": "histogram2dcontour"
           }
          ],
          "mesh3d": [
           {
            "colorbar": {
             "outlinewidth": 0,
             "ticks": ""
            },
            "type": "mesh3d"
           }
          ],
          "parcoords": [
           {
            "line": {
             "colorbar": {
              "outlinewidth": 0,
              "ticks": ""
             }
            },
            "type": "parcoords"
           }
          ],
          "pie": [
           {
            "automargin": true,
            "type": "pie"
           }
          ],
          "scatter": [
           {
            "fillpattern": {
             "fillmode": "overlay",
             "size": 10,
             "solidity": 0.2
            },
            "type": "scatter"
           }
          ],
          "scatter3d": [
           {
            "line": {
             "colorbar": {
              "outlinewidth": 0,
              "ticks": ""
             }
            },
            "marker": {
             "colorbar": {
              "outlinewidth": 0,
              "ticks": ""
             }
            },
            "type": "scatter3d"
           }
          ],
          "scattercarpet": [
           {
            "marker": {
             "colorbar": {
              "outlinewidth": 0,
              "ticks": ""
             }
            },
            "type": "scattercarpet"
           }
          ],
          "scattergeo": [
           {
            "marker": {
             "colorbar": {
              "outlinewidth": 0,
              "ticks": ""
             }
            },
            "type": "scattergeo"
           }
          ],
          "scattergl": [
           {
            "marker": {
             "colorbar": {
              "outlinewidth": 0,
              "ticks": ""
             }
            },
            "type": "scattergl"
           }
          ],
          "scattermapbox": [
           {
            "marker": {
             "colorbar": {
              "outlinewidth": 0,
              "ticks": ""
             }
            },
            "type": "scattermapbox"
           }
          ],
          "scatterpolar": [
           {
            "marker": {
             "colorbar": {
              "outlinewidth": 0,
              "ticks": ""
             }
            },
            "type": "scatterpolar"
           }
          ],
          "scatterpolargl": [
           {
            "marker": {
             "colorbar": {
              "outlinewidth": 0,
              "ticks": ""
             }
            },
            "type": "scatterpolargl"
           }
          ],
          "scatterternary": [
           {
            "marker": {
             "colorbar": {
              "outlinewidth": 0,
              "ticks": ""
             }
            },
            "type": "scatterternary"
           }
          ],
          "surface": [
           {
            "colorbar": {
             "outlinewidth": 0,
             "ticks": ""
            },
            "colorscale": [
             [
              0,
              "#0d0887"
             ],
             [
              0.1111111111111111,
              "#46039f"
             ],
             [
              0.2222222222222222,
              "#7201a8"
             ],
             [
              0.3333333333333333,
              "#9c179e"
             ],
             [
              0.4444444444444444,
              "#bd3786"
             ],
             [
              0.5555555555555556,
              "#d8576b"
             ],
             [
              0.6666666666666666,
              "#ed7953"
             ],
             [
              0.7777777777777778,
              "#fb9f3a"
             ],
             [
              0.8888888888888888,
              "#fdca26"
             ],
             [
              1,
              "#f0f921"
             ]
            ],
            "type": "surface"
           }
          ],
          "table": [
           {
            "cells": {
             "fill": {
              "color": "#EBF0F8"
             },
             "line": {
              "color": "white"
             }
            },
            "header": {
             "fill": {
              "color": "#C8D4E3"
             },
             "line": {
              "color": "white"
             }
            },
            "type": "table"
           }
          ]
         },
         "layout": {
          "annotationdefaults": {
           "arrowcolor": "#2a3f5f",
           "arrowhead": 0,
           "arrowwidth": 1
          },
          "autotypenumbers": "strict",
          "coloraxis": {
           "colorbar": {
            "outlinewidth": 0,
            "ticks": ""
           }
          },
          "colorscale": {
           "diverging": [
            [
             0,
             "#8e0152"
            ],
            [
             0.1,
             "#c51b7d"
            ],
            [
             0.2,
             "#de77ae"
            ],
            [
             0.3,
             "#f1b6da"
            ],
            [
             0.4,
             "#fde0ef"
            ],
            [
             0.5,
             "#f7f7f7"
            ],
            [
             0.6,
             "#e6f5d0"
            ],
            [
             0.7,
             "#b8e186"
            ],
            [
             0.8,
             "#7fbc41"
            ],
            [
             0.9,
             "#4d9221"
            ],
            [
             1,
             "#276419"
            ]
           ],
           "sequential": [
            [
             0,
             "#0d0887"
            ],
            [
             0.1111111111111111,
             "#46039f"
            ],
            [
             0.2222222222222222,
             "#7201a8"
            ],
            [
             0.3333333333333333,
             "#9c179e"
            ],
            [
             0.4444444444444444,
             "#bd3786"
            ],
            [
             0.5555555555555556,
             "#d8576b"
            ],
            [
             0.6666666666666666,
             "#ed7953"
            ],
            [
             0.7777777777777778,
             "#fb9f3a"
            ],
            [
             0.8888888888888888,
             "#fdca26"
            ],
            [
             1,
             "#f0f921"
            ]
           ],
           "sequentialminus": [
            [
             0,
             "#0d0887"
            ],
            [
             0.1111111111111111,
             "#46039f"
            ],
            [
             0.2222222222222222,
             "#7201a8"
            ],
            [
             0.3333333333333333,
             "#9c179e"
            ],
            [
             0.4444444444444444,
             "#bd3786"
            ],
            [
             0.5555555555555556,
             "#d8576b"
            ],
            [
             0.6666666666666666,
             "#ed7953"
            ],
            [
             0.7777777777777778,
             "#fb9f3a"
            ],
            [
             0.8888888888888888,
             "#fdca26"
            ],
            [
             1,
             "#f0f921"
            ]
           ]
          },
          "colorway": [
           "#636efa",
           "#EF553B",
           "#00cc96",
           "#ab63fa",
           "#FFA15A",
           "#19d3f3",
           "#FF6692",
           "#B6E880",
           "#FF97FF",
           "#FECB52"
          ],
          "font": {
           "color": "#2a3f5f"
          },
          "geo": {
           "bgcolor": "white",
           "lakecolor": "white",
           "landcolor": "#E5ECF6",
           "showlakes": true,
           "showland": true,
           "subunitcolor": "white"
          },
          "hoverlabel": {
           "align": "left"
          },
          "hovermode": "closest",
          "mapbox": {
           "style": "light"
          },
          "paper_bgcolor": "white",
          "plot_bgcolor": "#E5ECF6",
          "polar": {
           "angularaxis": {
            "gridcolor": "white",
            "linecolor": "white",
            "ticks": ""
           },
           "bgcolor": "#E5ECF6",
           "radialaxis": {
            "gridcolor": "white",
            "linecolor": "white",
            "ticks": ""
           }
          },
          "scene": {
           "xaxis": {
            "backgroundcolor": "#E5ECF6",
            "gridcolor": "white",
            "gridwidth": 2,
            "linecolor": "white",
            "showbackground": true,
            "ticks": "",
            "zerolinecolor": "white"
           },
           "yaxis": {
            "backgroundcolor": "#E5ECF6",
            "gridcolor": "white",
            "gridwidth": 2,
            "linecolor": "white",
            "showbackground": true,
            "ticks": "",
            "zerolinecolor": "white"
           },
           "zaxis": {
            "backgroundcolor": "#E5ECF6",
            "gridcolor": "white",
            "gridwidth": 2,
            "linecolor": "white",
            "showbackground": true,
            "ticks": "",
            "zerolinecolor": "white"
           }
          },
          "shapedefaults": {
           "line": {
            "color": "#2a3f5f"
           }
          },
          "ternary": {
           "aaxis": {
            "gridcolor": "white",
            "linecolor": "white",
            "ticks": ""
           },
           "baxis": {
            "gridcolor": "white",
            "linecolor": "white",
            "ticks": ""
           },
           "bgcolor": "#E5ECF6",
           "caxis": {
            "gridcolor": "white",
            "linecolor": "white",
            "ticks": ""
           }
          },
          "title": {
           "x": 0.05
          },
          "xaxis": {
           "automargin": true,
           "gridcolor": "white",
           "linecolor": "white",
           "ticks": "",
           "title": {
            "standoff": 15
           },
           "zerolinecolor": "white",
           "zerolinewidth": 2
          },
          "yaxis": {
           "automargin": true,
           "gridcolor": "white",
           "linecolor": "white",
           "ticks": "",
           "title": {
            "standoff": 15
           },
           "zerolinecolor": "white",
           "zerolinewidth": 2
          }
         }
        }
       }
      },
      "text/html": [
       "<div>                            <div id=\"73c039f9-9144-4d4c-94f5-20b86e1694ba\" class=\"plotly-graph-div\" style=\"height:525px; width:100%;\"></div>            <script type=\"text/javascript\">                require([\"plotly\"], function(Plotly) {                    window.PLOTLYENV=window.PLOTLYENV || {};                                    if (document.getElementById(\"73c039f9-9144-4d4c-94f5-20b86e1694ba\")) {                    Plotly.newPlot(                        \"73c039f9-9144-4d4c-94f5-20b86e1694ba\",                        [{\"labels\":[0,1],\"values\":[282686,24825],\"type\":\"pie\"}],                        {\"template\":{\"data\":{\"barpolar\":[{\"marker\":{\"line\":{\"color\":\"#E5ECF6\",\"width\":0.5},\"pattern\":{\"fillmode\":\"overlay\",\"size\":10,\"solidity\":0.2}},\"type\":\"barpolar\"}],\"bar\":[{\"error_x\":{\"color\":\"#2a3f5f\"},\"error_y\":{\"color\":\"#2a3f5f\"},\"marker\":{\"line\":{\"color\":\"#E5ECF6\",\"width\":0.5},\"pattern\":{\"fillmode\":\"overlay\",\"size\":10,\"solidity\":0.2}},\"type\":\"bar\"}],\"carpet\":[{\"aaxis\":{\"endlinecolor\":\"#2a3f5f\",\"gridcolor\":\"white\",\"linecolor\":\"white\",\"minorgridcolor\":\"white\",\"startlinecolor\":\"#2a3f5f\"},\"baxis\":{\"endlinecolor\":\"#2a3f5f\",\"gridcolor\":\"white\",\"linecolor\":\"white\",\"minorgridcolor\":\"white\",\"startlinecolor\":\"#2a3f5f\"},\"type\":\"carpet\"}],\"choropleth\":[{\"colorbar\":{\"outlinewidth\":0,\"ticks\":\"\"},\"type\":\"choropleth\"}],\"contourcarpet\":[{\"colorbar\":{\"outlinewidth\":0,\"ticks\":\"\"},\"type\":\"contourcarpet\"}],\"contour\":[{\"colorbar\":{\"outlinewidth\":0,\"ticks\":\"\"},\"colorscale\":[[0.0,\"#0d0887\"],[0.1111111111111111,\"#46039f\"],[0.2222222222222222,\"#7201a8\"],[0.3333333333333333,\"#9c179e\"],[0.4444444444444444,\"#bd3786\"],[0.5555555555555556,\"#d8576b\"],[0.6666666666666666,\"#ed7953\"],[0.7777777777777778,\"#fb9f3a\"],[0.8888888888888888,\"#fdca26\"],[1.0,\"#f0f921\"]],\"type\":\"contour\"}],\"heatmapgl\":[{\"colorbar\":{\"outlinewidth\":0,\"ticks\":\"\"},\"colorscale\":[[0.0,\"#0d0887\"],[0.1111111111111111,\"#46039f\"],[0.2222222222222222,\"#7201a8\"],[0.3333333333333333,\"#9c179e\"],[0.4444444444444444,\"#bd3786\"],[0.5555555555555556,\"#d8576b\"],[0.6666666666666666,\"#ed7953\"],[0.7777777777777778,\"#fb9f3a\"],[0.8888888888888888,\"#fdca26\"],[1.0,\"#f0f921\"]],\"type\":\"heatmapgl\"}],\"heatmap\":[{\"colorbar\":{\"outlinewidth\":0,\"ticks\":\"\"},\"colorscale\":[[0.0,\"#0d0887\"],[0.1111111111111111,\"#46039f\"],[0.2222222222222222,\"#7201a8\"],[0.3333333333333333,\"#9c179e\"],[0.4444444444444444,\"#bd3786\"],[0.5555555555555556,\"#d8576b\"],[0.6666666666666666,\"#ed7953\"],[0.7777777777777778,\"#fb9f3a\"],[0.8888888888888888,\"#fdca26\"],[1.0,\"#f0f921\"]],\"type\":\"heatmap\"}],\"histogram2dcontour\":[{\"colorbar\":{\"outlinewidth\":0,\"ticks\":\"\"},\"colorscale\":[[0.0,\"#0d0887\"],[0.1111111111111111,\"#46039f\"],[0.2222222222222222,\"#7201a8\"],[0.3333333333333333,\"#9c179e\"],[0.4444444444444444,\"#bd3786\"],[0.5555555555555556,\"#d8576b\"],[0.6666666666666666,\"#ed7953\"],[0.7777777777777778,\"#fb9f3a\"],[0.8888888888888888,\"#fdca26\"],[1.0,\"#f0f921\"]],\"type\":\"histogram2dcontour\"}],\"histogram2d\":[{\"colorbar\":{\"outlinewidth\":0,\"ticks\":\"\"},\"colorscale\":[[0.0,\"#0d0887\"],[0.1111111111111111,\"#46039f\"],[0.2222222222222222,\"#7201a8\"],[0.3333333333333333,\"#9c179e\"],[0.4444444444444444,\"#bd3786\"],[0.5555555555555556,\"#d8576b\"],[0.6666666666666666,\"#ed7953\"],[0.7777777777777778,\"#fb9f3a\"],[0.8888888888888888,\"#fdca26\"],[1.0,\"#f0f921\"]],\"type\":\"histogram2d\"}],\"histogram\":[{\"marker\":{\"pattern\":{\"fillmode\":\"overlay\",\"size\":10,\"solidity\":0.2}},\"type\":\"histogram\"}],\"mesh3d\":[{\"colorbar\":{\"outlinewidth\":0,\"ticks\":\"\"},\"type\":\"mesh3d\"}],\"parcoords\":[{\"line\":{\"colorbar\":{\"outlinewidth\":0,\"ticks\":\"\"}},\"type\":\"parcoords\"}],\"pie\":[{\"automargin\":true,\"type\":\"pie\"}],\"scatter3d\":[{\"line\":{\"colorbar\":{\"outlinewidth\":0,\"ticks\":\"\"}},\"marker\":{\"colorbar\":{\"outlinewidth\":0,\"ticks\":\"\"}},\"type\":\"scatter3d\"}],\"scattercarpet\":[{\"marker\":{\"colorbar\":{\"outlinewidth\":0,\"ticks\":\"\"}},\"type\":\"scattercarpet\"}],\"scattergeo\":[{\"marker\":{\"colorbar\":{\"outlinewidth\":0,\"ticks\":\"\"}},\"type\":\"scattergeo\"}],\"scattergl\":[{\"marker\":{\"colorbar\":{\"outlinewidth\":0,\"ticks\":\"\"}},\"type\":\"scattergl\"}],\"scattermapbox\":[{\"marker\":{\"colorbar\":{\"outlinewidth\":0,\"ticks\":\"\"}},\"type\":\"scattermapbox\"}],\"scatterpolargl\":[{\"marker\":{\"colorbar\":{\"outlinewidth\":0,\"ticks\":\"\"}},\"type\":\"scatterpolargl\"}],\"scatterpolar\":[{\"marker\":{\"colorbar\":{\"outlinewidth\":0,\"ticks\":\"\"}},\"type\":\"scatterpolar\"}],\"scatter\":[{\"fillpattern\":{\"fillmode\":\"overlay\",\"size\":10,\"solidity\":0.2},\"type\":\"scatter\"}],\"scatterternary\":[{\"marker\":{\"colorbar\":{\"outlinewidth\":0,\"ticks\":\"\"}},\"type\":\"scatterternary\"}],\"surface\":[{\"colorbar\":{\"outlinewidth\":0,\"ticks\":\"\"},\"colorscale\":[[0.0,\"#0d0887\"],[0.1111111111111111,\"#46039f\"],[0.2222222222222222,\"#7201a8\"],[0.3333333333333333,\"#9c179e\"],[0.4444444444444444,\"#bd3786\"],[0.5555555555555556,\"#d8576b\"],[0.6666666666666666,\"#ed7953\"],[0.7777777777777778,\"#fb9f3a\"],[0.8888888888888888,\"#fdca26\"],[1.0,\"#f0f921\"]],\"type\":\"surface\"}],\"table\":[{\"cells\":{\"fill\":{\"color\":\"#EBF0F8\"},\"line\":{\"color\":\"white\"}},\"header\":{\"fill\":{\"color\":\"#C8D4E3\"},\"line\":{\"color\":\"white\"}},\"type\":\"table\"}]},\"layout\":{\"annotationdefaults\":{\"arrowcolor\":\"#2a3f5f\",\"arrowhead\":0,\"arrowwidth\":1},\"autotypenumbers\":\"strict\",\"coloraxis\":{\"colorbar\":{\"outlinewidth\":0,\"ticks\":\"\"}},\"colorscale\":{\"diverging\":[[0,\"#8e0152\"],[0.1,\"#c51b7d\"],[0.2,\"#de77ae\"],[0.3,\"#f1b6da\"],[0.4,\"#fde0ef\"],[0.5,\"#f7f7f7\"],[0.6,\"#e6f5d0\"],[0.7,\"#b8e186\"],[0.8,\"#7fbc41\"],[0.9,\"#4d9221\"],[1,\"#276419\"]],\"sequential\":[[0.0,\"#0d0887\"],[0.1111111111111111,\"#46039f\"],[0.2222222222222222,\"#7201a8\"],[0.3333333333333333,\"#9c179e\"],[0.4444444444444444,\"#bd3786\"],[0.5555555555555556,\"#d8576b\"],[0.6666666666666666,\"#ed7953\"],[0.7777777777777778,\"#fb9f3a\"],[0.8888888888888888,\"#fdca26\"],[1.0,\"#f0f921\"]],\"sequentialminus\":[[0.0,\"#0d0887\"],[0.1111111111111111,\"#46039f\"],[0.2222222222222222,\"#7201a8\"],[0.3333333333333333,\"#9c179e\"],[0.4444444444444444,\"#bd3786\"],[0.5555555555555556,\"#d8576b\"],[0.6666666666666666,\"#ed7953\"],[0.7777777777777778,\"#fb9f3a\"],[0.8888888888888888,\"#fdca26\"],[1.0,\"#f0f921\"]]},\"colorway\":[\"#636efa\",\"#EF553B\",\"#00cc96\",\"#ab63fa\",\"#FFA15A\",\"#19d3f3\",\"#FF6692\",\"#B6E880\",\"#FF97FF\",\"#FECB52\"],\"font\":{\"color\":\"#2a3f5f\"},\"geo\":{\"bgcolor\":\"white\",\"lakecolor\":\"white\",\"landcolor\":\"#E5ECF6\",\"showlakes\":true,\"showland\":true,\"subunitcolor\":\"white\"},\"hoverlabel\":{\"align\":\"left\"},\"hovermode\":\"closest\",\"mapbox\":{\"style\":\"light\"},\"paper_bgcolor\":\"white\",\"plot_bgcolor\":\"#E5ECF6\",\"polar\":{\"angularaxis\":{\"gridcolor\":\"white\",\"linecolor\":\"white\",\"ticks\":\"\"},\"bgcolor\":\"#E5ECF6\",\"radialaxis\":{\"gridcolor\":\"white\",\"linecolor\":\"white\",\"ticks\":\"\"}},\"scene\":{\"xaxis\":{\"backgroundcolor\":\"#E5ECF6\",\"gridcolor\":\"white\",\"gridwidth\":2,\"linecolor\":\"white\",\"showbackground\":true,\"ticks\":\"\",\"zerolinecolor\":\"white\"},\"yaxis\":{\"backgroundcolor\":\"#E5ECF6\",\"gridcolor\":\"white\",\"gridwidth\":2,\"linecolor\":\"white\",\"showbackground\":true,\"ticks\":\"\",\"zerolinecolor\":\"white\"},\"zaxis\":{\"backgroundcolor\":\"#E5ECF6\",\"gridcolor\":\"white\",\"gridwidth\":2,\"linecolor\":\"white\",\"showbackground\":true,\"ticks\":\"\",\"zerolinecolor\":\"white\"}},\"shapedefaults\":{\"line\":{\"color\":\"#2a3f5f\"}},\"ternary\":{\"aaxis\":{\"gridcolor\":\"white\",\"linecolor\":\"white\",\"ticks\":\"\"},\"baxis\":{\"gridcolor\":\"white\",\"linecolor\":\"white\",\"ticks\":\"\"},\"bgcolor\":\"#E5ECF6\",\"caxis\":{\"gridcolor\":\"white\",\"linecolor\":\"white\",\"ticks\":\"\"}},\"title\":{\"x\":0.05},\"xaxis\":{\"automargin\":true,\"gridcolor\":\"white\",\"linecolor\":\"white\",\"ticks\":\"\",\"title\":{\"standoff\":15},\"zerolinecolor\":\"white\",\"zerolinewidth\":2},\"yaxis\":{\"automargin\":true,\"gridcolor\":\"white\",\"linecolor\":\"white\",\"ticks\":\"\",\"title\":{\"standoff\":15},\"zerolinecolor\":\"white\",\"zerolinewidth\":2}}}},                        {\"responsive\": true}                    ).then(function(){\n",
       "                            \n",
       "var gd = document.getElementById('73c039f9-9144-4d4c-94f5-20b86e1694ba');\n",
       "var x = new MutationObserver(function (mutations, observer) {{\n",
       "        var display = window.getComputedStyle(gd).display;\n",
       "        if (!display || display === 'none') {{\n",
       "            console.log([gd, 'removed!']);\n",
       "            Plotly.purge(gd);\n",
       "            observer.disconnect();\n",
       "        }}\n",
       "}});\n",
       "\n",
       "// Listen for the removal of the full notebook cells\n",
       "var notebookContainer = gd.closest('#notebook-container');\n",
       "if (notebookContainer) {{\n",
       "    x.observe(notebookContainer, {childList: true});\n",
       "}}\n",
       "\n",
       "// Listen for the clearing of the current output cell\n",
       "var outputEl = gd.closest('.output');\n",
       "if (outputEl) {{\n",
       "    x.observe(outputEl, {childList: true});\n",
       "}}\n",
       "\n",
       "                        })                };                });            </script>        </div>"
      ]
     },
     "metadata": {},
     "output_type": "display_data"
    },
    {
     "data": {
      "text/plain": [
       "<Figure size 432x288 with 0 Axes>"
      ]
     },
     "metadata": {},
     "output_type": "display_data"
    }
   ],
   "source": [
    "# Mengecek Distribusi TARGET\n",
    "print('Distribusi Target:\\n')\n",
    "print(app_train.groupby(['TARGET'])['TARGET'].count())\n",
    "\n",
    "# Plot Distribusi Target\n",
    "plt.savefig('Target.png')\n",
    "temp = app_train['TARGET'].value_counts()\n",
    "df = {'data':[\n",
    "    {'labels': temp.index,\n",
    "    'values': temp.values,\n",
    "    'type' : 'pie'}\n",
    "]}\n",
    "iplot(df)"
   ]
  },
  {
   "cell_type": "markdown",
   "metadata": {},
   "source": [
    "Terlihat bahwa antara target 1 (klien yang kesulitan dalam pembayaran) jauh lebih sedikit dibandingkan target 0. Hal ini menyebabkan adanya imbalanced data, yakni suatu kondisi dimana distribusi antara kelas data tidak seimbang, jumlah kelas data yang satu lebih banyak dibanding kelas data yang lainnya. "
   ]
  },
  {
   "cell_type": "code",
   "execution_count": 9,
   "metadata": {},
   "outputs": [
    {
     "name": "stdout",
     "output_type": "stream",
     "text": [
      "Tipe Pinjaman:\n",
      "\n",
      "NAME_CONTRACT_TYPE\n",
      "Cash loans         278232\n",
      "Revolving loans     29279\n",
      "Name: NAME_CONTRACT_TYPE, dtype: int64\n"
     ]
    },
    {
     "data": {
      "application/vnd.plotly.v1+json": {
       "config": {
        "linkText": "Export to plot.ly",
        "plotlyServerURL": "https://plot.ly",
        "showLink": false
       },
       "data": [
        {
         "labels": [
          "Cash loans",
          "Revolving loans"
         ],
         "type": "pie",
         "values": [
          278232,
          29279
         ]
        }
       ],
       "layout": {
        "template": {
         "data": {
          "bar": [
           {
            "error_x": {
             "color": "#2a3f5f"
            },
            "error_y": {
             "color": "#2a3f5f"
            },
            "marker": {
             "line": {
              "color": "#E5ECF6",
              "width": 0.5
             },
             "pattern": {
              "fillmode": "overlay",
              "size": 10,
              "solidity": 0.2
             }
            },
            "type": "bar"
           }
          ],
          "barpolar": [
           {
            "marker": {
             "line": {
              "color": "#E5ECF6",
              "width": 0.5
             },
             "pattern": {
              "fillmode": "overlay",
              "size": 10,
              "solidity": 0.2
             }
            },
            "type": "barpolar"
           }
          ],
          "carpet": [
           {
            "aaxis": {
             "endlinecolor": "#2a3f5f",
             "gridcolor": "white",
             "linecolor": "white",
             "minorgridcolor": "white",
             "startlinecolor": "#2a3f5f"
            },
            "baxis": {
             "endlinecolor": "#2a3f5f",
             "gridcolor": "white",
             "linecolor": "white",
             "minorgridcolor": "white",
             "startlinecolor": "#2a3f5f"
            },
            "type": "carpet"
           }
          ],
          "choropleth": [
           {
            "colorbar": {
             "outlinewidth": 0,
             "ticks": ""
            },
            "type": "choropleth"
           }
          ],
          "contour": [
           {
            "colorbar": {
             "outlinewidth": 0,
             "ticks": ""
            },
            "colorscale": [
             [
              0,
              "#0d0887"
             ],
             [
              0.1111111111111111,
              "#46039f"
             ],
             [
              0.2222222222222222,
              "#7201a8"
             ],
             [
              0.3333333333333333,
              "#9c179e"
             ],
             [
              0.4444444444444444,
              "#bd3786"
             ],
             [
              0.5555555555555556,
              "#d8576b"
             ],
             [
              0.6666666666666666,
              "#ed7953"
             ],
             [
              0.7777777777777778,
              "#fb9f3a"
             ],
             [
              0.8888888888888888,
              "#fdca26"
             ],
             [
              1,
              "#f0f921"
             ]
            ],
            "type": "contour"
           }
          ],
          "contourcarpet": [
           {
            "colorbar": {
             "outlinewidth": 0,
             "ticks": ""
            },
            "type": "contourcarpet"
           }
          ],
          "heatmap": [
           {
            "colorbar": {
             "outlinewidth": 0,
             "ticks": ""
            },
            "colorscale": [
             [
              0,
              "#0d0887"
             ],
             [
              0.1111111111111111,
              "#46039f"
             ],
             [
              0.2222222222222222,
              "#7201a8"
             ],
             [
              0.3333333333333333,
              "#9c179e"
             ],
             [
              0.4444444444444444,
              "#bd3786"
             ],
             [
              0.5555555555555556,
              "#d8576b"
             ],
             [
              0.6666666666666666,
              "#ed7953"
             ],
             [
              0.7777777777777778,
              "#fb9f3a"
             ],
             [
              0.8888888888888888,
              "#fdca26"
             ],
             [
              1,
              "#f0f921"
             ]
            ],
            "type": "heatmap"
           }
          ],
          "heatmapgl": [
           {
            "colorbar": {
             "outlinewidth": 0,
             "ticks": ""
            },
            "colorscale": [
             [
              0,
              "#0d0887"
             ],
             [
              0.1111111111111111,
              "#46039f"
             ],
             [
              0.2222222222222222,
              "#7201a8"
             ],
             [
              0.3333333333333333,
              "#9c179e"
             ],
             [
              0.4444444444444444,
              "#bd3786"
             ],
             [
              0.5555555555555556,
              "#d8576b"
             ],
             [
              0.6666666666666666,
              "#ed7953"
             ],
             [
              0.7777777777777778,
              "#fb9f3a"
             ],
             [
              0.8888888888888888,
              "#fdca26"
             ],
             [
              1,
              "#f0f921"
             ]
            ],
            "type": "heatmapgl"
           }
          ],
          "histogram": [
           {
            "marker": {
             "pattern": {
              "fillmode": "overlay",
              "size": 10,
              "solidity": 0.2
             }
            },
            "type": "histogram"
           }
          ],
          "histogram2d": [
           {
            "colorbar": {
             "outlinewidth": 0,
             "ticks": ""
            },
            "colorscale": [
             [
              0,
              "#0d0887"
             ],
             [
              0.1111111111111111,
              "#46039f"
             ],
             [
              0.2222222222222222,
              "#7201a8"
             ],
             [
              0.3333333333333333,
              "#9c179e"
             ],
             [
              0.4444444444444444,
              "#bd3786"
             ],
             [
              0.5555555555555556,
              "#d8576b"
             ],
             [
              0.6666666666666666,
              "#ed7953"
             ],
             [
              0.7777777777777778,
              "#fb9f3a"
             ],
             [
              0.8888888888888888,
              "#fdca26"
             ],
             [
              1,
              "#f0f921"
             ]
            ],
            "type": "histogram2d"
           }
          ],
          "histogram2dcontour": [
           {
            "colorbar": {
             "outlinewidth": 0,
             "ticks": ""
            },
            "colorscale": [
             [
              0,
              "#0d0887"
             ],
             [
              0.1111111111111111,
              "#46039f"
             ],
             [
              0.2222222222222222,
              "#7201a8"
             ],
             [
              0.3333333333333333,
              "#9c179e"
             ],
             [
              0.4444444444444444,
              "#bd3786"
             ],
             [
              0.5555555555555556,
              "#d8576b"
             ],
             [
              0.6666666666666666,
              "#ed7953"
             ],
             [
              0.7777777777777778,
              "#fb9f3a"
             ],
             [
              0.8888888888888888,
              "#fdca26"
             ],
             [
              1,
              "#f0f921"
             ]
            ],
            "type": "histogram2dcontour"
           }
          ],
          "mesh3d": [
           {
            "colorbar": {
             "outlinewidth": 0,
             "ticks": ""
            },
            "type": "mesh3d"
           }
          ],
          "parcoords": [
           {
            "line": {
             "colorbar": {
              "outlinewidth": 0,
              "ticks": ""
             }
            },
            "type": "parcoords"
           }
          ],
          "pie": [
           {
            "automargin": true,
            "type": "pie"
           }
          ],
          "scatter": [
           {
            "fillpattern": {
             "fillmode": "overlay",
             "size": 10,
             "solidity": 0.2
            },
            "type": "scatter"
           }
          ],
          "scatter3d": [
           {
            "line": {
             "colorbar": {
              "outlinewidth": 0,
              "ticks": ""
             }
            },
            "marker": {
             "colorbar": {
              "outlinewidth": 0,
              "ticks": ""
             }
            },
            "type": "scatter3d"
           }
          ],
          "scattercarpet": [
           {
            "marker": {
             "colorbar": {
              "outlinewidth": 0,
              "ticks": ""
             }
            },
            "type": "scattercarpet"
           }
          ],
          "scattergeo": [
           {
            "marker": {
             "colorbar": {
              "outlinewidth": 0,
              "ticks": ""
             }
            },
            "type": "scattergeo"
           }
          ],
          "scattergl": [
           {
            "marker": {
             "colorbar": {
              "outlinewidth": 0,
              "ticks": ""
             }
            },
            "type": "scattergl"
           }
          ],
          "scattermapbox": [
           {
            "marker": {
             "colorbar": {
              "outlinewidth": 0,
              "ticks": ""
             }
            },
            "type": "scattermapbox"
           }
          ],
          "scatterpolar": [
           {
            "marker": {
             "colorbar": {
              "outlinewidth": 0,
              "ticks": ""
             }
            },
            "type": "scatterpolar"
           }
          ],
          "scatterpolargl": [
           {
            "marker": {
             "colorbar": {
              "outlinewidth": 0,
              "ticks": ""
             }
            },
            "type": "scatterpolargl"
           }
          ],
          "scatterternary": [
           {
            "marker": {
             "colorbar": {
              "outlinewidth": 0,
              "ticks": ""
             }
            },
            "type": "scatterternary"
           }
          ],
          "surface": [
           {
            "colorbar": {
             "outlinewidth": 0,
             "ticks": ""
            },
            "colorscale": [
             [
              0,
              "#0d0887"
             ],
             [
              0.1111111111111111,
              "#46039f"
             ],
             [
              0.2222222222222222,
              "#7201a8"
             ],
             [
              0.3333333333333333,
              "#9c179e"
             ],
             [
              0.4444444444444444,
              "#bd3786"
             ],
             [
              0.5555555555555556,
              "#d8576b"
             ],
             [
              0.6666666666666666,
              "#ed7953"
             ],
             [
              0.7777777777777778,
              "#fb9f3a"
             ],
             [
              0.8888888888888888,
              "#fdca26"
             ],
             [
              1,
              "#f0f921"
             ]
            ],
            "type": "surface"
           }
          ],
          "table": [
           {
            "cells": {
             "fill": {
              "color": "#EBF0F8"
             },
             "line": {
              "color": "white"
             }
            },
            "header": {
             "fill": {
              "color": "#C8D4E3"
             },
             "line": {
              "color": "white"
             }
            },
            "type": "table"
           }
          ]
         },
         "layout": {
          "annotationdefaults": {
           "arrowcolor": "#2a3f5f",
           "arrowhead": 0,
           "arrowwidth": 1
          },
          "autotypenumbers": "strict",
          "coloraxis": {
           "colorbar": {
            "outlinewidth": 0,
            "ticks": ""
           }
          },
          "colorscale": {
           "diverging": [
            [
             0,
             "#8e0152"
            ],
            [
             0.1,
             "#c51b7d"
            ],
            [
             0.2,
             "#de77ae"
            ],
            [
             0.3,
             "#f1b6da"
            ],
            [
             0.4,
             "#fde0ef"
            ],
            [
             0.5,
             "#f7f7f7"
            ],
            [
             0.6,
             "#e6f5d0"
            ],
            [
             0.7,
             "#b8e186"
            ],
            [
             0.8,
             "#7fbc41"
            ],
            [
             0.9,
             "#4d9221"
            ],
            [
             1,
             "#276419"
            ]
           ],
           "sequential": [
            [
             0,
             "#0d0887"
            ],
            [
             0.1111111111111111,
             "#46039f"
            ],
            [
             0.2222222222222222,
             "#7201a8"
            ],
            [
             0.3333333333333333,
             "#9c179e"
            ],
            [
             0.4444444444444444,
             "#bd3786"
            ],
            [
             0.5555555555555556,
             "#d8576b"
            ],
            [
             0.6666666666666666,
             "#ed7953"
            ],
            [
             0.7777777777777778,
             "#fb9f3a"
            ],
            [
             0.8888888888888888,
             "#fdca26"
            ],
            [
             1,
             "#f0f921"
            ]
           ],
           "sequentialminus": [
            [
             0,
             "#0d0887"
            ],
            [
             0.1111111111111111,
             "#46039f"
            ],
            [
             0.2222222222222222,
             "#7201a8"
            ],
            [
             0.3333333333333333,
             "#9c179e"
            ],
            [
             0.4444444444444444,
             "#bd3786"
            ],
            [
             0.5555555555555556,
             "#d8576b"
            ],
            [
             0.6666666666666666,
             "#ed7953"
            ],
            [
             0.7777777777777778,
             "#fb9f3a"
            ],
            [
             0.8888888888888888,
             "#fdca26"
            ],
            [
             1,
             "#f0f921"
            ]
           ]
          },
          "colorway": [
           "#636efa",
           "#EF553B",
           "#00cc96",
           "#ab63fa",
           "#FFA15A",
           "#19d3f3",
           "#FF6692",
           "#B6E880",
           "#FF97FF",
           "#FECB52"
          ],
          "font": {
           "color": "#2a3f5f"
          },
          "geo": {
           "bgcolor": "white",
           "lakecolor": "white",
           "landcolor": "#E5ECF6",
           "showlakes": true,
           "showland": true,
           "subunitcolor": "white"
          },
          "hoverlabel": {
           "align": "left"
          },
          "hovermode": "closest",
          "mapbox": {
           "style": "light"
          },
          "paper_bgcolor": "white",
          "plot_bgcolor": "#E5ECF6",
          "polar": {
           "angularaxis": {
            "gridcolor": "white",
            "linecolor": "white",
            "ticks": ""
           },
           "bgcolor": "#E5ECF6",
           "radialaxis": {
            "gridcolor": "white",
            "linecolor": "white",
            "ticks": ""
           }
          },
          "scene": {
           "xaxis": {
            "backgroundcolor": "#E5ECF6",
            "gridcolor": "white",
            "gridwidth": 2,
            "linecolor": "white",
            "showbackground": true,
            "ticks": "",
            "zerolinecolor": "white"
           },
           "yaxis": {
            "backgroundcolor": "#E5ECF6",
            "gridcolor": "white",
            "gridwidth": 2,
            "linecolor": "white",
            "showbackground": true,
            "ticks": "",
            "zerolinecolor": "white"
           },
           "zaxis": {
            "backgroundcolor": "#E5ECF6",
            "gridcolor": "white",
            "gridwidth": 2,
            "linecolor": "white",
            "showbackground": true,
            "ticks": "",
            "zerolinecolor": "white"
           }
          },
          "shapedefaults": {
           "line": {
            "color": "#2a3f5f"
           }
          },
          "ternary": {
           "aaxis": {
            "gridcolor": "white",
            "linecolor": "white",
            "ticks": ""
           },
           "baxis": {
            "gridcolor": "white",
            "linecolor": "white",
            "ticks": ""
           },
           "bgcolor": "#E5ECF6",
           "caxis": {
            "gridcolor": "white",
            "linecolor": "white",
            "ticks": ""
           }
          },
          "title": {
           "x": 0.05
          },
          "xaxis": {
           "automargin": true,
           "gridcolor": "white",
           "linecolor": "white",
           "ticks": "",
           "title": {
            "standoff": 15
           },
           "zerolinecolor": "white",
           "zerolinewidth": 2
          },
          "yaxis": {
           "automargin": true,
           "gridcolor": "white",
           "linecolor": "white",
           "ticks": "",
           "title": {
            "standoff": 15
           },
           "zerolinecolor": "white",
           "zerolinewidth": 2
          }
         }
        }
       }
      },
      "text/html": [
       "<div>                            <div id=\"107f9d39-efe8-458a-80c8-98176093444a\" class=\"plotly-graph-div\" style=\"height:525px; width:100%;\"></div>            <script type=\"text/javascript\">                require([\"plotly\"], function(Plotly) {                    window.PLOTLYENV=window.PLOTLYENV || {};                                    if (document.getElementById(\"107f9d39-efe8-458a-80c8-98176093444a\")) {                    Plotly.newPlot(                        \"107f9d39-efe8-458a-80c8-98176093444a\",                        [{\"labels\":[\"Cash loans\",\"Revolving loans\"],\"values\":[278232,29279],\"type\":\"pie\"}],                        {\"template\":{\"data\":{\"barpolar\":[{\"marker\":{\"line\":{\"color\":\"#E5ECF6\",\"width\":0.5},\"pattern\":{\"fillmode\":\"overlay\",\"size\":10,\"solidity\":0.2}},\"type\":\"barpolar\"}],\"bar\":[{\"error_x\":{\"color\":\"#2a3f5f\"},\"error_y\":{\"color\":\"#2a3f5f\"},\"marker\":{\"line\":{\"color\":\"#E5ECF6\",\"width\":0.5},\"pattern\":{\"fillmode\":\"overlay\",\"size\":10,\"solidity\":0.2}},\"type\":\"bar\"}],\"carpet\":[{\"aaxis\":{\"endlinecolor\":\"#2a3f5f\",\"gridcolor\":\"white\",\"linecolor\":\"white\",\"minorgridcolor\":\"white\",\"startlinecolor\":\"#2a3f5f\"},\"baxis\":{\"endlinecolor\":\"#2a3f5f\",\"gridcolor\":\"white\",\"linecolor\":\"white\",\"minorgridcolor\":\"white\",\"startlinecolor\":\"#2a3f5f\"},\"type\":\"carpet\"}],\"choropleth\":[{\"colorbar\":{\"outlinewidth\":0,\"ticks\":\"\"},\"type\":\"choropleth\"}],\"contourcarpet\":[{\"colorbar\":{\"outlinewidth\":0,\"ticks\":\"\"},\"type\":\"contourcarpet\"}],\"contour\":[{\"colorbar\":{\"outlinewidth\":0,\"ticks\":\"\"},\"colorscale\":[[0.0,\"#0d0887\"],[0.1111111111111111,\"#46039f\"],[0.2222222222222222,\"#7201a8\"],[0.3333333333333333,\"#9c179e\"],[0.4444444444444444,\"#bd3786\"],[0.5555555555555556,\"#d8576b\"],[0.6666666666666666,\"#ed7953\"],[0.7777777777777778,\"#fb9f3a\"],[0.8888888888888888,\"#fdca26\"],[1.0,\"#f0f921\"]],\"type\":\"contour\"}],\"heatmapgl\":[{\"colorbar\":{\"outlinewidth\":0,\"ticks\":\"\"},\"colorscale\":[[0.0,\"#0d0887\"],[0.1111111111111111,\"#46039f\"],[0.2222222222222222,\"#7201a8\"],[0.3333333333333333,\"#9c179e\"],[0.4444444444444444,\"#bd3786\"],[0.5555555555555556,\"#d8576b\"],[0.6666666666666666,\"#ed7953\"],[0.7777777777777778,\"#fb9f3a\"],[0.8888888888888888,\"#fdca26\"],[1.0,\"#f0f921\"]],\"type\":\"heatmapgl\"}],\"heatmap\":[{\"colorbar\":{\"outlinewidth\":0,\"ticks\":\"\"},\"colorscale\":[[0.0,\"#0d0887\"],[0.1111111111111111,\"#46039f\"],[0.2222222222222222,\"#7201a8\"],[0.3333333333333333,\"#9c179e\"],[0.4444444444444444,\"#bd3786\"],[0.5555555555555556,\"#d8576b\"],[0.6666666666666666,\"#ed7953\"],[0.7777777777777778,\"#fb9f3a\"],[0.8888888888888888,\"#fdca26\"],[1.0,\"#f0f921\"]],\"type\":\"heatmap\"}],\"histogram2dcontour\":[{\"colorbar\":{\"outlinewidth\":0,\"ticks\":\"\"},\"colorscale\":[[0.0,\"#0d0887\"],[0.1111111111111111,\"#46039f\"],[0.2222222222222222,\"#7201a8\"],[0.3333333333333333,\"#9c179e\"],[0.4444444444444444,\"#bd3786\"],[0.5555555555555556,\"#d8576b\"],[0.6666666666666666,\"#ed7953\"],[0.7777777777777778,\"#fb9f3a\"],[0.8888888888888888,\"#fdca26\"],[1.0,\"#f0f921\"]],\"type\":\"histogram2dcontour\"}],\"histogram2d\":[{\"colorbar\":{\"outlinewidth\":0,\"ticks\":\"\"},\"colorscale\":[[0.0,\"#0d0887\"],[0.1111111111111111,\"#46039f\"],[0.2222222222222222,\"#7201a8\"],[0.3333333333333333,\"#9c179e\"],[0.4444444444444444,\"#bd3786\"],[0.5555555555555556,\"#d8576b\"],[0.6666666666666666,\"#ed7953\"],[0.7777777777777778,\"#fb9f3a\"],[0.8888888888888888,\"#fdca26\"],[1.0,\"#f0f921\"]],\"type\":\"histogram2d\"}],\"histogram\":[{\"marker\":{\"pattern\":{\"fillmode\":\"overlay\",\"size\":10,\"solidity\":0.2}},\"type\":\"histogram\"}],\"mesh3d\":[{\"colorbar\":{\"outlinewidth\":0,\"ticks\":\"\"},\"type\":\"mesh3d\"}],\"parcoords\":[{\"line\":{\"colorbar\":{\"outlinewidth\":0,\"ticks\":\"\"}},\"type\":\"parcoords\"}],\"pie\":[{\"automargin\":true,\"type\":\"pie\"}],\"scatter3d\":[{\"line\":{\"colorbar\":{\"outlinewidth\":0,\"ticks\":\"\"}},\"marker\":{\"colorbar\":{\"outlinewidth\":0,\"ticks\":\"\"}},\"type\":\"scatter3d\"}],\"scattercarpet\":[{\"marker\":{\"colorbar\":{\"outlinewidth\":0,\"ticks\":\"\"}},\"type\":\"scattercarpet\"}],\"scattergeo\":[{\"marker\":{\"colorbar\":{\"outlinewidth\":0,\"ticks\":\"\"}},\"type\":\"scattergeo\"}],\"scattergl\":[{\"marker\":{\"colorbar\":{\"outlinewidth\":0,\"ticks\":\"\"}},\"type\":\"scattergl\"}],\"scattermapbox\":[{\"marker\":{\"colorbar\":{\"outlinewidth\":0,\"ticks\":\"\"}},\"type\":\"scattermapbox\"}],\"scatterpolargl\":[{\"marker\":{\"colorbar\":{\"outlinewidth\":0,\"ticks\":\"\"}},\"type\":\"scatterpolargl\"}],\"scatterpolar\":[{\"marker\":{\"colorbar\":{\"outlinewidth\":0,\"ticks\":\"\"}},\"type\":\"scatterpolar\"}],\"scatter\":[{\"fillpattern\":{\"fillmode\":\"overlay\",\"size\":10,\"solidity\":0.2},\"type\":\"scatter\"}],\"scatterternary\":[{\"marker\":{\"colorbar\":{\"outlinewidth\":0,\"ticks\":\"\"}},\"type\":\"scatterternary\"}],\"surface\":[{\"colorbar\":{\"outlinewidth\":0,\"ticks\":\"\"},\"colorscale\":[[0.0,\"#0d0887\"],[0.1111111111111111,\"#46039f\"],[0.2222222222222222,\"#7201a8\"],[0.3333333333333333,\"#9c179e\"],[0.4444444444444444,\"#bd3786\"],[0.5555555555555556,\"#d8576b\"],[0.6666666666666666,\"#ed7953\"],[0.7777777777777778,\"#fb9f3a\"],[0.8888888888888888,\"#fdca26\"],[1.0,\"#f0f921\"]],\"type\":\"surface\"}],\"table\":[{\"cells\":{\"fill\":{\"color\":\"#EBF0F8\"},\"line\":{\"color\":\"white\"}},\"header\":{\"fill\":{\"color\":\"#C8D4E3\"},\"line\":{\"color\":\"white\"}},\"type\":\"table\"}]},\"layout\":{\"annotationdefaults\":{\"arrowcolor\":\"#2a3f5f\",\"arrowhead\":0,\"arrowwidth\":1},\"autotypenumbers\":\"strict\",\"coloraxis\":{\"colorbar\":{\"outlinewidth\":0,\"ticks\":\"\"}},\"colorscale\":{\"diverging\":[[0,\"#8e0152\"],[0.1,\"#c51b7d\"],[0.2,\"#de77ae\"],[0.3,\"#f1b6da\"],[0.4,\"#fde0ef\"],[0.5,\"#f7f7f7\"],[0.6,\"#e6f5d0\"],[0.7,\"#b8e186\"],[0.8,\"#7fbc41\"],[0.9,\"#4d9221\"],[1,\"#276419\"]],\"sequential\":[[0.0,\"#0d0887\"],[0.1111111111111111,\"#46039f\"],[0.2222222222222222,\"#7201a8\"],[0.3333333333333333,\"#9c179e\"],[0.4444444444444444,\"#bd3786\"],[0.5555555555555556,\"#d8576b\"],[0.6666666666666666,\"#ed7953\"],[0.7777777777777778,\"#fb9f3a\"],[0.8888888888888888,\"#fdca26\"],[1.0,\"#f0f921\"]],\"sequentialminus\":[[0.0,\"#0d0887\"],[0.1111111111111111,\"#46039f\"],[0.2222222222222222,\"#7201a8\"],[0.3333333333333333,\"#9c179e\"],[0.4444444444444444,\"#bd3786\"],[0.5555555555555556,\"#d8576b\"],[0.6666666666666666,\"#ed7953\"],[0.7777777777777778,\"#fb9f3a\"],[0.8888888888888888,\"#fdca26\"],[1.0,\"#f0f921\"]]},\"colorway\":[\"#636efa\",\"#EF553B\",\"#00cc96\",\"#ab63fa\",\"#FFA15A\",\"#19d3f3\",\"#FF6692\",\"#B6E880\",\"#FF97FF\",\"#FECB52\"],\"font\":{\"color\":\"#2a3f5f\"},\"geo\":{\"bgcolor\":\"white\",\"lakecolor\":\"white\",\"landcolor\":\"#E5ECF6\",\"showlakes\":true,\"showland\":true,\"subunitcolor\":\"white\"},\"hoverlabel\":{\"align\":\"left\"},\"hovermode\":\"closest\",\"mapbox\":{\"style\":\"light\"},\"paper_bgcolor\":\"white\",\"plot_bgcolor\":\"#E5ECF6\",\"polar\":{\"angularaxis\":{\"gridcolor\":\"white\",\"linecolor\":\"white\",\"ticks\":\"\"},\"bgcolor\":\"#E5ECF6\",\"radialaxis\":{\"gridcolor\":\"white\",\"linecolor\":\"white\",\"ticks\":\"\"}},\"scene\":{\"xaxis\":{\"backgroundcolor\":\"#E5ECF6\",\"gridcolor\":\"white\",\"gridwidth\":2,\"linecolor\":\"white\",\"showbackground\":true,\"ticks\":\"\",\"zerolinecolor\":\"white\"},\"yaxis\":{\"backgroundcolor\":\"#E5ECF6\",\"gridcolor\":\"white\",\"gridwidth\":2,\"linecolor\":\"white\",\"showbackground\":true,\"ticks\":\"\",\"zerolinecolor\":\"white\"},\"zaxis\":{\"backgroundcolor\":\"#E5ECF6\",\"gridcolor\":\"white\",\"gridwidth\":2,\"linecolor\":\"white\",\"showbackground\":true,\"ticks\":\"\",\"zerolinecolor\":\"white\"}},\"shapedefaults\":{\"line\":{\"color\":\"#2a3f5f\"}},\"ternary\":{\"aaxis\":{\"gridcolor\":\"white\",\"linecolor\":\"white\",\"ticks\":\"\"},\"baxis\":{\"gridcolor\":\"white\",\"linecolor\":\"white\",\"ticks\":\"\"},\"bgcolor\":\"#E5ECF6\",\"caxis\":{\"gridcolor\":\"white\",\"linecolor\":\"white\",\"ticks\":\"\"}},\"title\":{\"x\":0.05},\"xaxis\":{\"automargin\":true,\"gridcolor\":\"white\",\"linecolor\":\"white\",\"ticks\":\"\",\"title\":{\"standoff\":15},\"zerolinecolor\":\"white\",\"zerolinewidth\":2},\"yaxis\":{\"automargin\":true,\"gridcolor\":\"white\",\"linecolor\":\"white\",\"ticks\":\"\",\"title\":{\"standoff\":15},\"zerolinecolor\":\"white\",\"zerolinewidth\":2}}}},                        {\"responsive\": true}                    ).then(function(){\n",
       "                            \n",
       "var gd = document.getElementById('107f9d39-efe8-458a-80c8-98176093444a');\n",
       "var x = new MutationObserver(function (mutations, observer) {{\n",
       "        var display = window.getComputedStyle(gd).display;\n",
       "        if (!display || display === 'none') {{\n",
       "            console.log([gd, 'removed!']);\n",
       "            Plotly.purge(gd);\n",
       "            observer.disconnect();\n",
       "        }}\n",
       "}});\n",
       "\n",
       "// Listen for the removal of the full notebook cells\n",
       "var notebookContainer = gd.closest('#notebook-container');\n",
       "if (notebookContainer) {{\n",
       "    x.observe(notebookContainer, {childList: true});\n",
       "}}\n",
       "\n",
       "// Listen for the clearing of the current output cell\n",
       "var outputEl = gd.closest('.output');\n",
       "if (outputEl) {{\n",
       "    x.observe(outputEl, {childList: true});\n",
       "}}\n",
       "\n",
       "                        })                };                });            </script>        </div>"
      ]
     },
     "metadata": {},
     "output_type": "display_data"
    }
   ],
   "source": [
    "# Mengecek Tipe Pinjaman \n",
    "print('Tipe Pinjaman:\\n')\n",
    "print(app_train.groupby(['NAME_CONTRACT_TYPE'])['NAME_CONTRACT_TYPE'].count())\n",
    "\n",
    "# Plot Distribusi Target\n",
    "temp = app_train['NAME_CONTRACT_TYPE'].value_counts()\n",
    "df = {'data':[\n",
    "    {'labels': temp.index,\n",
    "    'values': temp.values,\n",
    "    'type' : 'pie'}\n",
    "]}\n",
    "iplot(df)"
   ]
  },
  {
   "cell_type": "markdown",
   "metadata": {},
   "source": [
    "Tipe pinjaman tunai (cash loans) lebih banyak"
   ]
  },
  {
   "cell_type": "code",
   "execution_count": 10,
   "metadata": {},
   "outputs": [
    {
     "name": "stdout",
     "output_type": "stream",
     "text": [
      "Distribusi Jenis Kelamin:\n",
      "\n",
      "CODE_GENDER\n",
      "F      202448\n",
      "M      105059\n",
      "XNA         4\n",
      "Name: CODE_GENDER, dtype: int64\n"
     ]
    },
    {
     "data": {
      "application/vnd.plotly.v1+json": {
       "config": {
        "linkText": "Export to plot.ly",
        "plotlyServerURL": "https://plot.ly",
        "showLink": false
       },
       "data": [
        {
         "labels": [
          "F",
          "M",
          "XNA"
         ],
         "type": "pie",
         "values": [
          202448,
          105059,
          4
         ]
        }
       ],
       "layout": {
        "template": {
         "data": {
          "bar": [
           {
            "error_x": {
             "color": "#2a3f5f"
            },
            "error_y": {
             "color": "#2a3f5f"
            },
            "marker": {
             "line": {
              "color": "#E5ECF6",
              "width": 0.5
             },
             "pattern": {
              "fillmode": "overlay",
              "size": 10,
              "solidity": 0.2
             }
            },
            "type": "bar"
           }
          ],
          "barpolar": [
           {
            "marker": {
             "line": {
              "color": "#E5ECF6",
              "width": 0.5
             },
             "pattern": {
              "fillmode": "overlay",
              "size": 10,
              "solidity": 0.2
             }
            },
            "type": "barpolar"
           }
          ],
          "carpet": [
           {
            "aaxis": {
             "endlinecolor": "#2a3f5f",
             "gridcolor": "white",
             "linecolor": "white",
             "minorgridcolor": "white",
             "startlinecolor": "#2a3f5f"
            },
            "baxis": {
             "endlinecolor": "#2a3f5f",
             "gridcolor": "white",
             "linecolor": "white",
             "minorgridcolor": "white",
             "startlinecolor": "#2a3f5f"
            },
            "type": "carpet"
           }
          ],
          "choropleth": [
           {
            "colorbar": {
             "outlinewidth": 0,
             "ticks": ""
            },
            "type": "choropleth"
           }
          ],
          "contour": [
           {
            "colorbar": {
             "outlinewidth": 0,
             "ticks": ""
            },
            "colorscale": [
             [
              0,
              "#0d0887"
             ],
             [
              0.1111111111111111,
              "#46039f"
             ],
             [
              0.2222222222222222,
              "#7201a8"
             ],
             [
              0.3333333333333333,
              "#9c179e"
             ],
             [
              0.4444444444444444,
              "#bd3786"
             ],
             [
              0.5555555555555556,
              "#d8576b"
             ],
             [
              0.6666666666666666,
              "#ed7953"
             ],
             [
              0.7777777777777778,
              "#fb9f3a"
             ],
             [
              0.8888888888888888,
              "#fdca26"
             ],
             [
              1,
              "#f0f921"
             ]
            ],
            "type": "contour"
           }
          ],
          "contourcarpet": [
           {
            "colorbar": {
             "outlinewidth": 0,
             "ticks": ""
            },
            "type": "contourcarpet"
           }
          ],
          "heatmap": [
           {
            "colorbar": {
             "outlinewidth": 0,
             "ticks": ""
            },
            "colorscale": [
             [
              0,
              "#0d0887"
             ],
             [
              0.1111111111111111,
              "#46039f"
             ],
             [
              0.2222222222222222,
              "#7201a8"
             ],
             [
              0.3333333333333333,
              "#9c179e"
             ],
             [
              0.4444444444444444,
              "#bd3786"
             ],
             [
              0.5555555555555556,
              "#d8576b"
             ],
             [
              0.6666666666666666,
              "#ed7953"
             ],
             [
              0.7777777777777778,
              "#fb9f3a"
             ],
             [
              0.8888888888888888,
              "#fdca26"
             ],
             [
              1,
              "#f0f921"
             ]
            ],
            "type": "heatmap"
           }
          ],
          "heatmapgl": [
           {
            "colorbar": {
             "outlinewidth": 0,
             "ticks": ""
            },
            "colorscale": [
             [
              0,
              "#0d0887"
             ],
             [
              0.1111111111111111,
              "#46039f"
             ],
             [
              0.2222222222222222,
              "#7201a8"
             ],
             [
              0.3333333333333333,
              "#9c179e"
             ],
             [
              0.4444444444444444,
              "#bd3786"
             ],
             [
              0.5555555555555556,
              "#d8576b"
             ],
             [
              0.6666666666666666,
              "#ed7953"
             ],
             [
              0.7777777777777778,
              "#fb9f3a"
             ],
             [
              0.8888888888888888,
              "#fdca26"
             ],
             [
              1,
              "#f0f921"
             ]
            ],
            "type": "heatmapgl"
           }
          ],
          "histogram": [
           {
            "marker": {
             "pattern": {
              "fillmode": "overlay",
              "size": 10,
              "solidity": 0.2
             }
            },
            "type": "histogram"
           }
          ],
          "histogram2d": [
           {
            "colorbar": {
             "outlinewidth": 0,
             "ticks": ""
            },
            "colorscale": [
             [
              0,
              "#0d0887"
             ],
             [
              0.1111111111111111,
              "#46039f"
             ],
             [
              0.2222222222222222,
              "#7201a8"
             ],
             [
              0.3333333333333333,
              "#9c179e"
             ],
             [
              0.4444444444444444,
              "#bd3786"
             ],
             [
              0.5555555555555556,
              "#d8576b"
             ],
             [
              0.6666666666666666,
              "#ed7953"
             ],
             [
              0.7777777777777778,
              "#fb9f3a"
             ],
             [
              0.8888888888888888,
              "#fdca26"
             ],
             [
              1,
              "#f0f921"
             ]
            ],
            "type": "histogram2d"
           }
          ],
          "histogram2dcontour": [
           {
            "colorbar": {
             "outlinewidth": 0,
             "ticks": ""
            },
            "colorscale": [
             [
              0,
              "#0d0887"
             ],
             [
              0.1111111111111111,
              "#46039f"
             ],
             [
              0.2222222222222222,
              "#7201a8"
             ],
             [
              0.3333333333333333,
              "#9c179e"
             ],
             [
              0.4444444444444444,
              "#bd3786"
             ],
             [
              0.5555555555555556,
              "#d8576b"
             ],
             [
              0.6666666666666666,
              "#ed7953"
             ],
             [
              0.7777777777777778,
              "#fb9f3a"
             ],
             [
              0.8888888888888888,
              "#fdca26"
             ],
             [
              1,
              "#f0f921"
             ]
            ],
            "type": "histogram2dcontour"
           }
          ],
          "mesh3d": [
           {
            "colorbar": {
             "outlinewidth": 0,
             "ticks": ""
            },
            "type": "mesh3d"
           }
          ],
          "parcoords": [
           {
            "line": {
             "colorbar": {
              "outlinewidth": 0,
              "ticks": ""
             }
            },
            "type": "parcoords"
           }
          ],
          "pie": [
           {
            "automargin": true,
            "type": "pie"
           }
          ],
          "scatter": [
           {
            "fillpattern": {
             "fillmode": "overlay",
             "size": 10,
             "solidity": 0.2
            },
            "type": "scatter"
           }
          ],
          "scatter3d": [
           {
            "line": {
             "colorbar": {
              "outlinewidth": 0,
              "ticks": ""
             }
            },
            "marker": {
             "colorbar": {
              "outlinewidth": 0,
              "ticks": ""
             }
            },
            "type": "scatter3d"
           }
          ],
          "scattercarpet": [
           {
            "marker": {
             "colorbar": {
              "outlinewidth": 0,
              "ticks": ""
             }
            },
            "type": "scattercarpet"
           }
          ],
          "scattergeo": [
           {
            "marker": {
             "colorbar": {
              "outlinewidth": 0,
              "ticks": ""
             }
            },
            "type": "scattergeo"
           }
          ],
          "scattergl": [
           {
            "marker": {
             "colorbar": {
              "outlinewidth": 0,
              "ticks": ""
             }
            },
            "type": "scattergl"
           }
          ],
          "scattermapbox": [
           {
            "marker": {
             "colorbar": {
              "outlinewidth": 0,
              "ticks": ""
             }
            },
            "type": "scattermapbox"
           }
          ],
          "scatterpolar": [
           {
            "marker": {
             "colorbar": {
              "outlinewidth": 0,
              "ticks": ""
             }
            },
            "type": "scatterpolar"
           }
          ],
          "scatterpolargl": [
           {
            "marker": {
             "colorbar": {
              "outlinewidth": 0,
              "ticks": ""
             }
            },
            "type": "scatterpolargl"
           }
          ],
          "scatterternary": [
           {
            "marker": {
             "colorbar": {
              "outlinewidth": 0,
              "ticks": ""
             }
            },
            "type": "scatterternary"
           }
          ],
          "surface": [
           {
            "colorbar": {
             "outlinewidth": 0,
             "ticks": ""
            },
            "colorscale": [
             [
              0,
              "#0d0887"
             ],
             [
              0.1111111111111111,
              "#46039f"
             ],
             [
              0.2222222222222222,
              "#7201a8"
             ],
             [
              0.3333333333333333,
              "#9c179e"
             ],
             [
              0.4444444444444444,
              "#bd3786"
             ],
             [
              0.5555555555555556,
              "#d8576b"
             ],
             [
              0.6666666666666666,
              "#ed7953"
             ],
             [
              0.7777777777777778,
              "#fb9f3a"
             ],
             [
              0.8888888888888888,
              "#fdca26"
             ],
             [
              1,
              "#f0f921"
             ]
            ],
            "type": "surface"
           }
          ],
          "table": [
           {
            "cells": {
             "fill": {
              "color": "#EBF0F8"
             },
             "line": {
              "color": "white"
             }
            },
            "header": {
             "fill": {
              "color": "#C8D4E3"
             },
             "line": {
              "color": "white"
             }
            },
            "type": "table"
           }
          ]
         },
         "layout": {
          "annotationdefaults": {
           "arrowcolor": "#2a3f5f",
           "arrowhead": 0,
           "arrowwidth": 1
          },
          "autotypenumbers": "strict",
          "coloraxis": {
           "colorbar": {
            "outlinewidth": 0,
            "ticks": ""
           }
          },
          "colorscale": {
           "diverging": [
            [
             0,
             "#8e0152"
            ],
            [
             0.1,
             "#c51b7d"
            ],
            [
             0.2,
             "#de77ae"
            ],
            [
             0.3,
             "#f1b6da"
            ],
            [
             0.4,
             "#fde0ef"
            ],
            [
             0.5,
             "#f7f7f7"
            ],
            [
             0.6,
             "#e6f5d0"
            ],
            [
             0.7,
             "#b8e186"
            ],
            [
             0.8,
             "#7fbc41"
            ],
            [
             0.9,
             "#4d9221"
            ],
            [
             1,
             "#276419"
            ]
           ],
           "sequential": [
            [
             0,
             "#0d0887"
            ],
            [
             0.1111111111111111,
             "#46039f"
            ],
            [
             0.2222222222222222,
             "#7201a8"
            ],
            [
             0.3333333333333333,
             "#9c179e"
            ],
            [
             0.4444444444444444,
             "#bd3786"
            ],
            [
             0.5555555555555556,
             "#d8576b"
            ],
            [
             0.6666666666666666,
             "#ed7953"
            ],
            [
             0.7777777777777778,
             "#fb9f3a"
            ],
            [
             0.8888888888888888,
             "#fdca26"
            ],
            [
             1,
             "#f0f921"
            ]
           ],
           "sequentialminus": [
            [
             0,
             "#0d0887"
            ],
            [
             0.1111111111111111,
             "#46039f"
            ],
            [
             0.2222222222222222,
             "#7201a8"
            ],
            [
             0.3333333333333333,
             "#9c179e"
            ],
            [
             0.4444444444444444,
             "#bd3786"
            ],
            [
             0.5555555555555556,
             "#d8576b"
            ],
            [
             0.6666666666666666,
             "#ed7953"
            ],
            [
             0.7777777777777778,
             "#fb9f3a"
            ],
            [
             0.8888888888888888,
             "#fdca26"
            ],
            [
             1,
             "#f0f921"
            ]
           ]
          },
          "colorway": [
           "#636efa",
           "#EF553B",
           "#00cc96",
           "#ab63fa",
           "#FFA15A",
           "#19d3f3",
           "#FF6692",
           "#B6E880",
           "#FF97FF",
           "#FECB52"
          ],
          "font": {
           "color": "#2a3f5f"
          },
          "geo": {
           "bgcolor": "white",
           "lakecolor": "white",
           "landcolor": "#E5ECF6",
           "showlakes": true,
           "showland": true,
           "subunitcolor": "white"
          },
          "hoverlabel": {
           "align": "left"
          },
          "hovermode": "closest",
          "mapbox": {
           "style": "light"
          },
          "paper_bgcolor": "white",
          "plot_bgcolor": "#E5ECF6",
          "polar": {
           "angularaxis": {
            "gridcolor": "white",
            "linecolor": "white",
            "ticks": ""
           },
           "bgcolor": "#E5ECF6",
           "radialaxis": {
            "gridcolor": "white",
            "linecolor": "white",
            "ticks": ""
           }
          },
          "scene": {
           "xaxis": {
            "backgroundcolor": "#E5ECF6",
            "gridcolor": "white",
            "gridwidth": 2,
            "linecolor": "white",
            "showbackground": true,
            "ticks": "",
            "zerolinecolor": "white"
           },
           "yaxis": {
            "backgroundcolor": "#E5ECF6",
            "gridcolor": "white",
            "gridwidth": 2,
            "linecolor": "white",
            "showbackground": true,
            "ticks": "",
            "zerolinecolor": "white"
           },
           "zaxis": {
            "backgroundcolor": "#E5ECF6",
            "gridcolor": "white",
            "gridwidth": 2,
            "linecolor": "white",
            "showbackground": true,
            "ticks": "",
            "zerolinecolor": "white"
           }
          },
          "shapedefaults": {
           "line": {
            "color": "#2a3f5f"
           }
          },
          "ternary": {
           "aaxis": {
            "gridcolor": "white",
            "linecolor": "white",
            "ticks": ""
           },
           "baxis": {
            "gridcolor": "white",
            "linecolor": "white",
            "ticks": ""
           },
           "bgcolor": "#E5ECF6",
           "caxis": {
            "gridcolor": "white",
            "linecolor": "white",
            "ticks": ""
           }
          },
          "title": {
           "x": 0.05
          },
          "xaxis": {
           "automargin": true,
           "gridcolor": "white",
           "linecolor": "white",
           "ticks": "",
           "title": {
            "standoff": 15
           },
           "zerolinecolor": "white",
           "zerolinewidth": 2
          },
          "yaxis": {
           "automargin": true,
           "gridcolor": "white",
           "linecolor": "white",
           "ticks": "",
           "title": {
            "standoff": 15
           },
           "zerolinecolor": "white",
           "zerolinewidth": 2
          }
         }
        }
       }
      },
      "text/html": [
       "<div>                            <div id=\"5f2fdd40-afce-4f91-89ea-3e6a7a228a17\" class=\"plotly-graph-div\" style=\"height:525px; width:100%;\"></div>            <script type=\"text/javascript\">                require([\"plotly\"], function(Plotly) {                    window.PLOTLYENV=window.PLOTLYENV || {};                                    if (document.getElementById(\"5f2fdd40-afce-4f91-89ea-3e6a7a228a17\")) {                    Plotly.newPlot(                        \"5f2fdd40-afce-4f91-89ea-3e6a7a228a17\",                        [{\"labels\":[\"F\",\"M\",\"XNA\"],\"values\":[202448,105059,4],\"type\":\"pie\"}],                        {\"template\":{\"data\":{\"barpolar\":[{\"marker\":{\"line\":{\"color\":\"#E5ECF6\",\"width\":0.5},\"pattern\":{\"fillmode\":\"overlay\",\"size\":10,\"solidity\":0.2}},\"type\":\"barpolar\"}],\"bar\":[{\"error_x\":{\"color\":\"#2a3f5f\"},\"error_y\":{\"color\":\"#2a3f5f\"},\"marker\":{\"line\":{\"color\":\"#E5ECF6\",\"width\":0.5},\"pattern\":{\"fillmode\":\"overlay\",\"size\":10,\"solidity\":0.2}},\"type\":\"bar\"}],\"carpet\":[{\"aaxis\":{\"endlinecolor\":\"#2a3f5f\",\"gridcolor\":\"white\",\"linecolor\":\"white\",\"minorgridcolor\":\"white\",\"startlinecolor\":\"#2a3f5f\"},\"baxis\":{\"endlinecolor\":\"#2a3f5f\",\"gridcolor\":\"white\",\"linecolor\":\"white\",\"minorgridcolor\":\"white\",\"startlinecolor\":\"#2a3f5f\"},\"type\":\"carpet\"}],\"choropleth\":[{\"colorbar\":{\"outlinewidth\":0,\"ticks\":\"\"},\"type\":\"choropleth\"}],\"contourcarpet\":[{\"colorbar\":{\"outlinewidth\":0,\"ticks\":\"\"},\"type\":\"contourcarpet\"}],\"contour\":[{\"colorbar\":{\"outlinewidth\":0,\"ticks\":\"\"},\"colorscale\":[[0.0,\"#0d0887\"],[0.1111111111111111,\"#46039f\"],[0.2222222222222222,\"#7201a8\"],[0.3333333333333333,\"#9c179e\"],[0.4444444444444444,\"#bd3786\"],[0.5555555555555556,\"#d8576b\"],[0.6666666666666666,\"#ed7953\"],[0.7777777777777778,\"#fb9f3a\"],[0.8888888888888888,\"#fdca26\"],[1.0,\"#f0f921\"]],\"type\":\"contour\"}],\"heatmapgl\":[{\"colorbar\":{\"outlinewidth\":0,\"ticks\":\"\"},\"colorscale\":[[0.0,\"#0d0887\"],[0.1111111111111111,\"#46039f\"],[0.2222222222222222,\"#7201a8\"],[0.3333333333333333,\"#9c179e\"],[0.4444444444444444,\"#bd3786\"],[0.5555555555555556,\"#d8576b\"],[0.6666666666666666,\"#ed7953\"],[0.7777777777777778,\"#fb9f3a\"],[0.8888888888888888,\"#fdca26\"],[1.0,\"#f0f921\"]],\"type\":\"heatmapgl\"}],\"heatmap\":[{\"colorbar\":{\"outlinewidth\":0,\"ticks\":\"\"},\"colorscale\":[[0.0,\"#0d0887\"],[0.1111111111111111,\"#46039f\"],[0.2222222222222222,\"#7201a8\"],[0.3333333333333333,\"#9c179e\"],[0.4444444444444444,\"#bd3786\"],[0.5555555555555556,\"#d8576b\"],[0.6666666666666666,\"#ed7953\"],[0.7777777777777778,\"#fb9f3a\"],[0.8888888888888888,\"#fdca26\"],[1.0,\"#f0f921\"]],\"type\":\"heatmap\"}],\"histogram2dcontour\":[{\"colorbar\":{\"outlinewidth\":0,\"ticks\":\"\"},\"colorscale\":[[0.0,\"#0d0887\"],[0.1111111111111111,\"#46039f\"],[0.2222222222222222,\"#7201a8\"],[0.3333333333333333,\"#9c179e\"],[0.4444444444444444,\"#bd3786\"],[0.5555555555555556,\"#d8576b\"],[0.6666666666666666,\"#ed7953\"],[0.7777777777777778,\"#fb9f3a\"],[0.8888888888888888,\"#fdca26\"],[1.0,\"#f0f921\"]],\"type\":\"histogram2dcontour\"}],\"histogram2d\":[{\"colorbar\":{\"outlinewidth\":0,\"ticks\":\"\"},\"colorscale\":[[0.0,\"#0d0887\"],[0.1111111111111111,\"#46039f\"],[0.2222222222222222,\"#7201a8\"],[0.3333333333333333,\"#9c179e\"],[0.4444444444444444,\"#bd3786\"],[0.5555555555555556,\"#d8576b\"],[0.6666666666666666,\"#ed7953\"],[0.7777777777777778,\"#fb9f3a\"],[0.8888888888888888,\"#fdca26\"],[1.0,\"#f0f921\"]],\"type\":\"histogram2d\"}],\"histogram\":[{\"marker\":{\"pattern\":{\"fillmode\":\"overlay\",\"size\":10,\"solidity\":0.2}},\"type\":\"histogram\"}],\"mesh3d\":[{\"colorbar\":{\"outlinewidth\":0,\"ticks\":\"\"},\"type\":\"mesh3d\"}],\"parcoords\":[{\"line\":{\"colorbar\":{\"outlinewidth\":0,\"ticks\":\"\"}},\"type\":\"parcoords\"}],\"pie\":[{\"automargin\":true,\"type\":\"pie\"}],\"scatter3d\":[{\"line\":{\"colorbar\":{\"outlinewidth\":0,\"ticks\":\"\"}},\"marker\":{\"colorbar\":{\"outlinewidth\":0,\"ticks\":\"\"}},\"type\":\"scatter3d\"}],\"scattercarpet\":[{\"marker\":{\"colorbar\":{\"outlinewidth\":0,\"ticks\":\"\"}},\"type\":\"scattercarpet\"}],\"scattergeo\":[{\"marker\":{\"colorbar\":{\"outlinewidth\":0,\"ticks\":\"\"}},\"type\":\"scattergeo\"}],\"scattergl\":[{\"marker\":{\"colorbar\":{\"outlinewidth\":0,\"ticks\":\"\"}},\"type\":\"scattergl\"}],\"scattermapbox\":[{\"marker\":{\"colorbar\":{\"outlinewidth\":0,\"ticks\":\"\"}},\"type\":\"scattermapbox\"}],\"scatterpolargl\":[{\"marker\":{\"colorbar\":{\"outlinewidth\":0,\"ticks\":\"\"}},\"type\":\"scatterpolargl\"}],\"scatterpolar\":[{\"marker\":{\"colorbar\":{\"outlinewidth\":0,\"ticks\":\"\"}},\"type\":\"scatterpolar\"}],\"scatter\":[{\"fillpattern\":{\"fillmode\":\"overlay\",\"size\":10,\"solidity\":0.2},\"type\":\"scatter\"}],\"scatterternary\":[{\"marker\":{\"colorbar\":{\"outlinewidth\":0,\"ticks\":\"\"}},\"type\":\"scatterternary\"}],\"surface\":[{\"colorbar\":{\"outlinewidth\":0,\"ticks\":\"\"},\"colorscale\":[[0.0,\"#0d0887\"],[0.1111111111111111,\"#46039f\"],[0.2222222222222222,\"#7201a8\"],[0.3333333333333333,\"#9c179e\"],[0.4444444444444444,\"#bd3786\"],[0.5555555555555556,\"#d8576b\"],[0.6666666666666666,\"#ed7953\"],[0.7777777777777778,\"#fb9f3a\"],[0.8888888888888888,\"#fdca26\"],[1.0,\"#f0f921\"]],\"type\":\"surface\"}],\"table\":[{\"cells\":{\"fill\":{\"color\":\"#EBF0F8\"},\"line\":{\"color\":\"white\"}},\"header\":{\"fill\":{\"color\":\"#C8D4E3\"},\"line\":{\"color\":\"white\"}},\"type\":\"table\"}]},\"layout\":{\"annotationdefaults\":{\"arrowcolor\":\"#2a3f5f\",\"arrowhead\":0,\"arrowwidth\":1},\"autotypenumbers\":\"strict\",\"coloraxis\":{\"colorbar\":{\"outlinewidth\":0,\"ticks\":\"\"}},\"colorscale\":{\"diverging\":[[0,\"#8e0152\"],[0.1,\"#c51b7d\"],[0.2,\"#de77ae\"],[0.3,\"#f1b6da\"],[0.4,\"#fde0ef\"],[0.5,\"#f7f7f7\"],[0.6,\"#e6f5d0\"],[0.7,\"#b8e186\"],[0.8,\"#7fbc41\"],[0.9,\"#4d9221\"],[1,\"#276419\"]],\"sequential\":[[0.0,\"#0d0887\"],[0.1111111111111111,\"#46039f\"],[0.2222222222222222,\"#7201a8\"],[0.3333333333333333,\"#9c179e\"],[0.4444444444444444,\"#bd3786\"],[0.5555555555555556,\"#d8576b\"],[0.6666666666666666,\"#ed7953\"],[0.7777777777777778,\"#fb9f3a\"],[0.8888888888888888,\"#fdca26\"],[1.0,\"#f0f921\"]],\"sequentialminus\":[[0.0,\"#0d0887\"],[0.1111111111111111,\"#46039f\"],[0.2222222222222222,\"#7201a8\"],[0.3333333333333333,\"#9c179e\"],[0.4444444444444444,\"#bd3786\"],[0.5555555555555556,\"#d8576b\"],[0.6666666666666666,\"#ed7953\"],[0.7777777777777778,\"#fb9f3a\"],[0.8888888888888888,\"#fdca26\"],[1.0,\"#f0f921\"]]},\"colorway\":[\"#636efa\",\"#EF553B\",\"#00cc96\",\"#ab63fa\",\"#FFA15A\",\"#19d3f3\",\"#FF6692\",\"#B6E880\",\"#FF97FF\",\"#FECB52\"],\"font\":{\"color\":\"#2a3f5f\"},\"geo\":{\"bgcolor\":\"white\",\"lakecolor\":\"white\",\"landcolor\":\"#E5ECF6\",\"showlakes\":true,\"showland\":true,\"subunitcolor\":\"white\"},\"hoverlabel\":{\"align\":\"left\"},\"hovermode\":\"closest\",\"mapbox\":{\"style\":\"light\"},\"paper_bgcolor\":\"white\",\"plot_bgcolor\":\"#E5ECF6\",\"polar\":{\"angularaxis\":{\"gridcolor\":\"white\",\"linecolor\":\"white\",\"ticks\":\"\"},\"bgcolor\":\"#E5ECF6\",\"radialaxis\":{\"gridcolor\":\"white\",\"linecolor\":\"white\",\"ticks\":\"\"}},\"scene\":{\"xaxis\":{\"backgroundcolor\":\"#E5ECF6\",\"gridcolor\":\"white\",\"gridwidth\":2,\"linecolor\":\"white\",\"showbackground\":true,\"ticks\":\"\",\"zerolinecolor\":\"white\"},\"yaxis\":{\"backgroundcolor\":\"#E5ECF6\",\"gridcolor\":\"white\",\"gridwidth\":2,\"linecolor\":\"white\",\"showbackground\":true,\"ticks\":\"\",\"zerolinecolor\":\"white\"},\"zaxis\":{\"backgroundcolor\":\"#E5ECF6\",\"gridcolor\":\"white\",\"gridwidth\":2,\"linecolor\":\"white\",\"showbackground\":true,\"ticks\":\"\",\"zerolinecolor\":\"white\"}},\"shapedefaults\":{\"line\":{\"color\":\"#2a3f5f\"}},\"ternary\":{\"aaxis\":{\"gridcolor\":\"white\",\"linecolor\":\"white\",\"ticks\":\"\"},\"baxis\":{\"gridcolor\":\"white\",\"linecolor\":\"white\",\"ticks\":\"\"},\"bgcolor\":\"#E5ECF6\",\"caxis\":{\"gridcolor\":\"white\",\"linecolor\":\"white\",\"ticks\":\"\"}},\"title\":{\"x\":0.05},\"xaxis\":{\"automargin\":true,\"gridcolor\":\"white\",\"linecolor\":\"white\",\"ticks\":\"\",\"title\":{\"standoff\":15},\"zerolinecolor\":\"white\",\"zerolinewidth\":2},\"yaxis\":{\"automargin\":true,\"gridcolor\":\"white\",\"linecolor\":\"white\",\"ticks\":\"\",\"title\":{\"standoff\":15},\"zerolinecolor\":\"white\",\"zerolinewidth\":2}}}},                        {\"responsive\": true}                    ).then(function(){\n",
       "                            \n",
       "var gd = document.getElementById('5f2fdd40-afce-4f91-89ea-3e6a7a228a17');\n",
       "var x = new MutationObserver(function (mutations, observer) {{\n",
       "        var display = window.getComputedStyle(gd).display;\n",
       "        if (!display || display === 'none') {{\n",
       "            console.log([gd, 'removed!']);\n",
       "            Plotly.purge(gd);\n",
       "            observer.disconnect();\n",
       "        }}\n",
       "}});\n",
       "\n",
       "// Listen for the removal of the full notebook cells\n",
       "var notebookContainer = gd.closest('#notebook-container');\n",
       "if (notebookContainer) {{\n",
       "    x.observe(notebookContainer, {childList: true});\n",
       "}}\n",
       "\n",
       "// Listen for the clearing of the current output cell\n",
       "var outputEl = gd.closest('.output');\n",
       "if (outputEl) {{\n",
       "    x.observe(outputEl, {childList: true});\n",
       "}}\n",
       "\n",
       "                        })                };                });            </script>        </div>"
      ]
     },
     "metadata": {},
     "output_type": "display_data"
    }
   ],
   "source": [
    "# Mengecek Distribusi Jenis Kelamin Klien\n",
    "print('Distribusi Jenis Kelamin:\\n')\n",
    "print(app_train.groupby(['CODE_GENDER'])['CODE_GENDER'].count())\n",
    "\n",
    "# Plot Jenis Kelamin\n",
    "temp = app_train['CODE_GENDER'].value_counts()\n",
    "df = {'data':[\n",
    "    {'labels': temp.index,\n",
    "     'values': temp.values,\n",
    "     'type' : 'pie'\n",
    "    }]\n",
    "     }\n",
    "iplot(df)"
   ]
  },
  {
   "cell_type": "markdown",
   "metadata": {},
   "source": [
    "Terlihat dari gambar di atas bahwa klien yang berjenis kelamin perempuan lebih banyak mengajukan aplikasi dibanding klien berjenis kelamin laki-laki"
   ]
  },
  {
   "cell_type": "code",
   "execution_count": 11,
   "metadata": {},
   "outputs": [
    {
     "name": "stdout",
     "output_type": "stream",
     "text": [
      "Distribusi Tipe Pendapatan:\n",
      "\n",
      "NAME_INCOME_TYPE\n",
      "Businessman                 10\n",
      "Commercial associate     71617\n",
      "Maternity leave              5\n",
      "Pensioner                55362\n",
      "State servant            21703\n",
      "Student                     18\n",
      "Unemployed                  22\n",
      "Working                 158774\n",
      "Name: NAME_INCOME_TYPE, dtype: int64\n"
     ]
    },
    {
     "data": {
      "application/vnd.plotly.v1+json": {
       "config": {
        "linkText": "Export to plot.ly",
        "plotlyServerURL": "https://plot.ly",
        "showLink": false
       },
       "data": [
        {
         "labels": [
          "Working",
          "Commercial associate",
          "Pensioner",
          "State servant",
          "Unemployed",
          "Student",
          "Businessman",
          "Maternity leave"
         ],
         "type": "pie",
         "values": [
          158774,
          71617,
          55362,
          21703,
          22,
          18,
          10,
          5
         ]
        }
       ],
       "layout": {
        "template": {
         "data": {
          "bar": [
           {
            "error_x": {
             "color": "#2a3f5f"
            },
            "error_y": {
             "color": "#2a3f5f"
            },
            "marker": {
             "line": {
              "color": "#E5ECF6",
              "width": 0.5
             },
             "pattern": {
              "fillmode": "overlay",
              "size": 10,
              "solidity": 0.2
             }
            },
            "type": "bar"
           }
          ],
          "barpolar": [
           {
            "marker": {
             "line": {
              "color": "#E5ECF6",
              "width": 0.5
             },
             "pattern": {
              "fillmode": "overlay",
              "size": 10,
              "solidity": 0.2
             }
            },
            "type": "barpolar"
           }
          ],
          "carpet": [
           {
            "aaxis": {
             "endlinecolor": "#2a3f5f",
             "gridcolor": "white",
             "linecolor": "white",
             "minorgridcolor": "white",
             "startlinecolor": "#2a3f5f"
            },
            "baxis": {
             "endlinecolor": "#2a3f5f",
             "gridcolor": "white",
             "linecolor": "white",
             "minorgridcolor": "white",
             "startlinecolor": "#2a3f5f"
            },
            "type": "carpet"
           }
          ],
          "choropleth": [
           {
            "colorbar": {
             "outlinewidth": 0,
             "ticks": ""
            },
            "type": "choropleth"
           }
          ],
          "contour": [
           {
            "colorbar": {
             "outlinewidth": 0,
             "ticks": ""
            },
            "colorscale": [
             [
              0,
              "#0d0887"
             ],
             [
              0.1111111111111111,
              "#46039f"
             ],
             [
              0.2222222222222222,
              "#7201a8"
             ],
             [
              0.3333333333333333,
              "#9c179e"
             ],
             [
              0.4444444444444444,
              "#bd3786"
             ],
             [
              0.5555555555555556,
              "#d8576b"
             ],
             [
              0.6666666666666666,
              "#ed7953"
             ],
             [
              0.7777777777777778,
              "#fb9f3a"
             ],
             [
              0.8888888888888888,
              "#fdca26"
             ],
             [
              1,
              "#f0f921"
             ]
            ],
            "type": "contour"
           }
          ],
          "contourcarpet": [
           {
            "colorbar": {
             "outlinewidth": 0,
             "ticks": ""
            },
            "type": "contourcarpet"
           }
          ],
          "heatmap": [
           {
            "colorbar": {
             "outlinewidth": 0,
             "ticks": ""
            },
            "colorscale": [
             [
              0,
              "#0d0887"
             ],
             [
              0.1111111111111111,
              "#46039f"
             ],
             [
              0.2222222222222222,
              "#7201a8"
             ],
             [
              0.3333333333333333,
              "#9c179e"
             ],
             [
              0.4444444444444444,
              "#bd3786"
             ],
             [
              0.5555555555555556,
              "#d8576b"
             ],
             [
              0.6666666666666666,
              "#ed7953"
             ],
             [
              0.7777777777777778,
              "#fb9f3a"
             ],
             [
              0.8888888888888888,
              "#fdca26"
             ],
             [
              1,
              "#f0f921"
             ]
            ],
            "type": "heatmap"
           }
          ],
          "heatmapgl": [
           {
            "colorbar": {
             "outlinewidth": 0,
             "ticks": ""
            },
            "colorscale": [
             [
              0,
              "#0d0887"
             ],
             [
              0.1111111111111111,
              "#46039f"
             ],
             [
              0.2222222222222222,
              "#7201a8"
             ],
             [
              0.3333333333333333,
              "#9c179e"
             ],
             [
              0.4444444444444444,
              "#bd3786"
             ],
             [
              0.5555555555555556,
              "#d8576b"
             ],
             [
              0.6666666666666666,
              "#ed7953"
             ],
             [
              0.7777777777777778,
              "#fb9f3a"
             ],
             [
              0.8888888888888888,
              "#fdca26"
             ],
             [
              1,
              "#f0f921"
             ]
            ],
            "type": "heatmapgl"
           }
          ],
          "histogram": [
           {
            "marker": {
             "pattern": {
              "fillmode": "overlay",
              "size": 10,
              "solidity": 0.2
             }
            },
            "type": "histogram"
           }
          ],
          "histogram2d": [
           {
            "colorbar": {
             "outlinewidth": 0,
             "ticks": ""
            },
            "colorscale": [
             [
              0,
              "#0d0887"
             ],
             [
              0.1111111111111111,
              "#46039f"
             ],
             [
              0.2222222222222222,
              "#7201a8"
             ],
             [
              0.3333333333333333,
              "#9c179e"
             ],
             [
              0.4444444444444444,
              "#bd3786"
             ],
             [
              0.5555555555555556,
              "#d8576b"
             ],
             [
              0.6666666666666666,
              "#ed7953"
             ],
             [
              0.7777777777777778,
              "#fb9f3a"
             ],
             [
              0.8888888888888888,
              "#fdca26"
             ],
             [
              1,
              "#f0f921"
             ]
            ],
            "type": "histogram2d"
           }
          ],
          "histogram2dcontour": [
           {
            "colorbar": {
             "outlinewidth": 0,
             "ticks": ""
            },
            "colorscale": [
             [
              0,
              "#0d0887"
             ],
             [
              0.1111111111111111,
              "#46039f"
             ],
             [
              0.2222222222222222,
              "#7201a8"
             ],
             [
              0.3333333333333333,
              "#9c179e"
             ],
             [
              0.4444444444444444,
              "#bd3786"
             ],
             [
              0.5555555555555556,
              "#d8576b"
             ],
             [
              0.6666666666666666,
              "#ed7953"
             ],
             [
              0.7777777777777778,
              "#fb9f3a"
             ],
             [
              0.8888888888888888,
              "#fdca26"
             ],
             [
              1,
              "#f0f921"
             ]
            ],
            "type": "histogram2dcontour"
           }
          ],
          "mesh3d": [
           {
            "colorbar": {
             "outlinewidth": 0,
             "ticks": ""
            },
            "type": "mesh3d"
           }
          ],
          "parcoords": [
           {
            "line": {
             "colorbar": {
              "outlinewidth": 0,
              "ticks": ""
             }
            },
            "type": "parcoords"
           }
          ],
          "pie": [
           {
            "automargin": true,
            "type": "pie"
           }
          ],
          "scatter": [
           {
            "fillpattern": {
             "fillmode": "overlay",
             "size": 10,
             "solidity": 0.2
            },
            "type": "scatter"
           }
          ],
          "scatter3d": [
           {
            "line": {
             "colorbar": {
              "outlinewidth": 0,
              "ticks": ""
             }
            },
            "marker": {
             "colorbar": {
              "outlinewidth": 0,
              "ticks": ""
             }
            },
            "type": "scatter3d"
           }
          ],
          "scattercarpet": [
           {
            "marker": {
             "colorbar": {
              "outlinewidth": 0,
              "ticks": ""
             }
            },
            "type": "scattercarpet"
           }
          ],
          "scattergeo": [
           {
            "marker": {
             "colorbar": {
              "outlinewidth": 0,
              "ticks": ""
             }
            },
            "type": "scattergeo"
           }
          ],
          "scattergl": [
           {
            "marker": {
             "colorbar": {
              "outlinewidth": 0,
              "ticks": ""
             }
            },
            "type": "scattergl"
           }
          ],
          "scattermapbox": [
           {
            "marker": {
             "colorbar": {
              "outlinewidth": 0,
              "ticks": ""
             }
            },
            "type": "scattermapbox"
           }
          ],
          "scatterpolar": [
           {
            "marker": {
             "colorbar": {
              "outlinewidth": 0,
              "ticks": ""
             }
            },
            "type": "scatterpolar"
           }
          ],
          "scatterpolargl": [
           {
            "marker": {
             "colorbar": {
              "outlinewidth": 0,
              "ticks": ""
             }
            },
            "type": "scatterpolargl"
           }
          ],
          "scatterternary": [
           {
            "marker": {
             "colorbar": {
              "outlinewidth": 0,
              "ticks": ""
             }
            },
            "type": "scatterternary"
           }
          ],
          "surface": [
           {
            "colorbar": {
             "outlinewidth": 0,
             "ticks": ""
            },
            "colorscale": [
             [
              0,
              "#0d0887"
             ],
             [
              0.1111111111111111,
              "#46039f"
             ],
             [
              0.2222222222222222,
              "#7201a8"
             ],
             [
              0.3333333333333333,
              "#9c179e"
             ],
             [
              0.4444444444444444,
              "#bd3786"
             ],
             [
              0.5555555555555556,
              "#d8576b"
             ],
             [
              0.6666666666666666,
              "#ed7953"
             ],
             [
              0.7777777777777778,
              "#fb9f3a"
             ],
             [
              0.8888888888888888,
              "#fdca26"
             ],
             [
              1,
              "#f0f921"
             ]
            ],
            "type": "surface"
           }
          ],
          "table": [
           {
            "cells": {
             "fill": {
              "color": "#EBF0F8"
             },
             "line": {
              "color": "white"
             }
            },
            "header": {
             "fill": {
              "color": "#C8D4E3"
             },
             "line": {
              "color": "white"
             }
            },
            "type": "table"
           }
          ]
         },
         "layout": {
          "annotationdefaults": {
           "arrowcolor": "#2a3f5f",
           "arrowhead": 0,
           "arrowwidth": 1
          },
          "autotypenumbers": "strict",
          "coloraxis": {
           "colorbar": {
            "outlinewidth": 0,
            "ticks": ""
           }
          },
          "colorscale": {
           "diverging": [
            [
             0,
             "#8e0152"
            ],
            [
             0.1,
             "#c51b7d"
            ],
            [
             0.2,
             "#de77ae"
            ],
            [
             0.3,
             "#f1b6da"
            ],
            [
             0.4,
             "#fde0ef"
            ],
            [
             0.5,
             "#f7f7f7"
            ],
            [
             0.6,
             "#e6f5d0"
            ],
            [
             0.7,
             "#b8e186"
            ],
            [
             0.8,
             "#7fbc41"
            ],
            [
             0.9,
             "#4d9221"
            ],
            [
             1,
             "#276419"
            ]
           ],
           "sequential": [
            [
             0,
             "#0d0887"
            ],
            [
             0.1111111111111111,
             "#46039f"
            ],
            [
             0.2222222222222222,
             "#7201a8"
            ],
            [
             0.3333333333333333,
             "#9c179e"
            ],
            [
             0.4444444444444444,
             "#bd3786"
            ],
            [
             0.5555555555555556,
             "#d8576b"
            ],
            [
             0.6666666666666666,
             "#ed7953"
            ],
            [
             0.7777777777777778,
             "#fb9f3a"
            ],
            [
             0.8888888888888888,
             "#fdca26"
            ],
            [
             1,
             "#f0f921"
            ]
           ],
           "sequentialminus": [
            [
             0,
             "#0d0887"
            ],
            [
             0.1111111111111111,
             "#46039f"
            ],
            [
             0.2222222222222222,
             "#7201a8"
            ],
            [
             0.3333333333333333,
             "#9c179e"
            ],
            [
             0.4444444444444444,
             "#bd3786"
            ],
            [
             0.5555555555555556,
             "#d8576b"
            ],
            [
             0.6666666666666666,
             "#ed7953"
            ],
            [
             0.7777777777777778,
             "#fb9f3a"
            ],
            [
             0.8888888888888888,
             "#fdca26"
            ],
            [
             1,
             "#f0f921"
            ]
           ]
          },
          "colorway": [
           "#636efa",
           "#EF553B",
           "#00cc96",
           "#ab63fa",
           "#FFA15A",
           "#19d3f3",
           "#FF6692",
           "#B6E880",
           "#FF97FF",
           "#FECB52"
          ],
          "font": {
           "color": "#2a3f5f"
          },
          "geo": {
           "bgcolor": "white",
           "lakecolor": "white",
           "landcolor": "#E5ECF6",
           "showlakes": true,
           "showland": true,
           "subunitcolor": "white"
          },
          "hoverlabel": {
           "align": "left"
          },
          "hovermode": "closest",
          "mapbox": {
           "style": "light"
          },
          "paper_bgcolor": "white",
          "plot_bgcolor": "#E5ECF6",
          "polar": {
           "angularaxis": {
            "gridcolor": "white",
            "linecolor": "white",
            "ticks": ""
           },
           "bgcolor": "#E5ECF6",
           "radialaxis": {
            "gridcolor": "white",
            "linecolor": "white",
            "ticks": ""
           }
          },
          "scene": {
           "xaxis": {
            "backgroundcolor": "#E5ECF6",
            "gridcolor": "white",
            "gridwidth": 2,
            "linecolor": "white",
            "showbackground": true,
            "ticks": "",
            "zerolinecolor": "white"
           },
           "yaxis": {
            "backgroundcolor": "#E5ECF6",
            "gridcolor": "white",
            "gridwidth": 2,
            "linecolor": "white",
            "showbackground": true,
            "ticks": "",
            "zerolinecolor": "white"
           },
           "zaxis": {
            "backgroundcolor": "#E5ECF6",
            "gridcolor": "white",
            "gridwidth": 2,
            "linecolor": "white",
            "showbackground": true,
            "ticks": "",
            "zerolinecolor": "white"
           }
          },
          "shapedefaults": {
           "line": {
            "color": "#2a3f5f"
           }
          },
          "ternary": {
           "aaxis": {
            "gridcolor": "white",
            "linecolor": "white",
            "ticks": ""
           },
           "baxis": {
            "gridcolor": "white",
            "linecolor": "white",
            "ticks": ""
           },
           "bgcolor": "#E5ECF6",
           "caxis": {
            "gridcolor": "white",
            "linecolor": "white",
            "ticks": ""
           }
          },
          "title": {
           "x": 0.05
          },
          "xaxis": {
           "automargin": true,
           "gridcolor": "white",
           "linecolor": "white",
           "ticks": "",
           "title": {
            "standoff": 15
           },
           "zerolinecolor": "white",
           "zerolinewidth": 2
          },
          "yaxis": {
           "automargin": true,
           "gridcolor": "white",
           "linecolor": "white",
           "ticks": "",
           "title": {
            "standoff": 15
           },
           "zerolinecolor": "white",
           "zerolinewidth": 2
          }
         }
        }
       }
      },
      "text/html": [
       "<div>                            <div id=\"c8223ba8-a4b6-43b7-80fb-2edbaa7d3aa1\" class=\"plotly-graph-div\" style=\"height:525px; width:100%;\"></div>            <script type=\"text/javascript\">                require([\"plotly\"], function(Plotly) {                    window.PLOTLYENV=window.PLOTLYENV || {};                                    if (document.getElementById(\"c8223ba8-a4b6-43b7-80fb-2edbaa7d3aa1\")) {                    Plotly.newPlot(                        \"c8223ba8-a4b6-43b7-80fb-2edbaa7d3aa1\",                        [{\"labels\":[\"Working\",\"Commercial associate\",\"Pensioner\",\"State servant\",\"Unemployed\",\"Student\",\"Businessman\",\"Maternity leave\"],\"values\":[158774,71617,55362,21703,22,18,10,5],\"type\":\"pie\"}],                        {\"template\":{\"data\":{\"barpolar\":[{\"marker\":{\"line\":{\"color\":\"#E5ECF6\",\"width\":0.5},\"pattern\":{\"fillmode\":\"overlay\",\"size\":10,\"solidity\":0.2}},\"type\":\"barpolar\"}],\"bar\":[{\"error_x\":{\"color\":\"#2a3f5f\"},\"error_y\":{\"color\":\"#2a3f5f\"},\"marker\":{\"line\":{\"color\":\"#E5ECF6\",\"width\":0.5},\"pattern\":{\"fillmode\":\"overlay\",\"size\":10,\"solidity\":0.2}},\"type\":\"bar\"}],\"carpet\":[{\"aaxis\":{\"endlinecolor\":\"#2a3f5f\",\"gridcolor\":\"white\",\"linecolor\":\"white\",\"minorgridcolor\":\"white\",\"startlinecolor\":\"#2a3f5f\"},\"baxis\":{\"endlinecolor\":\"#2a3f5f\",\"gridcolor\":\"white\",\"linecolor\":\"white\",\"minorgridcolor\":\"white\",\"startlinecolor\":\"#2a3f5f\"},\"type\":\"carpet\"}],\"choropleth\":[{\"colorbar\":{\"outlinewidth\":0,\"ticks\":\"\"},\"type\":\"choropleth\"}],\"contourcarpet\":[{\"colorbar\":{\"outlinewidth\":0,\"ticks\":\"\"},\"type\":\"contourcarpet\"}],\"contour\":[{\"colorbar\":{\"outlinewidth\":0,\"ticks\":\"\"},\"colorscale\":[[0.0,\"#0d0887\"],[0.1111111111111111,\"#46039f\"],[0.2222222222222222,\"#7201a8\"],[0.3333333333333333,\"#9c179e\"],[0.4444444444444444,\"#bd3786\"],[0.5555555555555556,\"#d8576b\"],[0.6666666666666666,\"#ed7953\"],[0.7777777777777778,\"#fb9f3a\"],[0.8888888888888888,\"#fdca26\"],[1.0,\"#f0f921\"]],\"type\":\"contour\"}],\"heatmapgl\":[{\"colorbar\":{\"outlinewidth\":0,\"ticks\":\"\"},\"colorscale\":[[0.0,\"#0d0887\"],[0.1111111111111111,\"#46039f\"],[0.2222222222222222,\"#7201a8\"],[0.3333333333333333,\"#9c179e\"],[0.4444444444444444,\"#bd3786\"],[0.5555555555555556,\"#d8576b\"],[0.6666666666666666,\"#ed7953\"],[0.7777777777777778,\"#fb9f3a\"],[0.8888888888888888,\"#fdca26\"],[1.0,\"#f0f921\"]],\"type\":\"heatmapgl\"}],\"heatmap\":[{\"colorbar\":{\"outlinewidth\":0,\"ticks\":\"\"},\"colorscale\":[[0.0,\"#0d0887\"],[0.1111111111111111,\"#46039f\"],[0.2222222222222222,\"#7201a8\"],[0.3333333333333333,\"#9c179e\"],[0.4444444444444444,\"#bd3786\"],[0.5555555555555556,\"#d8576b\"],[0.6666666666666666,\"#ed7953\"],[0.7777777777777778,\"#fb9f3a\"],[0.8888888888888888,\"#fdca26\"],[1.0,\"#f0f921\"]],\"type\":\"heatmap\"}],\"histogram2dcontour\":[{\"colorbar\":{\"outlinewidth\":0,\"ticks\":\"\"},\"colorscale\":[[0.0,\"#0d0887\"],[0.1111111111111111,\"#46039f\"],[0.2222222222222222,\"#7201a8\"],[0.3333333333333333,\"#9c179e\"],[0.4444444444444444,\"#bd3786\"],[0.5555555555555556,\"#d8576b\"],[0.6666666666666666,\"#ed7953\"],[0.7777777777777778,\"#fb9f3a\"],[0.8888888888888888,\"#fdca26\"],[1.0,\"#f0f921\"]],\"type\":\"histogram2dcontour\"}],\"histogram2d\":[{\"colorbar\":{\"outlinewidth\":0,\"ticks\":\"\"},\"colorscale\":[[0.0,\"#0d0887\"],[0.1111111111111111,\"#46039f\"],[0.2222222222222222,\"#7201a8\"],[0.3333333333333333,\"#9c179e\"],[0.4444444444444444,\"#bd3786\"],[0.5555555555555556,\"#d8576b\"],[0.6666666666666666,\"#ed7953\"],[0.7777777777777778,\"#fb9f3a\"],[0.8888888888888888,\"#fdca26\"],[1.0,\"#f0f921\"]],\"type\":\"histogram2d\"}],\"histogram\":[{\"marker\":{\"pattern\":{\"fillmode\":\"overlay\",\"size\":10,\"solidity\":0.2}},\"type\":\"histogram\"}],\"mesh3d\":[{\"colorbar\":{\"outlinewidth\":0,\"ticks\":\"\"},\"type\":\"mesh3d\"}],\"parcoords\":[{\"line\":{\"colorbar\":{\"outlinewidth\":0,\"ticks\":\"\"}},\"type\":\"parcoords\"}],\"pie\":[{\"automargin\":true,\"type\":\"pie\"}],\"scatter3d\":[{\"line\":{\"colorbar\":{\"outlinewidth\":0,\"ticks\":\"\"}},\"marker\":{\"colorbar\":{\"outlinewidth\":0,\"ticks\":\"\"}},\"type\":\"scatter3d\"}],\"scattercarpet\":[{\"marker\":{\"colorbar\":{\"outlinewidth\":0,\"ticks\":\"\"}},\"type\":\"scattercarpet\"}],\"scattergeo\":[{\"marker\":{\"colorbar\":{\"outlinewidth\":0,\"ticks\":\"\"}},\"type\":\"scattergeo\"}],\"scattergl\":[{\"marker\":{\"colorbar\":{\"outlinewidth\":0,\"ticks\":\"\"}},\"type\":\"scattergl\"}],\"scattermapbox\":[{\"marker\":{\"colorbar\":{\"outlinewidth\":0,\"ticks\":\"\"}},\"type\":\"scattermapbox\"}],\"scatterpolargl\":[{\"marker\":{\"colorbar\":{\"outlinewidth\":0,\"ticks\":\"\"}},\"type\":\"scatterpolargl\"}],\"scatterpolar\":[{\"marker\":{\"colorbar\":{\"outlinewidth\":0,\"ticks\":\"\"}},\"type\":\"scatterpolar\"}],\"scatter\":[{\"fillpattern\":{\"fillmode\":\"overlay\",\"size\":10,\"solidity\":0.2},\"type\":\"scatter\"}],\"scatterternary\":[{\"marker\":{\"colorbar\":{\"outlinewidth\":0,\"ticks\":\"\"}},\"type\":\"scatterternary\"}],\"surface\":[{\"colorbar\":{\"outlinewidth\":0,\"ticks\":\"\"},\"colorscale\":[[0.0,\"#0d0887\"],[0.1111111111111111,\"#46039f\"],[0.2222222222222222,\"#7201a8\"],[0.3333333333333333,\"#9c179e\"],[0.4444444444444444,\"#bd3786\"],[0.5555555555555556,\"#d8576b\"],[0.6666666666666666,\"#ed7953\"],[0.7777777777777778,\"#fb9f3a\"],[0.8888888888888888,\"#fdca26\"],[1.0,\"#f0f921\"]],\"type\":\"surface\"}],\"table\":[{\"cells\":{\"fill\":{\"color\":\"#EBF0F8\"},\"line\":{\"color\":\"white\"}},\"header\":{\"fill\":{\"color\":\"#C8D4E3\"},\"line\":{\"color\":\"white\"}},\"type\":\"table\"}]},\"layout\":{\"annotationdefaults\":{\"arrowcolor\":\"#2a3f5f\",\"arrowhead\":0,\"arrowwidth\":1},\"autotypenumbers\":\"strict\",\"coloraxis\":{\"colorbar\":{\"outlinewidth\":0,\"ticks\":\"\"}},\"colorscale\":{\"diverging\":[[0,\"#8e0152\"],[0.1,\"#c51b7d\"],[0.2,\"#de77ae\"],[0.3,\"#f1b6da\"],[0.4,\"#fde0ef\"],[0.5,\"#f7f7f7\"],[0.6,\"#e6f5d0\"],[0.7,\"#b8e186\"],[0.8,\"#7fbc41\"],[0.9,\"#4d9221\"],[1,\"#276419\"]],\"sequential\":[[0.0,\"#0d0887\"],[0.1111111111111111,\"#46039f\"],[0.2222222222222222,\"#7201a8\"],[0.3333333333333333,\"#9c179e\"],[0.4444444444444444,\"#bd3786\"],[0.5555555555555556,\"#d8576b\"],[0.6666666666666666,\"#ed7953\"],[0.7777777777777778,\"#fb9f3a\"],[0.8888888888888888,\"#fdca26\"],[1.0,\"#f0f921\"]],\"sequentialminus\":[[0.0,\"#0d0887\"],[0.1111111111111111,\"#46039f\"],[0.2222222222222222,\"#7201a8\"],[0.3333333333333333,\"#9c179e\"],[0.4444444444444444,\"#bd3786\"],[0.5555555555555556,\"#d8576b\"],[0.6666666666666666,\"#ed7953\"],[0.7777777777777778,\"#fb9f3a\"],[0.8888888888888888,\"#fdca26\"],[1.0,\"#f0f921\"]]},\"colorway\":[\"#636efa\",\"#EF553B\",\"#00cc96\",\"#ab63fa\",\"#FFA15A\",\"#19d3f3\",\"#FF6692\",\"#B6E880\",\"#FF97FF\",\"#FECB52\"],\"font\":{\"color\":\"#2a3f5f\"},\"geo\":{\"bgcolor\":\"white\",\"lakecolor\":\"white\",\"landcolor\":\"#E5ECF6\",\"showlakes\":true,\"showland\":true,\"subunitcolor\":\"white\"},\"hoverlabel\":{\"align\":\"left\"},\"hovermode\":\"closest\",\"mapbox\":{\"style\":\"light\"},\"paper_bgcolor\":\"white\",\"plot_bgcolor\":\"#E5ECF6\",\"polar\":{\"angularaxis\":{\"gridcolor\":\"white\",\"linecolor\":\"white\",\"ticks\":\"\"},\"bgcolor\":\"#E5ECF6\",\"radialaxis\":{\"gridcolor\":\"white\",\"linecolor\":\"white\",\"ticks\":\"\"}},\"scene\":{\"xaxis\":{\"backgroundcolor\":\"#E5ECF6\",\"gridcolor\":\"white\",\"gridwidth\":2,\"linecolor\":\"white\",\"showbackground\":true,\"ticks\":\"\",\"zerolinecolor\":\"white\"},\"yaxis\":{\"backgroundcolor\":\"#E5ECF6\",\"gridcolor\":\"white\",\"gridwidth\":2,\"linecolor\":\"white\",\"showbackground\":true,\"ticks\":\"\",\"zerolinecolor\":\"white\"},\"zaxis\":{\"backgroundcolor\":\"#E5ECF6\",\"gridcolor\":\"white\",\"gridwidth\":2,\"linecolor\":\"white\",\"showbackground\":true,\"ticks\":\"\",\"zerolinecolor\":\"white\"}},\"shapedefaults\":{\"line\":{\"color\":\"#2a3f5f\"}},\"ternary\":{\"aaxis\":{\"gridcolor\":\"white\",\"linecolor\":\"white\",\"ticks\":\"\"},\"baxis\":{\"gridcolor\":\"white\",\"linecolor\":\"white\",\"ticks\":\"\"},\"bgcolor\":\"#E5ECF6\",\"caxis\":{\"gridcolor\":\"white\",\"linecolor\":\"white\",\"ticks\":\"\"}},\"title\":{\"x\":0.05},\"xaxis\":{\"automargin\":true,\"gridcolor\":\"white\",\"linecolor\":\"white\",\"ticks\":\"\",\"title\":{\"standoff\":15},\"zerolinecolor\":\"white\",\"zerolinewidth\":2},\"yaxis\":{\"automargin\":true,\"gridcolor\":\"white\",\"linecolor\":\"white\",\"ticks\":\"\",\"title\":{\"standoff\":15},\"zerolinecolor\":\"white\",\"zerolinewidth\":2}}}},                        {\"responsive\": true}                    ).then(function(){\n",
       "                            \n",
       "var gd = document.getElementById('c8223ba8-a4b6-43b7-80fb-2edbaa7d3aa1');\n",
       "var x = new MutationObserver(function (mutations, observer) {{\n",
       "        var display = window.getComputedStyle(gd).display;\n",
       "        if (!display || display === 'none') {{\n",
       "            console.log([gd, 'removed!']);\n",
       "            Plotly.purge(gd);\n",
       "            observer.disconnect();\n",
       "        }}\n",
       "}});\n",
       "\n",
       "// Listen for the removal of the full notebook cells\n",
       "var notebookContainer = gd.closest('#notebook-container');\n",
       "if (notebookContainer) {{\n",
       "    x.observe(notebookContainer, {childList: true});\n",
       "}}\n",
       "\n",
       "// Listen for the clearing of the current output cell\n",
       "var outputEl = gd.closest('.output');\n",
       "if (outputEl) {{\n",
       "    x.observe(outputEl, {childList: true});\n",
       "}}\n",
       "\n",
       "                        })                };                });            </script>        </div>"
      ]
     },
     "metadata": {},
     "output_type": "display_data"
    }
   ],
   "source": [
    "# Mengecek Distribusi Tipe Pendapatan Klien\n",
    "print('Distribusi Tipe Pendapatan:\\n')\n",
    "print(app_train.groupby(['NAME_INCOME_TYPE'])['NAME_INCOME_TYPE'].count())\n",
    "\n",
    "# Plot Tipe Pendapatan\n",
    "temp = app_train['NAME_INCOME_TYPE'].value_counts()\n",
    "df = {'data':[\n",
    "    {'labels': temp.index,\n",
    "     'values': temp.values,\n",
    "     'type' : 'pie'\n",
    "    }]\n",
    "     }\n",
    "iplot(df)"
   ]
  },
  {
   "cell_type": "markdown",
   "metadata": {},
   "source": [
    "Klien yang memiliki sumber pendapatan dengan bekerja merupakan tipe klien terbanyak diantara yang lainnya. Sementara itu klien dengan tipe sumber pendapatan dari bisnis, cuti hamil, siswa, atau tidak bekerja tidak muncul dalam plot karena jumlah klien yang sangat sedikit yakni kurang dari 50."
   ]
  },
  {
   "cell_type": "code",
   "execution_count": 13,
   "metadata": {},
   "outputs": [
    {
     "name": "stdout",
     "output_type": "stream",
     "text": [
      "Distribusi Status Klien Dalam Keluarga:\n",
      "\n",
      "NAME_FAMILY_STATUS\n",
      "Civil marriage           29775\n",
      "Married                 196432\n",
      "Separated                19770\n",
      "Single / not married     45444\n",
      "Unknown                      2\n",
      "Widow                    16088\n",
      "Name: NAME_FAMILY_STATUS, dtype: int64\n"
     ]
    },
    {
     "data": {
      "application/vnd.plotly.v1+json": {
       "config": {
        "linkText": "Export to plot.ly",
        "plotlyServerURL": "https://plot.ly",
        "showLink": false
       },
       "data": [
        {
         "labels": [
          "Married",
          "Single / not married",
          "Civil marriage",
          "Separated",
          "Widow",
          "Unknown"
         ],
         "type": "pie",
         "values": [
          196432,
          45444,
          29775,
          19770,
          16088,
          2
         ]
        }
       ],
       "layout": {
        "template": {
         "data": {
          "bar": [
           {
            "error_x": {
             "color": "#2a3f5f"
            },
            "error_y": {
             "color": "#2a3f5f"
            },
            "marker": {
             "line": {
              "color": "#E5ECF6",
              "width": 0.5
             },
             "pattern": {
              "fillmode": "overlay",
              "size": 10,
              "solidity": 0.2
             }
            },
            "type": "bar"
           }
          ],
          "barpolar": [
           {
            "marker": {
             "line": {
              "color": "#E5ECF6",
              "width": 0.5
             },
             "pattern": {
              "fillmode": "overlay",
              "size": 10,
              "solidity": 0.2
             }
            },
            "type": "barpolar"
           }
          ],
          "carpet": [
           {
            "aaxis": {
             "endlinecolor": "#2a3f5f",
             "gridcolor": "white",
             "linecolor": "white",
             "minorgridcolor": "white",
             "startlinecolor": "#2a3f5f"
            },
            "baxis": {
             "endlinecolor": "#2a3f5f",
             "gridcolor": "white",
             "linecolor": "white",
             "minorgridcolor": "white",
             "startlinecolor": "#2a3f5f"
            },
            "type": "carpet"
           }
          ],
          "choropleth": [
           {
            "colorbar": {
             "outlinewidth": 0,
             "ticks": ""
            },
            "type": "choropleth"
           }
          ],
          "contour": [
           {
            "colorbar": {
             "outlinewidth": 0,
             "ticks": ""
            },
            "colorscale": [
             [
              0,
              "#0d0887"
             ],
             [
              0.1111111111111111,
              "#46039f"
             ],
             [
              0.2222222222222222,
              "#7201a8"
             ],
             [
              0.3333333333333333,
              "#9c179e"
             ],
             [
              0.4444444444444444,
              "#bd3786"
             ],
             [
              0.5555555555555556,
              "#d8576b"
             ],
             [
              0.6666666666666666,
              "#ed7953"
             ],
             [
              0.7777777777777778,
              "#fb9f3a"
             ],
             [
              0.8888888888888888,
              "#fdca26"
             ],
             [
              1,
              "#f0f921"
             ]
            ],
            "type": "contour"
           }
          ],
          "contourcarpet": [
           {
            "colorbar": {
             "outlinewidth": 0,
             "ticks": ""
            },
            "type": "contourcarpet"
           }
          ],
          "heatmap": [
           {
            "colorbar": {
             "outlinewidth": 0,
             "ticks": ""
            },
            "colorscale": [
             [
              0,
              "#0d0887"
             ],
             [
              0.1111111111111111,
              "#46039f"
             ],
             [
              0.2222222222222222,
              "#7201a8"
             ],
             [
              0.3333333333333333,
              "#9c179e"
             ],
             [
              0.4444444444444444,
              "#bd3786"
             ],
             [
              0.5555555555555556,
              "#d8576b"
             ],
             [
              0.6666666666666666,
              "#ed7953"
             ],
             [
              0.7777777777777778,
              "#fb9f3a"
             ],
             [
              0.8888888888888888,
              "#fdca26"
             ],
             [
              1,
              "#f0f921"
             ]
            ],
            "type": "heatmap"
           }
          ],
          "heatmapgl": [
           {
            "colorbar": {
             "outlinewidth": 0,
             "ticks": ""
            },
            "colorscale": [
             [
              0,
              "#0d0887"
             ],
             [
              0.1111111111111111,
              "#46039f"
             ],
             [
              0.2222222222222222,
              "#7201a8"
             ],
             [
              0.3333333333333333,
              "#9c179e"
             ],
             [
              0.4444444444444444,
              "#bd3786"
             ],
             [
              0.5555555555555556,
              "#d8576b"
             ],
             [
              0.6666666666666666,
              "#ed7953"
             ],
             [
              0.7777777777777778,
              "#fb9f3a"
             ],
             [
              0.8888888888888888,
              "#fdca26"
             ],
             [
              1,
              "#f0f921"
             ]
            ],
            "type": "heatmapgl"
           }
          ],
          "histogram": [
           {
            "marker": {
             "pattern": {
              "fillmode": "overlay",
              "size": 10,
              "solidity": 0.2
             }
            },
            "type": "histogram"
           }
          ],
          "histogram2d": [
           {
            "colorbar": {
             "outlinewidth": 0,
             "ticks": ""
            },
            "colorscale": [
             [
              0,
              "#0d0887"
             ],
             [
              0.1111111111111111,
              "#46039f"
             ],
             [
              0.2222222222222222,
              "#7201a8"
             ],
             [
              0.3333333333333333,
              "#9c179e"
             ],
             [
              0.4444444444444444,
              "#bd3786"
             ],
             [
              0.5555555555555556,
              "#d8576b"
             ],
             [
              0.6666666666666666,
              "#ed7953"
             ],
             [
              0.7777777777777778,
              "#fb9f3a"
             ],
             [
              0.8888888888888888,
              "#fdca26"
             ],
             [
              1,
              "#f0f921"
             ]
            ],
            "type": "histogram2d"
           }
          ],
          "histogram2dcontour": [
           {
            "colorbar": {
             "outlinewidth": 0,
             "ticks": ""
            },
            "colorscale": [
             [
              0,
              "#0d0887"
             ],
             [
              0.1111111111111111,
              "#46039f"
             ],
             [
              0.2222222222222222,
              "#7201a8"
             ],
             [
              0.3333333333333333,
              "#9c179e"
             ],
             [
              0.4444444444444444,
              "#bd3786"
             ],
             [
              0.5555555555555556,
              "#d8576b"
             ],
             [
              0.6666666666666666,
              "#ed7953"
             ],
             [
              0.7777777777777778,
              "#fb9f3a"
             ],
             [
              0.8888888888888888,
              "#fdca26"
             ],
             [
              1,
              "#f0f921"
             ]
            ],
            "type": "histogram2dcontour"
           }
          ],
          "mesh3d": [
           {
            "colorbar": {
             "outlinewidth": 0,
             "ticks": ""
            },
            "type": "mesh3d"
           }
          ],
          "parcoords": [
           {
            "line": {
             "colorbar": {
              "outlinewidth": 0,
              "ticks": ""
             }
            },
            "type": "parcoords"
           }
          ],
          "pie": [
           {
            "automargin": true,
            "type": "pie"
           }
          ],
          "scatter": [
           {
            "fillpattern": {
             "fillmode": "overlay",
             "size": 10,
             "solidity": 0.2
            },
            "type": "scatter"
           }
          ],
          "scatter3d": [
           {
            "line": {
             "colorbar": {
              "outlinewidth": 0,
              "ticks": ""
             }
            },
            "marker": {
             "colorbar": {
              "outlinewidth": 0,
              "ticks": ""
             }
            },
            "type": "scatter3d"
           }
          ],
          "scattercarpet": [
           {
            "marker": {
             "colorbar": {
              "outlinewidth": 0,
              "ticks": ""
             }
            },
            "type": "scattercarpet"
           }
          ],
          "scattergeo": [
           {
            "marker": {
             "colorbar": {
              "outlinewidth": 0,
              "ticks": ""
             }
            },
            "type": "scattergeo"
           }
          ],
          "scattergl": [
           {
            "marker": {
             "colorbar": {
              "outlinewidth": 0,
              "ticks": ""
             }
            },
            "type": "scattergl"
           }
          ],
          "scattermapbox": [
           {
            "marker": {
             "colorbar": {
              "outlinewidth": 0,
              "ticks": ""
             }
            },
            "type": "scattermapbox"
           }
          ],
          "scatterpolar": [
           {
            "marker": {
             "colorbar": {
              "outlinewidth": 0,
              "ticks": ""
             }
            },
            "type": "scatterpolar"
           }
          ],
          "scatterpolargl": [
           {
            "marker": {
             "colorbar": {
              "outlinewidth": 0,
              "ticks": ""
             }
            },
            "type": "scatterpolargl"
           }
          ],
          "scatterternary": [
           {
            "marker": {
             "colorbar": {
              "outlinewidth": 0,
              "ticks": ""
             }
            },
            "type": "scatterternary"
           }
          ],
          "surface": [
           {
            "colorbar": {
             "outlinewidth": 0,
             "ticks": ""
            },
            "colorscale": [
             [
              0,
              "#0d0887"
             ],
             [
              0.1111111111111111,
              "#46039f"
             ],
             [
              0.2222222222222222,
              "#7201a8"
             ],
             [
              0.3333333333333333,
              "#9c179e"
             ],
             [
              0.4444444444444444,
              "#bd3786"
             ],
             [
              0.5555555555555556,
              "#d8576b"
             ],
             [
              0.6666666666666666,
              "#ed7953"
             ],
             [
              0.7777777777777778,
              "#fb9f3a"
             ],
             [
              0.8888888888888888,
              "#fdca26"
             ],
             [
              1,
              "#f0f921"
             ]
            ],
            "type": "surface"
           }
          ],
          "table": [
           {
            "cells": {
             "fill": {
              "color": "#EBF0F8"
             },
             "line": {
              "color": "white"
             }
            },
            "header": {
             "fill": {
              "color": "#C8D4E3"
             },
             "line": {
              "color": "white"
             }
            },
            "type": "table"
           }
          ]
         },
         "layout": {
          "annotationdefaults": {
           "arrowcolor": "#2a3f5f",
           "arrowhead": 0,
           "arrowwidth": 1
          },
          "autotypenumbers": "strict",
          "coloraxis": {
           "colorbar": {
            "outlinewidth": 0,
            "ticks": ""
           }
          },
          "colorscale": {
           "diverging": [
            [
             0,
             "#8e0152"
            ],
            [
             0.1,
             "#c51b7d"
            ],
            [
             0.2,
             "#de77ae"
            ],
            [
             0.3,
             "#f1b6da"
            ],
            [
             0.4,
             "#fde0ef"
            ],
            [
             0.5,
             "#f7f7f7"
            ],
            [
             0.6,
             "#e6f5d0"
            ],
            [
             0.7,
             "#b8e186"
            ],
            [
             0.8,
             "#7fbc41"
            ],
            [
             0.9,
             "#4d9221"
            ],
            [
             1,
             "#276419"
            ]
           ],
           "sequential": [
            [
             0,
             "#0d0887"
            ],
            [
             0.1111111111111111,
             "#46039f"
            ],
            [
             0.2222222222222222,
             "#7201a8"
            ],
            [
             0.3333333333333333,
             "#9c179e"
            ],
            [
             0.4444444444444444,
             "#bd3786"
            ],
            [
             0.5555555555555556,
             "#d8576b"
            ],
            [
             0.6666666666666666,
             "#ed7953"
            ],
            [
             0.7777777777777778,
             "#fb9f3a"
            ],
            [
             0.8888888888888888,
             "#fdca26"
            ],
            [
             1,
             "#f0f921"
            ]
           ],
           "sequentialminus": [
            [
             0,
             "#0d0887"
            ],
            [
             0.1111111111111111,
             "#46039f"
            ],
            [
             0.2222222222222222,
             "#7201a8"
            ],
            [
             0.3333333333333333,
             "#9c179e"
            ],
            [
             0.4444444444444444,
             "#bd3786"
            ],
            [
             0.5555555555555556,
             "#d8576b"
            ],
            [
             0.6666666666666666,
             "#ed7953"
            ],
            [
             0.7777777777777778,
             "#fb9f3a"
            ],
            [
             0.8888888888888888,
             "#fdca26"
            ],
            [
             1,
             "#f0f921"
            ]
           ]
          },
          "colorway": [
           "#636efa",
           "#EF553B",
           "#00cc96",
           "#ab63fa",
           "#FFA15A",
           "#19d3f3",
           "#FF6692",
           "#B6E880",
           "#FF97FF",
           "#FECB52"
          ],
          "font": {
           "color": "#2a3f5f"
          },
          "geo": {
           "bgcolor": "white",
           "lakecolor": "white",
           "landcolor": "#E5ECF6",
           "showlakes": true,
           "showland": true,
           "subunitcolor": "white"
          },
          "hoverlabel": {
           "align": "left"
          },
          "hovermode": "closest",
          "mapbox": {
           "style": "light"
          },
          "paper_bgcolor": "white",
          "plot_bgcolor": "#E5ECF6",
          "polar": {
           "angularaxis": {
            "gridcolor": "white",
            "linecolor": "white",
            "ticks": ""
           },
           "bgcolor": "#E5ECF6",
           "radialaxis": {
            "gridcolor": "white",
            "linecolor": "white",
            "ticks": ""
           }
          },
          "scene": {
           "xaxis": {
            "backgroundcolor": "#E5ECF6",
            "gridcolor": "white",
            "gridwidth": 2,
            "linecolor": "white",
            "showbackground": true,
            "ticks": "",
            "zerolinecolor": "white"
           },
           "yaxis": {
            "backgroundcolor": "#E5ECF6",
            "gridcolor": "white",
            "gridwidth": 2,
            "linecolor": "white",
            "showbackground": true,
            "ticks": "",
            "zerolinecolor": "white"
           },
           "zaxis": {
            "backgroundcolor": "#E5ECF6",
            "gridcolor": "white",
            "gridwidth": 2,
            "linecolor": "white",
            "showbackground": true,
            "ticks": "",
            "zerolinecolor": "white"
           }
          },
          "shapedefaults": {
           "line": {
            "color": "#2a3f5f"
           }
          },
          "ternary": {
           "aaxis": {
            "gridcolor": "white",
            "linecolor": "white",
            "ticks": ""
           },
           "baxis": {
            "gridcolor": "white",
            "linecolor": "white",
            "ticks": ""
           },
           "bgcolor": "#E5ECF6",
           "caxis": {
            "gridcolor": "white",
            "linecolor": "white",
            "ticks": ""
           }
          },
          "title": {
           "x": 0.05
          },
          "xaxis": {
           "automargin": true,
           "gridcolor": "white",
           "linecolor": "white",
           "ticks": "",
           "title": {
            "standoff": 15
           },
           "zerolinecolor": "white",
           "zerolinewidth": 2
          },
          "yaxis": {
           "automargin": true,
           "gridcolor": "white",
           "linecolor": "white",
           "ticks": "",
           "title": {
            "standoff": 15
           },
           "zerolinecolor": "white",
           "zerolinewidth": 2
          }
         }
        }
       }
      },
      "text/html": [
       "<div>                            <div id=\"b4d3db64-690a-44b9-b9d5-7e96fa415cd7\" class=\"plotly-graph-div\" style=\"height:525px; width:100%;\"></div>            <script type=\"text/javascript\">                require([\"plotly\"], function(Plotly) {                    window.PLOTLYENV=window.PLOTLYENV || {};                                    if (document.getElementById(\"b4d3db64-690a-44b9-b9d5-7e96fa415cd7\")) {                    Plotly.newPlot(                        \"b4d3db64-690a-44b9-b9d5-7e96fa415cd7\",                        [{\"labels\":[\"Married\",\"Single / not married\",\"Civil marriage\",\"Separated\",\"Widow\",\"Unknown\"],\"values\":[196432,45444,29775,19770,16088,2],\"type\":\"pie\"}],                        {\"template\":{\"data\":{\"barpolar\":[{\"marker\":{\"line\":{\"color\":\"#E5ECF6\",\"width\":0.5},\"pattern\":{\"fillmode\":\"overlay\",\"size\":10,\"solidity\":0.2}},\"type\":\"barpolar\"}],\"bar\":[{\"error_x\":{\"color\":\"#2a3f5f\"},\"error_y\":{\"color\":\"#2a3f5f\"},\"marker\":{\"line\":{\"color\":\"#E5ECF6\",\"width\":0.5},\"pattern\":{\"fillmode\":\"overlay\",\"size\":10,\"solidity\":0.2}},\"type\":\"bar\"}],\"carpet\":[{\"aaxis\":{\"endlinecolor\":\"#2a3f5f\",\"gridcolor\":\"white\",\"linecolor\":\"white\",\"minorgridcolor\":\"white\",\"startlinecolor\":\"#2a3f5f\"},\"baxis\":{\"endlinecolor\":\"#2a3f5f\",\"gridcolor\":\"white\",\"linecolor\":\"white\",\"minorgridcolor\":\"white\",\"startlinecolor\":\"#2a3f5f\"},\"type\":\"carpet\"}],\"choropleth\":[{\"colorbar\":{\"outlinewidth\":0,\"ticks\":\"\"},\"type\":\"choropleth\"}],\"contourcarpet\":[{\"colorbar\":{\"outlinewidth\":0,\"ticks\":\"\"},\"type\":\"contourcarpet\"}],\"contour\":[{\"colorbar\":{\"outlinewidth\":0,\"ticks\":\"\"},\"colorscale\":[[0.0,\"#0d0887\"],[0.1111111111111111,\"#46039f\"],[0.2222222222222222,\"#7201a8\"],[0.3333333333333333,\"#9c179e\"],[0.4444444444444444,\"#bd3786\"],[0.5555555555555556,\"#d8576b\"],[0.6666666666666666,\"#ed7953\"],[0.7777777777777778,\"#fb9f3a\"],[0.8888888888888888,\"#fdca26\"],[1.0,\"#f0f921\"]],\"type\":\"contour\"}],\"heatmapgl\":[{\"colorbar\":{\"outlinewidth\":0,\"ticks\":\"\"},\"colorscale\":[[0.0,\"#0d0887\"],[0.1111111111111111,\"#46039f\"],[0.2222222222222222,\"#7201a8\"],[0.3333333333333333,\"#9c179e\"],[0.4444444444444444,\"#bd3786\"],[0.5555555555555556,\"#d8576b\"],[0.6666666666666666,\"#ed7953\"],[0.7777777777777778,\"#fb9f3a\"],[0.8888888888888888,\"#fdca26\"],[1.0,\"#f0f921\"]],\"type\":\"heatmapgl\"}],\"heatmap\":[{\"colorbar\":{\"outlinewidth\":0,\"ticks\":\"\"},\"colorscale\":[[0.0,\"#0d0887\"],[0.1111111111111111,\"#46039f\"],[0.2222222222222222,\"#7201a8\"],[0.3333333333333333,\"#9c179e\"],[0.4444444444444444,\"#bd3786\"],[0.5555555555555556,\"#d8576b\"],[0.6666666666666666,\"#ed7953\"],[0.7777777777777778,\"#fb9f3a\"],[0.8888888888888888,\"#fdca26\"],[1.0,\"#f0f921\"]],\"type\":\"heatmap\"}],\"histogram2dcontour\":[{\"colorbar\":{\"outlinewidth\":0,\"ticks\":\"\"},\"colorscale\":[[0.0,\"#0d0887\"],[0.1111111111111111,\"#46039f\"],[0.2222222222222222,\"#7201a8\"],[0.3333333333333333,\"#9c179e\"],[0.4444444444444444,\"#bd3786\"],[0.5555555555555556,\"#d8576b\"],[0.6666666666666666,\"#ed7953\"],[0.7777777777777778,\"#fb9f3a\"],[0.8888888888888888,\"#fdca26\"],[1.0,\"#f0f921\"]],\"type\":\"histogram2dcontour\"}],\"histogram2d\":[{\"colorbar\":{\"outlinewidth\":0,\"ticks\":\"\"},\"colorscale\":[[0.0,\"#0d0887\"],[0.1111111111111111,\"#46039f\"],[0.2222222222222222,\"#7201a8\"],[0.3333333333333333,\"#9c179e\"],[0.4444444444444444,\"#bd3786\"],[0.5555555555555556,\"#d8576b\"],[0.6666666666666666,\"#ed7953\"],[0.7777777777777778,\"#fb9f3a\"],[0.8888888888888888,\"#fdca26\"],[1.0,\"#f0f921\"]],\"type\":\"histogram2d\"}],\"histogram\":[{\"marker\":{\"pattern\":{\"fillmode\":\"overlay\",\"size\":10,\"solidity\":0.2}},\"type\":\"histogram\"}],\"mesh3d\":[{\"colorbar\":{\"outlinewidth\":0,\"ticks\":\"\"},\"type\":\"mesh3d\"}],\"parcoords\":[{\"line\":{\"colorbar\":{\"outlinewidth\":0,\"ticks\":\"\"}},\"type\":\"parcoords\"}],\"pie\":[{\"automargin\":true,\"type\":\"pie\"}],\"scatter3d\":[{\"line\":{\"colorbar\":{\"outlinewidth\":0,\"ticks\":\"\"}},\"marker\":{\"colorbar\":{\"outlinewidth\":0,\"ticks\":\"\"}},\"type\":\"scatter3d\"}],\"scattercarpet\":[{\"marker\":{\"colorbar\":{\"outlinewidth\":0,\"ticks\":\"\"}},\"type\":\"scattercarpet\"}],\"scattergeo\":[{\"marker\":{\"colorbar\":{\"outlinewidth\":0,\"ticks\":\"\"}},\"type\":\"scattergeo\"}],\"scattergl\":[{\"marker\":{\"colorbar\":{\"outlinewidth\":0,\"ticks\":\"\"}},\"type\":\"scattergl\"}],\"scattermapbox\":[{\"marker\":{\"colorbar\":{\"outlinewidth\":0,\"ticks\":\"\"}},\"type\":\"scattermapbox\"}],\"scatterpolargl\":[{\"marker\":{\"colorbar\":{\"outlinewidth\":0,\"ticks\":\"\"}},\"type\":\"scatterpolargl\"}],\"scatterpolar\":[{\"marker\":{\"colorbar\":{\"outlinewidth\":0,\"ticks\":\"\"}},\"type\":\"scatterpolar\"}],\"scatter\":[{\"fillpattern\":{\"fillmode\":\"overlay\",\"size\":10,\"solidity\":0.2},\"type\":\"scatter\"}],\"scatterternary\":[{\"marker\":{\"colorbar\":{\"outlinewidth\":0,\"ticks\":\"\"}},\"type\":\"scatterternary\"}],\"surface\":[{\"colorbar\":{\"outlinewidth\":0,\"ticks\":\"\"},\"colorscale\":[[0.0,\"#0d0887\"],[0.1111111111111111,\"#46039f\"],[0.2222222222222222,\"#7201a8\"],[0.3333333333333333,\"#9c179e\"],[0.4444444444444444,\"#bd3786\"],[0.5555555555555556,\"#d8576b\"],[0.6666666666666666,\"#ed7953\"],[0.7777777777777778,\"#fb9f3a\"],[0.8888888888888888,\"#fdca26\"],[1.0,\"#f0f921\"]],\"type\":\"surface\"}],\"table\":[{\"cells\":{\"fill\":{\"color\":\"#EBF0F8\"},\"line\":{\"color\":\"white\"}},\"header\":{\"fill\":{\"color\":\"#C8D4E3\"},\"line\":{\"color\":\"white\"}},\"type\":\"table\"}]},\"layout\":{\"annotationdefaults\":{\"arrowcolor\":\"#2a3f5f\",\"arrowhead\":0,\"arrowwidth\":1},\"autotypenumbers\":\"strict\",\"coloraxis\":{\"colorbar\":{\"outlinewidth\":0,\"ticks\":\"\"}},\"colorscale\":{\"diverging\":[[0,\"#8e0152\"],[0.1,\"#c51b7d\"],[0.2,\"#de77ae\"],[0.3,\"#f1b6da\"],[0.4,\"#fde0ef\"],[0.5,\"#f7f7f7\"],[0.6,\"#e6f5d0\"],[0.7,\"#b8e186\"],[0.8,\"#7fbc41\"],[0.9,\"#4d9221\"],[1,\"#276419\"]],\"sequential\":[[0.0,\"#0d0887\"],[0.1111111111111111,\"#46039f\"],[0.2222222222222222,\"#7201a8\"],[0.3333333333333333,\"#9c179e\"],[0.4444444444444444,\"#bd3786\"],[0.5555555555555556,\"#d8576b\"],[0.6666666666666666,\"#ed7953\"],[0.7777777777777778,\"#fb9f3a\"],[0.8888888888888888,\"#fdca26\"],[1.0,\"#f0f921\"]],\"sequentialminus\":[[0.0,\"#0d0887\"],[0.1111111111111111,\"#46039f\"],[0.2222222222222222,\"#7201a8\"],[0.3333333333333333,\"#9c179e\"],[0.4444444444444444,\"#bd3786\"],[0.5555555555555556,\"#d8576b\"],[0.6666666666666666,\"#ed7953\"],[0.7777777777777778,\"#fb9f3a\"],[0.8888888888888888,\"#fdca26\"],[1.0,\"#f0f921\"]]},\"colorway\":[\"#636efa\",\"#EF553B\",\"#00cc96\",\"#ab63fa\",\"#FFA15A\",\"#19d3f3\",\"#FF6692\",\"#B6E880\",\"#FF97FF\",\"#FECB52\"],\"font\":{\"color\":\"#2a3f5f\"},\"geo\":{\"bgcolor\":\"white\",\"lakecolor\":\"white\",\"landcolor\":\"#E5ECF6\",\"showlakes\":true,\"showland\":true,\"subunitcolor\":\"white\"},\"hoverlabel\":{\"align\":\"left\"},\"hovermode\":\"closest\",\"mapbox\":{\"style\":\"light\"},\"paper_bgcolor\":\"white\",\"plot_bgcolor\":\"#E5ECF6\",\"polar\":{\"angularaxis\":{\"gridcolor\":\"white\",\"linecolor\":\"white\",\"ticks\":\"\"},\"bgcolor\":\"#E5ECF6\",\"radialaxis\":{\"gridcolor\":\"white\",\"linecolor\":\"white\",\"ticks\":\"\"}},\"scene\":{\"xaxis\":{\"backgroundcolor\":\"#E5ECF6\",\"gridcolor\":\"white\",\"gridwidth\":2,\"linecolor\":\"white\",\"showbackground\":true,\"ticks\":\"\",\"zerolinecolor\":\"white\"},\"yaxis\":{\"backgroundcolor\":\"#E5ECF6\",\"gridcolor\":\"white\",\"gridwidth\":2,\"linecolor\":\"white\",\"showbackground\":true,\"ticks\":\"\",\"zerolinecolor\":\"white\"},\"zaxis\":{\"backgroundcolor\":\"#E5ECF6\",\"gridcolor\":\"white\",\"gridwidth\":2,\"linecolor\":\"white\",\"showbackground\":true,\"ticks\":\"\",\"zerolinecolor\":\"white\"}},\"shapedefaults\":{\"line\":{\"color\":\"#2a3f5f\"}},\"ternary\":{\"aaxis\":{\"gridcolor\":\"white\",\"linecolor\":\"white\",\"ticks\":\"\"},\"baxis\":{\"gridcolor\":\"white\",\"linecolor\":\"white\",\"ticks\":\"\"},\"bgcolor\":\"#E5ECF6\",\"caxis\":{\"gridcolor\":\"white\",\"linecolor\":\"white\",\"ticks\":\"\"}},\"title\":{\"x\":0.05},\"xaxis\":{\"automargin\":true,\"gridcolor\":\"white\",\"linecolor\":\"white\",\"ticks\":\"\",\"title\":{\"standoff\":15},\"zerolinecolor\":\"white\",\"zerolinewidth\":2},\"yaxis\":{\"automargin\":true,\"gridcolor\":\"white\",\"linecolor\":\"white\",\"ticks\":\"\",\"title\":{\"standoff\":15},\"zerolinecolor\":\"white\",\"zerolinewidth\":2}}}},                        {\"responsive\": true}                    ).then(function(){\n",
       "                            \n",
       "var gd = document.getElementById('b4d3db64-690a-44b9-b9d5-7e96fa415cd7');\n",
       "var x = new MutationObserver(function (mutations, observer) {{\n",
       "        var display = window.getComputedStyle(gd).display;\n",
       "        if (!display || display === 'none') {{\n",
       "            console.log([gd, 'removed!']);\n",
       "            Plotly.purge(gd);\n",
       "            observer.disconnect();\n",
       "        }}\n",
       "}});\n",
       "\n",
       "// Listen for the removal of the full notebook cells\n",
       "var notebookContainer = gd.closest('#notebook-container');\n",
       "if (notebookContainer) {{\n",
       "    x.observe(notebookContainer, {childList: true});\n",
       "}}\n",
       "\n",
       "// Listen for the clearing of the current output cell\n",
       "var outputEl = gd.closest('.output');\n",
       "if (outputEl) {{\n",
       "    x.observe(outputEl, {childList: true});\n",
       "}}\n",
       "\n",
       "                        })                };                });            </script>        </div>"
      ]
     },
     "metadata": {},
     "output_type": "display_data"
    }
   ],
   "source": [
    "# Mengecek Distribusi Status Dalam Keluarga\n",
    "print('Distribusi Status Klien Dalam Keluarga:\\n')\n",
    "print(app_train.groupby(['NAME_FAMILY_STATUS'])['NAME_FAMILY_STATUS'].count())\n",
    "\n",
    "# Plot Distribusi Target\n",
    "temp = app_train['NAME_FAMILY_STATUS'].value_counts()\n",
    "df = {'data':[\n",
    "    {'labels': temp.index,\n",
    "    'values': temp.values,\n",
    "    'type' : 'pie'}\n",
    "]}\n",
    "iplot(df)"
   ]
  },
  {
   "cell_type": "markdown",
   "metadata": {},
   "source": [
    "Klien dengan status sudah menikah lebih banyak mengajukan pinjaman dibanding klien dengan status lainnya."
   ]
  },
  {
   "cell_type": "code",
   "execution_count": 14,
   "metadata": {},
   "outputs": [
    {
     "data": {
      "text/plain": [
       "EXT_SOURCE_2                   -0.160295\n",
       "EXT_SOURCE_3                   -0.155892\n",
       "EXT_SOURCE_1                   -0.098887\n",
       "DAYS_EMPLOYED                  -0.044932\n",
       "AMT_GOODS_PRICE                -0.039623\n",
       "FLOORSMAX_AVG                  -0.039385\n",
       "FLOORSMAX_MEDI                 -0.039157\n",
       "FLOORSMAX_MODE                 -0.038377\n",
       "REGION_POPULATION_RELATIVE     -0.037227\n",
       "ELEVATORS_AVG                  -0.035853\n",
       "ELEVATORS_MEDI                 -0.035552\n",
       "ELEVATORS_MODE                 -0.034220\n",
       "AMT_CREDIT                     -0.030369\n",
       "TOTALAREA_MODE                 -0.030214\n",
       "LIVINGAREA_AVG                 -0.029464\n",
       "LIVINGAREA_MEDI                -0.029359\n",
       "FLAG_DOCUMENT_6                -0.028602\n",
       "LIVINGAREA_MODE                -0.027884\n",
       "APARTMENTS_MEDI                -0.026841\n",
       "APARTMENTS_AVG                 -0.026734\n",
       "APARTMENTS_MODE                -0.025418\n",
       "HOUR_APPR_PROCESS_START        -0.024166\n",
       "FLAG_PHONE                     -0.023806\n",
       "FLOORSMIN_AVG                  -0.021158\n",
       "FLOORSMIN_MEDI                 -0.020995\n",
       "FLOORSMIN_MODE                 -0.020147\n",
       "LIVINGAPARTMENTS_AVG           -0.019262\n",
       "LIVINGAPARTMENTS_MEDI          -0.019138\n",
       "LIVINGAPARTMENTS_MODE          -0.018829\n",
       "NONLIVINGAREA_AVG              -0.018187\n",
       "NONLIVINGAREA_MEDI             -0.018094\n",
       "NONLIVINGAREA_MODE             -0.017984\n",
       "BASEMENTAREA_AVG               -0.017634\n",
       "BASEMENTAREA_MEDI              -0.017255\n",
       "COMMONAREA_MEDI                -0.016266\n",
       "COMMONAREA_AVG                 -0.016194\n",
       "BASEMENTAREA_MODE              -0.016136\n",
       "ENTRANCES_AVG                  -0.015984\n",
       "ENTRANCES_MEDI                 -0.015734\n",
       "COMMONAREA_MODE                -0.015238\n",
       "AMT_REQ_CREDIT_BUREAU_MON      -0.014794\n",
       "ENTRANCES_MODE                 -0.013515\n",
       "AMT_ANNUITY                    -0.012815\n",
       "LANDAREA_MEDI                  -0.012269\n",
       "LANDAREA_AVG                   -0.012047\n",
       "LANDAREA_MODE                  -0.011860\n",
       "FLAG_DOCUMENT_16               -0.011615\n",
       "FLAG_DOCUMENT_13               -0.011583\n",
       "YEARS_BUILD_MEDI               -0.011364\n",
       "YEARS_BUILD_AVG                -0.011281\n",
       "YEARS_BUILD_MODE               -0.010648\n",
       "FLAG_DOCUMENT_14               -0.009464\n",
       "FLAG_DOCUMENT_8                -0.008040\n",
       "FLAG_DOCUMENT_18               -0.007952\n",
       "FLAG_DOCUMENT_15               -0.006536\n",
       "NONLIVINGAPARTMENTS_AVG        -0.005910\n",
       "AMT_REQ_CREDIT_BUREAU_QRT      -0.005833\n",
       "NONLIVINGAPARTMENTS_MEDI       -0.005650\n",
       "YEARS_BEGINEXPLUATATION_MEDI   -0.004872\n",
       "NONLIVINGAPARTMENTS_MODE       -0.004859\n",
       "YEARS_BEGINEXPLUATATION_AVG    -0.004665\n",
       "FLAG_DOCUMENT_9                -0.004352\n",
       "FLAG_DOCUMENT_11               -0.004229\n",
       "YEARS_BEGINEXPLUATATION_MODE   -0.004061\n",
       "AMT_INCOME_TOTAL               -0.003982\n",
       "FLAG_DOCUMENT_17               -0.003378\n",
       "FLAG_DOCUMENT_4                -0.002672\n",
       "SK_ID_CURR                     -0.002108\n",
       "FLAG_EMAIL                     -0.001758\n",
       "FLAG_DOCUMENT_7                -0.001520\n",
       "FLAG_DOCUMENT_10               -0.001414\n",
       "FLAG_DOCUMENT_19               -0.001358\n",
       "AMT_REQ_CREDIT_BUREAU_WEEK     -0.001306\n",
       "FLAG_DOCUMENT_12               -0.000756\n",
       "FLAG_DOCUMENT_5                -0.000316\n",
       "AMT_REQ_CREDIT_BUREAU_HOUR     -0.000074\n",
       "FLAG_DOCUMENT_20                0.000215\n",
       "FLAG_CONT_MOBILE                0.000370\n",
       "FLAG_MOBIL                      0.000534\n",
       "AMT_REQ_CREDIT_BUREAU_DAY       0.001701\n",
       "LIVE_REGION_NOT_WORK_REGION     0.002819\n",
       "FLAG_DOCUMENT_21                0.003709\n",
       "FLAG_DOCUMENT_2                 0.005417\n",
       "REG_REGION_NOT_LIVE_REGION      0.005576\n",
       "REG_REGION_NOT_WORK_REGION      0.006942\n",
       "CNT_FAM_MEMBERS                 0.009308\n",
       "OBS_60_CNT_SOCIAL_CIRCLE        0.009337\n",
       "OBS_30_CNT_SOCIAL_CIRCLE        0.009447\n",
       "AMT_REQ_CREDIT_BUREAU_YEAR      0.012161\n",
       "OWN_CAR_AGE                     0.015982\n",
       "CNT_CHILDREN                    0.019187\n",
       "FLAG_WORK_PHONE                 0.028524\n",
       "DEF_60_CNT_SOCIAL_CIRCLE        0.031401\n",
       "DEF_30_CNT_SOCIAL_CIRCLE        0.032394\n",
       "LIVE_CITY_NOT_WORK_CITY         0.032518\n",
       "DAYS_REGISTRATION               0.041975\n",
       "FLAG_DOCUMENT_3                 0.044346\n",
       "REG_CITY_NOT_LIVE_CITY          0.044395\n",
       "FLAG_EMP_PHONE                  0.045982\n",
       "REG_CITY_NOT_WORK_CITY          0.050994\n",
       "DAYS_ID_PUBLISH                 0.051457\n",
       "DAYS_LAST_PHONE_CHANGE          0.055218\n",
       "REGION_RATING_CLIENT            0.058899\n",
       "REGION_RATING_CLIENT_W_CITY     0.060893\n",
       "DAYS_BIRTH                      0.078239\n",
       "TARGET                          1.000000\n",
       "Name: TARGET, dtype: float64"
      ]
     },
     "execution_count": 14,
     "metadata": {},
     "output_type": "execute_result"
    }
   ],
   "source": [
    "app_train_corr['TARGET'].sort_values()"
   ]
  },
  {
   "cell_type": "markdown",
   "metadata": {},
   "source": [
    "Beberapa feature seperti DAYS_BIRTH, REGION_RATING_CLIENT_W_CITY, REGION_RATING_CLIENT, DAYS_LAST_PHONE_CHANGE, DAYS_ID_PUBLISH, REG_CITY_NOT_WORK_CITY memiliki korelasi tertinggi dengan TARGET diantara feature lainnya. Sementara itu korelasi terendah dengan TARGET ditunjukkan oleh feature EXT_SOURCE_2, EXT_SOURCE_3, EXT_SOURCE_1, dan DAYS_EMPLOYED. Beberapa feature tersebut selanjutnya akan dipilih untuk dilakukan pemodelan menggunakan algoritma machine learning yakni Logistic Regression dan Decision Tree. Selain feature-feature tersebut, feature bertipe string lainnya seperti CODE_GENDER, NAME_INCOME_TYPE, dan NAME_EDUCATION_TYPE juga dipilih untuk dilakukan pemodelan, namun terlebih dahulu dilakukan konversi dari tipe data string ke numerik."
   ]
  },
  {
   "cell_type": "code",
   "execution_count": 15,
   "metadata": {},
   "outputs": [
    {
     "data": {
      "text/html": [
       "<div>\n",
       "<style scoped>\n",
       "    .dataframe tbody tr th:only-of-type {\n",
       "        vertical-align: middle;\n",
       "    }\n",
       "\n",
       "    .dataframe tbody tr th {\n",
       "        vertical-align: top;\n",
       "    }\n",
       "\n",
       "    .dataframe thead th {\n",
       "        text-align: right;\n",
       "    }\n",
       "</style>\n",
       "<table border=\"1\" class=\"dataframe\">\n",
       "  <thead>\n",
       "    <tr style=\"text-align: right;\">\n",
       "      <th></th>\n",
       "      <th>TARGET</th>\n",
       "      <th>DAYS_BIRTH</th>\n",
       "      <th>REGION_RATING_CLIENT_W_CITY</th>\n",
       "      <th>REGION_RATING_CLIENT</th>\n",
       "      <th>DAYS_LAST_PHONE_CHANGE</th>\n",
       "      <th>DAYS_ID_PUBLISH</th>\n",
       "      <th>REG_CITY_NOT_WORK_CITY</th>\n",
       "      <th>DAYS_EMPLOYED</th>\n",
       "      <th>EXT_SOURCE_1</th>\n",
       "      <th>EXT_SOURCE_2</th>\n",
       "      <th>EXT_SOURCE_3</th>\n",
       "      <th>CODE_GENDER</th>\n",
       "      <th>NAME_INCOME_TYPE</th>\n",
       "      <th>NAME_EDUCATION_TYPE</th>\n",
       "    </tr>\n",
       "  </thead>\n",
       "  <tbody>\n",
       "    <tr>\n",
       "      <td>0</td>\n",
       "      <td>1</td>\n",
       "      <td>-9461</td>\n",
       "      <td>2</td>\n",
       "      <td>2</td>\n",
       "      <td>-1134.0</td>\n",
       "      <td>-2120</td>\n",
       "      <td>0</td>\n",
       "      <td>-637</td>\n",
       "      <td>0.083037</td>\n",
       "      <td>0.262949</td>\n",
       "      <td>0.139376</td>\n",
       "      <td>M</td>\n",
       "      <td>Working</td>\n",
       "      <td>Secondary / secondary special</td>\n",
       "    </tr>\n",
       "    <tr>\n",
       "      <td>1</td>\n",
       "      <td>0</td>\n",
       "      <td>-16765</td>\n",
       "      <td>1</td>\n",
       "      <td>1</td>\n",
       "      <td>-828.0</td>\n",
       "      <td>-291</td>\n",
       "      <td>0</td>\n",
       "      <td>-1188</td>\n",
       "      <td>0.311267</td>\n",
       "      <td>0.622246</td>\n",
       "      <td>0.535276</td>\n",
       "      <td>F</td>\n",
       "      <td>State servant</td>\n",
       "      <td>Higher education</td>\n",
       "    </tr>\n",
       "    <tr>\n",
       "      <td>2</td>\n",
       "      <td>0</td>\n",
       "      <td>-19046</td>\n",
       "      <td>2</td>\n",
       "      <td>2</td>\n",
       "      <td>-815.0</td>\n",
       "      <td>-2531</td>\n",
       "      <td>0</td>\n",
       "      <td>-225</td>\n",
       "      <td>0.505998</td>\n",
       "      <td>0.555912</td>\n",
       "      <td>0.729567</td>\n",
       "      <td>M</td>\n",
       "      <td>Working</td>\n",
       "      <td>Secondary / secondary special</td>\n",
       "    </tr>\n",
       "    <tr>\n",
       "      <td>3</td>\n",
       "      <td>0</td>\n",
       "      <td>-19005</td>\n",
       "      <td>2</td>\n",
       "      <td>2</td>\n",
       "      <td>-617.0</td>\n",
       "      <td>-2437</td>\n",
       "      <td>0</td>\n",
       "      <td>-3039</td>\n",
       "      <td>0.505998</td>\n",
       "      <td>0.650442</td>\n",
       "      <td>0.535276</td>\n",
       "      <td>F</td>\n",
       "      <td>Working</td>\n",
       "      <td>Secondary / secondary special</td>\n",
       "    </tr>\n",
       "    <tr>\n",
       "      <td>4</td>\n",
       "      <td>0</td>\n",
       "      <td>-19932</td>\n",
       "      <td>2</td>\n",
       "      <td>2</td>\n",
       "      <td>-1106.0</td>\n",
       "      <td>-3458</td>\n",
       "      <td>1</td>\n",
       "      <td>-3038</td>\n",
       "      <td>0.505998</td>\n",
       "      <td>0.322738</td>\n",
       "      <td>0.535276</td>\n",
       "      <td>M</td>\n",
       "      <td>Working</td>\n",
       "      <td>Secondary / secondary special</td>\n",
       "    </tr>\n",
       "  </tbody>\n",
       "</table>\n",
       "</div>"
      ],
      "text/plain": [
       "   TARGET  DAYS_BIRTH  REGION_RATING_CLIENT_W_CITY  REGION_RATING_CLIENT  \\\n",
       "0       1       -9461                            2                     2   \n",
       "1       0      -16765                            1                     1   \n",
       "2       0      -19046                            2                     2   \n",
       "3       0      -19005                            2                     2   \n",
       "4       0      -19932                            2                     2   \n",
       "\n",
       "   DAYS_LAST_PHONE_CHANGE  DAYS_ID_PUBLISH  REG_CITY_NOT_WORK_CITY  \\\n",
       "0                 -1134.0            -2120                       0   \n",
       "1                  -828.0             -291                       0   \n",
       "2                  -815.0            -2531                       0   \n",
       "3                  -617.0            -2437                       0   \n",
       "4                 -1106.0            -3458                       1   \n",
       "\n",
       "   DAYS_EMPLOYED  EXT_SOURCE_1  EXT_SOURCE_2  EXT_SOURCE_3 CODE_GENDER  \\\n",
       "0           -637      0.083037      0.262949      0.139376           M   \n",
       "1          -1188      0.311267      0.622246      0.535276           F   \n",
       "2           -225      0.505998      0.555912      0.729567           M   \n",
       "3          -3039      0.505998      0.650442      0.535276           F   \n",
       "4          -3038      0.505998      0.322738      0.535276           M   \n",
       "\n",
       "  NAME_INCOME_TYPE            NAME_EDUCATION_TYPE  \n",
       "0          Working  Secondary / secondary special  \n",
       "1    State servant               Higher education  \n",
       "2          Working  Secondary / secondary special  \n",
       "3          Working  Secondary / secondary special  \n",
       "4          Working  Secondary / secondary special  "
      ]
     },
     "execution_count": 15,
     "metadata": {},
     "output_type": "execute_result"
    }
   ],
   "source": [
    "# Memasukkan beberapa feature ke dalam dataset baru\n",
    "app_train_2 = app_train[['TARGET','DAYS_BIRTH','REGION_RATING_CLIENT_W_CITY','REGION_RATING_CLIENT','DAYS_LAST_PHONE_CHANGE','DAYS_ID_PUBLISH','REG_CITY_NOT_WORK_CITY','DAYS_EMPLOYED','EXT_SOURCE_1','EXT_SOURCE_2','EXT_SOURCE_3','CODE_GENDER','NAME_INCOME_TYPE','NAME_EDUCATION_TYPE']]\n",
    "app_train_2.head()"
   ]
  },
  {
   "cell_type": "code",
   "execution_count": 16,
   "metadata": {},
   "outputs": [],
   "source": [
    "# Melakukan konversi string ke numerik untuk data tingkat pendidikan\n",
    "app_train_2['NAME_EDUCATION_TYPE'].unique()\n",
    "\n",
    "new = {'Lower secondary':0, 'Secondary / secondary special':1, 'Incomplete higher':2, 'Higher education':3, 'Academic degree':4}\n",
    "\n",
    "app_train_2['NAME_EDUCATION_TYPE'] = app_train_2['NAME_EDUCATION_TYPE'].replace(new)"
   ]
  },
  {
   "cell_type": "code",
   "execution_count": 17,
   "metadata": {},
   "outputs": [
    {
     "data": {
      "text/plain": [
       "array(['M', 'F', 'XNA'], dtype=object)"
      ]
     },
     "execution_count": 17,
     "metadata": {},
     "output_type": "execute_result"
    }
   ],
   "source": [
    "# Melakukan konversi string ke numerik untuk data jenis kelamin dan sumber pendapatan\n",
    "app_train_2['CODE_GENDER'].unique()"
   ]
  },
  {
   "cell_type": "code",
   "execution_count": 18,
   "metadata": {},
   "outputs": [
    {
     "data": {
      "text/plain": [
       "array(['Working', 'State servant', 'Commercial associate', 'Pensioner',\n",
       "       'Unemployed', 'Student', 'Businessman', 'Maternity leave'],\n",
       "      dtype=object)"
      ]
     },
     "execution_count": 18,
     "metadata": {},
     "output_type": "execute_result"
    }
   ],
   "source": [
    "# Melakukan konversi string ke numerik untuk data jenis kelamin dan sumber pendapatan\n",
    "app_train_2['NAME_INCOME_TYPE'].unique()"
   ]
  },
  {
   "cell_type": "code",
   "execution_count": 19,
   "metadata": {},
   "outputs": [],
   "source": [
    "# Membuat dataset dummies/one-hot encoding untuk jenis kelamin dan sumber pendapatan\n",
    "CODE_GENDER_dummies = pd.get_dummies(app_train_2['CODE_GENDER'], prefix='CODE_GENDER')\n",
    "NAME_INCOME_TYPE_dummies = pd.get_dummies(app_train_2['NAME_INCOME_TYPE'], prefix='NAME_INCOME_TYPE')\n",
    "\n",
    "# Menyatukan dataset dummies ke dalam dataset app_train_2\n",
    "app_train_2 = pd.concat([app_train_2, CODE_GENDER_dummies, NAME_INCOME_TYPE_dummies], axis=1)\n",
    "\n",
    "# Membuang feature yang memiliki tipe data kategori (sebelum dilakukan transformasi)\n",
    "app_train_2 = app_train_2.drop(['CODE_GENDER', 'NAME_INCOME_TYPE'], axis=1)"
   ]
  },
  {
   "cell_type": "code",
   "execution_count": 20,
   "metadata": {},
   "outputs": [
    {
     "data": {
      "text/html": [
       "<div>\n",
       "<style scoped>\n",
       "    .dataframe tbody tr th:only-of-type {\n",
       "        vertical-align: middle;\n",
       "    }\n",
       "\n",
       "    .dataframe tbody tr th {\n",
       "        vertical-align: top;\n",
       "    }\n",
       "\n",
       "    .dataframe thead th {\n",
       "        text-align: right;\n",
       "    }\n",
       "</style>\n",
       "<table border=\"1\" class=\"dataframe\">\n",
       "  <thead>\n",
       "    <tr style=\"text-align: right;\">\n",
       "      <th></th>\n",
       "      <th>TARGET</th>\n",
       "      <th>DAYS_BIRTH</th>\n",
       "      <th>REGION_RATING_CLIENT_W_CITY</th>\n",
       "      <th>REGION_RATING_CLIENT</th>\n",
       "      <th>DAYS_LAST_PHONE_CHANGE</th>\n",
       "      <th>DAYS_ID_PUBLISH</th>\n",
       "      <th>REG_CITY_NOT_WORK_CITY</th>\n",
       "      <th>DAYS_EMPLOYED</th>\n",
       "      <th>EXT_SOURCE_1</th>\n",
       "      <th>EXT_SOURCE_2</th>\n",
       "      <th>EXT_SOURCE_3</th>\n",
       "      <th>NAME_EDUCATION_TYPE</th>\n",
       "      <th>CODE_GENDER_F</th>\n",
       "      <th>CODE_GENDER_M</th>\n",
       "      <th>CODE_GENDER_XNA</th>\n",
       "      <th>NAME_INCOME_TYPE_Businessman</th>\n",
       "      <th>NAME_INCOME_TYPE_Commercial associate</th>\n",
       "      <th>NAME_INCOME_TYPE_Maternity leave</th>\n",
       "      <th>NAME_INCOME_TYPE_Pensioner</th>\n",
       "      <th>NAME_INCOME_TYPE_State servant</th>\n",
       "      <th>NAME_INCOME_TYPE_Student</th>\n",
       "      <th>NAME_INCOME_TYPE_Unemployed</th>\n",
       "      <th>NAME_INCOME_TYPE_Working</th>\n",
       "    </tr>\n",
       "  </thead>\n",
       "  <tbody>\n",
       "    <tr>\n",
       "      <td>0</td>\n",
       "      <td>1</td>\n",
       "      <td>-9461</td>\n",
       "      <td>2</td>\n",
       "      <td>2</td>\n",
       "      <td>-1134.0</td>\n",
       "      <td>-2120</td>\n",
       "      <td>0</td>\n",
       "      <td>-637</td>\n",
       "      <td>0.083037</td>\n",
       "      <td>0.262949</td>\n",
       "      <td>0.139376</td>\n",
       "      <td>1</td>\n",
       "      <td>0</td>\n",
       "      <td>1</td>\n",
       "      <td>0</td>\n",
       "      <td>0</td>\n",
       "      <td>0</td>\n",
       "      <td>0</td>\n",
       "      <td>0</td>\n",
       "      <td>0</td>\n",
       "      <td>0</td>\n",
       "      <td>0</td>\n",
       "      <td>1</td>\n",
       "    </tr>\n",
       "    <tr>\n",
       "      <td>1</td>\n",
       "      <td>0</td>\n",
       "      <td>-16765</td>\n",
       "      <td>1</td>\n",
       "      <td>1</td>\n",
       "      <td>-828.0</td>\n",
       "      <td>-291</td>\n",
       "      <td>0</td>\n",
       "      <td>-1188</td>\n",
       "      <td>0.311267</td>\n",
       "      <td>0.622246</td>\n",
       "      <td>0.535276</td>\n",
       "      <td>3</td>\n",
       "      <td>1</td>\n",
       "      <td>0</td>\n",
       "      <td>0</td>\n",
       "      <td>0</td>\n",
       "      <td>0</td>\n",
       "      <td>0</td>\n",
       "      <td>0</td>\n",
       "      <td>1</td>\n",
       "      <td>0</td>\n",
       "      <td>0</td>\n",
       "      <td>0</td>\n",
       "    </tr>\n",
       "    <tr>\n",
       "      <td>2</td>\n",
       "      <td>0</td>\n",
       "      <td>-19046</td>\n",
       "      <td>2</td>\n",
       "      <td>2</td>\n",
       "      <td>-815.0</td>\n",
       "      <td>-2531</td>\n",
       "      <td>0</td>\n",
       "      <td>-225</td>\n",
       "      <td>0.505998</td>\n",
       "      <td>0.555912</td>\n",
       "      <td>0.729567</td>\n",
       "      <td>1</td>\n",
       "      <td>0</td>\n",
       "      <td>1</td>\n",
       "      <td>0</td>\n",
       "      <td>0</td>\n",
       "      <td>0</td>\n",
       "      <td>0</td>\n",
       "      <td>0</td>\n",
       "      <td>0</td>\n",
       "      <td>0</td>\n",
       "      <td>0</td>\n",
       "      <td>1</td>\n",
       "    </tr>\n",
       "    <tr>\n",
       "      <td>3</td>\n",
       "      <td>0</td>\n",
       "      <td>-19005</td>\n",
       "      <td>2</td>\n",
       "      <td>2</td>\n",
       "      <td>-617.0</td>\n",
       "      <td>-2437</td>\n",
       "      <td>0</td>\n",
       "      <td>-3039</td>\n",
       "      <td>0.505998</td>\n",
       "      <td>0.650442</td>\n",
       "      <td>0.535276</td>\n",
       "      <td>1</td>\n",
       "      <td>1</td>\n",
       "      <td>0</td>\n",
       "      <td>0</td>\n",
       "      <td>0</td>\n",
       "      <td>0</td>\n",
       "      <td>0</td>\n",
       "      <td>0</td>\n",
       "      <td>0</td>\n",
       "      <td>0</td>\n",
       "      <td>0</td>\n",
       "      <td>1</td>\n",
       "    </tr>\n",
       "    <tr>\n",
       "      <td>4</td>\n",
       "      <td>0</td>\n",
       "      <td>-19932</td>\n",
       "      <td>2</td>\n",
       "      <td>2</td>\n",
       "      <td>-1106.0</td>\n",
       "      <td>-3458</td>\n",
       "      <td>1</td>\n",
       "      <td>-3038</td>\n",
       "      <td>0.505998</td>\n",
       "      <td>0.322738</td>\n",
       "      <td>0.535276</td>\n",
       "      <td>1</td>\n",
       "      <td>0</td>\n",
       "      <td>1</td>\n",
       "      <td>0</td>\n",
       "      <td>0</td>\n",
       "      <td>0</td>\n",
       "      <td>0</td>\n",
       "      <td>0</td>\n",
       "      <td>0</td>\n",
       "      <td>0</td>\n",
       "      <td>0</td>\n",
       "      <td>1</td>\n",
       "    </tr>\n",
       "  </tbody>\n",
       "</table>\n",
       "</div>"
      ],
      "text/plain": [
       "   TARGET  DAYS_BIRTH  REGION_RATING_CLIENT_W_CITY  REGION_RATING_CLIENT  \\\n",
       "0       1       -9461                            2                     2   \n",
       "1       0      -16765                            1                     1   \n",
       "2       0      -19046                            2                     2   \n",
       "3       0      -19005                            2                     2   \n",
       "4       0      -19932                            2                     2   \n",
       "\n",
       "   DAYS_LAST_PHONE_CHANGE  DAYS_ID_PUBLISH  REG_CITY_NOT_WORK_CITY  \\\n",
       "0                 -1134.0            -2120                       0   \n",
       "1                  -828.0             -291                       0   \n",
       "2                  -815.0            -2531                       0   \n",
       "3                  -617.0            -2437                       0   \n",
       "4                 -1106.0            -3458                       1   \n",
       "\n",
       "   DAYS_EMPLOYED  EXT_SOURCE_1  EXT_SOURCE_2  EXT_SOURCE_3  \\\n",
       "0           -637      0.083037      0.262949      0.139376   \n",
       "1          -1188      0.311267      0.622246      0.535276   \n",
       "2           -225      0.505998      0.555912      0.729567   \n",
       "3          -3039      0.505998      0.650442      0.535276   \n",
       "4          -3038      0.505998      0.322738      0.535276   \n",
       "\n",
       "   NAME_EDUCATION_TYPE  CODE_GENDER_F  CODE_GENDER_M  CODE_GENDER_XNA  \\\n",
       "0                    1              0              1                0   \n",
       "1                    3              1              0                0   \n",
       "2                    1              0              1                0   \n",
       "3                    1              1              0                0   \n",
       "4                    1              0              1                0   \n",
       "\n",
       "   NAME_INCOME_TYPE_Businessman  NAME_INCOME_TYPE_Commercial associate  \\\n",
       "0                             0                                      0   \n",
       "1                             0                                      0   \n",
       "2                             0                                      0   \n",
       "3                             0                                      0   \n",
       "4                             0                                      0   \n",
       "\n",
       "   NAME_INCOME_TYPE_Maternity leave  NAME_INCOME_TYPE_Pensioner  \\\n",
       "0                                 0                           0   \n",
       "1                                 0                           0   \n",
       "2                                 0                           0   \n",
       "3                                 0                           0   \n",
       "4                                 0                           0   \n",
       "\n",
       "   NAME_INCOME_TYPE_State servant  NAME_INCOME_TYPE_Student  \\\n",
       "0                               0                         0   \n",
       "1                               1                         0   \n",
       "2                               0                         0   \n",
       "3                               0                         0   \n",
       "4                               0                         0   \n",
       "\n",
       "   NAME_INCOME_TYPE_Unemployed  NAME_INCOME_TYPE_Working  \n",
       "0                            0                         1  \n",
       "1                            0                         0  \n",
       "2                            0                         1  \n",
       "3                            0                         1  \n",
       "4                            0                         1  "
      ]
     },
     "execution_count": 20,
     "metadata": {},
     "output_type": "execute_result"
    }
   ],
   "source": [
    "app_train_2.head()"
   ]
  },
  {
   "cell_type": "code",
   "execution_count": 21,
   "metadata": {},
   "outputs": [],
   "source": [
    "# Membagi dataset ke dalam x dan y\n",
    "x = app_train_2.iloc[:, 1:22].values\n",
    "y = app_train_2.iloc[:, 0].values"
   ]
  },
  {
   "cell_type": "code",
   "execution_count": 23,
   "metadata": {},
   "outputs": [],
   "source": [
    "# Menangani data yang tidak seimbang (imbalanced data)\n",
    "smote = SMOTE()\n",
    "\n",
    "# Fit smote ke dalam x dan y\n",
    "x_smote, y_smote = smote.fit_resample(x,y)"
   ]
  },
  {
   "cell_type": "code",
   "execution_count": 24,
   "metadata": {},
   "outputs": [],
   "source": [
    "# Membagi data ke dalam dataset training dan testing\n",
    "x_train, x_test, y_train, y_test = train_test_split(x_smote, y_smote, test_size=.2, random_state=0)"
   ]
  },
  {
   "cell_type": "code",
   "execution_count": 25,
   "metadata": {},
   "outputs": [
    {
     "name": "stderr",
     "output_type": "stream",
     "text": [
      "C:\\Users\\ASUS\\Anaconda3\\lib\\site-packages\\sklearn\\linear_model\\logistic.py:432: FutureWarning:\n",
      "\n",
      "Default solver will be changed to 'lbfgs' in 0.22. Specify a solver to silence this warning.\n",
      "\n"
     ]
    }
   ],
   "source": [
    "# Melakukan pemodelan machine learning dengan Logistic Regression\n",
    "logreg = LogisticRegression()\n",
    "\n",
    "# Fit logreg ke dalam training dataset\n",
    "logreg = logreg.fit(x_train, y_train)\n",
    "# Training model, melakukan prediksi\n",
    "y_pred = logreg.predict(x_test)"
   ]
  },
  {
   "cell_type": "code",
   "execution_count": 26,
   "metadata": {},
   "outputs": [
    {
     "name": "stdout",
     "output_type": "stream",
     "text": [
      "Akurasi Training: 0.5523074440025028\n",
      "Akurasi Testing: 0.5514835286314393\n",
      "Confusion Matrix:\n",
      "\n",
      "[[32035 24291]\n",
      " [26425 30324]]\n",
      "Classification Report:\n",
      "\n",
      "              precision    recall  f1-score   support\n",
      "\n",
      "           0       0.55      0.57      0.56     56326\n",
      "           1       0.56      0.53      0.54     56749\n",
      "\n",
      "    accuracy                           0.55    113075\n",
      "   macro avg       0.55      0.55      0.55    113075\n",
      "weighted avg       0.55      0.55      0.55    113075\n",
      "\n"
     ]
    }
   ],
   "source": [
    "# Mengevaluasi Model Logistic Regression\n",
    "\n",
    "# Akurasi\n",
    "print('Akurasi Training:', logreg.score(x_train, y_train))\n",
    "print('Akurasi Testing:', logreg.score(x_test, y_test))\n",
    "\n",
    "# Confusion Matrix\n",
    "cm = confusion_matrix(y_test, y_pred)\n",
    "print('Confusion Matrix:\\n')\n",
    "print(cm)\n",
    "\n",
    "# Classification Report\n",
    "cr = classification_report(y_test, y_pred)\n",
    "print('Classification Report:\\n')\n",
    "print(cr)"
   ]
  },
  {
   "cell_type": "code",
   "execution_count": 27,
   "metadata": {},
   "outputs": [],
   "source": [
    "# Melakukan pemodelan machine learning dengan Decision Tree\n",
    "desicion_tree = DecisionTreeClassifier()\n",
    "\n",
    "# Fit logreg ke dalam training dataset\n",
    "decision_tree = desicion_tree.fit(x_train, y_train)\n",
    "# Training model, melakukan prediksi\n",
    "y_pred = desicion_tree.predict(x_test)"
   ]
  },
  {
   "cell_type": "code",
   "execution_count": 28,
   "metadata": {},
   "outputs": [
    {
     "name": "stdout",
     "output_type": "stream",
     "text": [
      "Akurasi Training: 1.0\n",
      "Akurasi Testing: 0.8942737121379616\n",
      "Confusion Matrix:\n",
      "\n",
      "[[49826  6500]\n",
      " [ 5455 51294]]\n",
      "Classification Report:\n",
      "\n",
      "              precision    recall  f1-score   support\n",
      "\n",
      "           0       0.90      0.88      0.89     56326\n",
      "           1       0.89      0.90      0.90     56749\n",
      "\n",
      "    accuracy                           0.89    113075\n",
      "   macro avg       0.89      0.89      0.89    113075\n",
      "weighted avg       0.89      0.89      0.89    113075\n",
      "\n"
     ]
    }
   ],
   "source": [
    "# Mengevaluasi Model Desicion Tree\n",
    "\n",
    "# Akurasi\n",
    "print('Akurasi Training:', desicion_tree.score(x_train, y_train))\n",
    "print('Akurasi Testing:', desicion_tree.score(x_test, y_test))\n",
    "\n",
    "# Confusion Matrix\n",
    "cm = confusion_matrix(y_test, y_pred)\n",
    "print('Confusion Matrix:\\n')\n",
    "print(cm)\n",
    "\n",
    "# Classification Report\n",
    "cr = classification_report(y_test, y_pred)\n",
    "print('Classification Report:\\n')\n",
    "print(cr)"
   ]
  }
 ],
 "metadata": {
  "kernelspec": {
   "display_name": "Python 3",
   "language": "python",
   "name": "python3"
  },
  "language_info": {
   "codemirror_mode": {
    "name": "ipython",
    "version": 3
   },
   "file_extension": ".py",
   "mimetype": "text/x-python",
   "name": "python",
   "nbconvert_exporter": "python",
   "pygments_lexer": "ipython3",
   "version": "3.7.4"
  }
 },
 "nbformat": 4,
 "nbformat_minor": 2
}
